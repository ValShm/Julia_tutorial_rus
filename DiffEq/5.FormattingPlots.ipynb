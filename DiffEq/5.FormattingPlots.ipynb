{
 "cells": [
  {
   "cell_type": "markdown",
   "metadata": {},
   "source": [
    "# Форматирование графиков \n",
    "\n",
    "Поскольку функциональность построения графиков реализована как рецепт Plots.jl, [все параметры, открытые для Plots.jl, могут использоваться на наших графиках](https://juliaplots.github.io/supported/) , Кроме того, есть специальные функции для [графиков дифференциальных уравнений](http://docs.juliadiffeq.org/latest/basics/plot.html). Этот урок научит некоторым из наиболее часто используемых вариантов. Давайте сначала получим решение для некоторого ODE. Здесь я буду использовать одно из обыкновенных дифференциальных уравнений Лоренца. Как и со всеми командами в DifferentialEquations.jl, я получил график решения, вызвав `solve` для проблемы и` plot` для решения:"
   ]
  },
  {
   "cell_type": "code",
   "execution_count": null,
   "metadata": {},
   "outputs": [],
   "source": [
    "using DifferentialEquations, Plots, ParameterizedFunctions"
   ]
  },
  {
   "cell_type": "code",
   "execution_count": null,
   "metadata": {},
   "outputs": [],
   "source": [
    "lorenz = @ode_def Lorenz begin\n",
    "  dx = σ*(y-x)\n",
    "  dy = ρ*x-y-x*z\n",
    "  dz = x*y-β*z\n",
    "end σ β ρ\n",
    "\n",
    "p = [10.0,8/3,28]\n",
    "u0 = [1., 5., 10.]\n",
    "tspan = (0., 100.)\n",
    "prob = ODEProblem(lorenz, u0, tspan, p)\n",
    "sol = solve(prob)"
   ]
  },
  {
   "cell_type": "code",
   "execution_count": null,
   "metadata": {},
   "outputs": [],
   "source": [
    "plot(sol)"
   ]
  },
  {
   "cell_type": "markdown",
   "metadata": {},
   "source": [
    "Теперь давайте изменим его на фазовый график. Как обсуждалось на [страница функций графика](http://docs.juliadiffeq.org/latest/basics/plot.html), мы можем использовать команду `vars`, чтобы выбрать переменные для построения. Давайте нарисуем переменную `x` против переменной` y` против переменной `z`:"
   ]
  },
  {
   "cell_type": "code",
   "execution_count": null,
   "metadata": {},
   "outputs": [],
   "source": [
    "plot(sol,vars=(1,2,3))"
   ]
  },
  {
   "cell_type": "markdown",
   "metadata": {},
   "source": [
    "Можно строить от одной переменной"
   ]
  },
  {
   "cell_type": "code",
   "execution_count": null,
   "metadata": {},
   "outputs": [],
   "source": [
    "plot(sol,vars=[:x])"
   ]
  },
  {
   "cell_type": "markdown",
   "metadata": {},
   "source": [
    "Обратите внимание, что мы смогли использовать имена переменных, потому что мы определили проблему с макросом. Но в целом мы можем использовать индексы. Предыдущие сюжеты будут:"
   ]
  },
  {
   "cell_type": "code",
   "execution_count": null,
   "metadata": {},
   "outputs": [],
   "source": [
    "plot(sol,vars=(1,2,3))\n",
    "plot(sol,vars=[1])"
   ]
  },
  {
   "cell_type": "markdown",
   "metadata": {},
   "source": [
    "Распространенными вариантами являются добавление заголовков, осей и меток. Например:"
   ]
  },
  {
   "cell_type": "code",
   "execution_count": null,
   "metadata": {},
   "outputs": [],
   "source": [
    "plot(sol,linewidth=5,title=\"Solution to the linear ODE with a thick line\",\n",
    "xaxis=\"Time (t)\",yaxis=\"u(t) (in mm)\",label=[\"X\",\"Y\",\"Z\"])"
   ]
  },
  {
   "cell_type": "markdown",
   "metadata": {},
   "source": [
    "Например, мы можем использовать точечный график для временных рядов:"
   ]
  },
  {
   "cell_type": "code",
   "execution_count": null,
   "metadata": {},
   "outputs": [],
   "source": [
    "scatter(sol,vars=[:x])"
   ]
  },
  {
   "cell_type": "markdown",
   "metadata": {},
   "source": [
    "Это показывает, что рецепт использует интерполяцию для сглаживания графика. Это становится совершенно ясным, когда мы выключаем его с помощью `densplot = false`:"
   ]
  },
  {
   "cell_type": "code",
   "execution_count": null,
   "metadata": {},
   "outputs": [],
   "source": [
    "plot(sol,vars=(1,2,3),denseplot=false)"
   ]
  },
  {
   "cell_type": "markdown",
   "metadata": {},
   "source": [
    "Когда это будет сделано, будут отображаться только те значения, которые были получены интегратором. Использование интерполяции обычно приводит к получению намного более привлекательного графика, поэтому рекомендуем, и поскольку интерполяции имеют порядки, аналогичные численным методам, их результаты заслуживают доверия на всём интервале. Мы можем контролировать количество точек, используемых на графике интерполяции, используя команду `plotdensity`:"
   ]
  },
  {
   "cell_type": "code",
   "execution_count": null,
   "metadata": {},
   "outputs": [],
   "source": [
    "plot(sol,vars=(1,2,3),plotdensity=100)"
   ]
  },
  {
   "cell_type": "markdown",
   "metadata": {},
   "source": [
    "Это построение всего решения с использованием 100 точек, равномерно распределенных по времени.. "
   ]
  },
  {
   "cell_type": "code",
   "execution_count": null,
   "metadata": {},
   "outputs": [],
   "source": [
    "plot(sol,vars=(1,2,3),plotdensity=10000)"
   ]
  },
  {
   "cell_type": "markdown",
   "metadata": {},
   "source": [
    "Это будет посимпотишней! По умолчанию используется `100 * length (sol)`, где длина - это количество внутренних шагов, которые он должен был сделать. Эта эвристика обычно работает хорошо, но необычайно сложные уравнения могут быть смягчены (поскольку она будет выполняться небольшими шагами), а для уравнений с событиями / несплошностями повышение плотности графика может помочь разрешить разрыв. \n",
    "\n",
    "Наконец, обратите внимание, что мы можем составлять сюжеты. Давайте покажем, где 100 точек используют точечный график:"
   ]
  },
  {
   "cell_type": "code",
   "execution_count": null,
   "metadata": {},
   "outputs": [],
   "source": [
    "plot(sol,vars=(1,2,3))\n",
    "scatter!(sol,vars=(1,2,3),plotdensity=100)"
   ]
  },
  {
   "cell_type": "markdown",
   "metadata": {},
   "source": [
    "Мы можем работать с графическим объектом явно.       Эта форма может быть лучше для построения сложного сюжета в цикле."
   ]
  },
  {
   "cell_type": "code",
   "execution_count": null,
   "metadata": {},
   "outputs": [],
   "source": [
    "p = plot(sol,vars=(1,2,3))\n",
    "scatter!(p,sol,vars=(1,2,3),plotdensity=100)\n",
    "title!(\"I added a title\")"
   ]
  },
  {
   "cell_type": "markdown",
   "metadata": {},
   "source": [
    "Теперь Вы можете делать все что угодно. Повеселитесь!"
   ]
  }
 ],
 "metadata": {
  "@webio": {
   "lastCommId": null,
   "lastKernelId": null
  },
  "kernelspec": {
   "display_name": "Julia 1.1.0",
   "language": "julia",
   "name": "julia-1.1"
  },
  "language_info": {
   "file_extension": ".jl",
   "mimetype": "application/julia",
   "name": "julia",
   "version": "1.1.0"
  }
 },
 "nbformat": 4,
 "nbformat_minor": 1
}
