{
 "cells": [
  {
   "cell_type": "markdown",
   "metadata": {},
   "source": [
    "## Движение тел в потенциальном поле сил\n",
    "\n",
    "\n",
    "В рамках классической теории сила притяжения двух тел определяется законом Ньютона:\n",
    "\n",
    "$$\n",
    "\\vec{F}(\\vec{r}_1, \\vec{r}_2)=-G m_1 m_2 \\frac{\\vec{r}_1 - \\vec{r}_2}{|\\vec{r}_1 - \\vec{r}_2|^3},\n",
    "$$\n",
    "\n",
    "Воспользовавшись вторым законом Ньютона запишем ускорение для каждой частицы:\n",
    "\n",
    "$$\n",
    "\\vec{a}_n = \\vec{F}_n/m_n = -G \\sum_{k \\neq n} m_k \\frac{\\vec{r}_n - \\vec{r}_k}{|\\vec{r}_n - \\vec{r}_k|^3}.\n",
    "$$\n",
    "\n",
    "Вспоминая, что ускорение — это вторая производная координаты по времени, получим дифференциальное уравнение второго порядка в частных производных, которое необходимо решить для получения траектории каждого тела:\n",
    "\n",
    "$$\n",
    "\\frac{\\partial^2 \\vec{r}_n }{\\partial t^2} = f_n =-G \\sum_{k \\neq n} m_k \\frac{\\vec{r}_n - \\vec{r}_k}{|\\vec{r}_n - \\vec{r}_k|^3}.\n",
    "$$"
   ]
  },
  {
   "cell_type": "code",
   "execution_count": null,
   "metadata": {},
   "outputs": [],
   "source": [
    "using NBodySimulator, Plots, StaticArrays\n",
    "cd(\"C:\\\\Users\\\\User\\\\Desktop\\\\Mycop\\\\Plots\")\n",
    "plot(sin) # tormoznutoe gavno"
   ]
  },
  {
   "cell_type": "code",
   "execution_count": 2,
   "metadata": {
    "scrolled": true
   },
   "outputs": [
    {
     "data": {
      "text/plain": [
       "10×3 Array{Float64,2}:\n",
       "   3.32848e5    0.0      0.0    \n",
       "   0.0552209    0.367   10.0763 \n",
       "   0.814926     0.723    7.37807\n",
       "   1.0          1.0      6.2819 \n",
       "   0.107095     1.5237   5.08033\n",
       " 317.938        5.2      2.74043\n",
       "  95.0469       9.54     2.0237 \n",
       "  14.5582      19.2      1.43345\n",
       "  16.7336      30.0      1.13833\n",
       "   0.00217537  39.4      0.99077"
      ]
     },
     "execution_count": 2,
     "metadata": {},
     "output_type": "execute_result"
    }
   ],
   "source": [
    "distcs = [ 0.0, 0.367, 0.723, 1.0, 1.5237, 5.2, 9.54, 19.2, 30.0, 39.4 ] # a.u.\n",
    "masses = [ 1.9891e30, 3.3e23, 4.87e24, 5.976e24, 6.4e23, 1.9e27, 5.68e26, 8.7e25, 1e26, 1.3e22 ]\n",
    "masses ./= masses[4]\n",
    "\n",
    "velses = [ 0.0, 47.8, 35.0, 29.8, 24.1, 13.0, 9.6, 6.8, 5.4, 4.7 ] # km/s\n",
    "sec2year = 3600*24*365\n",
    "velses .*= sec2year # km/year\n",
    "au = 149.6e6 # km\n",
    "velses ./= au # au/year\n",
    "[masses distcs velses]"
   ]
  },
  {
   "cell_type": "code",
   "execution_count": 7,
   "metadata": {},
   "outputs": [],
   "source": [
    "# body = MassBody(r,v,mass)\n",
    "bodies = [ MassBody(SVector(distcs[i], 0.0, 0.0), \n",
    "                    SVector(0, velses[i], 0.0), masses[i]) for i in 1:10 ];"
   ]
  },
  {
   "cell_type": "code",
   "execution_count": 3,
   "metadata": {},
   "outputs": [
    {
     "data": {
      "text/plain": [
       "0.00011833518368997721"
      ]
     },
     "execution_count": 3,
     "metadata": {},
     "output_type": "execute_result"
    }
   ],
   "source": [
    "emass = 5.97e24 # kg Earth mass\n",
    "\n",
    "G = 6.673e-11 # m^3 / kg c^2\n",
    "G *= emass*sec2year^2 / (1000au)^3 # a.u.^3 / emass eyear^2"
   ]
  },
  {
   "cell_type": "code",
   "execution_count": 8,
   "metadata": {},
   "outputs": [
    {
     "data": {
      "text/plain": [
       "(0.0, 25.0)"
      ]
     },
     "execution_count": 8,
     "metadata": {},
     "output_type": "execute_result"
    }
   ],
   "source": [
    "system = GravitationalSystem(bodies, G)\n",
    "tspan = (0.0, 25.0)"
   ]
  },
  {
   "cell_type": "code",
   "execution_count": 9,
   "metadata": {},
   "outputs": [
    {
     "data": {
      "text/plain": [
       "Timespan: (0.0, 25.0)\n",
       "Boundary conditions: InfiniteBox{Float64}([-Inf, Inf, -Inf, Inf, -Inf, Inf])\n",
       "Potentials: \n",
       "Gravitational:\n",
       "\tG:0.00011833518368997721\n"
      ]
     },
     "execution_count": 9,
     "metadata": {},
     "output_type": "execute_result"
    }
   ],
   "source": [
    "simulation = NBodySimulation(system, tspan)"
   ]
  },
  {
   "cell_type": "code",
   "execution_count": 10,
   "metadata": {},
   "outputs": [
    {
     "data": {
      "text/plain": [
       "N: 10\n",
       "Timespan: (0.0, 25.0)\n",
       "Boundary conditions: InfiniteBox{Float64}([-Inf, Inf, -Inf, Inf, -Inf, Inf])\n",
       "Potentials: \n",
       "Gravitational:\n",
       "\tG:0.00011833518368997721\n",
       "Time steps: 1064\n",
       "t: 0.0, 25.0\n"
      ]
     },
     "execution_count": 10,
     "metadata": {},
     "output_type": "execute_result"
    }
   ],
   "source": [
    "# DPRKN6 - 6th order explicit adaptive Runge-Kutta-Nyström method. Free 6th order interpolant.\n",
    "sim_result = run_simulation(simulation, DPRKN6())"
   ]
  },
  {
   "cell_type": "code",
   "execution_count": 12,
   "metadata": {},
   "outputs": [
    {
     "data": {
      "text/plain": [
       "500"
      ]
     },
     "execution_count": 12,
     "metadata": {},
     "output_type": "execute_result"
    }
   ],
   "source": [
    "t = 0:0.05:sim_result.solution.t[end-1]\n",
    "length(t)"
   ]
  },
  {
   "cell_type": "code",
   "execution_count": 13,
   "metadata": {},
   "outputs": [],
   "source": [
    "Xs = [ get_position(sim_result, ti)[1,i] for ti in t, i = 1:10 ]\n",
    "Ys = [ get_position(sim_result, ti)[2,i] for ti in t, i = 1:10 ];\n",
    "Zs = [ get_position(sim_result, ti)[3,i] for ti in t, i = 1:10 ];"
   ]
  },
  {
   "cell_type": "code",
   "execution_count": 22,
   "metadata": {},
   "outputs": [
    {
     "data": {
      "image/svg+xml": [
       "<?xml version=\"1.0\" encoding=\"utf-8\"?>\n",
       "<svg xmlns=\"http://www.w3.org/2000/svg\" xmlns:xlink=\"http://www.w3.org/1999/xlink\" width=\"600\" height=\"400\" viewBox=\"0 0 2400 1600\">\n",
       "<defs>\n",
       "  <clipPath id=\"clip0800\">\n",
       "    <rect x=\"0\" y=\"0\" width=\"2400\" height=\"1600\"/>\n",
       "  </clipPath>\n",
       "</defs>\n",
       "<path clip-path=\"url(#clip0800)\" d=\"\n",
       "M0 1600 L2400 1600 L2400 0 L0 0  Z\n",
       "  \" fill=\"#ffffff\" fill-rule=\"evenodd\" fill-opacity=\"1\"/>\n",
       "<defs>\n",
       "  <clipPath id=\"clip0801\">\n",
       "    <rect x=\"480\" y=\"0\" width=\"1681\" height=\"1600\"/>\n",
       "  </clipPath>\n",
       "</defs>\n",
       "<path clip-path=\"url(#clip0800)\" d=\"\n",
       "M230.483 1425.62 L2352.76 1425.62 L2352.76 47.2441 L230.483 47.2441  Z\n",
       "  \" fill=\"#ffffff\" fill-rule=\"evenodd\" fill-opacity=\"1\"/>\n",
       "<defs>\n",
       "  <clipPath id=\"clip0802\">\n",
       "    <rect x=\"230\" y=\"47\" width=\"2123\" height=\"1379\"/>\n",
       "  </clipPath>\n",
       "</defs>\n",
       "<polyline clip-path=\"url(#clip0802)\" style=\"stroke:#000000; stroke-width:2; stroke-opacity:0.1; fill:none\" points=\"\n",
       "  230.483,1425.62 230.483,47.2441 \n",
       "  \"/>\n",
       "<polyline clip-path=\"url(#clip0802)\" style=\"stroke:#000000; stroke-width:2; stroke-opacity:0.1; fill:none\" points=\"\n",
       "  761.051,1425.62 761.051,47.2441 \n",
       "  \"/>\n",
       "<polyline clip-path=\"url(#clip0802)\" style=\"stroke:#000000; stroke-width:2; stroke-opacity:0.1; fill:none\" points=\"\n",
       "  1291.62,1425.62 1291.62,47.2441 \n",
       "  \"/>\n",
       "<polyline clip-path=\"url(#clip0802)\" style=\"stroke:#000000; stroke-width:2; stroke-opacity:0.1; fill:none\" points=\"\n",
       "  1822.19,1425.62 1822.19,47.2441 \n",
       "  \"/>\n",
       "<polyline clip-path=\"url(#clip0802)\" style=\"stroke:#000000; stroke-width:2; stroke-opacity:0.1; fill:none\" points=\"\n",
       "  2352.76,1425.62 2352.76,47.2441 \n",
       "  \"/>\n",
       "<polyline clip-path=\"url(#clip0802)\" style=\"stroke:#000000; stroke-width:2; stroke-opacity:0.1; fill:none\" points=\"\n",
       "  230.483,1425.62 2352.76,1425.62 \n",
       "  \"/>\n",
       "<polyline clip-path=\"url(#clip0802)\" style=\"stroke:#000000; stroke-width:2; stroke-opacity:0.1; fill:none\" points=\"\n",
       "  230.483,1081.02 2352.76,1081.02 \n",
       "  \"/>\n",
       "<polyline clip-path=\"url(#clip0802)\" style=\"stroke:#000000; stroke-width:2; stroke-opacity:0.1; fill:none\" points=\"\n",
       "  230.483,736.431 2352.76,736.431 \n",
       "  \"/>\n",
       "<polyline clip-path=\"url(#clip0802)\" style=\"stroke:#000000; stroke-width:2; stroke-opacity:0.1; fill:none\" points=\"\n",
       "  230.483,391.838 2352.76,391.838 \n",
       "  \"/>\n",
       "<polyline clip-path=\"url(#clip0802)\" style=\"stroke:#000000; stroke-width:2; stroke-opacity:0.1; fill:none\" points=\"\n",
       "  230.483,47.2441 2352.76,47.2441 \n",
       "  \"/>\n",
       "<polyline clip-path=\"url(#clip0800)\" style=\"stroke:#000000; stroke-width:4; stroke-opacity:1; fill:none\" points=\"\n",
       "  230.483,1425.62 2352.76,1425.62 \n",
       "  \"/>\n",
       "<polyline clip-path=\"url(#clip0800)\" style=\"stroke:#000000; stroke-width:4; stroke-opacity:1; fill:none\" points=\"\n",
       "  230.483,1425.62 230.483,47.2441 \n",
       "  \"/>\n",
       "<polyline clip-path=\"url(#clip0800)\" style=\"stroke:#000000; stroke-width:4; stroke-opacity:1; fill:none\" points=\"\n",
       "  230.483,1425.62 230.483,1409.08 \n",
       "  \"/>\n",
       "<polyline clip-path=\"url(#clip0800)\" style=\"stroke:#000000; stroke-width:4; stroke-opacity:1; fill:none\" points=\"\n",
       "  761.051,1425.62 761.051,1409.08 \n",
       "  \"/>\n",
       "<polyline clip-path=\"url(#clip0800)\" style=\"stroke:#000000; stroke-width:4; stroke-opacity:1; fill:none\" points=\"\n",
       "  1291.62,1425.62 1291.62,1409.08 \n",
       "  \"/>\n",
       "<polyline clip-path=\"url(#clip0800)\" style=\"stroke:#000000; stroke-width:4; stroke-opacity:1; fill:none\" points=\"\n",
       "  1822.19,1425.62 1822.19,1409.08 \n",
       "  \"/>\n",
       "<polyline clip-path=\"url(#clip0800)\" style=\"stroke:#000000; stroke-width:4; stroke-opacity:1; fill:none\" points=\"\n",
       "  2352.76,1425.62 2352.76,1409.08 \n",
       "  \"/>\n",
       "<polyline clip-path=\"url(#clip0800)\" style=\"stroke:#000000; stroke-width:4; stroke-opacity:1; fill:none\" points=\"\n",
       "  230.483,1425.62 255.95,1425.62 \n",
       "  \"/>\n",
       "<polyline clip-path=\"url(#clip0800)\" style=\"stroke:#000000; stroke-width:4; stroke-opacity:1; fill:none\" points=\"\n",
       "  230.483,1081.02 255.95,1081.02 \n",
       "  \"/>\n",
       "<polyline clip-path=\"url(#clip0800)\" style=\"stroke:#000000; stroke-width:4; stroke-opacity:1; fill:none\" points=\"\n",
       "  230.483,736.431 255.95,736.431 \n",
       "  \"/>\n",
       "<polyline clip-path=\"url(#clip0800)\" style=\"stroke:#000000; stroke-width:4; stroke-opacity:1; fill:none\" points=\"\n",
       "  230.483,391.838 255.95,391.838 \n",
       "  \"/>\n",
       "<polyline clip-path=\"url(#clip0800)\" style=\"stroke:#000000; stroke-width:4; stroke-opacity:1; fill:none\" points=\"\n",
       "  230.483,47.2441 255.95,47.2441 \n",
       "  \"/>\n",
       "<g clip-path=\"url(#clip0800)\">\n",
       "<text style=\"fill:#000000; fill-opacity:1; font-family:Arial,Helvetica Neue,Helvetica,sans-serif; font-size:48px; text-anchor:middle;\" transform=\"rotate(0, 230.483, 1479.62)\" x=\"230.483\" y=\"1479.62\">-40</text>\n",
       "</g>\n",
       "<g clip-path=\"url(#clip0800)\">\n",
       "<text style=\"fill:#000000; fill-opacity:1; font-family:Arial,Helvetica Neue,Helvetica,sans-serif; font-size:48px; text-anchor:middle;\" transform=\"rotate(0, 761.051, 1479.62)\" x=\"761.051\" y=\"1479.62\">-20</text>\n",
       "</g>\n",
       "<g clip-path=\"url(#clip0800)\">\n",
       "<text style=\"fill:#000000; fill-opacity:1; font-family:Arial,Helvetica Neue,Helvetica,sans-serif; font-size:48px; text-anchor:middle;\" transform=\"rotate(0, 1291.62, 1479.62)\" x=\"1291.62\" y=\"1479.62\">0</text>\n",
       "</g>\n",
       "<g clip-path=\"url(#clip0800)\">\n",
       "<text style=\"fill:#000000; fill-opacity:1; font-family:Arial,Helvetica Neue,Helvetica,sans-serif; font-size:48px; text-anchor:middle;\" transform=\"rotate(0, 1822.19, 1479.62)\" x=\"1822.19\" y=\"1479.62\">20</text>\n",
       "</g>\n",
       "<g clip-path=\"url(#clip0800)\">\n",
       "<text style=\"fill:#000000; fill-opacity:1; font-family:Arial,Helvetica Neue,Helvetica,sans-serif; font-size:48px; text-anchor:middle;\" transform=\"rotate(0, 2352.76, 1479.62)\" x=\"2352.76\" y=\"1479.62\">40</text>\n",
       "</g>\n",
       "<g clip-path=\"url(#clip0800)\">\n",
       "<text style=\"fill:#000000; fill-opacity:1; font-family:Arial,Helvetica Neue,Helvetica,sans-serif; font-size:48px; text-anchor:end;\" transform=\"rotate(0, 206.483, 1443.12)\" x=\"206.483\" y=\"1443.12\">-40</text>\n",
       "</g>\n",
       "<g clip-path=\"url(#clip0800)\">\n",
       "<text style=\"fill:#000000; fill-opacity:1; font-family:Arial,Helvetica Neue,Helvetica,sans-serif; font-size:48px; text-anchor:end;\" transform=\"rotate(0, 206.483, 1098.52)\" x=\"206.483\" y=\"1098.52\">-20</text>\n",
       "</g>\n",
       "<g clip-path=\"url(#clip0800)\">\n",
       "<text style=\"fill:#000000; fill-opacity:1; font-family:Arial,Helvetica Neue,Helvetica,sans-serif; font-size:48px; text-anchor:end;\" transform=\"rotate(0, 206.483, 753.931)\" x=\"206.483\" y=\"753.931\">0</text>\n",
       "</g>\n",
       "<g clip-path=\"url(#clip0800)\">\n",
       "<text style=\"fill:#000000; fill-opacity:1; font-family:Arial,Helvetica Neue,Helvetica,sans-serif; font-size:48px; text-anchor:end;\" transform=\"rotate(0, 206.483, 409.338)\" x=\"206.483\" y=\"409.338\">20</text>\n",
       "</g>\n",
       "<g clip-path=\"url(#clip0800)\">\n",
       "<text style=\"fill:#000000; fill-opacity:1; font-family:Arial,Helvetica Neue,Helvetica,sans-serif; font-size:48px; text-anchor:end;\" transform=\"rotate(0, 206.483, 64.7441)\" x=\"206.483\" y=\"64.7441\">40</text>\n",
       "</g>\n",
       "<g clip-path=\"url(#clip0800)\">\n",
       "<text style=\"fill:#000000; fill-opacity:1; font-family:Arial,Helvetica Neue,Helvetica,sans-serif; font-size:66px; text-anchor:middle;\" transform=\"rotate(0, 1291.62, 1559.48)\" x=\"1291.62\" y=\"1559.48\">X</text>\n",
       "</g>\n",
       "<g clip-path=\"url(#clip0800)\">\n",
       "<text style=\"fill:#000000; fill-opacity:1; font-family:Arial,Helvetica Neue,Helvetica,sans-serif; font-size:66px; text-anchor:middle;\" transform=\"rotate(-90, 89.2861, 736.431)\" x=\"89.2861\" y=\"736.431\">Y</text>\n",
       "</g>\n",
       "<circle clip-path=\"url(#clip0802)\" cx=\"1291.73\" cy=\"735.053\" r=\"36\" fill=\"#ffff00\" fill-rule=\"evenodd\" fill-opacity=\"0.9\" stroke=\"#000000\" stroke-opacity=\"0.9\" stroke-width=\"3.2\"/>\n",
       "<circle clip-path=\"url(#clip0802)\" cx=\"1301.24\" cy=\"736.596\" r=\"3\" fill=\"#ffc0cb\" fill-rule=\"evenodd\" fill-opacity=\"0.9\" stroke=\"#000000\" stroke-opacity=\"0.9\" stroke-width=\"3.2\"/>\n",
       "<circle clip-path=\"url(#clip0802)\" cx=\"1275.35\" cy=\"741.498\" r=\"7\" fill=\"#800080\" fill-rule=\"evenodd\" fill-opacity=\"0.9\" stroke=\"#000000\" stroke-opacity=\"0.9\" stroke-width=\"3.2\"/>\n",
       "<circle clip-path=\"url(#clip0802)\" cx=\"1307.42\" cy=\"748.963\" r=\"10\" fill=\"#0000ff\" fill-rule=\"evenodd\" fill-opacity=\"0.9\" stroke=\"#000000\" stroke-opacity=\"0.9\" stroke-width=\"3.2\"/>\n",
       "<circle clip-path=\"url(#clip0802)\" cx=\"1283.67\" cy=\"709.379\" r=\"3\" fill=\"#ff0000\" fill-rule=\"evenodd\" fill-opacity=\"0.9\" stroke=\"#000000\" stroke-opacity=\"0.9\" stroke-width=\"3.2\"/>\n",
       "<circle clip-path=\"url(#clip0802)\" cx=\"1385.29\" cy=\"669.5\" r=\"25\" fill=\"#a52a2a\" fill-rule=\"evenodd\" fill-opacity=\"0.9\" stroke=\"#000000\" stroke-opacity=\"0.9\" stroke-width=\"3.2\"/>\n",
       "<circle clip-path=\"url(#clip0802)\" cx=\"1458.45\" cy=\"857.608\" r=\"18\" fill=\"#ffa500\" fill-rule=\"evenodd\" fill-opacity=\"0.9\" stroke=\"#000000\" stroke-opacity=\"0.9\" stroke-width=\"3.2\"/>\n",
       "<circle clip-path=\"url(#clip0802)\" cx=\"1143.81\" cy=\"420.668\" r=\"10\" fill=\"#d2b48c\" fill-rule=\"evenodd\" fill-opacity=\"0.9\" stroke=\"#000000\" stroke-opacity=\"0.9\" stroke-width=\"3.2\"/>\n",
       "<circle clip-path=\"url(#clip0802)\" cx=\"1750.69\" cy=\"318.337\" r=\"7\" fill=\"#00008b\" fill-rule=\"evenodd\" fill-opacity=\"0.9\" stroke=\"#000000\" stroke-opacity=\"0.9\" stroke-width=\"3.2\"/>\n",
       "<circle clip-path=\"url(#clip0802)\" cx=\"2133.23\" cy=\"338.49\" r=\"3\" fill=\"#000000\" fill-rule=\"evenodd\" fill-opacity=\"0.9\" stroke=\"none\"/>\n",
       "</svg>\n"
      ]
     },
     "execution_count": 22,
     "metadata": {},
     "output_type": "execute_result"
    }
   ],
   "source": [
    "#### sizes = [10, 1, 2, 3, 1, 7, 5, 3, 2, 1]\n",
    "clrs = [:yellow, :pink, :purple, :blue, :red, :brown, :orange, :tan, :darkblue, :black]\n",
    "labs = [\"Sol\", \"Mer\", \"Ven\", \"Geo\", \"Mar\", \"Jup\", \"Sat\", \"Urn\", \"Nep\", \"Plu\"]\n",
    "R = 40\n",
    "k = 500\n",
    "    plot()\n",
    "    for i = 1:10\n",
    "        scatter!([Xs[k,i]], [Ys[k,i]],# [Zs[1,i]], \n",
    "            xaxis=(\"X\", (-R, R), -R:20:R),\n",
    "            yaxis=(\"Y\", (-R, R), -R:20:R), \n",
    "            #zaxis=(\"Z\", (-1, 1), -1:0.5:1),\n",
    "            marker=(sizes[i], 0.9, clrs[i]), legend = false )\n",
    "    end\n",
    "plot!()"
   ]
  },
  {
   "cell_type": "code",
   "execution_count": 23,
   "metadata": {},
   "outputs": [],
   "source": [
    "sizes = [10, 1, 2, 3, 1, 7, 5, 3, 2, 1]\n",
    "clrs = [:yellow, :pink, :purple, :blue, :red, :brown, :orange, :tan, :darkblue, :black]\n",
    "labs = [\"Sol\", \"Mer\", \"Ven\", \"Geo\", \"Mar\", \"Jup\", \"Sat\", \"Urn\", \"Nep\", \"Plu\"]\n",
    "R = 40\n",
    "for k = 1:4:length(t)\n",
    "    plot()\n",
    "    for i = 1:10\n",
    "        scatter!([Xs[k,i]], [Ys[k,i]],# [Zs[1,i]], \n",
    "            xaxis=(\"X\", (-R, R), -R:20:R),\n",
    "            yaxis=(\"Y\", (-R, R), -R:20:R), \n",
    "            #zaxis=(\"Z\", (-1, 1), -1:0.5:1),\n",
    "            marker=(sizes[i], 0.9, clrs[i]), legend = false )\n",
    "    end\n",
    "    savefig(\"plot$k.png\")\n",
    "end"
   ]
  },
  {
   "cell_type": "code",
   "execution_count": 24,
   "metadata": {},
   "outputs": [],
   "source": [
    "sizes = [10, 1, 2, 3, 1, 7, 5, 3, 2, 1]\n",
    "clrs = [:yellow, :pink, :purple, :blue, :red, :brown, :orange, :tan, :darkblue, :black]\n",
    "labs = [\"Sol\", \"Mer\", \"Ven\", \"Geo\", \"Mar\", \"Jup\", \"Sat\", \"Urn\", \"Nep\", \"Plu\"]\n",
    "R = 40\n",
    "for k = 1:4:length(t)\n",
    "    plot()\n",
    "    for i = 1:10\n",
    "        scatter!([Xs[k,i]], [Ys[k,i]], [Zs[1,i]], \n",
    "            xaxis=(\"X\", (-R, R), -R:20:R),\n",
    "            yaxis=(\"Y\", (-R, R), -R:20:R), \n",
    "            zaxis=(\"Z\", (-1, 1), -1:0.5:1),\n",
    "            marker=(sizes[i], 0.9, clrs[i]), legend = false )\n",
    "    end\n",
    "    savefig(\"plot$k.png\")\n",
    "end"
   ]
  },
  {
   "cell_type": "markdown",
   "metadata": {},
   "source": [
    "![gifka](25years.gif)"
   ]
  },
  {
   "cell_type": "markdown",
   "metadata": {},
   "source": [
    "Сотня звезд в плотном кубическом скоплении"
   ]
  },
  {
   "cell_type": "code",
   "execution_count": 10,
   "metadata": {},
   "outputs": [
    {
     "name": "stdout",
     "output_type": "stream",
     "text": [
      "576.554907 seconds (22.72 G allocations: 509.558 GiB, 12.09% gc time)\n"
     ]
    },
    {
     "data": {
      "text/plain": [
       "N: 100\n",
       "Timespan: (0.0, 1.0)\n",
       "Boundary conditions: InfiniteBox{Float64}([-Inf, Inf, -Inf, Inf, -Inf, Inf])\n",
       "Potentials: \n",
       "Gravitational:\n",
       "\tG:0.00011833518368997721\n",
       "Time steps: 37047\n",
       "t: 0.0, 1.0\n"
      ]
     },
     "execution_count": 10,
     "metadata": {},
     "output_type": "execute_result"
    }
   ],
   "source": [
    "N = 100 # number of bodies\n",
    "m = 5.0e5 # mass of each of them in Earth mass\n",
    "v = 4.0 # mean velocity a.u./year = 20km/s\n",
    "L = 5.0 # size of the cell side in a.u.\n",
    "\n",
    "bodies = generate_bodies_in_cell_nodes(N, m, v, L)\n",
    "system = GravitationalSystem(bodies, G)\n",
    "tspan = (0.0, 1.0) # Earth years\n",
    "simulation = NBodySimulation(system, tspan)\n",
    "@time sim_result = run_simulation(simulation , DPRKN6()) #"
   ]
  },
  {
   "cell_type": "code",
   "execution_count": 11,
   "metadata": {},
   "outputs": [
    {
     "data": {
      "text/plain": [
       "0.0:0.010100984597176905:0.9999974751205136"
      ]
     },
     "execution_count": 11,
     "metadata": {},
     "output_type": "execute_result"
    }
   ],
   "source": [
    "tfin = sim_result.solution.t[end-1]\n",
    "t = range(0, length = 100, stop = tfin)"
   ]
  },
  {
   "cell_type": "code",
   "execution_count": 12,
   "metadata": {},
   "outputs": [
    {
     "data": {
      "text/plain": [
       "5-element Array{Symbol,1}:\n",
       " :yellow\n",
       " :red   \n",
       " :blue  \n",
       " :orange\n",
       " :white "
      ]
     },
     "execution_count": 12,
     "metadata": {},
     "output_type": "execute_result"
    }
   ],
   "source": [
    "Xs = [ get_position(sim_result, ti)[1,i] for ti in t, i = 1:N ]\n",
    "Ys = [ get_position(sim_result, ti)[2,i] for ti in t, i = 1:N ];\n",
    "Zs = [ get_position(sim_result, ti)[3,i] for ti in t, i = 1:N ];\n",
    "clrs = [:yellow, :red, :blue, :orange, :white]"
   ]
  },
  {
   "cell_type": "code",
   "execution_count": 15,
   "metadata": {},
   "outputs": [
    {
     "data": {
      "image/svg+xml": [
       "<?xml version=\"1.0\" encoding=\"utf-8\"?>\n",
       "<svg xmlns=\"http://www.w3.org/2000/svg\" xmlns:xlink=\"http://www.w3.org/1999/xlink\" width=\"600\" height=\"400\" viewBox=\"0 0 2400 1600\">\n",
       "<defs>\n",
       "  <clipPath id=\"clip2500\">\n",
       "    <rect x=\"0\" y=\"0\" width=\"2400\" height=\"1600\"/>\n",
       "  </clipPath>\n",
       "</defs>\n",
       "<path clip-path=\"url(#clip2500)\" d=\"\n",
       "M0 1600 L2400 1600 L2400 0 L0 0  Z\n",
       "  \" fill=\"#333333\" fill-rule=\"evenodd\" fill-opacity=\"1\"/>\n",
       "<defs>\n",
       "  <clipPath id=\"clip2501\">\n",
       "    <rect x=\"480\" y=\"0\" width=\"1681\" height=\"1600\"/>\n",
       "  </clipPath>\n",
       "</defs>\n",
       "<defs>\n",
       "  <clipPath id=\"clip2502\">\n",
       "    <rect x=\"230\" y=\"47\" width=\"2123\" height=\"1379\"/>\n",
       "  </clipPath>\n",
       "</defs>\n",
       "<path clip-path=\"url(#clip2502)\" d=\"\n",
       "M230.483 1344.19 L230.483 291.518 L1007.29 47.2441 L2352.76 128.669 L2352.76 1181.34 L1575.95 1425.62 L230.483 1344.19  Z\n",
       "  \" fill=\"#333333\" fill-rule=\"evenodd\" fill-opacity=\"1\"/>\n",
       "<polyline clip-path=\"url(#clip2502)\" style=\"stroke:#ffffff; stroke-width:2; stroke-opacity:0.1; fill:none\" points=\"\n",
       "  230.483,1344.19 1007.29,1099.92 \n",
       "  \"/>\n",
       "<polyline clip-path=\"url(#clip2502)\" style=\"stroke:#ffffff; stroke-width:2; stroke-opacity:0.1; fill:none\" points=\"\n",
       "  1007.29,1099.92 1007.29,47.2441 \n",
       "  \"/>\n",
       "<polyline clip-path=\"url(#clip2502)\" style=\"stroke:#ffffff; stroke-width:2; stroke-opacity:0.1; fill:none\" points=\"\n",
       "  566.85,1364.55 1343.66,1120.28 \n",
       "  \"/>\n",
       "<polyline clip-path=\"url(#clip2502)\" style=\"stroke:#ffffff; stroke-width:2; stroke-opacity:0.1; fill:none\" points=\"\n",
       "  1343.66,1120.28 1343.66,67.6003 \n",
       "  \"/>\n",
       "<polyline clip-path=\"url(#clip2502)\" style=\"stroke:#ffffff; stroke-width:2; stroke-opacity:0.1; fill:none\" points=\"\n",
       "  903.217,1384.91 1680.02,1140.63 \n",
       "  \"/>\n",
       "<polyline clip-path=\"url(#clip2502)\" style=\"stroke:#ffffff; stroke-width:2; stroke-opacity:0.1; fill:none\" points=\"\n",
       "  1680.02,1140.63 1680.02,87.9565 \n",
       "  \"/>\n",
       "<polyline clip-path=\"url(#clip2502)\" style=\"stroke:#ffffff; stroke-width:2; stroke-opacity:0.1; fill:none\" points=\"\n",
       "  1239.58,1405.26 2016.39,1160.99 \n",
       "  \"/>\n",
       "<polyline clip-path=\"url(#clip2502)\" style=\"stroke:#ffffff; stroke-width:2; stroke-opacity:0.1; fill:none\" points=\"\n",
       "  2016.39,1160.99 2016.39,108.313 \n",
       "  \"/>\n",
       "<polyline clip-path=\"url(#clip2502)\" style=\"stroke:#ffffff; stroke-width:2; stroke-opacity:0.1; fill:none\" points=\"\n",
       "  1575.95,1425.62 2352.76,1181.34 \n",
       "  \"/>\n",
       "<polyline clip-path=\"url(#clip2502)\" style=\"stroke:#ffffff; stroke-width:2; stroke-opacity:0.1; fill:none\" points=\"\n",
       "  2352.76,1181.34 2352.76,128.669 \n",
       "  \"/>\n",
       "<polyline clip-path=\"url(#clip2502)\" style=\"stroke:#ffffff; stroke-width:2; stroke-opacity:0.1; fill:none\" points=\"\n",
       "  1575.95,1425.62 230.483,1344.19 \n",
       "  \"/>\n",
       "<polyline clip-path=\"url(#clip2502)\" style=\"stroke:#ffffff; stroke-width:2; stroke-opacity:0.1; fill:none\" points=\"\n",
       "  230.483,1344.19 230.483,291.518 \n",
       "  \"/>\n",
       "<polyline clip-path=\"url(#clip2502)\" style=\"stroke:#ffffff; stroke-width:2; stroke-opacity:0.1; fill:none\" points=\"\n",
       "  1770.15,1364.55 424.684,1283.13 \n",
       "  \"/>\n",
       "<polyline clip-path=\"url(#clip2502)\" style=\"stroke:#ffffff; stroke-width:2; stroke-opacity:0.1; fill:none\" points=\"\n",
       "  424.684,1283.13 424.684,230.45 \n",
       "  \"/>\n",
       "<polyline clip-path=\"url(#clip2502)\" style=\"stroke:#ffffff; stroke-width:2; stroke-opacity:0.1; fill:none\" points=\"\n",
       "  1964.35,1303.48 618.886,1222.06 \n",
       "  \"/>\n",
       "<polyline clip-path=\"url(#clip2502)\" style=\"stroke:#ffffff; stroke-width:2; stroke-opacity:0.1; fill:none\" points=\"\n",
       "  618.886,1222.06 618.886,169.381 \n",
       "  \"/>\n",
       "<polyline clip-path=\"url(#clip2502)\" style=\"stroke:#ffffff; stroke-width:2; stroke-opacity:0.1; fill:none\" points=\"\n",
       "  2158.55,1242.41 813.087,1160.99 \n",
       "  \"/>\n",
       "<polyline clip-path=\"url(#clip2502)\" style=\"stroke:#ffffff; stroke-width:2; stroke-opacity:0.1; fill:none\" points=\"\n",
       "  813.087,1160.99 813.087,108.313 \n",
       "  \"/>\n",
       "<polyline clip-path=\"url(#clip2502)\" style=\"stroke:#ffffff; stroke-width:2; stroke-opacity:0.1; fill:none\" points=\"\n",
       "  2352.76,1181.34 1007.29,1099.92 \n",
       "  \"/>\n",
       "<polyline clip-path=\"url(#clip2502)\" style=\"stroke:#ffffff; stroke-width:2; stroke-opacity:0.1; fill:none\" points=\"\n",
       "  1007.29,1099.92 1007.29,47.2441 \n",
       "  \"/>\n",
       "<polyline clip-path=\"url(#clip2502)\" style=\"stroke:#ffffff; stroke-width:2; stroke-opacity:0.1; fill:none\" points=\"\n",
       "  230.483,1344.19 1007.29,1099.92 \n",
       "  \"/>\n",
       "<polyline clip-path=\"url(#clip2502)\" style=\"stroke:#ffffff; stroke-width:2; stroke-opacity:0.1; fill:none\" points=\"\n",
       "  1007.29,1099.92 2352.76,1181.34 \n",
       "  \"/>\n",
       "<polyline clip-path=\"url(#clip2502)\" style=\"stroke:#ffffff; stroke-width:2; stroke-opacity:0.1; fill:none\" points=\"\n",
       "  230.483,1081.02 1007.29,836.751 \n",
       "  \"/>\n",
       "<polyline clip-path=\"url(#clip2502)\" style=\"stroke:#ffffff; stroke-width:2; stroke-opacity:0.1; fill:none\" points=\"\n",
       "  1007.29,836.751 2352.76,918.176 \n",
       "  \"/>\n",
       "<polyline clip-path=\"url(#clip2502)\" style=\"stroke:#ffffff; stroke-width:2; stroke-opacity:0.1; fill:none\" points=\"\n",
       "  230.483,817.856 1007.29,573.582 \n",
       "  \"/>\n",
       "<polyline clip-path=\"url(#clip2502)\" style=\"stroke:#ffffff; stroke-width:2; stroke-opacity:0.1; fill:none\" points=\"\n",
       "  1007.29,573.582 2352.76,655.007 \n",
       "  \"/>\n",
       "<polyline clip-path=\"url(#clip2502)\" style=\"stroke:#ffffff; stroke-width:2; stroke-opacity:0.1; fill:none\" points=\"\n",
       "  230.483,554.687 1007.29,310.413 \n",
       "  \"/>\n",
       "<polyline clip-path=\"url(#clip2502)\" style=\"stroke:#ffffff; stroke-width:2; stroke-opacity:0.1; fill:none\" points=\"\n",
       "  1007.29,310.413 2352.76,391.838 \n",
       "  \"/>\n",
       "<polyline clip-path=\"url(#clip2502)\" style=\"stroke:#ffffff; stroke-width:2; stroke-opacity:0.1; fill:none\" points=\"\n",
       "  230.483,291.518 1007.29,47.2441 \n",
       "  \"/>\n",
       "<polyline clip-path=\"url(#clip2502)\" style=\"stroke:#ffffff; stroke-width:2; stroke-opacity:0.1; fill:none\" points=\"\n",
       "  1007.29,47.2441 2352.76,128.669 \n",
       "  \"/>\n",
       "<polyline clip-path=\"url(#clip2500)\" style=\"stroke:#ffffff; stroke-width:4; stroke-opacity:1; fill:none\" points=\"\n",
       "  230.483,1344.19 1575.95,1425.62 \n",
       "  \"/>\n",
       "<polyline clip-path=\"url(#clip2500)\" style=\"stroke:#ffffff; stroke-width:4; stroke-opacity:1; fill:none\" points=\"\n",
       "  1575.95,1425.62 2352.76,1181.34 \n",
       "  \"/>\n",
       "<polyline clip-path=\"url(#clip2500)\" style=\"stroke:#ffffff; stroke-width:4; stroke-opacity:1; fill:none\" points=\"\n",
       "  230.483,1344.19 230.483,291.518 \n",
       "  \"/>\n",
       "<polyline clip-path=\"url(#clip2500)\" style=\"stroke:#ffffff; stroke-width:4; stroke-opacity:1; fill:none\" points=\"\n",
       "  230.483,1344.19 239.805,1341.26 \n",
       "  \"/>\n",
       "<polyline clip-path=\"url(#clip2500)\" style=\"stroke:#ffffff; stroke-width:4; stroke-opacity:1; fill:none\" points=\"\n",
       "  566.85,1364.55 576.171,1361.62 \n",
       "  \"/>\n",
       "<polyline clip-path=\"url(#clip2500)\" style=\"stroke:#ffffff; stroke-width:4; stroke-opacity:1; fill:none\" points=\"\n",
       "  903.217,1384.91 912.538,1381.97 \n",
       "  \"/>\n",
       "<polyline clip-path=\"url(#clip2500)\" style=\"stroke:#ffffff; stroke-width:4; stroke-opacity:1; fill:none\" points=\"\n",
       "  1239.58,1405.26 1248.91,1402.33 \n",
       "  \"/>\n",
       "<polyline clip-path=\"url(#clip2500)\" style=\"stroke:#ffffff; stroke-width:4; stroke-opacity:1; fill:none\" points=\"\n",
       "  1575.95,1425.62 1585.27,1422.69 \n",
       "  \"/>\n",
       "<polyline clip-path=\"url(#clip2500)\" style=\"stroke:#ffffff; stroke-width:4; stroke-opacity:1; fill:none\" points=\"\n",
       "  1575.95,1425.62 1559.8,1424.64 \n",
       "  \"/>\n",
       "<polyline clip-path=\"url(#clip2500)\" style=\"stroke:#ffffff; stroke-width:4; stroke-opacity:1; fill:none\" points=\"\n",
       "  1770.15,1364.55 1754.01,1363.57 \n",
       "  \"/>\n",
       "<polyline clip-path=\"url(#clip2500)\" style=\"stroke:#ffffff; stroke-width:4; stroke-opacity:1; fill:none\" points=\"\n",
       "  1964.35,1303.48 1948.21,1302.5 \n",
       "  \"/>\n",
       "<polyline clip-path=\"url(#clip2500)\" style=\"stroke:#ffffff; stroke-width:4; stroke-opacity:1; fill:none\" points=\"\n",
       "  2158.55,1242.41 2142.41,1241.44 \n",
       "  \"/>\n",
       "<polyline clip-path=\"url(#clip2500)\" style=\"stroke:#ffffff; stroke-width:4; stroke-opacity:1; fill:none\" points=\"\n",
       "  2352.76,1181.34 2336.61,1180.37 \n",
       "  \"/>\n",
       "<polyline clip-path=\"url(#clip2500)\" style=\"stroke:#ffffff; stroke-width:4; stroke-opacity:1; fill:none\" points=\"\n",
       "  230.483,1344.19 239.805,1341.26 \n",
       "  \"/>\n",
       "<polyline clip-path=\"url(#clip2500)\" style=\"stroke:#ffffff; stroke-width:4; stroke-opacity:1; fill:none\" points=\"\n",
       "  230.483,1081.02 239.805,1078.09 \n",
       "  \"/>\n",
       "<polyline clip-path=\"url(#clip2500)\" style=\"stroke:#ffffff; stroke-width:4; stroke-opacity:1; fill:none\" points=\"\n",
       "  230.483,817.856 239.805,814.925 \n",
       "  \"/>\n",
       "<polyline clip-path=\"url(#clip2500)\" style=\"stroke:#ffffff; stroke-width:4; stroke-opacity:1; fill:none\" points=\"\n",
       "  230.483,554.687 239.805,551.756 \n",
       "  \"/>\n",
       "<polyline clip-path=\"url(#clip2500)\" style=\"stroke:#ffffff; stroke-width:4; stroke-opacity:1; fill:none\" points=\"\n",
       "  230.483,291.518 239.805,288.587 \n",
       "  \"/>\n",
       "<g clip-path=\"url(#clip2500)\">\n",
       "<text style=\"fill:#ffffff; fill-opacity:1; font-family:Arial,Helvetica Neue,Helvetica,sans-serif; font-size:48px; text-anchor:middle;\" transform=\"rotate(0, 206.483, 1398.19)\" x=\"206.483\" y=\"1398.19\">-20</text>\n",
       "</g>\n",
       "<g clip-path=\"url(#clip2500)\">\n",
       "<text style=\"fill:#ffffff; fill-opacity:1; font-family:Arial,Helvetica Neue,Helvetica,sans-serif; font-size:48px; text-anchor:middle;\" transform=\"rotate(0, 542.85, 1418.55)\" x=\"542.85\" y=\"1418.55\">-10</text>\n",
       "</g>\n",
       "<g clip-path=\"url(#clip2500)\">\n",
       "<text style=\"fill:#ffffff; fill-opacity:1; font-family:Arial,Helvetica Neue,Helvetica,sans-serif; font-size:48px; text-anchor:middle;\" transform=\"rotate(0, 879.217, 1438.91)\" x=\"879.217\" y=\"1438.91\">0</text>\n",
       "</g>\n",
       "<g clip-path=\"url(#clip2500)\">\n",
       "<text style=\"fill:#ffffff; fill-opacity:1; font-family:Arial,Helvetica Neue,Helvetica,sans-serif; font-size:48px; text-anchor:middle;\" transform=\"rotate(0, 1215.58, 1459.26)\" x=\"1215.58\" y=\"1459.26\">10</text>\n",
       "</g>\n",
       "<g clip-path=\"url(#clip2500)\">\n",
       "<text style=\"fill:#ffffff; fill-opacity:1; font-family:Arial,Helvetica Neue,Helvetica,sans-serif; font-size:48px; text-anchor:middle;\" transform=\"rotate(0, 1551.95, 1479.62)\" x=\"1551.95\" y=\"1479.62\">20</text>\n",
       "</g>\n",
       "<g clip-path=\"url(#clip2500)\">\n",
       "<text style=\"fill:#ffffff; fill-opacity:1; font-family:Arial,Helvetica Neue,Helvetica,sans-serif; font-size:48px; text-anchor:middle;\" transform=\"rotate(0, 1599.95, 1479.62)\" x=\"1599.95\" y=\"1479.62\">-20</text>\n",
       "</g>\n",
       "<g clip-path=\"url(#clip2500)\">\n",
       "<text style=\"fill:#ffffff; fill-opacity:1; font-family:Arial,Helvetica Neue,Helvetica,sans-serif; font-size:48px; text-anchor:middle;\" transform=\"rotate(0, 1794.15, 1418.55)\" x=\"1794.15\" y=\"1418.55\">-10</text>\n",
       "</g>\n",
       "<g clip-path=\"url(#clip2500)\">\n",
       "<text style=\"fill:#ffffff; fill-opacity:1; font-family:Arial,Helvetica Neue,Helvetica,sans-serif; font-size:48px; text-anchor:middle;\" transform=\"rotate(0, 1988.35, 1357.48)\" x=\"1988.35\" y=\"1357.48\">0</text>\n",
       "</g>\n",
       "<g clip-path=\"url(#clip2500)\">\n",
       "<text style=\"fill:#ffffff; fill-opacity:1; font-family:Arial,Helvetica Neue,Helvetica,sans-serif; font-size:48px; text-anchor:middle;\" transform=\"rotate(0, 2182.55, 1296.41)\" x=\"2182.55\" y=\"1296.41\">10</text>\n",
       "</g>\n",
       "<g clip-path=\"url(#clip2500)\">\n",
       "<text style=\"fill:#ffffff; fill-opacity:1; font-family:Arial,Helvetica Neue,Helvetica,sans-serif; font-size:48px; text-anchor:middle;\" transform=\"rotate(0, 2376.76, 1235.34)\" x=\"2376.76\" y=\"1235.34\">20</text>\n",
       "</g>\n",
       "<g clip-path=\"url(#clip2500)\">\n",
       "<text style=\"fill:#ffffff; fill-opacity:1; font-family:Arial,Helvetica Neue,Helvetica,sans-serif; font-size:48px; text-anchor:end;\" transform=\"rotate(0, 206.483, 1361.69)\" x=\"206.483\" y=\"1361.69\">-20</text>\n",
       "</g>\n",
       "<g clip-path=\"url(#clip2500)\">\n",
       "<text style=\"fill:#ffffff; fill-opacity:1; font-family:Arial,Helvetica Neue,Helvetica,sans-serif; font-size:48px; text-anchor:end;\" transform=\"rotate(0, 206.483, 1098.52)\" x=\"206.483\" y=\"1098.52\">-10</text>\n",
       "</g>\n",
       "<g clip-path=\"url(#clip2500)\">\n",
       "<text style=\"fill:#ffffff; fill-opacity:1; font-family:Arial,Helvetica Neue,Helvetica,sans-serif; font-size:48px; text-anchor:end;\" transform=\"rotate(0, 206.483, 835.356)\" x=\"206.483\" y=\"835.356\">0</text>\n",
       "</g>\n",
       "<g clip-path=\"url(#clip2500)\">\n",
       "<text style=\"fill:#ffffff; fill-opacity:1; font-family:Arial,Helvetica Neue,Helvetica,sans-serif; font-size:48px; text-anchor:end;\" transform=\"rotate(0, 206.483, 572.187)\" x=\"206.483\" y=\"572.187\">10</text>\n",
       "</g>\n",
       "<g clip-path=\"url(#clip2500)\">\n",
       "<text style=\"fill:#ffffff; fill-opacity:1; font-family:Arial,Helvetica Neue,Helvetica,sans-serif; font-size:48px; text-anchor:end;\" transform=\"rotate(0, 206.483, 309.018)\" x=\"206.483\" y=\"309.018\">20</text>\n",
       "</g>\n",
       "<g clip-path=\"url(#clip2500)\">\n",
       "<text style=\"fill:#ffffff; fill-opacity:1; font-family:Arial,Helvetica Neue,Helvetica,sans-serif; font-size:66px; text-anchor:middle;\" transform=\"rotate(0, 783.755, 1528.37)\" x=\"783.755\" y=\"1528.37\">X</text>\n",
       "</g>\n",
       "<g clip-path=\"url(#clip2500)\">\n",
       "<text style=\"fill:#ffffff; fill-opacity:1; font-family:Arial,Helvetica Neue,Helvetica,sans-serif; font-size:66px; text-anchor:middle;\" transform=\"rotate(0, 2083.81, 1446.94)\" x=\"2083.81\" y=\"1446.94\">Y</text>\n",
       "</g>\n",
       "<g clip-path=\"url(#clip2500)\">\n",
       "<text style=\"fill:#ffffff; fill-opacity:1; font-family:Arial,Helvetica Neue,Helvetica,sans-serif; font-size:66px; text-anchor:middle;\" transform=\"rotate(-90, 103.686, 817.856)\" x=\"103.686\" y=\"817.856\">Z</text>\n",
       "</g>\n",
       "<circle clip-path=\"url(#clip2502)\" cx=\"1483.72\" cy=\"697.491\" r=\"14\" fill=\"#0000ff\" fill-rule=\"evenodd\" fill-opacity=\"1\" stroke=\"#ffffff\" stroke-opacity=\"1\" stroke-width=\"3.2\"/>\n",
       "<circle clip-path=\"url(#clip2502)\" cx=\"1447.48\" cy=\"731.556\" r=\"14\" fill=\"#ffa500\" fill-rule=\"evenodd\" fill-opacity=\"1\" stroke=\"#ffffff\" stroke-opacity=\"1\" stroke-width=\"3.2\"/>\n",
       "<circle clip-path=\"url(#clip2502)\" cx=\"1532.69\" cy=\"730.922\" r=\"14\" fill=\"#ffffff\" fill-rule=\"evenodd\" fill-opacity=\"1\" stroke=\"none\"/>\n",
       "<circle clip-path=\"url(#clip2502)\" cx=\"1508.62\" cy=\"705.175\" r=\"14\" fill=\"#ffff00\" fill-rule=\"evenodd\" fill-opacity=\"1\" stroke=\"#ffffff\" stroke-opacity=\"1\" stroke-width=\"3.2\"/>\n",
       "<circle clip-path=\"url(#clip2502)\" cx=\"1459.6\" cy=\"705.483\" r=\"14\" fill=\"#ff0000\" fill-rule=\"evenodd\" fill-opacity=\"1\" stroke=\"#ffffff\" stroke-opacity=\"1\" stroke-width=\"3.2\"/>\n",
       "<circle clip-path=\"url(#clip2502)\" cx=\"1447.01\" cy=\"692.055\" r=\"14\" fill=\"#0000ff\" fill-rule=\"evenodd\" fill-opacity=\"1\" stroke=\"#ffffff\" stroke-opacity=\"1\" stroke-width=\"3.2\"/>\n",
       "<circle clip-path=\"url(#clip2502)\" cx=\"1488.45\" cy=\"700.101\" r=\"14\" fill=\"#ffa500\" fill-rule=\"evenodd\" fill-opacity=\"1\" stroke=\"#ffffff\" stroke-opacity=\"1\" stroke-width=\"3.2\"/>\n",
       "<circle clip-path=\"url(#clip2502)\" cx=\"1446.68\" cy=\"627.717\" r=\"14\" fill=\"#ffffff\" fill-rule=\"evenodd\" fill-opacity=\"1\" stroke=\"none\"/>\n",
       "<circle clip-path=\"url(#clip2502)\" cx=\"1487.5\" cy=\"700.369\" r=\"14\" fill=\"#ffff00\" fill-rule=\"evenodd\" fill-opacity=\"1\" stroke=\"#ffffff\" stroke-opacity=\"1\" stroke-width=\"3.2\"/>\n",
       "<circle clip-path=\"url(#clip2502)\" cx=\"1278.06\" cy=\"738.007\" r=\"14\" fill=\"#ff0000\" fill-rule=\"evenodd\" fill-opacity=\"1\" stroke=\"#ffffff\" stroke-opacity=\"1\" stroke-width=\"3.2\"/>\n",
       "<circle clip-path=\"url(#clip2502)\" cx=\"1466.22\" cy=\"670.835\" r=\"14\" fill=\"#0000ff\" fill-rule=\"evenodd\" fill-opacity=\"1\" stroke=\"#ffffff\" stroke-opacity=\"1\" stroke-width=\"3.2\"/>\n",
       "<circle clip-path=\"url(#clip2502)\" cx=\"1506.95\" cy=\"692.263\" r=\"14\" fill=\"#ffa500\" fill-rule=\"evenodd\" fill-opacity=\"1\" stroke=\"#ffffff\" stroke-opacity=\"1\" stroke-width=\"3.2\"/>\n",
       "<circle clip-path=\"url(#clip2502)\" cx=\"1476.09\" cy=\"698.049\" r=\"14\" fill=\"#ffffff\" fill-rule=\"evenodd\" fill-opacity=\"1\" stroke=\"none\"/>\n",
       "<circle clip-path=\"url(#clip2502)\" cx=\"1495.19\" cy=\"683.05\" r=\"14\" fill=\"#ffff00\" fill-rule=\"evenodd\" fill-opacity=\"1\" stroke=\"#ffffff\" stroke-opacity=\"1\" stroke-width=\"3.2\"/>\n",
       "<circle clip-path=\"url(#clip2502)\" cx=\"1446.84\" cy=\"644.203\" r=\"14\" fill=\"#0000ff\" fill-rule=\"evenodd\" fill-opacity=\"1\" stroke=\"#ffffff\" stroke-opacity=\"1\" stroke-width=\"3.2\"/>\n",
       "<circle clip-path=\"url(#clip2502)\" cx=\"1484.05\" cy=\"700.662\" r=\"14\" fill=\"#ffa500\" fill-rule=\"evenodd\" fill-opacity=\"1\" stroke=\"#ffffff\" stroke-opacity=\"1\" stroke-width=\"3.2\"/>\n",
       "<circle clip-path=\"url(#clip2502)\" cx=\"1494.75\" cy=\"649.848\" r=\"14\" fill=\"#ffffff\" fill-rule=\"evenodd\" fill-opacity=\"1\" stroke=\"none\"/>\n",
       "<circle clip-path=\"url(#clip2502)\" cx=\"1482.67\" cy=\"703.323\" r=\"14\" fill=\"#ff0000\" fill-rule=\"evenodd\" fill-opacity=\"1\" stroke=\"#ffffff\" stroke-opacity=\"1\" stroke-width=\"3.2\"/>\n",
       "<circle clip-path=\"url(#clip2502)\" cx=\"1544.17\" cy=\"700.418\" r=\"14\" fill=\"#ffa500\" fill-rule=\"evenodd\" fill-opacity=\"1\" stroke=\"#ffffff\" stroke-opacity=\"1\" stroke-width=\"3.2\"/>\n",
       "<circle clip-path=\"url(#clip2502)\" cx=\"1142.51\" cy=\"685.018\" r=\"14\" fill=\"#ffff00\" fill-rule=\"evenodd\" fill-opacity=\"1\" stroke=\"#ffffff\" stroke-opacity=\"1\" stroke-width=\"3.2\"/>\n",
       "<circle clip-path=\"url(#clip2502)\" cx=\"1325.71\" cy=\"876.509\" r=\"14\" fill=\"#0000ff\" fill-rule=\"evenodd\" fill-opacity=\"1\" stroke=\"#ffffff\" stroke-opacity=\"1\" stroke-width=\"3.2\"/>\n",
       "<circle clip-path=\"url(#clip2502)\" cx=\"1484.18\" cy=\"700.486\" r=\"14\" fill=\"#ffa500\" fill-rule=\"evenodd\" fill-opacity=\"1\" stroke=\"#ffffff\" stroke-opacity=\"1\" stroke-width=\"3.2\"/>\n",
       "<circle clip-path=\"url(#clip2502)\" cx=\"1459.22\" cy=\"707.199\" r=\"14\" fill=\"#ffffff\" fill-rule=\"evenodd\" fill-opacity=\"1\" stroke=\"none\"/>\n",
       "<circle clip-path=\"url(#clip2502)\" cx=\"1453.06\" cy=\"682.943\" r=\"14\" fill=\"#ffff00\" fill-rule=\"evenodd\" fill-opacity=\"1\" stroke=\"#ffffff\" stroke-opacity=\"1\" stroke-width=\"3.2\"/>\n",
       "<circle clip-path=\"url(#clip2502)\" cx=\"1488.23\" cy=\"699.975\" r=\"14\" fill=\"#ff0000\" fill-rule=\"evenodd\" fill-opacity=\"1\" stroke=\"#ffffff\" stroke-opacity=\"1\" stroke-width=\"3.2\"/>\n",
       "<circle clip-path=\"url(#clip2502)\" cx=\"1517.94\" cy=\"661.94\" r=\"14\" fill=\"#0000ff\" fill-rule=\"evenodd\" fill-opacity=\"1\" stroke=\"#ffffff\" stroke-opacity=\"1\" stroke-width=\"3.2\"/>\n",
       "<circle clip-path=\"url(#clip2502)\" cx=\"1447.26\" cy=\"660.385\" r=\"14\" fill=\"#ffa500\" fill-rule=\"evenodd\" fill-opacity=\"1\" stroke=\"#ffffff\" stroke-opacity=\"1\" stroke-width=\"3.2\"/>\n",
       "<circle clip-path=\"url(#clip2502)\" cx=\"1503.49\" cy=\"703.623\" r=\"14\" fill=\"#ffffff\" fill-rule=\"evenodd\" fill-opacity=\"1\" stroke=\"none\"/>\n",
       "<circle clip-path=\"url(#clip2502)\" cx=\"1535.65\" cy=\"642.963\" r=\"14\" fill=\"#ffff00\" fill-rule=\"evenodd\" fill-opacity=\"1\" stroke=\"#ffffff\" stroke-opacity=\"1\" stroke-width=\"3.2\"/>\n",
       "<circle clip-path=\"url(#clip2502)\" cx=\"1513.91\" cy=\"730.046\" r=\"14\" fill=\"#ff0000\" fill-rule=\"evenodd\" fill-opacity=\"1\" stroke=\"#ffffff\" stroke-opacity=\"1\" stroke-width=\"3.2\"/>\n",
       "<circle clip-path=\"url(#clip2502)\" cx=\"1549.14\" cy=\"676.759\" r=\"14\" fill=\"#0000ff\" fill-rule=\"evenodd\" fill-opacity=\"1\" stroke=\"#ffffff\" stroke-opacity=\"1\" stroke-width=\"3.2\"/>\n",
       "<circle clip-path=\"url(#clip2502)\" cx=\"1480.51\" cy=\"703.504\" r=\"14\" fill=\"#ffa500\" fill-rule=\"evenodd\" fill-opacity=\"1\" stroke=\"#ffffff\" stroke-opacity=\"1\" stroke-width=\"3.2\"/>\n",
       "<circle clip-path=\"url(#clip2502)\" cx=\"1475.38\" cy=\"697.9\" r=\"14\" fill=\"#ffffff\" fill-rule=\"evenodd\" fill-opacity=\"1\" stroke=\"none\"/>\n",
       "<circle clip-path=\"url(#clip2502)\" cx=\"1338.1\" cy=\"695.541\" r=\"14\" fill=\"#ffff00\" fill-rule=\"evenodd\" fill-opacity=\"1\" stroke=\"#ffffff\" stroke-opacity=\"1\" stroke-width=\"3.2\"/>\n",
       "<circle clip-path=\"url(#clip2502)\" cx=\"1502.29\" cy=\"660.731\" r=\"14\" fill=\"#ff0000\" fill-rule=\"evenodd\" fill-opacity=\"1\" stroke=\"#ffffff\" stroke-opacity=\"1\" stroke-width=\"3.2\"/>\n",
       "<circle clip-path=\"url(#clip2502)\" cx=\"1483.24\" cy=\"642.293\" r=\"14\" fill=\"#0000ff\" fill-rule=\"evenodd\" fill-opacity=\"1\" stroke=\"#ffffff\" stroke-opacity=\"1\" stroke-width=\"3.2\"/>\n",
       "<circle clip-path=\"url(#clip2502)\" cx=\"1450.09\" cy=\"720.046\" r=\"14\" fill=\"#ffa500\" fill-rule=\"evenodd\" fill-opacity=\"1\" stroke=\"#ffffff\" stroke-opacity=\"1\" stroke-width=\"3.2\"/>\n",
       "<circle clip-path=\"url(#clip2502)\" cx=\"1497.13\" cy=\"706.071\" r=\"14\" fill=\"#ffffff\" fill-rule=\"evenodd\" fill-opacity=\"1\" stroke=\"none\"/>\n",
       "<circle clip-path=\"url(#clip2502)\" cx=\"1484.07\" cy=\"701.189\" r=\"14\" fill=\"#ffff00\" fill-rule=\"evenodd\" fill-opacity=\"1\" stroke=\"#ffffff\" stroke-opacity=\"1\" stroke-width=\"3.2\"/>\n",
       "<circle clip-path=\"url(#clip2502)\" cx=\"1763.89\" cy=\"928.12\" r=\"14\" fill=\"#ffa500\" fill-rule=\"evenodd\" fill-opacity=\"1\" stroke=\"#ffffff\" stroke-opacity=\"1\" stroke-width=\"3.2\"/>\n",
       "<circle clip-path=\"url(#clip2502)\" cx=\"1487.39\" cy=\"700.431\" r=\"14\" fill=\"#ffffff\" fill-rule=\"evenodd\" fill-opacity=\"1\" stroke=\"none\"/>\n",
       "<circle clip-path=\"url(#clip2502)\" cx=\"1525.13\" cy=\"821.327\" r=\"14\" fill=\"#ffff00\" fill-rule=\"evenodd\" fill-opacity=\"1\" stroke=\"#ffffff\" stroke-opacity=\"1\" stroke-width=\"3.2\"/>\n",
       "<circle clip-path=\"url(#clip2502)\" cx=\"1472.73\" cy=\"693.257\" r=\"14\" fill=\"#ff0000\" fill-rule=\"evenodd\" fill-opacity=\"1\" stroke=\"#ffffff\" stroke-opacity=\"1\" stroke-width=\"3.2\"/>\n",
       "<circle clip-path=\"url(#clip2502)\" cx=\"1427.63\" cy=\"691.172\" r=\"14\" fill=\"#0000ff\" fill-rule=\"evenodd\" fill-opacity=\"1\" stroke=\"#ffffff\" stroke-opacity=\"1\" stroke-width=\"3.2\"/>\n",
       "<circle clip-path=\"url(#clip2502)\" cx=\"1395.5\" cy=\"642.446\" r=\"14\" fill=\"#ffa500\" fill-rule=\"evenodd\" fill-opacity=\"1\" stroke=\"#ffffff\" stroke-opacity=\"1\" stroke-width=\"3.2\"/>\n",
       "<circle clip-path=\"url(#clip2502)\" cx=\"1439.44\" cy=\"689.143\" r=\"14\" fill=\"#ffffff\" fill-rule=\"evenodd\" fill-opacity=\"1\" stroke=\"none\"/>\n",
       "<circle clip-path=\"url(#clip2502)\" cx=\"1457.91\" cy=\"720.283\" r=\"14\" fill=\"#ffff00\" fill-rule=\"evenodd\" fill-opacity=\"1\" stroke=\"#ffffff\" stroke-opacity=\"1\" stroke-width=\"3.2\"/>\n",
       "<circle clip-path=\"url(#clip2502)\" cx=\"1484.4\" cy=\"700.769\" r=\"14\" fill=\"#ff0000\" fill-rule=\"evenodd\" fill-opacity=\"1\" stroke=\"#ffffff\" stroke-opacity=\"1\" stroke-width=\"3.2\"/>\n",
       "<circle clip-path=\"url(#clip2502)\" cx=\"1483.98\" cy=\"700.739\" r=\"14\" fill=\"#0000ff\" fill-rule=\"evenodd\" fill-opacity=\"1\" stroke=\"#ffffff\" stroke-opacity=\"1\" stroke-width=\"3.2\"/>\n",
       "<circle clip-path=\"url(#clip2502)\" cx=\"1457.7\" cy=\"671.469\" r=\"14\" fill=\"#ffa500\" fill-rule=\"evenodd\" fill-opacity=\"1\" stroke=\"#ffffff\" stroke-opacity=\"1\" stroke-width=\"3.2\"/>\n",
       "<circle clip-path=\"url(#clip2502)\" cx=\"1387.43\" cy=\"519.935\" r=\"14\" fill=\"#ffffff\" fill-rule=\"evenodd\" fill-opacity=\"1\" stroke=\"none\"/>\n",
       "<circle clip-path=\"url(#clip2502)\" cx=\"1270.44\" cy=\"913.672\" r=\"14\" fill=\"#ffff00\" fill-rule=\"evenodd\" fill-opacity=\"1\" stroke=\"#ffffff\" stroke-opacity=\"1\" stroke-width=\"3.2\"/>\n",
       "<circle clip-path=\"url(#clip2502)\" cx=\"1457.03\" cy=\"704.149\" r=\"14\" fill=\"#ff0000\" fill-rule=\"evenodd\" fill-opacity=\"1\" stroke=\"#ffffff\" stroke-opacity=\"1\" stroke-width=\"3.2\"/>\n",
       "<circle clip-path=\"url(#clip2502)\" cx=\"1462.83\" cy=\"670.856\" r=\"14\" fill=\"#0000ff\" fill-rule=\"evenodd\" fill-opacity=\"1\" stroke=\"#ffffff\" stroke-opacity=\"1\" stroke-width=\"3.2\"/>\n",
       "<circle clip-path=\"url(#clip2502)\" cx=\"1488.22\" cy=\"701.8\" r=\"14\" fill=\"#ffa500\" fill-rule=\"evenodd\" fill-opacity=\"1\" stroke=\"#ffffff\" stroke-opacity=\"1\" stroke-width=\"3.2\"/>\n",
       "<circle clip-path=\"url(#clip2502)\" cx=\"1469.79\" cy=\"663.126\" r=\"14\" fill=\"#ffffff\" fill-rule=\"evenodd\" fill-opacity=\"1\" stroke=\"none\"/>\n",
       "<circle clip-path=\"url(#clip2502)\" cx=\"1496.23\" cy=\"692.531\" r=\"14\" fill=\"#ffff00\" fill-rule=\"evenodd\" fill-opacity=\"1\" stroke=\"#ffffff\" stroke-opacity=\"1\" stroke-width=\"3.2\"/>\n",
       "<circle clip-path=\"url(#clip2502)\" cx=\"1626.11\" cy=\"387.897\" r=\"14\" fill=\"#ff0000\" fill-rule=\"evenodd\" fill-opacity=\"1\" stroke=\"#ffffff\" stroke-opacity=\"1\" stroke-width=\"3.2\"/>\n",
       "<circle clip-path=\"url(#clip2502)\" cx=\"1517.32\" cy=\"645.043\" r=\"14\" fill=\"#0000ff\" fill-rule=\"evenodd\" fill-opacity=\"1\" stroke=\"#ffffff\" stroke-opacity=\"1\" stroke-width=\"3.2\"/>\n",
       "<circle clip-path=\"url(#clip2502)\" cx=\"1481.23\" cy=\"701.602\" r=\"14\" fill=\"#ffa500\" fill-rule=\"evenodd\" fill-opacity=\"1\" stroke=\"#ffffff\" stroke-opacity=\"1\" stroke-width=\"3.2\"/>\n",
       "<circle clip-path=\"url(#clip2502)\" cx=\"1474.37\" cy=\"709.653\" r=\"14\" fill=\"#ffffff\" fill-rule=\"evenodd\" fill-opacity=\"1\" stroke=\"none\"/>\n",
       "<circle clip-path=\"url(#clip2502)\" cx=\"1488.05\" cy=\"702.363\" r=\"14\" fill=\"#ffff00\" fill-rule=\"evenodd\" fill-opacity=\"1\" stroke=\"#ffffff\" stroke-opacity=\"1\" stroke-width=\"3.2\"/>\n",
       "<circle clip-path=\"url(#clip2502)\" cx=\"1500.37\" cy=\"708.935\" r=\"14\" fill=\"#ff0000\" fill-rule=\"evenodd\" fill-opacity=\"1\" stroke=\"#ffffff\" stroke-opacity=\"1\" stroke-width=\"3.2\"/>\n",
       "<circle clip-path=\"url(#clip2502)\" cx=\"1645.88\" cy=\"693.259\" r=\"14\" fill=\"#0000ff\" fill-rule=\"evenodd\" fill-opacity=\"1\" stroke=\"#ffffff\" stroke-opacity=\"1\" stroke-width=\"3.2\"/>\n",
       "<circle clip-path=\"url(#clip2502)\" cx=\"1474.15\" cy=\"708.393\" r=\"14\" fill=\"#ffa500\" fill-rule=\"evenodd\" fill-opacity=\"1\" stroke=\"#ffffff\" stroke-opacity=\"1\" stroke-width=\"3.2\"/>\n",
       "<circle clip-path=\"url(#clip2502)\" cx=\"1722.72\" cy=\"603.194\" r=\"14\" fill=\"#ffffff\" fill-rule=\"evenodd\" fill-opacity=\"1\" stroke=\"none\"/>\n",
       "<circle clip-path=\"url(#clip2502)\" cx=\"1496.36\" cy=\"711.057\" r=\"14\" fill=\"#ffff00\" fill-rule=\"evenodd\" fill-opacity=\"1\" stroke=\"#ffffff\" stroke-opacity=\"1\" stroke-width=\"3.2\"/>\n",
       "<circle clip-path=\"url(#clip2502)\" cx=\"1492.23\" cy=\"699.127\" r=\"14\" fill=\"#0000ff\" fill-rule=\"evenodd\" fill-opacity=\"1\" stroke=\"#ffffff\" stroke-opacity=\"1\" stroke-width=\"3.2\"/>\n",
       "<circle clip-path=\"url(#clip2502)\" cx=\"1504.23\" cy=\"674.664\" r=\"14\" fill=\"#ffa500\" fill-rule=\"evenodd\" fill-opacity=\"1\" stroke=\"#ffffff\" stroke-opacity=\"1\" stroke-width=\"3.2\"/>\n",
       "<circle clip-path=\"url(#clip2502)\" cx=\"1507.26\" cy=\"701.769\" r=\"14\" fill=\"#ffffff\" fill-rule=\"evenodd\" fill-opacity=\"1\" stroke=\"none\"/>\n",
       "<circle clip-path=\"url(#clip2502)\" cx=\"1468.05\" cy=\"709.948\" r=\"14\" fill=\"#ff0000\" fill-rule=\"evenodd\" fill-opacity=\"1\" stroke=\"#ffffff\" stroke-opacity=\"1\" stroke-width=\"3.2\"/>\n",
       "<circle clip-path=\"url(#clip2502)\" cx=\"1472.36\" cy=\"692.325\" r=\"14\" fill=\"#0000ff\" fill-rule=\"evenodd\" fill-opacity=\"1\" stroke=\"#ffffff\" stroke-opacity=\"1\" stroke-width=\"3.2\"/>\n",
       "<circle clip-path=\"url(#clip2502)\" cx=\"1524.23\" cy=\"650.359\" r=\"14\" fill=\"#ffa500\" fill-rule=\"evenodd\" fill-opacity=\"1\" stroke=\"#ffffff\" stroke-opacity=\"1\" stroke-width=\"3.2\"/>\n",
       "<circle clip-path=\"url(#clip2502)\" cx=\"1449.93\" cy=\"721.03\" r=\"14\" fill=\"#ffffff\" fill-rule=\"evenodd\" fill-opacity=\"1\" stroke=\"none\"/>\n",
       "<circle clip-path=\"url(#clip2502)\" cx=\"1484.15\" cy=\"705.735\" r=\"14\" fill=\"#ffff00\" fill-rule=\"evenodd\" fill-opacity=\"1\" stroke=\"#ffffff\" stroke-opacity=\"1\" stroke-width=\"3.2\"/>\n",
       "<circle clip-path=\"url(#clip2502)\" cx=\"1904.3\" cy=\"538.918\" r=\"14\" fill=\"#ff0000\" fill-rule=\"evenodd\" fill-opacity=\"1\" stroke=\"#ffffff\" stroke-opacity=\"1\" stroke-width=\"3.2\"/>\n",
       "<circle clip-path=\"url(#clip2502)\" cx=\"1468.27\" cy=\"705.257\" r=\"14\" fill=\"#ffa500\" fill-rule=\"evenodd\" fill-opacity=\"1\" stroke=\"#ffffff\" stroke-opacity=\"1\" stroke-width=\"3.2\"/>\n",
       "<circle clip-path=\"url(#clip2502)\" cx=\"1438.64\" cy=\"682.748\" r=\"14\" fill=\"#ffffff\" fill-rule=\"evenodd\" fill-opacity=\"1\" stroke=\"none\"/>\n",
       "<circle clip-path=\"url(#clip2502)\" cx=\"1484.92\" cy=\"689.062\" r=\"14\" fill=\"#ffff00\" fill-rule=\"evenodd\" fill-opacity=\"1\" stroke=\"#ffffff\" stroke-opacity=\"1\" stroke-width=\"3.2\"/>\n",
       "<circle clip-path=\"url(#clip2502)\" cx=\"1430.4\" cy=\"664.664\" r=\"14\" fill=\"#ff0000\" fill-rule=\"evenodd\" fill-opacity=\"1\" stroke=\"#ffffff\" stroke-opacity=\"1\" stroke-width=\"3.2\"/>\n",
       "<circle clip-path=\"url(#clip2502)\" cx=\"1476.95\" cy=\"700.33\" r=\"14\" fill=\"#ffa500\" fill-rule=\"evenodd\" fill-opacity=\"1\" stroke=\"#ffffff\" stroke-opacity=\"1\" stroke-width=\"3.2\"/>\n",
       "<circle clip-path=\"url(#clip2502)\" cx=\"1441.36\" cy=\"666.778\" r=\"14\" fill=\"#ffffff\" fill-rule=\"evenodd\" fill-opacity=\"1\" stroke=\"none\"/>\n",
       "<circle clip-path=\"url(#clip2502)\" cx=\"1478.53\" cy=\"721.02\" r=\"14\" fill=\"#ffff00\" fill-rule=\"evenodd\" fill-opacity=\"1\" stroke=\"#ffffff\" stroke-opacity=\"1\" stroke-width=\"3.2\"/>\n",
       "<circle clip-path=\"url(#clip2502)\" cx=\"1509.18\" cy=\"412.884\" r=\"14\" fill=\"#ff0000\" fill-rule=\"evenodd\" fill-opacity=\"1\" stroke=\"#ffffff\" stroke-opacity=\"1\" stroke-width=\"3.2\"/>\n",
       "<circle clip-path=\"url(#clip2502)\" cx=\"1511.91\" cy=\"521.44\" r=\"14\" fill=\"#0000ff\" fill-rule=\"evenodd\" fill-opacity=\"1\" stroke=\"#ffffff\" stroke-opacity=\"1\" stroke-width=\"3.2\"/>\n",
       "<circle clip-path=\"url(#clip2502)\" cx=\"1670.35\" cy=\"1316.59\" r=\"14\" fill=\"#ffff00\" fill-rule=\"evenodd\" fill-opacity=\"1\" stroke=\"#ffffff\" stroke-opacity=\"1\" stroke-width=\"3.2\"/>\n",
       "</svg>\n"
      ]
     },
     "execution_count": 15,
     "metadata": {},
     "output_type": "execute_result"
    }
   ],
   "source": [
    "k = 100\n",
    "    plot(background_color=RGB(0.2, 0.2, 0.2), legend = false)\n",
    "    for i = 1:100\n",
    "        scatter!([Xs[k,i]], [Ys[k,i]], [Zs[k,i]], \n",
    "            xaxis=(\"X\", (-4L, 4L), -4L:10:4L),\n",
    "            yaxis=(\"Y\", (-4L, 4L), -4L:10:4L), \n",
    "            zaxis=(\"Z\", (-4L, 4L), -4L:10:4L), color = clrs[i%5+1] )\n",
    "    end\n",
    "    plot!()"
   ]
  },
  {
   "cell_type": "code",
   "execution_count": 17,
   "metadata": {},
   "outputs": [],
   "source": [
    "for k = 1:length(t)\n",
    "    plot(background_color=RGB(0.2, 0.2, 0.2), legend = false)\n",
    "    for i = 1:100\n",
    "        scatter!([Xs[k,i]], [Ys[k,i]], [Zs[k,i]], \n",
    "            xaxis=(\"X, a.u.\", (-4L, 4L), -4L:10:4L),\n",
    "            yaxis=(\"Y, a.u.\", (-4L, 4L), -4L:10:4L), \n",
    "            zaxis=(\"Z, a.u.\", (-4L, 4L), -4L:10:4L), color = clrs[i%5+1] )\n",
    "        title!(\"$(round(t[k], digits = 2)) Earth years\")\n",
    "    end\n",
    "    savefig(\"plot$k.png\")\n",
    "end"
   ]
  },
  {
   "cell_type": "code",
   "execution_count": null,
   "metadata": {},
   "outputs": [
    {
     "name": "stdout",
     "output_type": "stream",
     "text": [
      "\u001b[32m\u001b[1m  Updating\u001b[22m\u001b[39m registry at `C:\\Users\\User\\.julia\\registries\\General`\n",
      "\u001b[32m\u001b[1m  Updating\u001b[22m\u001b[39m git-repo `https://github.com/JuliaRegistries/General.git`\n",
      "\u001b[2K\u001b[36m\u001b[1mFetching:\u001b[22m\u001b[39m [========================================>]  99.9 %0.0 %>                  ]  54.0 %\u001b[?25h\u001b[32m\u001b[1m Resolving\u001b[22m\u001b[39m package versions...\n",
      "\u001b[32m\u001b[1m Installed\u001b[22m\u001b[39m ArrayInterface ─────────────── v2.6.2\n",
      "\u001b[32m\u001b[1m Installed\u001b[22m\u001b[39m OpenBLAS_jll ───────────────── v0.3.9+0\n",
      "\u001b[32m\u001b[1m Installed\u001b[22m\u001b[39m CompilerSupportLibraries_jll ─ v0.3.1+0\n",
      "\u001b[32m\u001b[1m Installed\u001b[22m\u001b[39m MMTF ───────────────────────── v0.1.0\n",
      "\u001b[32m\u001b[1m Installed\u001b[22m\u001b[39m FiniteDiff ─────────────────── v2.3.0\n",
      "\u001b[32m\u001b[1m Installed\u001b[22m\u001b[39m Roots ──────────────────────── v1.0.1\n",
      "\u001b[32m\u001b[1m Installed\u001b[22m\u001b[39m DoubleFloats ───────────────── v1.1.6\n",
      "\u001b[32m\u001b[1m Installed\u001b[22m\u001b[39m ImageCore ──────────────────── v0.8.12\n"
     ]
    },
    {
     "name": "stderr",
     "output_type": "stream",
     "text": [
      "┌ Info: Replacing symlinks in tarball by their source files ...\n",
      "│ \"JuliaImages-ImageCore.jl-c6028e9\\\\docs\\\\src\\\\LICENSE.md\" => \"JuliaImages-ImageCore.jl-c6028e9\\\\docs\\\\src\\\\../../LICENSE.md\"\n",
      "└ @ Pkg.PlatformEngines D:\\buildbot\\worker\\package_win64\\build\\usr\\share\\julia\\stdlib\\v1.3\\Pkg\\src\\PlatformEngines.jl:755\n"
     ]
    },
    {
     "name": "stdout",
     "output_type": "stream",
     "text": [
      "\u001b[32m\u001b[1m Installed\u001b[22m\u001b[39m MacroTools ─────────────────── v0.5.5\n",
      "\u001b[32m\u001b[1m Installed\u001b[22m\u001b[39m Inflate ────────────────────── v0.1.2\n",
      "\u001b[32m\u001b[1m Installed\u001b[22m\u001b[39m JSExpr ─────────────────────── v0.5.2\n",
      "\u001b[32m\u001b[1m Installed\u001b[22m\u001b[39m YaoBase ────────────────────── v0.13.3\n",
      "\u001b[32m\u001b[1m Installed\u001b[22m\u001b[39m ImageQualityIndexes ────────── v0.1.4\n",
      "\u001b[32m\u001b[1m Installed\u001b[22m\u001b[39m FileIO ─────────────────────── v1.2.4\n",
      "\u001b[32m\u001b[1m Installed\u001b[22m\u001b[39m MsgPack ────────────────────── v0.2.0\n",
      "\u001b[32m\u001b[1m Installed\u001b[22m\u001b[39m GenericSVD ─────────────────── v0.3.0\n",
      "\u001b[32m\u001b[1m Installed\u001b[22m\u001b[39m IterativeSolvers ───────────── v0.8.3\n",
      "\u001b[32m\u001b[1m Installed\u001b[22m\u001b[39m GenericSchur ───────────────── v0.4.0\n",
      "\u001b[32m\u001b[1m Installed\u001b[22m\u001b[39m QuantumOpticsBase ──────────── v0.1.4\n",
      "\u001b[32m\u001b[1m Installed\u001b[22m\u001b[39m PlotThemes ─────────────────── v1.0.2\n",
      "\u001b[32m\u001b[1m Installed\u001b[22m\u001b[39m CodecBzip2 ─────────────────── v0.7.1\n",
      "\u001b[32m\u001b[1m Installed\u001b[22m\u001b[39m Tokenize ───────────────────── v0.5.8\n",
      "\u001b[32m\u001b[1m Installed\u001b[22m\u001b[39m ComputationalResources ─────── v0.3.2\n",
      "\u001b[32m\u001b[1m Installed\u001b[22m\u001b[39m YAML ───────────────────────── v0.4.0\n",
      "\u001b[32m\u001b[1m Installed\u001b[22m\u001b[39m DiffEqBase ─────────────────── v6.25.1\n",
      "\u001b[32m\u001b[1m Installed\u001b[22m\u001b[39m OrdinaryDiffEq ─────────────── v5.32.0\n",
      "\u001b[32m\u001b[1m Installed\u001b[22m\u001b[39m MathOptInterface ───────────── v0.9.13\n",
      "\u001b[32m\u001b[1m Installed\u001b[22m\u001b[39m BioStructures ──────────────── v0.9.3\n"
     ]
    },
    {
     "name": "stderr",
     "output_type": "stream",
     "text": [
      "┌ Info: Replacing symlinks in tarball by their source files ...\n",
      "│ \"BioJulia-BioStructures.jl-4e1b6a7\\\\docs\\\\src\\\\index.md\" => \"BioJulia-BioStructures.jl-4e1b6a7\\\\docs\\\\src\\\\../../README.md\"\n",
      "└ @ Pkg.PlatformEngines D:\\buildbot\\worker\\package_win64\\build\\usr\\share\\julia\\stdlib\\v1.3\\Pkg\\src\\PlatformEngines.jl:755\n"
     ]
    },
    {
     "name": "stdout",
     "output_type": "stream",
     "text": [
      "\u001b[32m\u001b[1m Installed\u001b[22m\u001b[39m Documenter ─────────────────── v0.24.7\n"
     ]
    }
   ],
   "source": [
    "]add StochasticDiffEq"
   ]
  },
  {
   "cell_type": "code",
   "execution_count": null,
   "metadata": {},
   "outputs": [],
   "source": []
  },
  {
   "cell_type": "code",
   "execution_count": null,
   "metadata": {},
   "outputs": [],
   "source": []
  },
  {
   "cell_type": "code",
   "execution_count": null,
   "metadata": {},
   "outputs": [],
   "source": []
  },
  {
   "cell_type": "code",
   "execution_count": null,
   "metadata": {},
   "outputs": [],
   "source": []
  }
 ],
 "metadata": {
  "kernelspec": {
   "display_name": "Julia 1.3.1",
   "language": "julia",
   "name": "julia-1.3"
  },
  "language_info": {
   "file_extension": ".jl",
   "mimetype": "application/julia",
   "name": "julia",
   "version": "1.3.1"
  }
 },
 "nbformat": 4,
 "nbformat_minor": 2
}
