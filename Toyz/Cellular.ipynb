{
 "cells": [
  {
   "cell_type": "markdown",
   "metadata": {},
   "source": [
    "https://timhutton.github.io/2010/03/10/30984.html\n",
    "\n",
    "https://en.wikipedia.org/wiki/Langton%27s_loops\n",
    "\n",
    "https://www.researchgate.net/publication/4249781_Sexyloop_Self-Reproduction_Evolution_and_Sex_in_Cellular_Automata\n",
    "\n",
    "http://golly.sourceforge.net\n",
    "\n",
    "http://neerc.ifmo.ru/wiki/index.php?title=Линейный_клеточный_автомат,_эквивалентность_МТ\n",
    "\n",
    "\n",
    "https://en.wikipedia.org/wiki/Turmite"
   ]
  },
  {
   "cell_type": "code",
   "execution_count": null,
   "metadata": {},
   "outputs": [],
   "source": [
    "using Pkg\n",
    "pkgs = [\"Images\", \"ColorSchemes\"]\n",
    "\n",
    "for p in pkgs\n",
    "    Pkg.add(p)\n",
    "end\n",
    "\n",
    "using Images, ColorSchemes"
   ]
  },
  {
   "cell_type": "code",
   "execution_count": 1,
   "metadata": {},
   "outputs": [
    {
     "name": "stderr",
     "output_type": "stream",
     "text": [
      "┌ Info: Recompiling stale cache file C:\\Users\\User\\.julia\\compiled\\v1.2\\Images\\H8Vxc.ji for Images [916415d5-f1e6-5110-898d-aaa5f9f070e0]\n",
      "└ @ Base loading.jl:1240\n",
      "┌ Info: Recompiling stale cache file C:\\Users\\User\\.julia\\compiled\\v1.2\\ImageMagick\\0LbNX.ji for ImageMagick [6218d12a-5da1-5696-b52f-db25d2ecc6d1]\n",
      "└ @ Base loading.jl:1240\n"
     ]
    },
    {
     "data": {
      "image/png": "[encoded data removed]",
      "text/plain": [
       "11×11 Array{Gray{N0f8},2} with eltype Gray{Normed{UInt8,8}}:\n",
       " Gray{N0f8}(0.0)  Gray{N0f8}(0.0)  …  Gray{N0f8}(0.0)  Gray{N0f8}(0.0)\n",
       " Gray{N0f8}(0.0)  Gray{N0f8}(1.0)     Gray{N0f8}(1.0)  Gray{N0f8}(0.0)\n",
       " Gray{N0f8}(0.0)  Gray{N0f8}(0.0)     Gray{N0f8}(0.0)  Gray{N0f8}(0.0)\n",
       " Gray{N0f8}(0.0)  Gray{N0f8}(1.0)     Gray{N0f8}(1.0)  Gray{N0f8}(0.0)\n",
       " Gray{N0f8}(0.0)  Gray{N0f8}(0.0)     Gray{N0f8}(0.0)  Gray{N0f8}(0.0)\n",
       " Gray{N0f8}(0.0)  Gray{N0f8}(1.0)  …  Gray{N0f8}(1.0)  Gray{N0f8}(0.0)\n",
       " Gray{N0f8}(0.0)  Gray{N0f8}(0.0)     Gray{N0f8}(0.0)  Gray{N0f8}(0.0)\n",
       " Gray{N0f8}(0.0)  Gray{N0f8}(1.0)     Gray{N0f8}(1.0)  Gray{N0f8}(0.0)\n",
       " Gray{N0f8}(0.0)  Gray{N0f8}(0.0)     Gray{N0f8}(0.0)  Gray{N0f8}(0.0)\n",
       " Gray{N0f8}(0.0)  Gray{N0f8}(1.0)     Gray{N0f8}(1.0)  Gray{N0f8}(0.0)\n",
       " Gray{N0f8}(0.0)  Gray{N0f8}(0.0)  …  Gray{N0f8}(0.0)  Gray{N0f8}(0.0)"
      ]
     },
     "execution_count": 1,
     "metadata": {},
     "output_type": "execute_result"
    }
   ],
   "source": [
    "using Images\n",
    "M = 10\n",
    "N = 10\n",
    "A = [ i&j&1 for i in 0:N, j in 0:M ] # isodd(i) & isodd(j) & 1\n",
    "Gray.(A) # from Images.jl"
   ]
  },
  {
   "cell_type": "code",
   "execution_count": 75,
   "metadata": {},
   "outputs": [],
   "source": [
    "using LinearAlgebra: kron, det"
   ]
  },
  {
   "cell_type": "code",
   "execution_count": 123,
   "metadata": {},
   "outputs": [
    {
     "data": {
      "text/plain": [
       "8-element Array{Bool,1}:\n",
       " 0\n",
       " 0\n",
       " 1\n",
       " 1\n",
       " 1\n",
       " 1\n",
       " 1\n",
       " 0"
      ]
     },
     "execution_count": 123,
     "metadata": {},
     "output_type": "execute_result"
    }
   ],
   "source": [
    "rule = 124\n",
    "patrn = digits(Bool, rule, base = 2, pad = 8)"
   ]
  },
  {
   "cell_type": "code",
   "execution_count": 2,
   "metadata": {},
   "outputs": [
    {
     "data": {
      "text/plain": [
       "8-element Array{String,1}:\n",
       " \"000\"\n",
       " \"001\"\n",
       " \"010\"\n",
       " \"011\"\n",
       " \"100\"\n",
       " \"101\"\n",
       " \"110\"\n",
       " \"111\""
      ]
     },
     "execution_count": 2,
     "metadata": {},
     "output_type": "execute_result"
    }
   ],
   "source": [
    "[ prod( string.( reverse( digits(i, base = 2, pad = 3) ) ) ) for i = 0:7 ]  "
   ]
  },
  {
   "cell_type": "code",
   "execution_count": 61,
   "metadata": {},
   "outputs": [
    {
     "data": {
      "text/plain": [
       "8-element Array{String,1}:\n",
       " \"000\"\n",
       " \"001\"\n",
       " \"010\"\n",
       " \"011\"\n",
       " \"100\"\n",
       " \"101\"\n",
       " \"110\"\n",
       " \"111\""
      ]
     },
     "execution_count": 61,
     "metadata": {},
     "output_type": "execute_result"
    }
   ],
   "source": [
    "[ bitstring(i)[end-2:end] for i = 0:7 ]"
   ]
  },
  {
   "cell_type": "code",
   "execution_count": 124,
   "metadata": {},
   "outputs": [
    {
     "data": {
      "text/plain": [
       "Dict{String,Bool} with 8 entries:\n",
       "  \"000\" => false\n",
       "  \"111\" => false\n",
       "  \"001\" => false\n",
       "  \"011\" => true\n",
       "  \"101\" => true\n",
       "  \"110\" => true\n",
       "  \"010\" => true\n",
       "  \"100\" => true"
      ]
     },
     "execution_count": 124,
     "metadata": {},
     "output_type": "execute_result"
    }
   ],
   "source": [
    "d = Dict( bt[i] => patrn[i] for i = 1:8 )"
   ]
  },
  {
   "cell_type": "code",
   "execution_count": 125,
   "metadata": {},
   "outputs": [
    {
     "data": {
      "text/plain": [
       "false"
      ]
     },
     "execution_count": 125,
     "metadata": {},
     "output_type": "execute_result"
    }
   ],
   "source": [
    "d[\"001\"]"
   ]
  },
  {
   "cell_type": "code",
   "execution_count": 194,
   "metadata": {},
   "outputs": [],
   "source": [
    "using Random: bitrand"
   ]
  },
  {
   "cell_type": "code",
   "execution_count": 250,
   "metadata": {},
   "outputs": [
    {
     "data": {
      "text/plain": [
       "cellauto (generic function with 3 methods)"
      ]
     },
     "execution_count": 250,
     "metadata": {},
     "output_type": "execute_result"
    }
   ],
   "source": [
    "function cellauto( n::Int64, m::Int64, rule::Int64, s::Int64 = 1 )\n",
    "    \n",
    "    ptrn = digits(Bool, rule, base = 2, pad = 8)\n",
    "    bt = [ bitstring(i)[end-2:end] for i = 0:7 ]\n",
    "    d = Dict( bt[i] => ptrn[i] for i = 1:8 )\n",
    "    \n",
    "    M = falses(n,m)\n",
    "    M[1,m ÷ 2] = true\n",
    "    #M[1,:] .= bitrand(m)\n",
    "    for i = 1:n-1, j = 2:m-1\n",
    "        key = \"$(M[i, j-1]*1)$(M[i, j]*1)$(M[i, j+1]*1)\"\n",
    "        M[i+1,j] = d[key]\n",
    "    end\n",
    "    kron(M, ones(Int,s,s) )\n",
    "end"
   ]
  },
  {
   "cell_type": "code",
   "execution_count": 5,
   "metadata": {},
   "outputs": [],
   "source": [
    "cd(\"C:\\\\Users\\\\User\\\\Desktop\\\\Mycop\")"
   ]
  },
  {
   "cell_type": "code",
   "execution_count": 252,
   "metadata": {
    "scrolled": false
   },
   "outputs": [
    {
     "data": {
      "image/png": "[encoded data removed]",
      "text/plain": [
       "400×800 Array{Gray{N0f8},2} with eltype Gray{Normed{UInt8,8}}:\n",
       " Gray{N0f8}(0.0)  Gray{N0f8}(0.0)  …  Gray{N0f8}(0.0)  Gray{N0f8}(0.0)\n",
       " Gray{N0f8}(0.0)  Gray{N0f8}(0.0)     Gray{N0f8}(0.0)  Gray{N0f8}(0.0)\n",
       " Gray{N0f8}(0.0)  Gray{N0f8}(0.0)     Gray{N0f8}(0.0)  Gray{N0f8}(0.0)\n",
       " Gray{N0f8}(0.0)  Gray{N0f8}(0.0)     Gray{N0f8}(0.0)  Gray{N0f8}(0.0)\n",
       " Gray{N0f8}(0.0)  Gray{N0f8}(0.0)     Gray{N0f8}(0.0)  Gray{N0f8}(0.0)\n",
       " Gray{N0f8}(0.0)  Gray{N0f8}(0.0)  …  Gray{N0f8}(0.0)  Gray{N0f8}(0.0)\n",
       " Gray{N0f8}(0.0)  Gray{N0f8}(0.0)     Gray{N0f8}(0.0)  Gray{N0f8}(0.0)\n",
       " Gray{N0f8}(0.0)  Gray{N0f8}(0.0)     Gray{N0f8}(0.0)  Gray{N0f8}(0.0)\n",
       " Gray{N0f8}(0.0)  Gray{N0f8}(0.0)     Gray{N0f8}(0.0)  Gray{N0f8}(0.0)\n",
       " Gray{N0f8}(0.0)  Gray{N0f8}(0.0)     Gray{N0f8}(0.0)  Gray{N0f8}(0.0)\n",
       " Gray{N0f8}(0.0)  Gray{N0f8}(0.0)  …  Gray{N0f8}(0.0)  Gray{N0f8}(0.0)\n",
       " Gray{N0f8}(0.0)  Gray{N0f8}(0.0)     Gray{N0f8}(0.0)  Gray{N0f8}(0.0)\n",
       " Gray{N0f8}(0.0)  Gray{N0f8}(0.0)     Gray{N0f8}(0.0)  Gray{N0f8}(0.0)\n",
       " ⋮                                 ⋱                                  \n",
       " Gray{N0f8}(0.0)  Gray{N0f8}(0.0)     Gray{N0f8}(0.0)  Gray{N0f8}(0.0)\n",
       " Gray{N0f8}(0.0)  Gray{N0f8}(0.0)     Gray{N0f8}(0.0)  Gray{N0f8}(0.0)\n",
       " Gray{N0f8}(0.0)  Gray{N0f8}(0.0)  …  Gray{N0f8}(0.0)  Gray{N0f8}(0.0)\n",
       " Gray{N0f8}(0.0)  Gray{N0f8}(0.0)     Gray{N0f8}(0.0)  Gray{N0f8}(0.0)\n",
       " Gray{N0f8}(0.0)  Gray{N0f8}(0.0)     Gray{N0f8}(0.0)  Gray{N0f8}(0.0)\n",
       " Gray{N0f8}(0.0)  Gray{N0f8}(0.0)     Gray{N0f8}(0.0)  Gray{N0f8}(0.0)\n",
       " Gray{N0f8}(0.0)  Gray{N0f8}(0.0)     Gray{N0f8}(0.0)  Gray{N0f8}(0.0)\n",
       " Gray{N0f8}(0.0)  Gray{N0f8}(0.0)  …  Gray{N0f8}(0.0)  Gray{N0f8}(0.0)\n",
       " Gray{N0f8}(0.0)  Gray{N0f8}(0.0)     Gray{N0f8}(0.0)  Gray{N0f8}(0.0)\n",
       " Gray{N0f8}(0.0)  Gray{N0f8}(0.0)     Gray{N0f8}(0.0)  Gray{N0f8}(0.0)\n",
       " Gray{N0f8}(0.0)  Gray{N0f8}(0.0)     Gray{N0f8}(0.0)  Gray{N0f8}(0.0)\n",
       " Gray{N0f8}(0.0)  Gray{N0f8}(0.0)     Gray{N0f8}(0.0)  Gray{N0f8}(0.0)"
      ]
     },
     "execution_count": 252,
     "metadata": {},
     "output_type": "execute_result"
    }
   ],
   "source": [
    "M0 = cellauto(100, 200, 73, 4)\n",
    "Gray.( M0 )"
   ]
  },
  {
   "cell_type": "code",
   "execution_count": 150,
   "metadata": {
    "scrolled": false
   },
   "outputs": [
    {
     "data": {
      "text/html": [
       "<table><tbody><tr><td style='text-align:center;vertical-align:middle; margin: 0.5em;border:1px #90999f solid;border-collapse:collapse'><img style='max-width: 100px; max-height:100px;display:inline' src=\"data:image/png;base64,iVBORw0KGgoAAAANSUhEUgAAAKAAAACgAQAAAACjtFqAAAAABGdBTUEAALGPC/xhBQAAACBjSFJNAAB6JgAAgIQAAPoAAACA6AAAdTAAAOpgAAA6mAAAF3CculE8AAAAAmJLR0QAAd2KE6QAAAAjSURBVEjH7cihDQAACAOwfcD/36JwOBRJK5uMyuKYAAAAfzQXEwA9NE9A+AAAAABJRU5ErkJg\"></td><td style='text-align:center;vertical-align:middle; margin: 0.5em;border:1px #90999f solid;border-collapse:collapse'><img style='max-width: 100px; max-height:100px;display:inline' src=\"data:image/png;base64,iVBORw0KGgoAAAANSUhEUgAAAKAAAACgAQAAAACjtFqAAAAABGdBTUEAALGPC/xhBQAAACBjSFJNAAB6JgAAgIQAAPoAAACA6AAAdTAAAOpgAAA6mAAAF3CculE8AAAAAmJLR0QAAd2KE6QAAAAlSURBVEjH7cghAQAACAOwN6B/W9QdDdjkkpocpJRSSimllPJNLptjCWGWy/2FAAAAAElFTkSuQmCC\"></td><td style='text-align:center;vertical-align:middle; margin: 0.5em;border:1px #90999f solid;border-collapse:collapse'><img style='max-width: 100px; max-height:100px;display:inline' src=\"data:image/png;base64,iVBORw0KGgoAAAANSUhEUgAAAKAAAACgAQAAAACjtFqAAAAABGdBTUEAALGPC/xhBQAAACBjSFJNAAB6JgAAgIQAAPoAAACA6AAAdTAAAOpgAAA6mAAAF3CculE8AAAAAmJLR0QAAd2KE6QAAAAjSURBVEjH7cihDQAACAOwfcD/36JwOBRJK5uMyuKYAAAAfzQXEwA9NE9A+AAAAABJRU5ErkJg\"></td><td style='text-align:center;vertical-align:middle; margin: 0.5em;border:1px #90999f solid;border-collapse:collapse'><img style='max-width: 100px; max-height:100px;display:inline' src=\"data:image/png;base64,iVBORw0KGgoAAAANSUhEUgAAAKAAAACgAQAAAACjtFqAAAAABGdBTUEAALGPC/xhBQAAACBjSFJNAAB6JgAAgIQAAPoAAACA6AAAdTAAAOpgAAA6mAAAF3CculE8AAAAAmJLR0QAAd2KE6QAAAAlSURBVEjH7cghAQAACAOwN6B/W9QdDdjkkpocpJRSSimllPJNLptjCWGWy/2FAAAAAElFTkSuQmCC\"></td><td style='text-align:center;vertical-align:middle; margin: 0.5em;border:1px #90999f solid;border-collapse:collapse'><img style='max-width: 100px; max-height:100px;display:inline' src=\"data:image/png;base64,iVBORw0KGgoAAAANSUhEUgAAAKAAAACgAQAAAACjtFqAAAAABGdBTUEAALGPC/xhBQAAACBjSFJNAAB6JgAAgIQAAPoAAACA6AAAdTAAAOpgAAA6mAAAF3CculE8AAAAAmJLR0QAAd2KE6QAAAAwSURBVEjHY2CAAX4GLIBCQYYPNBAcdeioQ0cdOurQUYeOEIeOglEwCkbBKBgF9AYA0H8n2ZpaIYYAAAAASUVORK5C\"></td><td style='text-align:center;vertical-align:middle; margin: 0.5em;border:1px #90999f solid;border-collapse:collapse'><img style='max-width: 100px; max-height:100px;display:inline' src=\"data:image/png;base64,iVBORw0KGgoAAAANSUhEUgAAAKAAAACgAQAAAACjtFqAAAAABGdBTUEAALGPC/xhBQAAACBjSFJNAAB6JgAAgIQAAPoAAACA6AAAdTAAAOpgAAA6mAAAF3CculE8AAAAAmJLR0QAAd2KE6QAAAAvSURBVEjHY2CAAX4GLIBSwQ/UFxx16KhDRx066tBRh44Uh46CUTAKRsEoGAX0BgB4SCoxH4U0IAAAAABJRU5ErkJg\"></td></tr><tr><td style='text-align:center;vertical-align:middle; margin: 0.5em;border:1px #90999f solid;border-collapse:collapse'><img style='max-width: 100px; max-height:100px;display:inline' src=\"data:image/png;base64,iVBORw0KGgoAAAANSUhEUgAAAKAAAACgAQAAAACjtFqAAAAABGdBTUEAALGPC/xhBQAAACBjSFJNAAB6JgAAgIQAAPoAAACA6AAAdTAAAOpgAAA6mAAAF3CculE8AAAAAmJLR0QAAd2KE6QAAAA5SURBVEjHY2CAAX4GLIA8Qf7/UIBgfaBUcNSdo+4cdeeoO0fdOerOUXeOunPUnaPuHHXnqDtp7E4A2LBUXEeWQbwAAAAASUVORK5C\"></td><td style='text-align:center;vertical-align:middle; margin: 0.5em;border:1px #90999f solid;border-collapse:collapse'><img style='max-width: 100px; max-height:100px;display:inline' src=\"data:image/png;base64,iVBORw0KGgoAAAANSUhEUgAAAKAAAACgAQAAAACjtFqAAAAABGdBTUEAALGPC/xhBQAAACBjSFJNAAB6JgAAgIQAAPoAAACA6AAAdTAAAOpgAAA6mAAAF3CculE8AAAAAmJLR0QAAd2KE6QAAAA5SURBVEjH7c6hEQAgEAPBdPD9d0kHYACFgsHtqUzUJqvKobuz+qz2aq8nJycnJycnJycnJyfnZ+cA2upZDGjBxf4AAAAASUVORK5C\"></td><td style='text-align:center;vertical-align:middle; margin: 0.5em;border:1px #90999f solid;border-collapse:collapse'><img style='max-width: 100px; max-height:100px;display:inline' src=\"data:image/png;base64,iVBORw0KGgoAAAANSUhEUgAAAKAAAACgAQAAAACjtFqAAAAABGdBTUEAALGPC/xhBQAAACBjSFJNAAB6JgAAgIQAAPoAAACA6AAAdTAAAOpgAAA6mAAAF3CculE8AAAAAmJLR0QAAd2KE6QAAACvSURBVEjHtdHBDQMhDERROpj+u5wOyGUDJJ7L8mVO6An5W2KM79EI5w41n7NvxriGK0TvcM3fN1Nc8zV3CeKar3UzxT3/KFGsJVPsWFS1ZIodi2qWkjGmEsRQMkWlEsRQMsWHfksUa8kUOxZVLWEMJVPcdJQo1pIpdiyqWsIYSqZ4klLmBmvJFDsWVS2ZYseif6T0ca8xlSCGkikqlSCGkikWUnr3EqubYseiDX/0ASE8t75y98+AAAAAAElFTkSuQmCC\"></td><td style='text-align:center;vertical-align:middle; margin: 0.5em;border:1px #90999f solid;border-collapse:collapse'><img style='max-width: 100px; max-height:100px;display:inline' src=\"data:image/png;base64,iVBORw0KGgoAAAANSUhEUgAAAKAAAACgAQAAAACjtFqAAAAABGdBTUEAALGPC/xhBQAAACBjSFJNAAB6JgAAgIQAAPoAAACA6AAAdTAAAOpgAAA6mAAAF3CculE8AAAAAmJLR0QAAd2KE6QAAACASURBVEjH7dCxDUMxDMRQbcD9t/wbJE1CCYgrH9LJlfGKI6Cq76MO7w55fR7+nhgd5xC9RAzRoRQdp36it4ghOpSi4+M4KWKIDqXo+DhOihiiQyk6Po6TIoboUIqOj+OkiCE6lKLj4zgpYogOpehnHCfF8Z4/YC0uLi4uLi4e8Q2ciszYlt06bgAAAABJRU5ErkJg\"></td><td style='text-align:center;vertical-align:middle; margin: 0.5em;border:1px #90999f solid;border-collapse:collapse'><img style='max-width: 100px; max-height:100px;display:inline' src=\"data:image/png;base64,iVBORw0KGgoAAAANSUhEUgAAAKAAAACgAQAAAACjtFqAAAAABGdBTUEAALGPC/xhBQAAACBjSFJNAAB6JgAAgIQAAPoAAACA6AAAdTAAAOpgAAA6mAAAF3CculE8AAAAAmJLR0QAAd2KE6QAAADGSURBVEjHtda5DQAhDERRd+D+u6QDlstgs0QejSM0yZN+hIidyuNyo9Z1Yo9a0HFfeem50aCiDz05EnJu6PRwenIk5DTI9Th6diTkNMj1OHp2JORckO+x9fRIyLkg32Pr6ZGQc0Khh+n5kZBzQqGH6fmRkHNAscfSgZGQc0Cxx9KBkZCzQ1ePqSMjIWeHrh5TR0ZCzgbdPYYOjYScDbp7DB0aCTlFfz26jo2EnG2rDx0bCTndRzkEgUZCTvn36Do4Ek5fEDZ+FOvGgJZ0OboAAAAASUVORK5C\"></td><td style='text-align:center;vertical-align:middle; margin: 0.5em;border:1px #90999f solid;border-collapse:collapse'><img style='max-width: 100px; max-height:100px;display:inline' src=\"data:image/png;base64,iVBORw0KGgoAAAANSUhEUgAAAKAAAACgAQAAAACjtFqAAAAABGdBTUEAALGPC/xhBQAAACBjSFJNAAB6JgAAgIQAAPoAAACA6AAAdTAAAOpgAAA6mAAAF3CculE8AAAAAmJLR0QAAd2KE6QAAABBSURBVEjHY2CAAX4GLIA8Qf7/UABn/P9AqSAtAMJ8bLaTJzjqzlF3jrpz1J2j7hx156g7R9056s5Rd466c8i6EwDw5ObYvfYxzgAAAABJRU5ErkJg\"></td></tr><tr><td style='text-align:center;vertical-align:middle; margin: 0.5em;border:1px #90999f solid;border-collapse:collapse'><img style='max-width: 100px; max-height:100px;display:inline' src=\"data:image/png;base64,iVBORw0KGgoAAAANSUhEUgAAAKAAAACgAQAAAACjtFqAAAAABGdBTUEAALGPC/xhBQAAACBjSFJNAAB6JgAAgIQAAPoAAACA6AAAdTAAAOpgAAA6mAAAF3CculE8AAAAAmJLR0QAAd2KE6QAAAAvSURBVEjHY2CAAX4GLIBCwQ/UFxx15qgzR5056sxRZw68M0fBKBgFo2AUjIJhCgD+DyQZGxNUKQAAAABJRU5ErkJg\"></td><td style='text-align:center;vertical-align:middle; margin: 0.5em;border:1px #90999f solid;border-collapse:collapse'><img style='max-width: 100px; max-height:100px;display:inline' src=\"data:image/png;base64,iVBORw0KGgoAAAANSUhEUgAAAKAAAACgAQAAAACjtFqAAAAABGdBTUEAALGPC/xhBQAAACBjSFJNAAB6JgAAgIQAAPoAAACA6AAAdTAAAOpgAAA6mAAAF3CculE8AAAAAmJLR0QAAd2KE6QAAAAySURBVEjHY2CAAX4GLIBCwf/UFxx15qgzR5056sxRZw68M0cFRwVHBUcFRwVHBYepIABJ6Csh7jrMFgAAAABJRU5ErkJg\"></td><td style='text-align:center;vertical-align:middle; margin: 0.5em;border:1px #90999f solid;border-collapse:collapse'><img style='max-width: 100px; max-height:100px;display:inline' src=\"data:image/png;base64,iVBORw0KGgoAAAANSUhEUgAAAKAAAACgAQAAAACjtFqAAAAABGdBTUEAALGPC/xhBQAAACBjSFJNAAB6JgAAgIQAAPoAAACA6AAAdTAAAOpgAAA6mAAAF3CculE8AAAAAmJLR0QAAd2KE6QAAAAvSURBVEjHY2CAAX4GLIBCwQ/UFxx15qgzR5056sxRZw68M0fBKBgFo2AUjIJhCgD+DyQZGxNUKQAAAABJRU5ErkJg\"></td><td style='text-align:center;vertical-align:middle; margin: 0.5em;border:1px #90999f solid;border-collapse:collapse'><img style='max-width: 100px; max-height:100px;display:inline' src=\"data:image/png;base64,iVBORw0KGgoAAAANSUhEUgAAAKAAAACgAQAAAACjtFqAAAAABGdBTUEAALGPC/xhBQAAACBjSFJNAAB6JgAAgIQAAPoAAACA6AAAdTAAAOpgAAA6mAAAF3CculE8AAAAAmJLR0QAAd2KE6QAAAA2SURBVEjH7c6hEQAgEASx6+D775IOQOEwDK+YrIzaZFc59IizH2v0o02bNm3avMRACCGEX+ICpXFM4dPLeRYAAAAASUVORK5C\"></td><td style='text-align:center;vertical-align:middle; margin: 0.5em;border:1px #90999f solid;border-collapse:collapse'><img style='max-width: 100px; max-height:100px;display:inline' src=\"data:image/png;base64,iVBORw0KGgoAAAANSUhEUgAAAKAAAACgAQAAAACjtFqAAAAABGdBTUEAALGPC/xhBQAAACBjSFJNAAB6JgAAgIQAAPoAAACA6AAAdTAAAOpgAAA6mAAAF3CculE8AAAAAmJLR0QAAd2KE6QAAADpSURBVEjHrdXBEcMwCERRdbD9d0kJiWSIBNYpH3kyTt6Fmc1ijxFH43IgmrWjbpMgml0mMdQtEohzymsSQ/nVieanEVXuHRgT0iSGEUWKBGJEkSJhqPLpwChXKhlDlasDrZwGrGuqBqxrun4zrGu6fkMcZU2fSBgqRxIbgXBYiiT+TITSGYl/h5gT3SvL8IhkryxE25HslWX4zeB8AMqnIbQ1yCKO3br/ccah+oKGOAvmJTsf3Qj1nPyChng0q761ISrdevD3zO7DWN7yjEHoWeRIGHq7Xs0j6O3KJWPo7colgxjlSiUD+AERCjvDjIZD+AAAAABJRU5ErkJg\"></td><td style='text-align:center;vertical-align:middle; margin: 0.5em;border:1px #90999f solid;border-collapse:collapse'><img style='max-width: 100px; max-height:100px;display:inline' src=\"data:image/png;base64,iVBORw0KGgoAAAANSUhEUgAAAKAAAACgAQAAAACjtFqAAAAABGdBTUEAALGPC/xhBQAAACBjSFJNAAB6JgAAgIQAAPoAAACA6AAAdTAAAOpgAAA6mAAAF3CculE8AAAAAmJLR0QAAd2KE6QAAAC0SURBVEjH7ZXBDcAgDAPZwPtv2Q2oihqUBF5cnoCqhvtYsmylNTtqmwNhf8qhdkoQ9mejxKB2lkD4qSxKDOq/lfCzY7GEQaV/BTSFoMSgWREsgdCsCJYwqPRVQAtXCBmDSrcCWrhCyBjMNVUBzDUdbwZzTcebwlTTYQmEyRItwxn0SiF159BbElIHoK9pSN059DWdM4S+pnNm0Nd0zhS6ms7KQpit8Ofu90N49/vd7yWwfL+/3jBORzZW0wYAAAAASUVORK5C\"></td></tr><tr><td style='text-align:center;vertical-align:middle; margin: 0.5em;border:1px #90999f solid;border-collapse:collapse'><img style='max-width: 100px; max-height:100px;display:inline' src=\"data:image/png;base64,iVBORw0KGgoAAAANSUhEUgAAAKAAAACgAQAAAACjtFqAAAAABGdBTUEAALGPC/xhBQAAACBjSFJNAAB6JgAAgIQAAPoAAACA6AAAdTAAAOpgAAA6mAAAF3CculE8AAAAAmJLR0QAAd2KE6QAAACzSURBVEjHtdDJDQAhEAPByYD8s+wM2AuW84XleaF+YKki6qXY3FlMuRztpcZ27OaP4v99js36WVTtdrEN/SKo0QHahn4R1OgA7YaqCGp0gHZDVQQ1OkD7oSKCGh2g/VARQY0O0GHoE0GNDtBh6BNBjQ7QcegVQY0O0HHoFUGNDtBp6BFBjQ7QaegRQY0O0HnoFkGNDtB56BZBjQ7QZYiEGh2gy1AO1OgAXYeQowN0Hcohxguk1MLAfJQ+kQAAAABJRU5ErkJg\"></td><td style='text-align:center;vertical-align:middle; margin: 0.5em;border:1px #90999f solid;border-collapse:collapse'><img style='max-width: 100px; max-height:100px;display:inline' src=\"data:image/png;base64,iVBORw0KGgoAAAANSUhEUgAAAKAAAACgAQAAAACjtFqAAAAABGdBTUEAALGPC/xhBQAAACBjSFJNAAB6JgAAgIQAAPoAAACA6AAAdTAAAOpgAAA6mAAAF3CculE8AAAAAmJLR0QAAd2KE6QAAABBSURBVEjHY2CAAX4GLIA8Qf7/MABnfaBUkBYAYdF/bLaTJTjqzlF3jrpz1J2j7hx156g7R9056s5Rd466c8i6EwD0pObYguH4BwAAAABJRU5ErkJg\"></td><td style='text-align:center;vertical-align:middle; margin: 0.5em;border:1px #90999f solid;border-collapse:collapse'><img style='max-width: 100px; max-height:100px;display:inline' src=\"data:image/png;base64,iVBORw0KGgoAAAANSUhEUgAAAKAAAACgAQAAAACjtFqAAAAABGdBTUEAALGPC/xhBQAAACBjSFJNAAB6JgAAgIQAAPoAAACA6AAAdTAAAOpgAAA6mAAAF3CculE8AAAAAmJLR0QAAd2KE6QAAACrSURBVEjHtdDBEYQwDARBZ6D8s9wMfBQcBlv7MVPSi+oHs9DafdHMfcPo/9PzhHG8vbvoJzQlUYxuShRzSRQrhh62loTRlSCakiietpYo5pIoVgy9bCoJoytBNCVRvG0qUcwlUawYOuwpccwlUTSlRvFlo4Qxl0SxYujbYtQhuhJEUxLF2WxnH3NJFCuGLhbuh2yjK0E0JVFMZjubmFkUK4ZmC2F0JYgF3/4D0RDu0UuEhnAAAAAASUVORK5C\"></td><td style='text-align:center;vertical-align:middle; margin: 0.5em;border:1px #90999f solid;border-collapse:collapse'><img style='max-width: 100px; max-height:100px;display:inline' src=\"data:image/png;base64,iVBORw0KGgoAAAANSUhEUgAAAKAAAACgAQAAAACjtFqAAAAABGdBTUEAALGPC/xhBQAAACBjSFJNAAB6JgAAgIQAAPoAAACA6AAAdTAAAOpgAAA6mAAAF3CculE8AAAAAmJLR0QAAd2KE6QAAACaSURBVEjHzc27EcNAAALR64D+u6QDO5J0HyIvmjER85Id45pG2G+oz7X7GWMqUTxL5piaFI+SC3iWOO4lN/AoFXAruYJ7qYFryR3cShVcSi7hWurgXHILl1IJp5JrOJda+JSKOJ7V8C65iDEEUSlEMYYgKoUoxhBEpRDFGIKoFKIYQxCVQhRjCKJSiGIMQVQKUYwhiPILOP4Qv00MKx6iLt3eAAAAAElFTkSuQmCC\"></td><td style='text-align:center;vertical-align:middle; margin: 0.5em;border:1px #90999f solid;border-collapse:collapse'><img style='max-width: 100px; max-height:100px;display:inline' src=\"data:image/png;base64,iVBORw0KGgoAAAANSUhEUgAAAKAAAACgAQAAAACjtFqAAAAABGdBTUEAALGPC/xhBQAAACBjSFJNAAB6JgAAgIQAAPoAAACA6AAAdTAAAOpgAAA6mAAAF3CculE8AAAAAmJLR0QAAd2KE6QAAABCSURBVEjHY2CAAX4GLIA8Qf7/UPDhP5xFqSAtANyi/9hsJ09w1J2j7hx156g7R9056s5Rd466c9Sdo+4cdeeQdScAXtHqXEhZ5AYAAAAASUVORK5C\"></td><td style='text-align:center;vertical-align:middle; margin: 0.5em;border:1px #90999f solid;border-collapse:collapse'><img style='max-width: 100px; max-height:100px;display:inline' src=\"data:image/png;base64,iVBORw0KGgoAAAANSUhEUgAAAKAAAACgAQAAAACjtFqAAAAABGdBTUEAALGPC/xhBQAAACBjSFJNAAB6JgAAgIQAAPoAAACA6AAAdTAAAOpgAAA6mAAAF3CculE8AAAAAmJLR0QAAd2KE6QAAAA4SURBVEjH7c6hDQAgEATB6+D775IOQJGQgILgZuWqSWaVQ3ez+lZ7nT/i5OTk5OTk5OTk5ORc5gBVFOqY9tRrkgAAAABJRU5ErkJg\"></td></tr></tbody></table>"
      ],
      "text/plain": [
       "4×6 Array{Array{Gray{Float64},2},2}:\n",
       " [Gray{Float64}(0.0) Gray{Float64}(0.0) … Gray{Float64}(0.0) Gray{Float64}(0.0); Gray{Float64}(0.0) Gray{Float64}(0.0) … Gray{Float64}(0.0) Gray{Float64}(0.0); … ; Gray{Float64}(0.0) Gray{Float64}(0.0) … Gray{Float64}(0.0) Gray{Float64}(0.0); Gray{Float64}(0.0) Gray{Float64}(0.0) … Gray{Float64}(0.0) Gray{Float64}(0.0)]  …  [Gray{Float64}(0.0) Gray{Float64}(0.0) … Gray{Float64}(0.0) Gray{Float64}(0.0); Gray{Float64}(0.0) Gray{Float64}(0.0) … Gray{Float64}(0.0) Gray{Float64}(0.0); … ; Gray{Float64}(0.0) Gray{Float64}(0.0) … Gray{Float64}(0.0) Gray{Float64}(0.0); Gray{Float64}(0.0) Gray{Float64}(0.0) … Gray{Float64}(0.0) Gray{Float64}(0.0)]\n",
       " [Gray{Float64}(0.0) Gray{Float64}(0.0) … Gray{Float64}(0.0) Gray{Float64}(0.0); Gray{Float64}(0.0) Gray{Float64}(0.0) … Gray{Float64}(0.0) Gray{Float64}(0.0); … ; Gray{Float64}(0.0) Gray{Float64}(0.0) … Gray{Float64}(0.0) Gray{Float64}(0.0); Gray{Float64}(0.0) Gray{Float64}(0.0) … Gray{Float64}(0.0) Gray{Float64}(0.0)]     [Gray{Float64}(0.0) Gray{Float64}(0.0) … Gray{Float64}(0.0) Gray{Float64}(0.0); Gray{Float64}(0.0) Gray{Float64}(0.0) … Gray{Float64}(0.0) Gray{Float64}(0.0); … ; Gray{Float64}(0.0) Gray{Float64}(0.0) … Gray{Float64}(0.0) Gray{Float64}(0.0); Gray{Float64}(0.0) Gray{Float64}(0.0) … Gray{Float64}(0.0) Gray{Float64}(0.0)]\n",
       " [Gray{Float64}(0.0) Gray{Float64}(0.0) … Gray{Float64}(0.0) Gray{Float64}(0.0); Gray{Float64}(0.0) Gray{Float64}(0.0) … Gray{Float64}(0.0) Gray{Float64}(0.0); … ; Gray{Float64}(0.0) Gray{Float64}(0.0) … Gray{Float64}(0.0) Gray{Float64}(0.0); Gray{Float64}(0.0) Gray{Float64}(0.0) … Gray{Float64}(0.0) Gray{Float64}(0.0)]     [Gray{Float64}(0.0) Gray{Float64}(0.0) … Gray{Float64}(0.0) Gray{Float64}(0.0); Gray{Float64}(0.0) Gray{Float64}(0.0) … Gray{Float64}(0.0) Gray{Float64}(0.0); … ; Gray{Float64}(0.0) Gray{Float64}(0.0) … Gray{Float64}(0.0) Gray{Float64}(0.0); Gray{Float64}(0.0) Gray{Float64}(0.0) … Gray{Float64}(0.0) Gray{Float64}(0.0)]\n",
       " [Gray{Float64}(0.0) Gray{Float64}(0.0) … Gray{Float64}(0.0) Gray{Float64}(0.0); Gray{Float64}(0.0) Gray{Float64}(0.0) … Gray{Float64}(0.0) Gray{Float64}(0.0); … ; Gray{Float64}(0.0) Gray{Float64}(0.0) … Gray{Float64}(0.0) Gray{Float64}(0.0); Gray{Float64}(0.0) Gray{Float64}(0.0) … Gray{Float64}(0.0) Gray{Float64}(0.0)]     [Gray{Float64}(0.0) Gray{Float64}(0.0) … Gray{Float64}(0.0) Gray{Float64}(0.0); Gray{Float64}(0.0) Gray{Float64}(0.0) … Gray{Float64}(0.0) Gray{Float64}(0.0); … ; Gray{Float64}(0.0) Gray{Float64}(0.0) … Gray{Float64}(0.0) Gray{Float64}(0.0); Gray{Float64}(0.0) Gray{Float64}(0.0) … Gray{Float64}(0.0) Gray{Float64}(0.0)]"
      ]
     },
     "execution_count": 150,
     "metadata": {},
     "output_type": "execute_result"
    }
   ],
   "source": [
    "Arr = cellauto.(40, 40, [0:23;], 2);\n",
    "Imgs = [ Gray.(a) for a in Arr ]\n",
    "reshape(Imgs, 4,6)"
   ]
  },
  {
   "cell_type": "code",
   "execution_count": 198,
   "metadata": {},
   "outputs": [
    {
     "data": {
      "text/html": [
       "<table><tbody><tr><td style='text-align:center;vertical-align:middle; margin: 0.5em;border:1px #90999f solid;border-collapse:collapse'><img style='max-width: 100px; max-height:100px;display:inline' src=\"data:image/png;base64,iVBORw0KGgoAAAANSUhEUgAAAKAAAACgAQAAAACjtFqAAAAABGdBTUEAALGPC/xhBQAAACBjSFJNAAB6JgAAgIQAAPoAAACA6AAAdTAAAOpgAAA6mAAAF3CculE8AAAAAmJLR0QAAd2KE6QAAAA7SURBVEjH7cqxDQAwCANBb+D9t2QDB9KmJOV/g3xC8SSlHFXZcWmJvW+z5/bHGt9AEARBEARBEAS/4gGclMUd9Z3VPAAAAABJRU5ErkJg\"></td><td style='text-align:center;vertical-align:middle; margin: 0.5em;border:1px #90999f solid;border-collapse:collapse'><img style='max-width: 100px; max-height:100px;display:inline' src=\"data:image/png;base64,iVBORw0KGgoAAAANSUhEUgAAAKAAAACgAQAAAACjtFqAAAAABGdBTUEAALGPC/xhBQAAACBjSFJNAAB6JgAAgIQAAPoAAACA6AAAdTAAAOpgAAA6mAAAF3CculE8AAAAAmJLR0QAAd2KE6QAAAAsSURBVEjH7cgBCQAwEMSwczD/Ls/B9jAZHygUktP7S9vMMkEIIYQQQgjhPnxaqFNqbKWpgwAAAABJRU5ErkJg\"></td><td style='text-align:center;vertical-align:middle; margin: 0.5em;border:1px #90999f solid;border-collapse:collapse'><img style='max-width: 100px; max-height:100px;display:inline' src=\"data:image/png;base64,iVBORw0KGgoAAAANSUhEUgAAAKAAAACgAQAAAACjtFqAAAAABGdBTUEAALGPC/xhBQAAACBjSFJNAAB6JgAAgIQAAPoAAACA6AAAdTAAAOpgAAA6mAAAF3CculE8AAAAAmJLR0QAAd2KE6QAAACBSURBVEjH7dPBCUAhDAPQbJD9t+wG/VbwoP5bUy8qKPIoJhdBJ42gG8zdHE5DEkHAYXG0ZTGQx7bjhni/TfSBNO5JeTxSFALckhR4oKgG5yRIcEnSYHlRiHBKEuEr+opWFFXiSIISR5ISX9GSohAj148gwKqicvyjNLIA7y56y/oAdCi9JMWVFPgAAAAASUVORK5C\"></td><td style='text-align:center;vertical-align:middle; margin: 0.5em;border:1px #90999f solid;border-collapse:collapse'><img style='max-width: 100px; max-height:100px;display:inline' src=\"data:image/png;base64,iVBORw0KGgoAAAANSUhEUgAAAKAAAACgAQAAAACjtFqAAAAABGdBTUEAALGPC/xhBQAAACBjSFJNAAB6JgAAgIQAAPoAAACA6AAAdTAAAOpgAAA6mAAAF3CculE8AAAAAmJLR0QAAd2KE6QAAACOSURBVEjH7dDLCQAxCABRO7D/Lu0gG/NxzV4zsBeJIDwCA4pKMxUf6aMmzdcl9qXmIzJG7Rp9jY6OD30AVFudXQLQ1+jsEoHRmSUEo7PvQWB01j0IjM66B4LRmfcg8O3MeyDY0qNQU4nCT4fBs8Pg2YHw6EB4dCjMHQpzB8PUwTB1OHw7HEphYWFh4c/4AAbq3Ih0hD6KAAAAAElFTkSuQmCC\"></td><td style='text-align:center;vertical-align:middle; margin: 0.5em;border:1px #90999f solid;border-collapse:collapse'><img style='max-width: 100px; max-height:100px;display:inline' src=\"data:image/png;base64,iVBORw0KGgoAAAANSUhEUgAAAKAAAACgAQAAAACjtFqAAAAABGdBTUEAALGPC/xhBQAAACBjSFJNAAB6JgAAgIQAAPoAAACA6AAAdTAAAOpgAAA6mAAAF3CculE8AAAAAmJLR0QAAd2KE6QAAACSSURBVEjH7dNBDsAgCETRuQH3vyU3oEJMW1NXMnTFqvWZ+ImJUIGZmsj4EVOYqiKJAt+xAbHvK2QRfuw4PkpqsUqjuM+Sf6F5XErY5Q/wl0FBwE+JgD3oU+LgWgIHlxIJe9DCQUHDV4mGtYMS8S4xcZaoOEtcjBIZo8RGL7HR3xUdpQB3l5xGKcDdJacRjY1neAHgisRn5kHe+AAAAABJRU5ErkJg\"></td><td style='text-align:center;vertical-align:middle; margin: 0.5em;border:1px #90999f solid;border-collapse:collapse'><img style='max-width: 100px; max-height:100px;display:inline' src=\"data:image/png;base64,iVBORw0KGgoAAAANSUhEUgAAAKAAAACgAQAAAACjtFqAAAAABGdBTUEAALGPC/xhBQAAACBjSFJNAAB6JgAAgIQAAPoAAACA6AAAdTAAAOpgAAA6mAAAF3CculE8AAAAAmJLR0QAAd2KE6QAAABJSURBVEjH7c2xDQAxCENRNmD/Lb2BA0mkDMA1J31cYD0KIqNjWSmfftYE1alx7kP1GKMrF7W759jzMPvd9ygQBEEQBEEQBP+BC9c43P8jeFXOAAAAAElFTkSuQmCC\"></td></tr><tr><td style='text-align:center;vertical-align:middle; margin: 0.5em;border:1px #90999f solid;border-collapse:collapse'><img style='max-width: 100px; max-height:100px;display:inline' src=\"data:image/png;base64,iVBORw0KGgoAAAANSUhEUgAAAKAAAACgAQAAAACjtFqAAAAABGdBTUEAALGPC/xhBQAAACBjSFJNAAB6JgAAgIQAAPoAAACA6AAAdTAAAOpgAAA6mAAAF3CculE8AAAAAmJLR0QAAd2KE6QAAAF6SURBVEjHpZbRjcMwDEO1gfbfUhvoLD7Z1+/QKRrgpagcWqQdEZnZNVfW+aqI8/Fg9sFRM7LOPfpgF+ZgjVSVM1zIv2okVfiBA5k8D6fIeVg2nMmr0pl8SHYbavLJraYI87cgEp9KiFwob0JJnOc+Itev7p+hJM65RuRoiWxCSSwaNO0awYIaQ1tN22sEB973n0ezalvMgphAfaumpb1MyOrNw23aEdmDqgSmaRUCHhwTJK7NJ5EJ5SRcS9Nu1znw9AC1KKSVs2Fu4FGIlTOhVJZrCep4PfIdZudaVk3bVDchxsKwrFy58BpLhn057UFqEAZFTpcNMVZfw2IOD/57AcPGfSUDspUoVsewhLcLtZWwfMx7QsCDort82k/eYn6HtKxiVQ0WpVS0IFvJBmCoF2yYtAMB2PdY5sFYNZpDVAThb8FEDQJQkVo2RAp6t/rlnwUzduV6g2V3QwdyOiH+lSq7GzrwHk502Ov3QhbcvTN12KuqnxPPV/gHj1GIKYkBvC0AAAAASUVORK5C\"></td><td style='text-align:center;vertical-align:middle; margin: 0.5em;border:1px #90999f solid;border-collapse:collapse'><img style='max-width: 100px; max-height:100px;display:inline' src=\"data:image/png;base64,iVBORw0KGgoAAAANSUhEUgAAAKAAAACgAQAAAACjtFqAAAAABGdBTUEAALGPC/xhBQAAACBjSFJNAAB6JgAAgIQAAPoAAACA6AAAdTAAAOpgAAA6mAAAF3CculE8AAAAAmJLR0QAAd2KE6QAAAA5SURBVEjH7chBEQAgEMPAOqh/l3VQDiwAv+SVWTWN1MqZZCvVJWq2iX2wG/MCA4IgCIIgCIIg+A8XZs7TngLWz8MAAAAASUVORK5C\"></td><td style='text-align:center;vertical-align:middle; margin: 0.5em;border:1px #90999f solid;border-collapse:collapse'><img style='max-width: 100px; max-height:100px;display:inline' src=\"data:image/png;base64,iVBORw0KGgoAAAANSUhEUgAAAKAAAACgAQAAAACjtFqAAAAABGdBTUEAALGPC/xhBQAAACBjSFJNAAB6JgAAgIQAAPoAAACA6AAAdTAAAOpgAAA6mAAAF3CculE8AAAAAmJLR0QAAd2KE6QAAAC2SURBVEjH7dCxEYQwDERRdaD+u1QHOoSEvcZE2uQCJ8bzYebNIioqJn4d6uJiHncyxkUtmlwPi0PoGGe8kHD8xtioUyonPuRilke6MaMjSunQUVGaDhXFppROLqIiSOXQUUFaHCKKDamcWsREkMqho64SOP2Y7ZGWRf24SMuidlSUXk43VkvptagdQdoWNaOCtDnNONr4x7ioGUHaF/WigvThtOJs9rWoF8/2s/1sP9vP9n/Z/gMPp5roghraAgAAAABJRU5ErkJg\"></td><td style='text-align:center;vertical-align:middle; margin: 0.5em;border:1px #90999f solid;border-collapse:collapse'><img style='max-width: 100px; max-height:100px;display:inline' src=\"data:image/png;base64,iVBORw0KGgoAAAANSUhEUgAAAKAAAACgAQAAAACjtFqAAAAABGdBTUEAALGPC/xhBQAAACBjSFJNAAB6JgAAgIQAAPoAAACA6AAAdTAAAOpgAAA6mAAAF3CculE8AAAAAmJLR0QAAd2KE6QAAACUSURBVEjHtc2xEcAACMNANvD+W7IBSWrRidzR+ClUqU6lM+mennrHexJ7MvWN7vp+k7K4dFojOx7Z0Rh2PLLjkR2NS0dj2PHIjsal45EdjWHHIzsal47GsOORHY/saFw6B4jOAaLjkR2P7GgMOxqXjkd2PLKjMex4ZEfj0tEYdjyy45EdjUtHY9g5wL7H+gH7HuseH5fSDgl0G001AAAAAElFTkSuQmCC\"></td><td style='text-align:center;vertical-align:middle; margin: 0.5em;border:1px #90999f solid;border-collapse:collapse'><img style='max-width: 100px; max-height:100px;display:inline' src=\"data:image/png;base64,iVBORw0KGgoAAAANSUhEUgAAAKAAAACgAQAAAACjtFqAAAAABGdBTUEAALGPC/xhBQAAACBjSFJNAAB6JgAAgIQAAPoAAACA6AAAdTAAAOpgAAA6mAAAF3CculE8AAAAAmJLR0QAAd2KE6QAAAFHSURBVEjHrZZRjsQwCEO5ge9/S27A2qbd6T+WJlXyNCoEx6SFqekpoDmmwRVnR4juHlKNmuKqrrAYoRoDhezpBTfIjJkyGEP5M+TcITNmyoyl/EldmiNUVfn2LkbglDu4Q1WVT8oFTrmDCUDJRCSmbQB3CJVVdZB6OhUVgLVrDmWPVfMGWVytweSt2qp5hO21PcZHPcLdILTWibVq/RzaE3S2DMWpHMvpHTpbWcuq+U8BOHa/Y6gkE4BWrRwDqksCWrVeqyrzAITdv6qVMg/A+lh1OgR/VkWF4MeqjBeC/1blpDPwZ1VMCuK16gApWK9VddBCEI9V3V1ScFXrcUvJwFrVehtWBuJzU8dg+VKeeV0QgP4qwTbqGNTNV9uoUxC+lN2ogxDwDr7JX6FaacuznYP6gtIvCNVK6YRKQrXpLnQSqk3PROEfKfIt69SWSXEAAAAASUVORK5C\"></td><td style='text-align:center;vertical-align:middle; margin: 0.5em;border:1px #90999f solid;border-collapse:collapse'><img style='max-width: 100px; max-height:100px;display:inline' src=\"data:image/png;base64,iVBORw0KGgoAAAANSUhEUgAAAKAAAACgAQAAAACjtFqAAAAABGdBTUEAALGPC/xhBQAAACBjSFJNAAB6JgAAgIQAAPoAAACA6AAAdTAAAOpgAAA6mAAAF3CculE8AAAAAmJLR0QAAd2KE6QAAABMSURBVEjH7dDBCcAADAJAN8j+W7qBVegG9VMwhBAuDyGgXNQJngK9Eh8Rbl/u6MpoYHJeVAvTbUxOG/3nOianjRwOh8PhcDgcDn+NDyCT+7GcKdRJAAAAAElFTkSuQmCC\"></td></tr><tr><td style='text-align:center;vertical-align:middle; margin: 0.5em;border:1px #90999f solid;border-collapse:collapse'><img style='max-width: 100px; max-height:100px;display:inline' src=\"data:image/png;base64,iVBORw0KGgoAAAANSUhEUgAAAKAAAACgAQAAAACjtFqAAAAABGdBTUEAALGPC/xhBQAAACBjSFJNAAB6JgAAgIQAAPoAAACA6AAAdTAAAOpgAAA6mAAAF3CculE8AAAAAmJLR0QAAd2KE6QAAACCSURBVEjH7c6xFcAgCEXRvwH7b8kGxIQqB7qHlTai1+IhmVnI15Cbe4Rkovi+cyh8fbxXiPnzjdWxFIjK4x/H2HUgHrymuvgAdh2Id8275giqi2PsOhAPXlNdnGLXgbhjTeviGGuHY+1wrB2OtcOxdjjWzgCWzgD6PNYOR9+AujiHD5+bJX9GI2XHAAAAAElFTkSuQmCC\"></td><td style='text-align:center;vertical-align:middle; margin: 0.5em;border:1px #90999f solid;border-collapse:collapse'><img style='max-width: 100px; max-height:100px;display:inline' src=\"data:image/png;base64,iVBORw0KGgoAAAANSUhEUgAAAKAAAACgAQAAAACjtFqAAAAABGdBTUEAALGPC/xhBQAAACBjSFJNAAB6JgAAgIQAAPoAAACA6AAAdTAAAOpgAAA6mAAAF3CculE8AAAAAmJLR0QAAd2KE6QAAABRSURBVEjH7c3RDcBACAJQNmD/LdmA4vWjA3j9w2iCLyZChk0TFkCRArFEeFJKQSsbtMX8SHoxMyd75Ic+6JuYHtRN9A+oYrFYLBaLxWKxePABx7VCTnqftI8AAAAASUVORK5C\"></td><td style='text-align:center;vertical-align:middle; margin: 0.5em;border:1px #90999f solid;border-collapse:collapse'><img style='max-width: 100px; max-height:100px;display:inline' src=\"data:image/png;base64,iVBORw0KGgoAAAANSUhEUgAAAKAAAACgAQAAAACjtFqAAAAABGdBTUEAALGPC/xhBQAAACBjSFJNAAB6JgAAgIQAAPoAAACA6AAAdTAAAOpgAAA6mAAAF3CculE8AAAAAmJLR0QAAd2KE6QAAAEKSURBVEjHrZVRDsMwCEO5Afe/pW+QQQoNtPuqyaRkfapmyTaLYC3YUlUshegS20loyzb/ApVlm73BQ1UD9vuuZFr7PRbCJfzBD994qO5FWAKEEglRLJFU4qBqscQPVyLhNqRbIjRUfVrCwwy/WMJC1VayfbAwkyuWgIZXctUSHu7cmiXCwiu3ZgkN5aiFJUOwlWwIPks2AF8lG4B4lGwAZnJpiQxAFK19b/EwVdKS2x0Cnkko/4AcPJMQliyhYc3uzyx/gWds75LR8L75TsmEhpnYKRkP0T6StzYDtS1/3i5RsC/cCY7BVJuEKPsQjJLJJIzkMAgjubdHBMSlhUEYk9CVSBjlQlP6An/y1fqLhhlxfwAAAABJRU5ErkJg\"></td><td style='text-align:center;vertical-align:middle; margin: 0.5em;border:1px #90999f solid;border-collapse:collapse'><img style='max-width: 100px; max-height:100px;display:inline' src=\"data:image/png;base64,iVBORw0KGgoAAAANSUhEUgAAAKAAAACgAQAAAACjtFqAAAAABGdBTUEAALGPC/xhBQAAACBjSFJNAAB6JgAAgIQAAPoAAACA6AAAdTAAAOpgAAA6mAAAF3CculE8AAAAAmJLR0QAAd2KE6QAAAEXSURBVEjHrZXRjcMwDEO5gfbfkhuwpOzeod9m0QTBUwAqkiiDlGYG/vnGXMQjBGE2foA48vUOR7AQFB0xkXdoah1ZSQ470oBMOSwyCbs6BTip8RaarnBeeofOfrbQcMT5TwVqUorRvkA2YIbLpUB6B3ZgeuZC5391nmGGa7PPKLAFtdnnA9SCmM2ex6sdyNM1Hq9WoDV0t8k392dojXSN16sViG0Zeb3agTG/jUUCNRgRG4v6juw7jPkZN/yhAlw0/10rwDg2mxpNGJRCN+Hq7Klag0eHmjYUB2UYM6gMs6fQhZYhpgsF/MxXASIHlLowOxqoQuwJMFUonv1XhHui/FirAM+26sKz/6pwzv6rwuvYLtQ6tgk/cSDKthb12VIAAAAASUVORK5C\"></td><td style='text-align:center;vertical-align:middle; margin: 0.5em;border:1px #90999f solid;border-collapse:collapse'><img style='max-width: 100px; max-height:100px;display:inline' src=\"data:image/png;base64,iVBORw0KGgoAAAANSUhEUgAAAKAAAACgAQAAAACjtFqAAAAABGdBTUEAALGPC/xhBQAAACBjSFJNAAB6JgAAgIQAAPoAAACA6AAAdTAAAOpgAAA6mAAAF3CculE8AAAAAmJLR0QAAd2KE6QAAAGSSURBVEjHrZeBkcMwCATpgP67pANyeygVnDVJbK88j4Tg4Ku6tnq6emt0w1OlcHb5zPZqXr8zKWz9eV1koMWmeU6hH1pjdTvLZAx5YA8tp4y3gF9CaAdrouUVm91KYeHVmVs8ZvVWDNeuHgzKIdpADrVmLV0L100BNRVDwoFY9crXUyksHxYG7uqTDCErJ8JIBxtdHJJBokDGnKQYrQ+gTBAB4CUe9gPoxFJS3ddv5dDhddLC8CmGsPEywjJWFLYSQ7ysw/J4MpPDJqfK42TGIpDBIagwyD5ecoWQU6uzNNb+J4AJ1KnpuhcVaP8JYAYVBecS3DEvuTJICrB6bJBZ9Ql0drk8EbP7Bdx11budNAZz6Gbi9JTg2smhBEqebdtz8XP9y2C/KMDiXrGOoZP/CuprprpS6OTf63IsWX4pg4x1Qe3/W/UB7OvunPz9hDCFV+0tBqeAOSQG3Oz+y/PkcC1Rgxhcd1IxfDWJ5szl2R11CK2i4+52fIJTKbSwyMP8x+D2/uIigy+4SFn3O9dRJ/AHmVu8qF9socoAAAAASUVORK5C\"></td><td style='text-align:center;vertical-align:middle; margin: 0.5em;border:1px #90999f solid;border-collapse:collapse'><img style='max-width: 100px; max-height:100px;display:inline' src=\"data:image/png;base64,iVBORw0KGgoAAAANSUhEUgAAAKAAAACgAQAAAACjtFqAAAAABGdBTUEAALGPC/xhBQAAACBjSFJNAAB6JgAAgIQAAPoAAACA6AAAdTAAAOpgAAA6mAAAF3CculE8AAAAAmJLR0QAAd2KE6QAAABUSURBVEjH7Y6hAQAxDALZgP23ZAM+iWrfNhIch+AAyyZlsWKDqLxBSl01E9HrBpyjmRrJG/A4qtJP7/A8mizA39EKjGc84xnPeMYznvGMZzzjecMPx+vW5hJ/QuYAAAAASUVORK5C\"></td></tr><tr><td style='text-align:center;vertical-align:middle; margin: 0.5em;border:1px #90999f solid;border-collapse:collapse'><img style='max-width: 100px; max-height:100px;display:inline' src=\"data:image/png;base64,iVBORw0KGgoAAAANSUhEUgAAAKAAAACgAQAAAACjtFqAAAAABGdBTUEAALGPC/xhBQAAACBjSFJNAAB6JgAAgIQAAPoAAACA6AAAdTAAAOpgAAA6mAAAF3CculE8AAAAAmJLR0QAAd2KE6QAAAGSSURBVEjHrZfBlQMxCEPpgP67VAesJOzZu5VLZvKZFxIEwqkq1Ax6+ILipasrhD01KMyJiiCG3SAapmCUb3piWPpgIiZgFM0HYsgEYBX0nRllLoZjyELAQSgKlyaEqnJJN8aonH4IUshSSDuWQwl49wuo6vaGR6RzWLehxuVpIIcWjhe+0a06I4cSToqV5JN4iKGFK48X5Vv1UmjhpBybdVY9xNBGwtA4pdSrFJanqtsd0X4shiucK3NSIocWruSpm7I+NZ/hCqdPx6bsawLvcMugFlNHyAbuFAfQW0X3bIa1gRhaODWYc9oGYmjh1Ahlu67uq2YAVd1a87dd91EzgN6mLjbWrudMcQAtXK9uTggghr07uvv4fp2ZCOAatbaTfX/+l/473AWto4QqIn+tHGpgWVrnUuJv6b9DD6y10wjg+l8Ed2CtXXvp9zfF73Btrw09rjmsc3oy9LhODNeox2MLnyKQwzoLdLXr/9PaO1yj1rH5aPed1t7hCqdj89HuF/D8e8CnXQ7XqMfHh6tdCP8AaiX+SGOxs/UAAAAASUVORK5C\"></td><td style='text-align:center;vertical-align:middle; margin: 0.5em;border:1px #90999f solid;border-collapse:collapse'><img style='max-width: 100px; max-height:100px;display:inline' src=\"data:image/png;base64,iVBORw0KGgoAAAANSUhEUgAAAKAAAACgAQAAAACjtFqAAAAABGdBTUEAALGPC/xhBQAAACBjSFJNAAB6JgAAgIQAAPoAAACA6AAAdTAAAOpgAAA6mAAAF3CculE8AAAAAmJLR0QAAd2KE6QAAABKSURBVEjH7crBEQAxCEJROvj9d0kHrEkL5rIzHMThqRyUSMSJiayZHSpgGLfPB463yN1ocuop3iMX5zbtMVIsFovFYrFYLBb/hh9ynV8jvWZvqQAAAABJRU5ErkJg\"></td><td style='text-align:center;vertical-align:middle; margin: 0.5em;border:1px #90999f solid;border-collapse:collapse'><img style='max-width: 100px; max-height:100px;display:inline' src=\"data:image/png;base64,iVBORw0KGgoAAAANSUhEUgAAAKAAAACgAQAAAACjtFqAAAAABGdBTUEAALGPC/xhBQAAACBjSFJNAAB6JgAAgIQAAPoAAACA6AAAdTAAAOpgAAA6mAAAF3CculE8AAAAAmJLR0QAAd2KE6QAAAD4SURBVEjHpdXBjcMwDETR6WD675IdcEUqWMAe3/4hgPQQyMKXo6jlqq5yS+UZW4LoAzM92i6VPB+GAzPtmZ5B13kiRM/ys3jP1PtMirv8qbA9zuB8B6Nrp3r0gJg9XBQdPYRR0WNPE6Gjx54mQmUPjJ89IGaP2TxDRw9hVPRoUXT02M0jVPbA6K8eEBU9dvMIHT2EcZ707HF/xQTPRf3qcW9vgpPi1QPjbDZ6QFS9e/xub4B+/DX/nyZCRY97mgQdPe7tTVDZA+NnD4jZ415WBB09hFHRY29vhI4e+9IilKIHRn/1gKjocTdPMHsIY/ZoUXT02M0T/AON5TB/Hx8c/gAAAABJRU5ErkJg\"></td><td style='text-align:center;vertical-align:middle; margin: 0.5em;border:1px #90999f solid;border-collapse:collapse'><img style='max-width: 100px; max-height:100px;display:inline' src=\"data:image/png;base64,iVBORw0KGgoAAAANSUhEUgAAAKAAAACgAQAAAACjtFqAAAAABGdBTUEAALGPC/xhBQAAACBjSFJNAAB6JgAAgIQAAPoAAACA6AAAdTAAAOpgAAA6mAAAF3CculE8AAAAAmJLR0QAAd2KE6QAAADBSURBVEjHrdDBDYNQEANRd+D+u6QD5wcFRXNmfAD0OKw02dWrabLuvHqd5SUe3b0D53kZ2JwfZ+2+Hw7ut3Pyf+gdPuuXn0Mv8Tn0+1Lw2e4eUbDoMQXZIwoWPaYge0TBoscUZI8oWPSYguwRBYseU5A9omDRYwqyRxQsekxB9oiCRY8pyB5RsOgxBdkjChY9piB7RMGixxRkjyhY9JiC7BEFix5TkD2iYNFjCrJHFCx6zEH0iIJBjylY9IiC7DEDP2D/e/ZWINa7AAAAAElFTkSuQmCC\"></td><td style='text-align:center;vertical-align:middle; margin: 0.5em;border:1px #90999f solid;border-collapse:collapse'><img style='max-width: 100px; max-height:100px;display:inline' src=\"data:image/png;base64,iVBORw0KGgoAAAANSUhEUgAAAKAAAACgAQAAAACjtFqAAAAABGdBTUEAALGPC/xhBQAAACBjSFJNAAB6JgAAgIQAAPoAAACA6AAAdTAAAOpgAAA6mAAAF3CculE8AAAAAmJLR0QAAd2KE6QAAACUSURBVEjH7ZHBDcMwDAO5gfbfkhuwlNIGSPJkXoVswDLOQc6iAbJEQoUqV7oihJ7yToJYrkUxhZC8k48oj5bF0D/vYVF/Ya3XGGpWjOuQMYaY2i0II0MMMSK/XrtG5rMQ1ty3czhQkxx2ttPAT/QC/DZxipDDue9FhBjiLiqmEE9RDDfPzXPz3Dw3z81z89w8/yjPD+vqkf+wJy4HAAAAAElFTkSuQmCC\"></td><td style='text-align:center;vertical-align:middle; margin: 0.5em;border:1px #90999f solid;border-collapse:collapse'><img style='max-width: 100px; max-height:100px;display:inline' src=\"data:image/png;base64,iVBORw0KGgoAAAANSUhEUgAAAKAAAACgAQAAAACjtFqAAAAABGdBTUEAALGPC/xhBQAAACBjSFJNAAB6JgAAgIQAAPoAAACA6AAAdTAAAOpgAAA6mAAAF3CculE8AAAAAmJLR0QAAd2KE6QAAABNSURBVEjH7c6xDQAwDAJBNmD/LdnAcVymTZpIT2FZNJyUklRRKY6txLosnerM2XG/uS/TQ3M6M/SgPIdelDhx4sSJEydOnDhx4vzUuQA4p7B2Tfzn3AAAAABJRU5ErkJg\"></td></tr></tbody></table>"
      ],
      "text/plain": [
       "4×6 Array{Array{Gray{Float64},2},2}:\n",
       " [Gray{Float64}(1.0) Gray{Float64}(1.0) … Gray{Float64}(0.0) Gray{Float64}(0.0); Gray{Float64}(1.0) Gray{Float64}(1.0) … Gray{Float64}(0.0) Gray{Float64}(0.0); … ; Gray{Float64}(0.0) Gray{Float64}(0.0) … Gray{Float64}(0.0) Gray{Float64}(0.0); Gray{Float64}(0.0) Gray{Float64}(0.0) … Gray{Float64}(0.0) Gray{Float64}(0.0)]  …  [Gray{Float64}(0.0) Gray{Float64}(0.0) … Gray{Float64}(1.0) Gray{Float64}(1.0); Gray{Float64}(0.0) Gray{Float64}(0.0) … Gray{Float64}(1.0) Gray{Float64}(1.0); … ; Gray{Float64}(0.0) Gray{Float64}(0.0) … Gray{Float64}(0.0) Gray{Float64}(0.0); Gray{Float64}(0.0) Gray{Float64}(0.0) … Gray{Float64}(0.0) Gray{Float64}(0.0)]\n",
       " [Gray{Float64}(0.0) Gray{Float64}(0.0) … Gray{Float64}(0.0) Gray{Float64}(0.0); Gray{Float64}(0.0) Gray{Float64}(0.0) … Gray{Float64}(0.0) Gray{Float64}(0.0); … ; Gray{Float64}(0.0) Gray{Float64}(0.0) … Gray{Float64}(0.0) Gray{Float64}(0.0); Gray{Float64}(0.0) Gray{Float64}(0.0) … Gray{Float64}(0.0) Gray{Float64}(0.0)]     [Gray{Float64}(1.0) Gray{Float64}(1.0) … Gray{Float64}(0.0) Gray{Float64}(0.0); Gray{Float64}(1.0) Gray{Float64}(1.0) … Gray{Float64}(0.0) Gray{Float64}(0.0); … ; Gray{Float64}(0.0) Gray{Float64}(0.0) … Gray{Float64}(0.0) Gray{Float64}(0.0); Gray{Float64}(0.0) Gray{Float64}(0.0) … Gray{Float64}(0.0) Gray{Float64}(0.0)]\n",
       " [Gray{Float64}(0.0) Gray{Float64}(0.0) … Gray{Float64}(1.0) Gray{Float64}(1.0); Gray{Float64}(0.0) Gray{Float64}(0.0) … Gray{Float64}(1.0) Gray{Float64}(1.0); … ; Gray{Float64}(0.0) Gray{Float64}(0.0) … Gray{Float64}(0.0) Gray{Float64}(0.0); Gray{Float64}(0.0) Gray{Float64}(0.0) … Gray{Float64}(0.0) Gray{Float64}(0.0)]     [Gray{Float64}(0.0) Gray{Float64}(0.0) … Gray{Float64}(0.0) Gray{Float64}(0.0); Gray{Float64}(0.0) Gray{Float64}(0.0) … Gray{Float64}(0.0) Gray{Float64}(0.0); … ; Gray{Float64}(0.0) Gray{Float64}(0.0) … Gray{Float64}(0.0) Gray{Float64}(0.0); Gray{Float64}(0.0) Gray{Float64}(0.0) … Gray{Float64}(0.0) Gray{Float64}(0.0)]\n",
       " [Gray{Float64}(0.0) Gray{Float64}(0.0) … Gray{Float64}(1.0) Gray{Float64}(1.0); Gray{Float64}(0.0) Gray{Float64}(0.0) … Gray{Float64}(1.0) Gray{Float64}(1.0); … ; Gray{Float64}(0.0) Gray{Float64}(0.0) … Gray{Float64}(0.0) Gray{Float64}(0.0); Gray{Float64}(0.0) Gray{Float64}(0.0) … Gray{Float64}(0.0) Gray{Float64}(0.0)]     [Gray{Float64}(0.0) Gray{Float64}(0.0) … Gray{Float64}(1.0) Gray{Float64}(1.0); Gray{Float64}(0.0) Gray{Float64}(0.0) … Gray{Float64}(1.0) Gray{Float64}(1.0); … ; Gray{Float64}(0.0) Gray{Float64}(0.0) … Gray{Float64}(0.0) Gray{Float64}(0.0); Gray{Float64}(0.0) Gray{Float64}(0.0) … Gray{Float64}(0.0) Gray{Float64}(0.0)]"
      ]
     },
     "execution_count": 198,
     "metadata": {},
     "output_type": "execute_result"
    }
   ],
   "source": [
    "# random\n",
    "Arr = cellauto.(40, 40, [72:95;], 2);\n",
    "Imgs = [ Gray.(a) for a in Arr ]\n",
    "reshape(Imgs, 4,6)"
   ]
  },
  {
   "cell_type": "markdown",
   "metadata": {},
   "source": [
    "Цикличные граничные условия"
   ]
  },
  {
   "cell_type": "code",
   "execution_count": 295,
   "metadata": {},
   "outputs": [
    {
     "data": {
      "image/png": "[encoded data removed]",
      "text/plain": [
       "200×400 Array{Gray{Bool},2} with eltype Gray{Bool}:\n",
       " Gray{Bool}(false)  Gray{Bool}(false)  …  Gray{Bool}(false)\n",
       " Gray{Bool}(false)  Gray{Bool}(false)     Gray{Bool}(false)\n",
       " Gray{Bool}(false)  Gray{Bool}(false)     Gray{Bool}(false)\n",
       " Gray{Bool}(false)  Gray{Bool}(false)     Gray{Bool}(false)\n",
       " Gray{Bool}(false)  Gray{Bool}(false)     Gray{Bool}(false)\n",
       " Gray{Bool}(false)  Gray{Bool}(false)  …  Gray{Bool}(false)\n",
       " Gray{Bool}(false)  Gray{Bool}(false)     Gray{Bool}(false)\n",
       " Gray{Bool}(false)  Gray{Bool}(false)     Gray{Bool}(false)\n",
       " Gray{Bool}(false)  Gray{Bool}(false)     Gray{Bool}(false)\n",
       " Gray{Bool}(false)  Gray{Bool}(false)     Gray{Bool}(false)\n",
       " Gray{Bool}(false)  Gray{Bool}(false)  …  Gray{Bool}(false)\n",
       " Gray{Bool}(false)  Gray{Bool}(false)     Gray{Bool}(false)\n",
       " Gray{Bool}(false)  Gray{Bool}(false)     Gray{Bool}(false)\n",
       " ⋮                                     ⋱                   \n",
       " Gray{Bool}(false)  Gray{Bool}(false)     Gray{Bool}(false)\n",
       " Gray{Bool}(false)  Gray{Bool}(false)     Gray{Bool}(false)\n",
       " Gray{Bool}(false)  Gray{Bool}(false)  …  Gray{Bool}(false)\n",
       " Gray{Bool}(false)  Gray{Bool}(false)     Gray{Bool}(false)\n",
       " Gray{Bool}(false)  Gray{Bool}(false)     Gray{Bool}(false)\n",
       " Gray{Bool}(false)  Gray{Bool}(false)     Gray{Bool}(false)\n",
       " Gray{Bool}(false)  Gray{Bool}(false)     Gray{Bool}(false)\n",
       " Gray{Bool}(false)  Gray{Bool}(false)  …  Gray{Bool}(false)\n",
       " Gray{Bool}(false)  Gray{Bool}(false)     Gray{Bool}(false)\n",
       " Gray{Bool}(false)  Gray{Bool}(false)     Gray{Bool}(false)\n",
       " Gray{Bool}(false)  Gray{Bool}(true)      Gray{Bool}(false)\n",
       " Gray{Bool}(true)   Gray{Bool}(true)      Gray{Bool}(false)"
      ]
     },
     "execution_count": 295,
     "metadata": {},
     "output_type": "execute_result"
    }
   ],
   "source": [
    "function cellauto( n::Int64, m::Int64, rule::Int64, s::Int64 = 1 )\n",
    "    \n",
    "    ptrn = digits(Bool, rule, base = 2, pad = 8)\n",
    "    bt = [ bitstring(i)[end-2:end] for i = 0:7 ]\n",
    "    d = Dict( bt[i] => ptrn[i] for i = 1:8 )\n",
    "    \n",
    "    M = falses(n,m)\n",
    "    M[1,m ÷ 2] = true\n",
    "    #M[1,:] .= bitrand(m)\n",
    "    for i = 1:n-1\n",
    "        M[i+1,1] = d[\"$(M[i, end]*1)$(M[i, 1]*1)$(M[i, 2]*1)\"]\n",
    "        M[i+1,end] = d[\"$(M[i, end-1]*1)$(M[i, end]*1)$(M[i, 1]*1)\"]\n",
    "        for j = 2:m-1\n",
    "            key = \"$(M[i, j-1]*1)$(M[i, j]*1)$(M[i, j+1]*1)\"\n",
    "            M[i+1,j] = d[key]\n",
    "        end\n",
    "    end\n",
    "    M\n",
    "end\n",
    "M0 = cellauto(200, 400, 30, 4)\n",
    "Gray.( M0 )"
   ]
  },
  {
   "cell_type": "code",
   "execution_count": 296,
   "metadata": {},
   "outputs": [
    {
     "data": {
      "text/plain": [
       "1×134 Array{Int64,2}:\n",
       " 1  3  4  5  6  7  9  11  12  13  14  …  199  201  204  206  210  212  214"
      ]
     },
     "execution_count": 296,
     "metadata": {},
     "output_type": "execute_result"
    }
   ],
   "source": [
    "S = [ sum(M0[i,:]) for i=1:200 ] |> unique |> sort |> permutedims"
   ]
  },
  {
   "cell_type": "code",
   "execution_count": 289,
   "metadata": {},
   "outputs": [
    {
     "data": {
      "image/png": "[encoded data removed]",
      "text/plain": [
       "200×400 Array{Gray{Bool},2} with eltype Gray{Bool}:\n",
       " Gray{Bool}(false)  Gray{Bool}(false)  …  Gray{Bool}(false)\n",
       " Gray{Bool}(false)  Gray{Bool}(false)     Gray{Bool}(false)\n",
       " Gray{Bool}(false)  Gray{Bool}(false)     Gray{Bool}(false)\n",
       " Gray{Bool}(false)  Gray{Bool}(false)     Gray{Bool}(false)\n",
       " Gray{Bool}(false)  Gray{Bool}(false)     Gray{Bool}(false)\n",
       " Gray{Bool}(false)  Gray{Bool}(false)  …  Gray{Bool}(false)\n",
       " Gray{Bool}(false)  Gray{Bool}(false)     Gray{Bool}(false)\n",
       " Gray{Bool}(false)  Gray{Bool}(false)     Gray{Bool}(false)\n",
       " Gray{Bool}(false)  Gray{Bool}(false)     Gray{Bool}(false)\n",
       " Gray{Bool}(false)  Gray{Bool}(false)     Gray{Bool}(false)\n",
       " Gray{Bool}(false)  Gray{Bool}(false)  …  Gray{Bool}(false)\n",
       " Gray{Bool}(false)  Gray{Bool}(false)     Gray{Bool}(false)\n",
       " Gray{Bool}(false)  Gray{Bool}(false)     Gray{Bool}(false)\n",
       " ⋮                                     ⋱                   \n",
       " Gray{Bool}(false)  Gray{Bool}(false)     Gray{Bool}(false)\n",
       " Gray{Bool}(false)  Gray{Bool}(false)     Gray{Bool}(false)\n",
       " Gray{Bool}(false)  Gray{Bool}(false)  …  Gray{Bool}(false)\n",
       " Gray{Bool}(false)  Gray{Bool}(false)     Gray{Bool}(false)\n",
       " Gray{Bool}(false)  Gray{Bool}(false)     Gray{Bool}(false)\n",
       " Gray{Bool}(false)  Gray{Bool}(false)     Gray{Bool}(false)\n",
       " Gray{Bool}(false)  Gray{Bool}(false)     Gray{Bool}(false)\n",
       " Gray{Bool}(false)  Gray{Bool}(false)  …  Gray{Bool}(false)\n",
       " Gray{Bool}(false)  Gray{Bool}(false)     Gray{Bool}(false)\n",
       " Gray{Bool}(false)  Gray{Bool}(false)     Gray{Bool}(false)\n",
       " Gray{Bool}(false)  Gray{Bool}(true)      Gray{Bool}(false)\n",
       " Gray{Bool}(true)   Gray{Bool}(true)      Gray{Bool}(false)"
      ]
     },
     "execution_count": 289,
     "metadata": {},
     "output_type": "execute_result"
    }
   ],
   "source": [
    "M0 = cellauto(200, 400, 110, 4)\n",
    "Gray.( M0 )"
   ]
  },
  {
   "cell_type": "code",
   "execution_count": 293,
   "metadata": {},
   "outputs": [
    {
     "data": {
      "text/plain": [
       "1×95 Array{Int64,2}:\n",
       " 1  2  3  5  6  8  9  11  13  14  16  …  111  112  113  114  118  119  120"
      ]
     },
     "execution_count": 293,
     "metadata": {},
     "output_type": "execute_result"
    }
   ],
   "source": [
    "S = [ sum(M0[i,:]) for i=1:200 ] |> unique |> sort |> permutedims"
   ]
  },
  {
   "cell_type": "code",
   "execution_count": 71,
   "metadata": {
    "scrolled": false
   },
   "outputs": [
    {
     "data": {
      "text/plain": [
       "\"00000101000\""
      ]
     },
     "execution_count": 71,
     "metadata": {},
     "output_type": "execute_result"
    }
   ],
   "source": [
    "prod( string.( M0[6,90:100]*1 ) )"
   ]
  },
  {
   "cell_type": "code",
   "execution_count": null,
   "metadata": {},
   "outputs": [],
   "source": [
    "1, 6, 20, 120, 272, 1632, 5440, 32640 # rule 102"
   ]
  },
  {
   "cell_type": "code",
   "execution_count": 273,
   "metadata": {
    "scrolled": true
   },
   "outputs": [
    {
     "name": "stdout",
     "output_type": "stream",
     "text": [
      "1 01\n",
      "6 0110\n",
      "20 010100\n",
      "120 01111000\n",
      "272 0100010000\n",
      "1632 011001100000\n",
      "5440 01010101000000\n",
      "32640 0111111110000000\n",
      "65792 010000000100000000\n",
      "394752 01100000011000000000\n",
      "1315840 0101000001010000000000\n",
      "7895040 011110000111100000000000\n",
      "17895424 01000100010001000000000000\n",
      "107372544 0110011001100110000000000000\n",
      "357908480 010101010101010100000000000000\n",
      "2147450880 01111111111111111000000000000000\n",
      "4295032832 0100000000000000010000000000000000\n",
      "25770196992 011000000000000001100000000000000000\n",
      "85900656640 01010000000000000101000000000000000000\n",
      "515403939840 0111100000000000011110000000000000000000\n"
     ]
    }
   ],
   "source": [
    "for i = 1:20\n",
    "    s = prod( string.( M0[i,100-i:99+i]*1 ) )\n",
    "    num = parse(Int, s, base = 2)\n",
    "    println(num, ' ', s)\n",
    "end"
   ]
  },
  {
   "cell_type": "code",
   "execution_count": null,
   "metadata": {},
   "outputs": [],
   "source": []
  },
  {
   "cell_type": "markdown",
   "metadata": {},
   "source": [
    "https://cormullion.github.io/pub/2018-11-29-automata.html"
   ]
  },
  {
   "cell_type": "code",
   "execution_count": null,
   "metadata": {},
   "outputs": [],
   "source": []
  },
  {
   "cell_type": "code",
   "execution_count": 4,
   "metadata": {},
   "outputs": [
    {
     "name": "stdout",
     "output_type": "stream",
     "text": [
      "stdin> 1 1 1 2 2 3 3 \n",
      "3"
     ]
    }
   ],
   "source": [
    "readline() |> split |> unique |> length |> print"
   ]
  },
  {
   "cell_type": "code",
   "execution_count": null,
   "metadata": {},
   "outputs": [],
   "source": []
  },
  {
   "cell_type": "code",
   "execution_count": null,
   "metadata": {},
   "outputs": [],
   "source": []
  },
  {
   "cell_type": "code",
   "execution_count": null,
   "metadata": {},
   "outputs": [],
   "source": []
  },
  {
   "cell_type": "code",
   "execution_count": null,
   "metadata": {},
   "outputs": [],
   "source": []
  }
 ],
 "metadata": {
  "@webio": {
   "lastCommId": null,
   "lastKernelId": null
  },
  "kernelspec": {
   "display_name": "Julia 1.2.0",
   "language": "julia",
   "name": "julia-1.2"
  },
  "language_info": {
   "file_extension": ".jl",
   "mimetype": "application/julia",
   "name": "julia",
   "version": "1.2.0"
  }
 },
 "nbformat": 4,
 "nbformat_minor": 2
}
