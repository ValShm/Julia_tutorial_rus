{
 "cells": [
  {
   "cell_type": "markdown",
   "metadata": {},
   "source": [
    "# Визуализация данных на карте\n",
    "\n",
    "[Источник](https://opensourc.es/blog/covid-19)\n",
    "\n",
    "[Репка со статами](https://github.com/CSSEGISandData/COVID-19)"
   ]
  },
  {
   "cell_type": "code",
   "execution_count": null,
   "metadata": {},
   "outputs": [],
   "source": [
    "using Pkg\n",
    "pkgs = [\"Plots\", \"CSV\", \"DataFrames\", \"Shapefile\", \"Luxor\", \"ColorSchemes\"]\n",
    "\n",
    "for p in pkgs\n",
    "    Pkg.add(p)\n",
    "end"
   ]
  },
  {
   "cell_type": "code",
   "execution_count": 1,
   "metadata": {},
   "outputs": [],
   "source": [
    "cd(s\"C:\\Users\\User\\Desktop\\Mycop\")"
   ]
  },
  {
   "cell_type": "code",
   "execution_count": 47,
   "metadata": {},
   "outputs": [
    {
     "data": {
      "text/plain": [
       "\"covid.csv\""
      ]
     },
     "execution_count": 47,
     "metadata": {},
     "output_type": "execute_result"
    }
   ],
   "source": [
    "download(\"https://raw.githubusercontent.com/CSSEGISandData/COVID-19/master/csse_covid_19_data/csse_covid_19_time_series/time_series_covid19_confirmed_global.csv\", \"covid.csv\")"
   ]
  },
  {
   "cell_type": "code",
   "execution_count": 2,
   "metadata": {},
   "outputs": [
    {
     "name": "stderr",
     "output_type": "stream",
     "text": [
      "┌ Info: Precompiling DataFrames [a93c6f00-e57d-5684-b7b6-d8193f3e46c0]\n",
      "└ @ Base loading.jl:1273\n",
      "┌ Info: Precompiling CSV [336ed68f-0bac-5ca0-87d4-7b16caf5d00b]\n",
      "└ @ Base loading.jl:1273\n"
     ]
    }
   ],
   "source": [
    "using DataFrames, CSV"
   ]
  },
  {
   "cell_type": "code",
   "execution_count": 3,
   "metadata": {
    "scrolled": true
   },
   "outputs": [
    {
     "data": {
      "text/html": [
       "<table class=\"data-frame\"><thead><tr><th></th><th>Country</th><th>1/22/20</th><th>1/23/20</th><th>1/24/20</th><th>1/25/20</th><th>1/26/20</th><th>1/27/20</th><th>1/28/20</th></tr><tr><th></th><th>String</th><th>Int64</th><th>Int64</th><th>Int64</th><th>Int64</th><th>Int64</th><th>Int64</th><th>Int64</th></tr></thead><tbody><p>263 rows × 78 columns (omitted printing of 70 columns)</p><tr><th>1</th><td>Afghanistan</td><td>0</td><td>0</td><td>0</td><td>0</td><td>0</td><td>0</td><td>0</td></tr><tr><th>2</th><td>Albania</td><td>0</td><td>0</td><td>0</td><td>0</td><td>0</td><td>0</td><td>0</td></tr><tr><th>3</th><td>Algeria</td><td>0</td><td>0</td><td>0</td><td>0</td><td>0</td><td>0</td><td>0</td></tr><tr><th>4</th><td>Andorra</td><td>0</td><td>0</td><td>0</td><td>0</td><td>0</td><td>0</td><td>0</td></tr><tr><th>5</th><td>Angola</td><td>0</td><td>0</td><td>0</td><td>0</td><td>0</td><td>0</td><td>0</td></tr><tr><th>6</th><td>Antigua and Barbuda</td><td>0</td><td>0</td><td>0</td><td>0</td><td>0</td><td>0</td><td>0</td></tr><tr><th>7</th><td>Argentina</td><td>0</td><td>0</td><td>0</td><td>0</td><td>0</td><td>0</td><td>0</td></tr><tr><th>8</th><td>Armenia</td><td>0</td><td>0</td><td>0</td><td>0</td><td>0</td><td>0</td><td>0</td></tr><tr><th>9</th><td>Australia</td><td>0</td><td>0</td><td>0</td><td>0</td><td>0</td><td>0</td><td>0</td></tr><tr><th>10</th><td>Australia</td><td>0</td><td>0</td><td>0</td><td>0</td><td>3</td><td>4</td><td>4</td></tr><tr><th>11</th><td>Australia</td><td>0</td><td>0</td><td>0</td><td>0</td><td>0</td><td>0</td><td>0</td></tr><tr><th>12</th><td>Australia</td><td>0</td><td>0</td><td>0</td><td>0</td><td>0</td><td>0</td><td>0</td></tr><tr><th>13</th><td>Australia</td><td>0</td><td>0</td><td>0</td><td>0</td><td>0</td><td>0</td><td>0</td></tr><tr><th>14</th><td>Australia</td><td>0</td><td>0</td><td>0</td><td>0</td><td>0</td><td>0</td><td>0</td></tr><tr><th>15</th><td>Australia</td><td>0</td><td>0</td><td>0</td><td>0</td><td>1</td><td>1</td><td>1</td></tr><tr><th>16</th><td>Australia</td><td>0</td><td>0</td><td>0</td><td>0</td><td>0</td><td>0</td><td>0</td></tr><tr><th>17</th><td>Austria</td><td>0</td><td>0</td><td>0</td><td>0</td><td>0</td><td>0</td><td>0</td></tr><tr><th>18</th><td>Azerbaijan</td><td>0</td><td>0</td><td>0</td><td>0</td><td>0</td><td>0</td><td>0</td></tr><tr><th>19</th><td>Bahamas</td><td>0</td><td>0</td><td>0</td><td>0</td><td>0</td><td>0</td><td>0</td></tr><tr><th>20</th><td>Bahrain</td><td>0</td><td>0</td><td>0</td><td>0</td><td>0</td><td>0</td><td>0</td></tr><tr><th>21</th><td>Bangladesh</td><td>0</td><td>0</td><td>0</td><td>0</td><td>0</td><td>0</td><td>0</td></tr><tr><th>22</th><td>Barbados</td><td>0</td><td>0</td><td>0</td><td>0</td><td>0</td><td>0</td><td>0</td></tr><tr><th>23</th><td>Belarus</td><td>0</td><td>0</td><td>0</td><td>0</td><td>0</td><td>0</td><td>0</td></tr><tr><th>24</th><td>Belgium</td><td>0</td><td>0</td><td>0</td><td>0</td><td>0</td><td>0</td><td>0</td></tr><tr><th>25</th><td>Benin</td><td>0</td><td>0</td><td>0</td><td>0</td><td>0</td><td>0</td><td>0</td></tr><tr><th>26</th><td>Bhutan</td><td>0</td><td>0</td><td>0</td><td>0</td><td>0</td><td>0</td><td>0</td></tr><tr><th>27</th><td>Bolivia</td><td>0</td><td>0</td><td>0</td><td>0</td><td>0</td><td>0</td><td>0</td></tr><tr><th>28</th><td>Bosnia and Herzegovina</td><td>0</td><td>0</td><td>0</td><td>0</td><td>0</td><td>0</td><td>0</td></tr><tr><th>29</th><td>Brazil</td><td>0</td><td>0</td><td>0</td><td>0</td><td>0</td><td>0</td><td>0</td></tr><tr><th>30</th><td>Brunei</td><td>0</td><td>0</td><td>0</td><td>0</td><td>0</td><td>0</td><td>0</td></tr><tr><th>&vellip;</th><td>&vellip;</td><td>&vellip;</td><td>&vellip;</td><td>&vellip;</td><td>&vellip;</td><td>&vellip;</td><td>&vellip;</td><td>&vellip;</td></tr></tbody></table>"
      ],
      "text/latex": [
       "\\begin{tabular}{r|ccccccccc}\n",
       "\t& Country & 1/22/20 & 1/23/20 & 1/24/20 & 1/25/20 & 1/26/20 & 1/27/20 & 1/28/20 & \\\\\n",
       "\t\\hline\n",
       "\t& String & Int64 & Int64 & Int64 & Int64 & Int64 & Int64 & Int64 & \\\\\n",
       "\t\\hline\n",
       "\t1 & Afghanistan & 0 & 0 & 0 & 0 & 0 & 0 & 0 & $\\dots$ \\\\\n",
       "\t2 & Albania & 0 & 0 & 0 & 0 & 0 & 0 & 0 & $\\dots$ \\\\\n",
       "\t3 & Algeria & 0 & 0 & 0 & 0 & 0 & 0 & 0 & $\\dots$ \\\\\n",
       "\t4 & Andorra & 0 & 0 & 0 & 0 & 0 & 0 & 0 & $\\dots$ \\\\\n",
       "\t5 & Angola & 0 & 0 & 0 & 0 & 0 & 0 & 0 & $\\dots$ \\\\\n",
       "\t6 & Antigua and Barbuda & 0 & 0 & 0 & 0 & 0 & 0 & 0 & $\\dots$ \\\\\n",
       "\t7 & Argentina & 0 & 0 & 0 & 0 & 0 & 0 & 0 & $\\dots$ \\\\\n",
       "\t8 & Armenia & 0 & 0 & 0 & 0 & 0 & 0 & 0 & $\\dots$ \\\\\n",
       "\t9 & Australia & 0 & 0 & 0 & 0 & 0 & 0 & 0 & $\\dots$ \\\\\n",
       "\t10 & Australia & 0 & 0 & 0 & 0 & 3 & 4 & 4 & $\\dots$ \\\\\n",
       "\t11 & Australia & 0 & 0 & 0 & 0 & 0 & 0 & 0 & $\\dots$ \\\\\n",
       "\t12 & Australia & 0 & 0 & 0 & 0 & 0 & 0 & 0 & $\\dots$ \\\\\n",
       "\t13 & Australia & 0 & 0 & 0 & 0 & 0 & 0 & 0 & $\\dots$ \\\\\n",
       "\t14 & Australia & 0 & 0 & 0 & 0 & 0 & 0 & 0 & $\\dots$ \\\\\n",
       "\t15 & Australia & 0 & 0 & 0 & 0 & 1 & 1 & 1 & $\\dots$ \\\\\n",
       "\t16 & Australia & 0 & 0 & 0 & 0 & 0 & 0 & 0 & $\\dots$ \\\\\n",
       "\t17 & Austria & 0 & 0 & 0 & 0 & 0 & 0 & 0 & $\\dots$ \\\\\n",
       "\t18 & Azerbaijan & 0 & 0 & 0 & 0 & 0 & 0 & 0 & $\\dots$ \\\\\n",
       "\t19 & Bahamas & 0 & 0 & 0 & 0 & 0 & 0 & 0 & $\\dots$ \\\\\n",
       "\t20 & Bahrain & 0 & 0 & 0 & 0 & 0 & 0 & 0 & $\\dots$ \\\\\n",
       "\t21 & Bangladesh & 0 & 0 & 0 & 0 & 0 & 0 & 0 & $\\dots$ \\\\\n",
       "\t22 & Barbados & 0 & 0 & 0 & 0 & 0 & 0 & 0 & $\\dots$ \\\\\n",
       "\t23 & Belarus & 0 & 0 & 0 & 0 & 0 & 0 & 0 & $\\dots$ \\\\\n",
       "\t24 & Belgium & 0 & 0 & 0 & 0 & 0 & 0 & 0 & $\\dots$ \\\\\n",
       "\t25 & Benin & 0 & 0 & 0 & 0 & 0 & 0 & 0 & $\\dots$ \\\\\n",
       "\t26 & Bhutan & 0 & 0 & 0 & 0 & 0 & 0 & 0 & $\\dots$ \\\\\n",
       "\t27 & Bolivia & 0 & 0 & 0 & 0 & 0 & 0 & 0 & $\\dots$ \\\\\n",
       "\t28 & Bosnia and Herzegovina & 0 & 0 & 0 & 0 & 0 & 0 & 0 & $\\dots$ \\\\\n",
       "\t29 & Brazil & 0 & 0 & 0 & 0 & 0 & 0 & 0 & $\\dots$ \\\\\n",
       "\t30 & Brunei & 0 & 0 & 0 & 0 & 0 & 0 & 0 & $\\dots$ \\\\\n",
       "\t$\\dots$ & $\\dots$ & $\\dots$ & $\\dots$ & $\\dots$ & $\\dots$ & $\\dots$ & $\\dots$ & $\\dots$ &  \\\\\n",
       "\\end{tabular}\n"
      ],
      "text/plain": [
       "263×78 DataFrame. Omitted printing of 73 columns\n",
       "│ Row │ Country               │ 1/22/20 │ 1/23/20 │ 1/24/20 │ 1/25/20 │\n",
       "│     │ \u001b[90mString\u001b[39m                │ \u001b[90mInt64\u001b[39m   │ \u001b[90mInt64\u001b[39m   │ \u001b[90mInt64\u001b[39m   │ \u001b[90mInt64\u001b[39m   │\n",
       "├─────┼───────────────────────┼─────────┼─────────┼─────────┼─────────┤\n",
       "│ 1   │ Afghanistan           │ 0       │ 0       │ 0       │ 0       │\n",
       "│ 2   │ Albania               │ 0       │ 0       │ 0       │ 0       │\n",
       "│ 3   │ Algeria               │ 0       │ 0       │ 0       │ 0       │\n",
       "│ 4   │ Andorra               │ 0       │ 0       │ 0       │ 0       │\n",
       "│ 5   │ Angola                │ 0       │ 0       │ 0       │ 0       │\n",
       "│ 6   │ Antigua and Barbuda   │ 0       │ 0       │ 0       │ 0       │\n",
       "│ 7   │ Argentina             │ 0       │ 0       │ 0       │ 0       │\n",
       "│ 8   │ Armenia               │ 0       │ 0       │ 0       │ 0       │\n",
       "│ 9   │ Australia             │ 0       │ 0       │ 0       │ 0       │\n",
       "│ 10  │ Australia             │ 0       │ 0       │ 0       │ 0       │\n",
       "⋮\n",
       "│ 253 │ MS Zaandam            │ 0       │ 0       │ 0       │ 0       │\n",
       "│ 254 │ Botswana              │ 0       │ 0       │ 0       │ 0       │\n",
       "│ 255 │ Burundi               │ 0       │ 0       │ 0       │ 0       │\n",
       "│ 256 │ Sierra Leone          │ 0       │ 0       │ 0       │ 0       │\n",
       "│ 257 │ Netherlands           │ 0       │ 0       │ 0       │ 0       │\n",
       "│ 258 │ Malawi                │ 0       │ 0       │ 0       │ 0       │\n",
       "│ 259 │ United Kingdom        │ 0       │ 0       │ 0       │ 0       │\n",
       "│ 260 │ France                │ 0       │ 0       │ 0       │ 0       │\n",
       "│ 261 │ South Sudan           │ 0       │ 0       │ 0       │ 0       │\n",
       "│ 262 │ Western Sahara        │ 0       │ 0       │ 0       │ 0       │\n",
       "│ 263 │ Sao Tome and Principe │ 0       │ 0       │ 0       │ 0       │"
      ]
     },
     "execution_count": 3,
     "metadata": {},
     "output_type": "execute_result"
    }
   ],
   "source": [
    "function summarize_data()\n",
    "    df = CSV.read(\"covid.csv\"; copycols=true)\n",
    "    select!(df, Not(Symbol(\"Province/State\")))\n",
    "    select!(df, Not(:Lat))\n",
    "    select!(df, Not(:Long))\n",
    "    rename!(df, Symbol(\"Country/Region\") => :Country)\n",
    "    \n",
    "    for row in eachrow(df)\n",
    "        if row[:Country] == \"Hong Kong\"\n",
    "            row[:Country] = \"Mainland China\"\n",
    "        end\n",
    "    end\n",
    "    \n",
    "    df\n",
    "end\n",
    "\n",
    "df1 = summarize_data()"
   ]
  },
  {
   "cell_type": "code",
   "execution_count": 52,
   "metadata": {},
   "outputs": [
    {
     "data": {
      "text/plain": [
       "Symbol(\"4/7/20\")"
      ]
     },
     "execution_count": 52,
     "metadata": {},
     "output_type": "execute_result"
    }
   ],
   "source": [
    "names(df1)[end]"
   ]
  },
  {
   "cell_type": "code",
   "execution_count": 53,
   "metadata": {
    "scrolled": true
   },
   "outputs": [
    {
     "data": {
      "text/plain": [
       "188"
      ]
     },
     "execution_count": 53,
     "metadata": {},
     "output_type": "execute_result"
    }
   ],
   "source": [
    "findfirst(x-> x == \"Russia\", df1[!, 1] )"
   ]
  },
  {
   "cell_type": "code",
   "execution_count": 54,
   "metadata": {},
   "outputs": [
    {
     "data": {
      "text/html": [
       "<p>DataFrameRow (78 columns)</p><table class=\"data-frame\"><thead><tr><th></th><th>Country</th><th>1/22/20</th><th>1/23/20</th><th>1/24/20</th><th>1/25/20</th><th>1/26/20</th><th>1/27/20</th><th>1/28/20</th><th>1/29/20</th></tr><tr><th></th><th>String</th><th>Int64</th><th>Int64</th><th>Int64</th><th>Int64</th><th>Int64</th><th>Int64</th><th>Int64</th><th>Int64</th></tr></thead><tbody><tr><th>188</th><td>Russia</td><td>0</td><td>0</td><td>0</td><td>0</td><td>0</td><td>0</td><td>0</td><td>0</td></tr></tbody></table>"
      ],
      "text/latex": [
       "\\begin{tabular}{r|cccccccccc}\n",
       "\t& Country & 1/22/20 & 1/23/20 & 1/24/20 & 1/25/20 & 1/26/20 & 1/27/20 & 1/28/20 & 1/29/20 & \\\\\n",
       "\t\\hline\n",
       "\t& String & Int64 & Int64 & Int64 & Int64 & Int64 & Int64 & Int64 & Int64 & \\\\\n",
       "\t\\hline\n",
       "\t188 & Russia & 0 & 0 & 0 & 0 & 0 & 0 & 0 & 0 & $\\dots$ \\\\\n",
       "\\end{tabular}\n"
      ],
      "text/plain": [
       "DataFrameRow. Omitted printing of 71 columns\n",
       "│ Row │ Country │ 1/22/20 │ 1/23/20 │ 1/24/20 │ 1/25/20 │ 1/26/20 │ 1/27/20 │\n",
       "│     │ \u001b[90mString\u001b[39m  │ \u001b[90mInt64\u001b[39m   │ \u001b[90mInt64\u001b[39m   │ \u001b[90mInt64\u001b[39m   │ \u001b[90mInt64\u001b[39m   │ \u001b[90mInt64\u001b[39m   │ \u001b[90mInt64\u001b[39m   │\n",
       "├─────┼─────────┼─────────┼─────────┼─────────┼─────────┼─────────┼─────────┤\n",
       "│ 188 │ Russia  │ 0       │ 0       │ 0       │ 0       │ 0       │ 0       │"
      ]
     },
     "execution_count": 54,
     "metadata": {},
     "output_type": "execute_result"
    }
   ],
   "source": [
    "df1[188, :]"
   ]
  },
  {
   "cell_type": "code",
   "execution_count": 4,
   "metadata": {
    "scrolled": false
   },
   "outputs": [],
   "source": [
    "using Dates"
   ]
  },
  {
   "cell_type": "code",
   "execution_count": 5,
   "metadata": {
    "scrolled": true
   },
   "outputs": [
    {
     "data": {
      "text/plain": [
       "77-element Array{Date,1}:\n",
       " 2020-01-22\n",
       " 2020-01-23\n",
       " 2020-01-24\n",
       " 2020-01-25\n",
       " 2020-01-26\n",
       " 2020-01-27\n",
       " 2020-01-28\n",
       " 2020-01-29\n",
       " 2020-01-30\n",
       " 2020-01-31\n",
       " 2020-02-01\n",
       " 2020-02-02\n",
       " 2020-02-03\n",
       " ⋮         \n",
       " 2020-03-27\n",
       " 2020-03-28\n",
       " 2020-03-29\n",
       " 2020-03-30\n",
       " 2020-03-31\n",
       " 2020-04-01\n",
       " 2020-04-02\n",
       " 2020-04-03\n",
       " 2020-04-04\n",
       " 2020-04-05\n",
       " 2020-04-06\n",
       " 2020-04-07"
      ]
     },
     "execution_count": 5,
     "metadata": {},
     "output_type": "execute_result"
    }
   ],
   "source": [
    "datezstr = [ \"$el\" for el in names(df1)[2:end] ] # из символов в строки\n",
    "\n",
    "dformat = Dates.DateFormat(\"mm/dd/yy\")\n",
    "\n",
    "datez =  Dates.Date.(datezstr, dformat) .+ Dates.Year(2000) # в формат дат для графиков"
   ]
  },
  {
   "cell_type": "code",
   "execution_count": 6,
   "metadata": {
    "scrolled": false
   },
   "outputs": [
    {
     "name": "stderr",
     "output_type": "stream",
     "text": [
      "┌ Info: Precompiling Plots [91a5bcdd-55d7-5caf-9e0b-520d859cae80]\n",
      "└ @ Base loading.jl:1273\n"
     ]
    },
    {
     "data": {
      "image/svg+xml": [
       "<?xml version=\"1.0\" encoding=\"utf-8\"?>\n",
       "<svg xmlns=\"http://www.w3.org/2000/svg\" xmlns:xlink=\"http://www.w3.org/1999/xlink\" width=\"600\" height=\"400\" viewBox=\"0 0 2400 1600\">\n",
       "<defs>\n",
       "  <clipPath id=\"clip3700\">\n",
       "    <rect x=\"0\" y=\"0\" width=\"2400\" height=\"1600\"/>\n",
       "  </clipPath>\n",
       "</defs>\n",
       "<path clip-path=\"url(#clip3700)\" d=\"\n",
       "M0 1600 L2400 1600 L2400 0 L0 0  Z\n",
       "  \" fill=\"#ffffff\" fill-rule=\"evenodd\" fill-opacity=\"1\"/>\n",
       "<defs>\n",
       "  <clipPath id=\"clip3701\">\n",
       "    <rect x=\"480\" y=\"0\" width=\"1681\" height=\"1600\"/>\n",
       "  </clipPath>\n",
       "</defs>\n",
       "<path clip-path=\"url(#clip3700)\" d=\"\n",
       "M255.898 1487.47 L2352.76 1487.47 L2352.76 47.2441 L255.898 47.2441  Z\n",
       "  \" fill=\"#ffffff\" fill-rule=\"evenodd\" fill-opacity=\"1\"/>\n",
       "<defs>\n",
       "  <clipPath id=\"clip3702\">\n",
       "    <rect x=\"255\" y=\"47\" width=\"2098\" height=\"1441\"/>\n",
       "  </clipPath>\n",
       "</defs>\n",
       "<polyline clip-path=\"url(#clip3702)\" style=\"stroke:#000000; stroke-width:2; stroke-opacity:0.1; fill:none\" points=\"\n",
       "  575.528,1487.47 575.528,47.2441 \n",
       "  \"/>\n",
       "<polyline clip-path=\"url(#clip3702)\" style=\"stroke:#000000; stroke-width:2; stroke-opacity:0.1; fill:none\" points=\"\n",
       "  1330.36,1487.47 1330.36,47.2441 \n",
       "  \"/>\n",
       "<polyline clip-path=\"url(#clip3702)\" style=\"stroke:#000000; stroke-width:2; stroke-opacity:0.1; fill:none\" points=\"\n",
       "  2137.24,1487.47 2137.24,47.2441 \n",
       "  \"/>\n",
       "<polyline clip-path=\"url(#clip3702)\" style=\"stroke:#000000; stroke-width:2; stroke-opacity:0.1; fill:none\" points=\"\n",
       "  255.898,1446.71 2352.76,1446.71 \n",
       "  \"/>\n",
       "<polyline clip-path=\"url(#clip3702)\" style=\"stroke:#000000; stroke-width:2; stroke-opacity:0.1; fill:none\" points=\"\n",
       "  255.898,1084.25 2352.76,1084.25 \n",
       "  \"/>\n",
       "<polyline clip-path=\"url(#clip3702)\" style=\"stroke:#000000; stroke-width:2; stroke-opacity:0.1; fill:none\" points=\"\n",
       "  255.898,721.779 2352.76,721.779 \n",
       "  \"/>\n",
       "<polyline clip-path=\"url(#clip3702)\" style=\"stroke:#000000; stroke-width:2; stroke-opacity:0.1; fill:none\" points=\"\n",
       "  255.898,359.312 2352.76,359.312 \n",
       "  \"/>\n",
       "<polyline clip-path=\"url(#clip3700)\" style=\"stroke:#000000; stroke-width:4; stroke-opacity:1; fill:none\" points=\"\n",
       "  255.898,1487.47 2352.76,1487.47 \n",
       "  \"/>\n",
       "<polyline clip-path=\"url(#clip3700)\" style=\"stroke:#000000; stroke-width:4; stroke-opacity:1; fill:none\" points=\"\n",
       "  255.898,1487.47 255.898,47.2441 \n",
       "  \"/>\n",
       "<polyline clip-path=\"url(#clip3700)\" style=\"stroke:#000000; stroke-width:4; stroke-opacity:1; fill:none\" points=\"\n",
       "  575.528,1487.47 575.528,1470.19 \n",
       "  \"/>\n",
       "<polyline clip-path=\"url(#clip3700)\" style=\"stroke:#000000; stroke-width:4; stroke-opacity:1; fill:none\" points=\"\n",
       "  1330.36,1487.47 1330.36,1470.19 \n",
       "  \"/>\n",
       "<polyline clip-path=\"url(#clip3700)\" style=\"stroke:#000000; stroke-width:4; stroke-opacity:1; fill:none\" points=\"\n",
       "  2137.24,1487.47 2137.24,1470.19 \n",
       "  \"/>\n",
       "<polyline clip-path=\"url(#clip3700)\" style=\"stroke:#000000; stroke-width:4; stroke-opacity:1; fill:none\" points=\"\n",
       "  255.898,1446.71 281.06,1446.71 \n",
       "  \"/>\n",
       "<polyline clip-path=\"url(#clip3700)\" style=\"stroke:#000000; stroke-width:4; stroke-opacity:1; fill:none\" points=\"\n",
       "  255.898,1084.25 281.06,1084.25 \n",
       "  \"/>\n",
       "<polyline clip-path=\"url(#clip3700)\" style=\"stroke:#000000; stroke-width:4; stroke-opacity:1; fill:none\" points=\"\n",
       "  255.898,721.779 281.06,721.779 \n",
       "  \"/>\n",
       "<polyline clip-path=\"url(#clip3700)\" style=\"stroke:#000000; stroke-width:4; stroke-opacity:1; fill:none\" points=\"\n",
       "  255.898,359.312 281.06,359.312 \n",
       "  \"/>\n",
       "<g clip-path=\"url(#clip3700)\">\n",
       "<text style=\"fill:#000000; fill-opacity:1; font-family:Arial,Helvetica Neue,Helvetica,sans-serif; font-size:48px; text-anchor:middle;\" transform=\"rotate(0, 575.528, 1541.47)\" x=\"575.528\" y=\"1541.47\">2020-02-01</text>\n",
       "</g>\n",
       "<g clip-path=\"url(#clip3700)\">\n",
       "<text style=\"fill:#000000; fill-opacity:1; font-family:Arial,Helvetica Neue,Helvetica,sans-serif; font-size:48px; text-anchor:middle;\" transform=\"rotate(0, 1330.36, 1541.47)\" x=\"1330.36\" y=\"1541.47\">2020-03-01</text>\n",
       "</g>\n",
       "<g clip-path=\"url(#clip3700)\">\n",
       "<text style=\"fill:#000000; fill-opacity:1; font-family:Arial,Helvetica Neue,Helvetica,sans-serif; font-size:48px; text-anchor:middle;\" transform=\"rotate(0, 2137.24, 1541.47)\" x=\"2137.24\" y=\"1541.47\">2020-04-01</text>\n",
       "</g>\n",
       "<g clip-path=\"url(#clip3700)\">\n",
       "<text style=\"fill:#000000; fill-opacity:1; font-family:Arial,Helvetica Neue,Helvetica,sans-serif; font-size:48px; text-anchor:end;\" transform=\"rotate(0, 231.898, 1464.21)\" x=\"231.898\" y=\"1464.21\">0</text>\n",
       "</g>\n",
       "<g clip-path=\"url(#clip3700)\">\n",
       "<text style=\"fill:#000000; fill-opacity:1; font-family:Arial,Helvetica Neue,Helvetica,sans-serif; font-size:48px; text-anchor:end;\" transform=\"rotate(0, 231.898, 1101.75)\" x=\"231.898\" y=\"1101.75\">2000</text>\n",
       "</g>\n",
       "<g clip-path=\"url(#clip3700)\">\n",
       "<text style=\"fill:#000000; fill-opacity:1; font-family:Arial,Helvetica Neue,Helvetica,sans-serif; font-size:48px; text-anchor:end;\" transform=\"rotate(0, 231.898, 739.279)\" x=\"231.898\" y=\"739.279\">4000</text>\n",
       "</g>\n",
       "<g clip-path=\"url(#clip3700)\">\n",
       "<text style=\"fill:#000000; fill-opacity:1; font-family:Arial,Helvetica Neue,Helvetica,sans-serif; font-size:48px; text-anchor:end;\" transform=\"rotate(0, 231.898, 376.812)\" x=\"231.898\" y=\"376.812\">6000</text>\n",
       "</g>\n",
       "<g clip-path=\"url(#clip3700)\">\n",
       "<text style=\"fill:#000000; fill-opacity:1; font-family:Arial,Helvetica Neue,Helvetica,sans-serif; font-size:66px; text-anchor:middle;\" transform=\"rotate(-90, 89.2861, 767.359)\" x=\"89.2861\" y=\"767.359\">persons</text>\n",
       "</g>\n",
       "<polyline clip-path=\"url(#clip3702)\" style=\"stroke:#009af9; stroke-width:12; stroke-opacity:1; fill:none\" points=\"\n",
       "  315.243,1446.71 341.271,1446.71 367.3,1446.71 393.328,1446.71 419.357,1446.71 445.385,1446.71 471.414,1446.71 497.442,1446.71 523.471,1446.71 549.499,1446.35 \n",
       "  575.528,1446.35 601.556,1446.35 627.585,1446.35 653.614,1446.35 679.642,1446.35 705.671,1446.35 731.699,1446.35 757.728,1446.35 783.756,1446.35 809.785,1446.35 \n",
       "  835.813,1446.35 861.842,1446.35 887.87,1446.35 913.899,1446.35 939.927,1446.35 965.956,1446.35 991.984,1446.35 1018.01,1446.35 1044.04,1446.35 1070.07,1446.35 \n",
       "  1096.1,1446.35 1122.13,1446.35 1148.16,1446.35 1174.18,1446.35 1200.21,1446.35 1226.24,1446.35 1252.27,1446.35 1278.3,1446.35 1304.33,1446.35 1330.36,1446.35 \n",
       "  1356.38,1446.17 1382.41,1446.17 1408.44,1446.17 1434.47,1445.99 1460.5,1444.36 1486.53,1444.36 1512.55,1443.63 1538.58,1443.63 1564.61,1443.09 1590.64,1443.09 \n",
       "  1616.67,1441.64 1642.7,1438.56 1668.73,1436.02 1694.75,1435.3 1720.78,1430.4 1746.81,1426.05 1772.84,1420.07 1798.87,1410.65 1824.9,1400.86 1850.93,1391.26 \n",
       "  1876.95,1380.2 1902.98,1367.33 1929.01,1357 1955.04,1327.46 1981.07,1294.48 2007.1,1258.96 2033.13,1217.63 2059.15,1168.7 2085.18,1113.97 2111.21,1023.17 \n",
       "  2137.24,943.428 2163.27,803.697 2189.3,694.775 2215.33,589.297 2241.35,470.046 2267.38,297.149 2293.41,88.0053 \n",
       "  \"/>\n",
       "</svg>\n"
      ]
     },
     "execution_count": 6,
     "metadata": {},
     "output_type": "execute_result"
    }
   ],
   "source": [
    "using Plots\n",
    "confd = Vector(df1[188, :])[2:end]\n",
    "plot(datez, confd, legend = false, line = 3, yaxis = \"persons\")"
   ]
  },
  {
   "cell_type": "code",
   "execution_count": 14,
   "metadata": {
    "scrolled": true
   },
   "outputs": [
    {
     "data": {
      "text/html": [
       "<table class=\"data-frame\"><thead><tr><th></th><th>Country</th><th>1/22/20_sum</th><th>1/23/20_sum</th><th>1/24/20_sum</th><th>1/25/20_sum</th><th>1/26/20_sum</th></tr><tr><th></th><th>String</th><th>Int64</th><th>Int64</th><th>Int64</th><th>Int64</th><th>Int64</th></tr></thead><tbody><p>184 rows × 78 columns (omitted printing of 72 columns)</p><tr><th>1</th><td>Afghanistan</td><td>0</td><td>0</td><td>0</td><td>0</td><td>0</td></tr><tr><th>2</th><td>Albania</td><td>0</td><td>0</td><td>0</td><td>0</td><td>0</td></tr><tr><th>3</th><td>Algeria</td><td>0</td><td>0</td><td>0</td><td>0</td><td>0</td></tr><tr><th>4</th><td>Andorra</td><td>0</td><td>0</td><td>0</td><td>0</td><td>0</td></tr><tr><th>5</th><td>Angola</td><td>0</td><td>0</td><td>0</td><td>0</td><td>0</td></tr><tr><th>6</th><td>Antigua and Barbuda</td><td>0</td><td>0</td><td>0</td><td>0</td><td>0</td></tr><tr><th>7</th><td>Argentina</td><td>0</td><td>0</td><td>0</td><td>0</td><td>0</td></tr><tr><th>8</th><td>Armenia</td><td>0</td><td>0</td><td>0</td><td>0</td><td>0</td></tr><tr><th>9</th><td>Australia</td><td>0</td><td>0</td><td>0</td><td>0</td><td>4</td></tr><tr><th>10</th><td>Austria</td><td>0</td><td>0</td><td>0</td><td>0</td><td>0</td></tr><tr><th>11</th><td>Azerbaijan</td><td>0</td><td>0</td><td>0</td><td>0</td><td>0</td></tr><tr><th>12</th><td>Bahamas</td><td>0</td><td>0</td><td>0</td><td>0</td><td>0</td></tr><tr><th>13</th><td>Bahrain</td><td>0</td><td>0</td><td>0</td><td>0</td><td>0</td></tr><tr><th>14</th><td>Bangladesh</td><td>0</td><td>0</td><td>0</td><td>0</td><td>0</td></tr><tr><th>15</th><td>Barbados</td><td>0</td><td>0</td><td>0</td><td>0</td><td>0</td></tr><tr><th>16</th><td>Belarus</td><td>0</td><td>0</td><td>0</td><td>0</td><td>0</td></tr><tr><th>17</th><td>Belgium</td><td>0</td><td>0</td><td>0</td><td>0</td><td>0</td></tr><tr><th>18</th><td>Benin</td><td>0</td><td>0</td><td>0</td><td>0</td><td>0</td></tr><tr><th>19</th><td>Bhutan</td><td>0</td><td>0</td><td>0</td><td>0</td><td>0</td></tr><tr><th>20</th><td>Bolivia</td><td>0</td><td>0</td><td>0</td><td>0</td><td>0</td></tr><tr><th>21</th><td>Bosnia and Herzegovina</td><td>0</td><td>0</td><td>0</td><td>0</td><td>0</td></tr><tr><th>22</th><td>Brazil</td><td>0</td><td>0</td><td>0</td><td>0</td><td>0</td></tr><tr><th>23</th><td>Brunei</td><td>0</td><td>0</td><td>0</td><td>0</td><td>0</td></tr><tr><th>24</th><td>Bulgaria</td><td>0</td><td>0</td><td>0</td><td>0</td><td>0</td></tr><tr><th>25</th><td>Burkina Faso</td><td>0</td><td>0</td><td>0</td><td>0</td><td>0</td></tr><tr><th>26</th><td>Cabo Verde</td><td>0</td><td>0</td><td>0</td><td>0</td><td>0</td></tr><tr><th>27</th><td>Cambodia</td><td>0</td><td>0</td><td>0</td><td>0</td><td>0</td></tr><tr><th>28</th><td>Cameroon</td><td>0</td><td>0</td><td>0</td><td>0</td><td>0</td></tr><tr><th>29</th><td>Canada</td><td>0</td><td>0</td><td>0</td><td>0</td><td>1</td></tr><tr><th>30</th><td>Central African Republic</td><td>0</td><td>0</td><td>0</td><td>0</td><td>0</td></tr><tr><th>&vellip;</th><td>&vellip;</td><td>&vellip;</td><td>&vellip;</td><td>&vellip;</td><td>&vellip;</td><td>&vellip;</td></tr></tbody></table>"
      ],
      "text/latex": [
       "\\begin{tabular}{r|ccccccc}\n",
       "\t& Country & 1/22/20\\_sum & 1/23/20\\_sum & 1/24/20\\_sum & 1/25/20\\_sum & 1/26/20\\_sum & \\\\\n",
       "\t\\hline\n",
       "\t& String & Int64 & Int64 & Int64 & Int64 & Int64 & \\\\\n",
       "\t\\hline\n",
       "\t1 & Afghanistan & 0 & 0 & 0 & 0 & 0 & $\\dots$ \\\\\n",
       "\t2 & Albania & 0 & 0 & 0 & 0 & 0 & $\\dots$ \\\\\n",
       "\t3 & Algeria & 0 & 0 & 0 & 0 & 0 & $\\dots$ \\\\\n",
       "\t4 & Andorra & 0 & 0 & 0 & 0 & 0 & $\\dots$ \\\\\n",
       "\t5 & Angola & 0 & 0 & 0 & 0 & 0 & $\\dots$ \\\\\n",
       "\t6 & Antigua and Barbuda & 0 & 0 & 0 & 0 & 0 & $\\dots$ \\\\\n",
       "\t7 & Argentina & 0 & 0 & 0 & 0 & 0 & $\\dots$ \\\\\n",
       "\t8 & Armenia & 0 & 0 & 0 & 0 & 0 & $\\dots$ \\\\\n",
       "\t9 & Australia & 0 & 0 & 0 & 0 & 4 & $\\dots$ \\\\\n",
       "\t10 & Austria & 0 & 0 & 0 & 0 & 0 & $\\dots$ \\\\\n",
       "\t11 & Azerbaijan & 0 & 0 & 0 & 0 & 0 & $\\dots$ \\\\\n",
       "\t12 & Bahamas & 0 & 0 & 0 & 0 & 0 & $\\dots$ \\\\\n",
       "\t13 & Bahrain & 0 & 0 & 0 & 0 & 0 & $\\dots$ \\\\\n",
       "\t14 & Bangladesh & 0 & 0 & 0 & 0 & 0 & $\\dots$ \\\\\n",
       "\t15 & Barbados & 0 & 0 & 0 & 0 & 0 & $\\dots$ \\\\\n",
       "\t16 & Belarus & 0 & 0 & 0 & 0 & 0 & $\\dots$ \\\\\n",
       "\t17 & Belgium & 0 & 0 & 0 & 0 & 0 & $\\dots$ \\\\\n",
       "\t18 & Benin & 0 & 0 & 0 & 0 & 0 & $\\dots$ \\\\\n",
       "\t19 & Bhutan & 0 & 0 & 0 & 0 & 0 & $\\dots$ \\\\\n",
       "\t20 & Bolivia & 0 & 0 & 0 & 0 & 0 & $\\dots$ \\\\\n",
       "\t21 & Bosnia and Herzegovina & 0 & 0 & 0 & 0 & 0 & $\\dots$ \\\\\n",
       "\t22 & Brazil & 0 & 0 & 0 & 0 & 0 & $\\dots$ \\\\\n",
       "\t23 & Brunei & 0 & 0 & 0 & 0 & 0 & $\\dots$ \\\\\n",
       "\t24 & Bulgaria & 0 & 0 & 0 & 0 & 0 & $\\dots$ \\\\\n",
       "\t25 & Burkina Faso & 0 & 0 & 0 & 0 & 0 & $\\dots$ \\\\\n",
       "\t26 & Cabo Verde & 0 & 0 & 0 & 0 & 0 & $\\dots$ \\\\\n",
       "\t27 & Cambodia & 0 & 0 & 0 & 0 & 0 & $\\dots$ \\\\\n",
       "\t28 & Cameroon & 0 & 0 & 0 & 0 & 0 & $\\dots$ \\\\\n",
       "\t29 & Canada & 0 & 0 & 0 & 0 & 1 & $\\dots$ \\\\\n",
       "\t30 & Central African Republic & 0 & 0 & 0 & 0 & 0 & $\\dots$ \\\\\n",
       "\t$\\dots$ & $\\dots$ & $\\dots$ & $\\dots$ & $\\dots$ & $\\dots$ & $\\dots$ &  \\\\\n",
       "\\end{tabular}\n"
      ],
      "text/plain": [
       "184×78 DataFrame. Omitted printing of 74 columns\n",
       "│ Row │ Country               │ 1/22/20_sum │ 1/23/20_sum │ 1/24/20_sum │\n",
       "│     │ \u001b[90mString\u001b[39m                │ \u001b[90mInt64\u001b[39m       │ \u001b[90mInt64\u001b[39m       │ \u001b[90mInt64\u001b[39m       │\n",
       "├─────┼───────────────────────┼─────────────┼─────────────┼─────────────┤\n",
       "│ 1   │ Afghanistan           │ 0           │ 0           │ 0           │\n",
       "│ 2   │ Albania               │ 0           │ 0           │ 0           │\n",
       "│ 3   │ Algeria               │ 0           │ 0           │ 0           │\n",
       "│ 4   │ Andorra               │ 0           │ 0           │ 0           │\n",
       "│ 5   │ Angola                │ 0           │ 0           │ 0           │\n",
       "│ 6   │ Antigua and Barbuda   │ 0           │ 0           │ 0           │\n",
       "│ 7   │ Argentina             │ 0           │ 0           │ 0           │\n",
       "│ 8   │ Armenia               │ 0           │ 0           │ 0           │\n",
       "│ 9   │ Australia             │ 0           │ 0           │ 0           │\n",
       "│ 10  │ Austria               │ 0           │ 0           │ 0           │\n",
       "⋮\n",
       "│ 174 │ Saint Kitts and Nevis │ 0           │ 0           │ 0           │\n",
       "│ 175 │ Kosovo                │ 0           │ 0           │ 0           │\n",
       "│ 176 │ Burma                 │ 0           │ 0           │ 0           │\n",
       "│ 177 │ MS Zaandam            │ 0           │ 0           │ 0           │\n",
       "│ 178 │ Botswana              │ 0           │ 0           │ 0           │\n",
       "│ 179 │ Burundi               │ 0           │ 0           │ 0           │\n",
       "│ 180 │ Sierra Leone          │ 0           │ 0           │ 0           │\n",
       "│ 181 │ Malawi                │ 0           │ 0           │ 0           │\n",
       "│ 182 │ South Sudan           │ 0           │ 0           │ 0           │\n",
       "│ 183 │ Western Sahara        │ 0           │ 0           │ 0           │\n",
       "│ 184 │ Sao Tome and Principe │ 0           │ 0           │ 0           │"
      ]
     },
     "execution_count": 14,
     "metadata": {},
     "output_type": "execute_result"
    }
   ],
   "source": [
    "for row in eachrow(df1)\n",
    "    if row[:Country] == \"Hong Kong\"\n",
    "        row[:Country] = \"Mainland China\"\n",
    "    end\n",
    "end\n",
    "\n",
    "adf = aggregate(df1, :Country, sum) # объединили регионы в страны"
   ]
  },
  {
   "cell_type": "code",
   "execution_count": 31,
   "metadata": {},
   "outputs": [
    {
     "data": {
      "text/plain": [
       "\"summarized.csv\""
      ]
     },
     "execution_count": 31,
     "metadata": {},
     "output_type": "execute_result"
    }
   ],
   "source": [
    "rename!(adf, Symbol.( [\"Country\"; datez] ) )\n",
    "\n",
    "for row in eachrow(adf)\n",
    "    if row[:Country] == \"Mainland China\"\n",
    "        row[:Country] = \"China\"\n",
    "    elseif row[:Country] == \"US\"\n",
    "        row[:Country] = \"United States\"\n",
    "    elseif row[:Country] == \"UK\"\n",
    "        row[:Country] = \"United Kingdom\"\n",
    "    end\n",
    "end\n",
    "CSV.write(\"summarized.csv\", adf)"
   ]
  },
  {
   "cell_type": "markdown",
   "metadata": {},
   "source": [
    "# Рисуем карту\n",
    "\n",
    "данные для границ качаем тута https://hub.arcgis.com/datasets/a21fdb46d23e4ef896f31475217cbb08_1/data\n",
    "нужно закинуть в рабочую директорию .csv и .shp"
   ]
  },
  {
   "cell_type": "code",
   "execution_count": 32,
   "metadata": {},
   "outputs": [
    {
     "name": "stderr",
     "output_type": "stream",
     "text": [
      "┌ Info: Precompiling Luxor [ae8d54c2-7ccd-5906-9d76-62fc9837b5bc]\n",
      "└ @ Base loading.jl:1273\n"
     ]
    }
   ],
   "source": [
    "using Shapefile, Luxor\n",
    "using ColorSchemes\n",
    "\n",
    "include(joinpath(dirname(pathof(Luxor)), \"readshapefiles.jl\"))"
   ]
  },
  {
   "cell_type": "code",
   "execution_count": 51,
   "metadata": {},
   "outputs": [
    {
     "data": {
      "text/plain": [
       "draw_corona_map (generic function with 1 method)"
      ]
     },
     "execution_count": 51,
     "metadata": {},
     "output_type": "execute_result"
    }
   ],
   "source": [
    "function draw_corona_map(outputfilename, countryoutlines, countries, corona_data, date)\n",
    "    Drawing(768, 432, outputfilename) # размер картинки\n",
    "    background(\"darkblue\")\n",
    "    origin()\n",
    "    scale(2.5, 2.5) # масштаб карты\n",
    "\n",
    "    setcolor(\"white\")\n",
    "    for country in countries\n",
    "        pgons, bbox = convert(Array{Luxor.Point, 1}, countryoutlines.shapes[country.second])\n",
    "        for pgon in pgons\n",
    "            poly(pgon, :fill)\n",
    "        end\n",
    "    end\n",
    "\n",
    "    for row in eachrow(corona_data)\n",
    "        country = row[:Country]\n",
    "        cases = row[date]\n",
    "        if haskey(countries, country)\n",
    "            id = countries[country]\n",
    "            color = get(reverse(colorschemes[:hot]), log10(cases), (0.0, 5.5))\n",
    "            setcolor((color.r,color.g,color.b))\n",
    "            pgons, bbox = convert(Array{Luxor.Point, 1}, countryoutlines.shapes[id])\n",
    "            for pgon in pgons\n",
    "                poly(pgon, :fill)\n",
    "            end\n",
    "        end\n",
    "    end\n",
    "    \n",
    "    finish()\n",
    "end"
   ]
  },
  {
   "cell_type": "code",
   "execution_count": 140,
   "metadata": {},
   "outputs": [],
   "source": [
    "worldshapefile = \"Countries_WGS84.shp\"\n",
    "countries = CSV.read(\"Countries_WGS84.csv\")\n",
    "corona_data = CSV.read(\"summarized.csv\")\n",
    "countries_dict = Dict{String, Int}()\n",
    "for row in eachrow(countries)\n",
    "    countries_dict[row[:CNTRY_NAME]] = row[:OBJECTID]\n",
    "end\n",
    "\n",
    "worldshapes = open(worldshapefile) do f\n",
    "    read(f, Shapefile.Handle)\n",
    "end;"
   ]
  },
  {
   "cell_type": "code",
   "execution_count": 53,
   "metadata": {},
   "outputs": [
    {
     "data": {
      "text/plain": [
       "true"
      ]
     },
     "execution_count": 53,
     "metadata": {},
     "output_type": "execute_result"
    }
   ],
   "source": [
    "date = Symbol(\"2020-01-22\")\n",
    "draw_corona_map(\"corona-map.png\", worldshapes, countries_dict, corona_data, date)\n",
    "# в рабочей директории появилось картинко"
   ]
  },
  {
   "cell_type": "markdown",
   "metadata": {},
   "source": [
    "насоздовываем кучу картинок для анимации"
   ]
  },
  {
   "cell_type": "code",
   "execution_count": 141,
   "metadata": {},
   "outputs": [],
   "source": [
    "start_date = Date(2020,1,22)\n",
    "dates = Vector{Symbol}(undef, ncol(corona_data)-1)\n",
    "for i=0:ncol(corona_data)-2\n",
    "    new_date = start_date + Dates.Day(i)\n",
    "    dates[i+1] = Symbol(Dates.format(new_date, \"yyyy-mm-dd\"))\n",
    "end\n",
    "t = 0\n",
    "for date in dates\n",
    "    fname_pad = lpad(t, 3, \"0\")\n",
    "    draw_corona_map(\"images/corona-map-$fname_pad.png\", worldshapes, countries_dict, corona_data, date)\n",
    "    t += 1\n",
    "end"
   ]
  },
  {
   "cell_type": "markdown",
   "metadata": {},
   "source": [
    "# Прогнозы (карикатура)"
   ]
  },
  {
   "cell_type": "markdown",
   "metadata": {},
   "source": [
    "https://habr.com/ru/post/440618/"
   ]
  },
  {
   "cell_type": "code",
   "execution_count": 40,
   "metadata": {
    "scrolled": false
   },
   "outputs": [
    {
     "name": "stderr",
     "output_type": "stream",
     "text": [
      "┌ Info: Precompiling Optim [429524aa-4258-5aef-a3af-852621145aeb]\n",
      "└ @ Base loading.jl:1273\n"
     ]
    }
   ],
   "source": [
    "using Optim"
   ]
  },
  {
   "cell_type": "code",
   "execution_count": 65,
   "metadata": {},
   "outputs": [
    {
     "data": {
      "text/plain": [
       " * Status: success\n",
       "\n",
       " * Candidate solution\n",
       "    Minimizer: [1.35e-02, 1.74e-01]\n",
       "    Minimum:   4.829564e+05\n",
       "\n",
       " * Found with\n",
       "    Algorithm:     Nelder-Mead\n",
       "    Initial Point: [1.00e-02, 2.00e-01]\n",
       "\n",
       " * Convergence measures\n",
       "    √(Σ(yᵢ-ȳ)²)/n ≤ 1.0e-08\n",
       "\n",
       " * Work counters\n",
       "    Seconds run:   0  (vs limit Inf)\n",
       "    Iterations:    78\n",
       "    f(x) calls:    158\n"
      ]
     },
     "execution_count": 65,
     "metadata": {},
     "output_type": "execute_result"
    }
   ],
   "source": [
    "F(p, x) = p[1]*exp(p[2]*x) \n",
    "\n",
    "model(p) = sum( [ (F(p, xdata[i]) - ydata[i])^2 for i = 1:length(xdata)] )\n",
    "\n",
    "xdata = 0:length(datez)-1\n",
    "ydata = confd\n",
    "\n",
    "res = optimize(model, [0.01, 0.2])"
   ]
  },
  {
   "cell_type": "code",
   "execution_count": 73,
   "metadata": {},
   "outputs": [
    {
     "data": {
      "image/svg+xml": [
       "<?xml version=\"1.0\" encoding=\"utf-8\"?>\n",
       "<svg xmlns=\"http://www.w3.org/2000/svg\" xmlns:xlink=\"http://www.w3.org/1999/xlink\" width=\"600\" height=\"400\" viewBox=\"0 0 2400 1600\">\n",
       "<defs>\n",
       "  <clipPath id=\"clip8900\">\n",
       "    <rect x=\"0\" y=\"0\" width=\"2400\" height=\"1600\"/>\n",
       "  </clipPath>\n",
       "</defs>\n",
       "<path clip-path=\"url(#clip8900)\" d=\"\n",
       "M0 1600 L2400 1600 L2400 0 L0 0  Z\n",
       "  \" fill=\"#ffffff\" fill-rule=\"evenodd\" fill-opacity=\"1\"/>\n",
       "<defs>\n",
       "  <clipPath id=\"clip8901\">\n",
       "    <rect x=\"480\" y=\"0\" width=\"1681\" height=\"1600\"/>\n",
       "  </clipPath>\n",
       "</defs>\n",
       "<path clip-path=\"url(#clip8900)\" d=\"\n",
       "M194.041 1487.47 L2352.76 1487.47 L2352.76 47.2441 L194.041 47.2441  Z\n",
       "  \" fill=\"#ffffff\" fill-rule=\"evenodd\" fill-opacity=\"1\"/>\n",
       "<defs>\n",
       "  <clipPath id=\"clip8902\">\n",
       "    <rect x=\"194\" y=\"47\" width=\"2160\" height=\"1441\"/>\n",
       "  </clipPath>\n",
       "</defs>\n",
       "<polyline clip-path=\"url(#clip8902)\" style=\"stroke:#000000; stroke-width:2; stroke-opacity:0.1; fill:none\" points=\"\n",
       "  228.341,1487.47 228.341,47.2441 \n",
       "  \"/>\n",
       "<polyline clip-path=\"url(#clip8902)\" style=\"stroke:#000000; stroke-width:2; stroke-opacity:0.1; fill:none\" points=\"\n",
       "  764.268,1487.47 764.268,47.2441 \n",
       "  \"/>\n",
       "<polyline clip-path=\"url(#clip8902)\" style=\"stroke:#000000; stroke-width:2; stroke-opacity:0.1; fill:none\" points=\"\n",
       "  1300.2,1487.47 1300.2,47.2441 \n",
       "  \"/>\n",
       "<polyline clip-path=\"url(#clip8902)\" style=\"stroke:#000000; stroke-width:2; stroke-opacity:0.1; fill:none\" points=\"\n",
       "  1836.12,1487.47 1836.12,47.2441 \n",
       "  \"/>\n",
       "<polyline clip-path=\"url(#clip8902)\" style=\"stroke:#000000; stroke-width:2; stroke-opacity:0.1; fill:none\" points=\"\n",
       "  194.041,1446.71 2352.76,1446.71 \n",
       "  \"/>\n",
       "<polyline clip-path=\"url(#clip8902)\" style=\"stroke:#000000; stroke-width:2; stroke-opacity:0.1; fill:none\" points=\"\n",
       "  194.041,1084.25 2352.76,1084.25 \n",
       "  \"/>\n",
       "<polyline clip-path=\"url(#clip8902)\" style=\"stroke:#000000; stroke-width:2; stroke-opacity:0.1; fill:none\" points=\"\n",
       "  194.041,721.779 2352.76,721.779 \n",
       "  \"/>\n",
       "<polyline clip-path=\"url(#clip8902)\" style=\"stroke:#000000; stroke-width:2; stroke-opacity:0.1; fill:none\" points=\"\n",
       "  194.041,359.312 2352.76,359.312 \n",
       "  \"/>\n",
       "<polyline clip-path=\"url(#clip8900)\" style=\"stroke:#000000; stroke-width:4; stroke-opacity:1; fill:none\" points=\"\n",
       "  194.041,1487.47 2352.76,1487.47 \n",
       "  \"/>\n",
       "<polyline clip-path=\"url(#clip8900)\" style=\"stroke:#000000; stroke-width:4; stroke-opacity:1; fill:none\" points=\"\n",
       "  194.041,1487.47 194.041,47.2441 \n",
       "  \"/>\n",
       "<polyline clip-path=\"url(#clip8900)\" style=\"stroke:#000000; stroke-width:4; stroke-opacity:1; fill:none\" points=\"\n",
       "  228.341,1487.47 228.341,1470.19 \n",
       "  \"/>\n",
       "<polyline clip-path=\"url(#clip8900)\" style=\"stroke:#000000; stroke-width:4; stroke-opacity:1; fill:none\" points=\"\n",
       "  764.268,1487.47 764.268,1470.19 \n",
       "  \"/>\n",
       "<polyline clip-path=\"url(#clip8900)\" style=\"stroke:#000000; stroke-width:4; stroke-opacity:1; fill:none\" points=\"\n",
       "  1300.2,1487.47 1300.2,1470.19 \n",
       "  \"/>\n",
       "<polyline clip-path=\"url(#clip8900)\" style=\"stroke:#000000; stroke-width:4; stroke-opacity:1; fill:none\" points=\"\n",
       "  1836.12,1487.47 1836.12,1470.19 \n",
       "  \"/>\n",
       "<polyline clip-path=\"url(#clip8900)\" style=\"stroke:#000000; stroke-width:4; stroke-opacity:1; fill:none\" points=\"\n",
       "  194.041,1446.71 219.946,1446.71 \n",
       "  \"/>\n",
       "<polyline clip-path=\"url(#clip8900)\" style=\"stroke:#000000; stroke-width:4; stroke-opacity:1; fill:none\" points=\"\n",
       "  194.041,1084.25 219.946,1084.25 \n",
       "  \"/>\n",
       "<polyline clip-path=\"url(#clip8900)\" style=\"stroke:#000000; stroke-width:4; stroke-opacity:1; fill:none\" points=\"\n",
       "  194.041,721.779 219.946,721.779 \n",
       "  \"/>\n",
       "<polyline clip-path=\"url(#clip8900)\" style=\"stroke:#000000; stroke-width:4; stroke-opacity:1; fill:none\" points=\"\n",
       "  194.041,359.312 219.946,359.312 \n",
       "  \"/>\n",
       "<g clip-path=\"url(#clip8900)\">\n",
       "<text style=\"fill:#000000; fill-opacity:1; font-family:Arial,Helvetica Neue,Helvetica,sans-serif; font-size:48px; text-anchor:middle;\" transform=\"rotate(0, 228.341, 1541.47)\" x=\"228.341\" y=\"1541.47\">0</text>\n",
       "</g>\n",
       "<g clip-path=\"url(#clip8900)\">\n",
       "<text style=\"fill:#000000; fill-opacity:1; font-family:Arial,Helvetica Neue,Helvetica,sans-serif; font-size:48px; text-anchor:middle;\" transform=\"rotate(0, 764.268, 1541.47)\" x=\"764.268\" y=\"1541.47\">20</text>\n",
       "</g>\n",
       "<g clip-path=\"url(#clip8900)\">\n",
       "<text style=\"fill:#000000; fill-opacity:1; font-family:Arial,Helvetica Neue,Helvetica,sans-serif; font-size:48px; text-anchor:middle;\" transform=\"rotate(0, 1300.2, 1541.47)\" x=\"1300.2\" y=\"1541.47\">40</text>\n",
       "</g>\n",
       "<g clip-path=\"url(#clip8900)\">\n",
       "<text style=\"fill:#000000; fill-opacity:1; font-family:Arial,Helvetica Neue,Helvetica,sans-serif; font-size:48px; text-anchor:middle;\" transform=\"rotate(0, 1836.12, 1541.47)\" x=\"1836.12\" y=\"1541.47\">60</text>\n",
       "</g>\n",
       "<g clip-path=\"url(#clip8900)\">\n",
       "<text style=\"fill:#000000; fill-opacity:1; font-family:Arial,Helvetica Neue,Helvetica,sans-serif; font-size:48px; text-anchor:end;\" transform=\"rotate(0, 170.041, 1464.21)\" x=\"170.041\" y=\"1464.21\">0</text>\n",
       "</g>\n",
       "<g clip-path=\"url(#clip8900)\">\n",
       "<text style=\"fill:#000000; fill-opacity:1; font-family:Arial,Helvetica Neue,Helvetica,sans-serif; font-size:48px; text-anchor:end;\" transform=\"rotate(0, 170.041, 1101.75)\" x=\"170.041\" y=\"1101.75\">2000</text>\n",
       "</g>\n",
       "<g clip-path=\"url(#clip8900)\">\n",
       "<text style=\"fill:#000000; fill-opacity:1; font-family:Arial,Helvetica Neue,Helvetica,sans-serif; font-size:48px; text-anchor:end;\" transform=\"rotate(0, 170.041, 739.279)\" x=\"170.041\" y=\"739.279\">4000</text>\n",
       "</g>\n",
       "<g clip-path=\"url(#clip8900)\">\n",
       "<text style=\"fill:#000000; fill-opacity:1; font-family:Arial,Helvetica Neue,Helvetica,sans-serif; font-size:48px; text-anchor:end;\" transform=\"rotate(0, 170.041, 376.812)\" x=\"170.041\" y=\"376.812\">6000</text>\n",
       "</g>\n",
       "<polyline clip-path=\"url(#clip8902)\" style=\"stroke:#009af9; stroke-width:12; stroke-opacity:1; fill:none\" points=\"\n",
       "  255.137,1446.71 281.934,1446.71 308.73,1446.71 335.526,1446.71 362.323,1446.71 389.119,1446.71 415.915,1446.71 442.712,1446.71 469.508,1446.71 496.304,1446.35 \n",
       "  523.101,1446.35 549.897,1446.35 576.693,1446.35 603.49,1446.35 630.286,1446.35 657.083,1446.35 683.879,1446.35 710.675,1446.35 737.472,1446.35 764.268,1446.35 \n",
       "  791.064,1446.35 817.861,1446.35 844.657,1446.35 871.453,1446.35 898.25,1446.35 925.046,1446.35 951.842,1446.35 978.639,1446.35 1005.44,1446.35 1032.23,1446.35 \n",
       "  1059.03,1446.35 1085.82,1446.35 1112.62,1446.35 1139.42,1446.35 1166.21,1446.35 1193.01,1446.35 1219.81,1446.35 1246.6,1446.35 1273.4,1446.35 1300.2,1446.35 \n",
       "  1326.99,1446.17 1353.79,1446.17 1380.58,1446.17 1407.38,1445.99 1434.18,1444.36 1460.97,1444.36 1487.77,1443.63 1514.57,1443.63 1541.36,1443.09 1568.16,1443.09 \n",
       "  1594.95,1441.64 1621.75,1438.56 1648.55,1436.02 1675.34,1435.3 1702.14,1430.4 1728.94,1426.05 1755.73,1420.07 1782.53,1410.65 1809.33,1400.86 1836.12,1391.26 \n",
       "  1862.92,1380.2 1889.71,1367.33 1916.51,1357 1943.31,1327.46 1970.1,1294.48 1996.9,1258.96 2023.7,1217.63 2050.49,1168.7 2077.29,1113.97 2104.09,1023.17 \n",
       "  2130.88,943.428 2157.68,803.697 2184.47,694.775 2211.27,589.297 2238.07,470.046 2264.86,297.149 2291.66,88.0053 \n",
       "  \"/>\n",
       "<circle clip-path=\"url(#clip8902)\" cx=\"255.137\" cy=\"1446.71\" r=\"14\" fill=\"#e26f46\" fill-rule=\"evenodd\" fill-opacity=\"1\" stroke=\"#000000\" stroke-opacity=\"1\" stroke-width=\"3.2\"/>\n",
       "<circle clip-path=\"url(#clip8902)\" cx=\"281.934\" cy=\"1446.71\" r=\"14\" fill=\"#e26f46\" fill-rule=\"evenodd\" fill-opacity=\"1\" stroke=\"#000000\" stroke-opacity=\"1\" stroke-width=\"3.2\"/>\n",
       "<circle clip-path=\"url(#clip8902)\" cx=\"308.73\" cy=\"1446.71\" r=\"14\" fill=\"#e26f46\" fill-rule=\"evenodd\" fill-opacity=\"1\" stroke=\"#000000\" stroke-opacity=\"1\" stroke-width=\"3.2\"/>\n",
       "<circle clip-path=\"url(#clip8902)\" cx=\"335.526\" cy=\"1446.71\" r=\"14\" fill=\"#e26f46\" fill-rule=\"evenodd\" fill-opacity=\"1\" stroke=\"#000000\" stroke-opacity=\"1\" stroke-width=\"3.2\"/>\n",
       "<circle clip-path=\"url(#clip8902)\" cx=\"362.323\" cy=\"1446.71\" r=\"14\" fill=\"#e26f46\" fill-rule=\"evenodd\" fill-opacity=\"1\" stroke=\"#000000\" stroke-opacity=\"1\" stroke-width=\"3.2\"/>\n",
       "<circle clip-path=\"url(#clip8902)\" cx=\"389.119\" cy=\"1446.71\" r=\"14\" fill=\"#e26f46\" fill-rule=\"evenodd\" fill-opacity=\"1\" stroke=\"#000000\" stroke-opacity=\"1\" stroke-width=\"3.2\"/>\n",
       "<circle clip-path=\"url(#clip8902)\" cx=\"415.915\" cy=\"1446.71\" r=\"14\" fill=\"#e26f46\" fill-rule=\"evenodd\" fill-opacity=\"1\" stroke=\"#000000\" stroke-opacity=\"1\" stroke-width=\"3.2\"/>\n",
       "<circle clip-path=\"url(#clip8902)\" cx=\"442.712\" cy=\"1446.71\" r=\"14\" fill=\"#e26f46\" fill-rule=\"evenodd\" fill-opacity=\"1\" stroke=\"#000000\" stroke-opacity=\"1\" stroke-width=\"3.2\"/>\n",
       "<circle clip-path=\"url(#clip8902)\" cx=\"469.508\" cy=\"1446.71\" r=\"14\" fill=\"#e26f46\" fill-rule=\"evenodd\" fill-opacity=\"1\" stroke=\"#000000\" stroke-opacity=\"1\" stroke-width=\"3.2\"/>\n",
       "<circle clip-path=\"url(#clip8902)\" cx=\"496.304\" cy=\"1446.35\" r=\"14\" fill=\"#e26f46\" fill-rule=\"evenodd\" fill-opacity=\"1\" stroke=\"#000000\" stroke-opacity=\"1\" stroke-width=\"3.2\"/>\n",
       "<circle clip-path=\"url(#clip8902)\" cx=\"523.101\" cy=\"1446.35\" r=\"14\" fill=\"#e26f46\" fill-rule=\"evenodd\" fill-opacity=\"1\" stroke=\"#000000\" stroke-opacity=\"1\" stroke-width=\"3.2\"/>\n",
       "<circle clip-path=\"url(#clip8902)\" cx=\"549.897\" cy=\"1446.35\" r=\"14\" fill=\"#e26f46\" fill-rule=\"evenodd\" fill-opacity=\"1\" stroke=\"#000000\" stroke-opacity=\"1\" stroke-width=\"3.2\"/>\n",
       "<circle clip-path=\"url(#clip8902)\" cx=\"576.693\" cy=\"1446.35\" r=\"14\" fill=\"#e26f46\" fill-rule=\"evenodd\" fill-opacity=\"1\" stroke=\"#000000\" stroke-opacity=\"1\" stroke-width=\"3.2\"/>\n",
       "<circle clip-path=\"url(#clip8902)\" cx=\"603.49\" cy=\"1446.35\" r=\"14\" fill=\"#e26f46\" fill-rule=\"evenodd\" fill-opacity=\"1\" stroke=\"#000000\" stroke-opacity=\"1\" stroke-width=\"3.2\"/>\n",
       "<circle clip-path=\"url(#clip8902)\" cx=\"630.286\" cy=\"1446.35\" r=\"14\" fill=\"#e26f46\" fill-rule=\"evenodd\" fill-opacity=\"1\" stroke=\"#000000\" stroke-opacity=\"1\" stroke-width=\"3.2\"/>\n",
       "<circle clip-path=\"url(#clip8902)\" cx=\"657.083\" cy=\"1446.35\" r=\"14\" fill=\"#e26f46\" fill-rule=\"evenodd\" fill-opacity=\"1\" stroke=\"#000000\" stroke-opacity=\"1\" stroke-width=\"3.2\"/>\n",
       "<circle clip-path=\"url(#clip8902)\" cx=\"683.879\" cy=\"1446.35\" r=\"14\" fill=\"#e26f46\" fill-rule=\"evenodd\" fill-opacity=\"1\" stroke=\"#000000\" stroke-opacity=\"1\" stroke-width=\"3.2\"/>\n",
       "<circle clip-path=\"url(#clip8902)\" cx=\"710.675\" cy=\"1446.35\" r=\"14\" fill=\"#e26f46\" fill-rule=\"evenodd\" fill-opacity=\"1\" stroke=\"#000000\" stroke-opacity=\"1\" stroke-width=\"3.2\"/>\n",
       "<circle clip-path=\"url(#clip8902)\" cx=\"737.472\" cy=\"1446.35\" r=\"14\" fill=\"#e26f46\" fill-rule=\"evenodd\" fill-opacity=\"1\" stroke=\"#000000\" stroke-opacity=\"1\" stroke-width=\"3.2\"/>\n",
       "<circle clip-path=\"url(#clip8902)\" cx=\"764.268\" cy=\"1446.35\" r=\"14\" fill=\"#e26f46\" fill-rule=\"evenodd\" fill-opacity=\"1\" stroke=\"#000000\" stroke-opacity=\"1\" stroke-width=\"3.2\"/>\n",
       "<circle clip-path=\"url(#clip8902)\" cx=\"791.064\" cy=\"1446.35\" r=\"14\" fill=\"#e26f46\" fill-rule=\"evenodd\" fill-opacity=\"1\" stroke=\"#000000\" stroke-opacity=\"1\" stroke-width=\"3.2\"/>\n",
       "<circle clip-path=\"url(#clip8902)\" cx=\"817.861\" cy=\"1446.35\" r=\"14\" fill=\"#e26f46\" fill-rule=\"evenodd\" fill-opacity=\"1\" stroke=\"#000000\" stroke-opacity=\"1\" stroke-width=\"3.2\"/>\n",
       "<circle clip-path=\"url(#clip8902)\" cx=\"844.657\" cy=\"1446.35\" r=\"14\" fill=\"#e26f46\" fill-rule=\"evenodd\" fill-opacity=\"1\" stroke=\"#000000\" stroke-opacity=\"1\" stroke-width=\"3.2\"/>\n",
       "<circle clip-path=\"url(#clip8902)\" cx=\"871.453\" cy=\"1446.35\" r=\"14\" fill=\"#e26f46\" fill-rule=\"evenodd\" fill-opacity=\"1\" stroke=\"#000000\" stroke-opacity=\"1\" stroke-width=\"3.2\"/>\n",
       "<circle clip-path=\"url(#clip8902)\" cx=\"898.25\" cy=\"1446.35\" r=\"14\" fill=\"#e26f46\" fill-rule=\"evenodd\" fill-opacity=\"1\" stroke=\"#000000\" stroke-opacity=\"1\" stroke-width=\"3.2\"/>\n",
       "<circle clip-path=\"url(#clip8902)\" cx=\"925.046\" cy=\"1446.35\" r=\"14\" fill=\"#e26f46\" fill-rule=\"evenodd\" fill-opacity=\"1\" stroke=\"#000000\" stroke-opacity=\"1\" stroke-width=\"3.2\"/>\n",
       "<circle clip-path=\"url(#clip8902)\" cx=\"951.842\" cy=\"1446.35\" r=\"14\" fill=\"#e26f46\" fill-rule=\"evenodd\" fill-opacity=\"1\" stroke=\"#000000\" stroke-opacity=\"1\" stroke-width=\"3.2\"/>\n",
       "<circle clip-path=\"url(#clip8902)\" cx=\"978.639\" cy=\"1446.35\" r=\"14\" fill=\"#e26f46\" fill-rule=\"evenodd\" fill-opacity=\"1\" stroke=\"#000000\" stroke-opacity=\"1\" stroke-width=\"3.2\"/>\n",
       "<circle clip-path=\"url(#clip8902)\" cx=\"1005.44\" cy=\"1446.35\" r=\"14\" fill=\"#e26f46\" fill-rule=\"evenodd\" fill-opacity=\"1\" stroke=\"#000000\" stroke-opacity=\"1\" stroke-width=\"3.2\"/>\n",
       "<circle clip-path=\"url(#clip8902)\" cx=\"1032.23\" cy=\"1446.35\" r=\"14\" fill=\"#e26f46\" fill-rule=\"evenodd\" fill-opacity=\"1\" stroke=\"#000000\" stroke-opacity=\"1\" stroke-width=\"3.2\"/>\n",
       "<circle clip-path=\"url(#clip8902)\" cx=\"1059.03\" cy=\"1446.35\" r=\"14\" fill=\"#e26f46\" fill-rule=\"evenodd\" fill-opacity=\"1\" stroke=\"#000000\" stroke-opacity=\"1\" stroke-width=\"3.2\"/>\n",
       "<circle clip-path=\"url(#clip8902)\" cx=\"1085.82\" cy=\"1446.35\" r=\"14\" fill=\"#e26f46\" fill-rule=\"evenodd\" fill-opacity=\"1\" stroke=\"#000000\" stroke-opacity=\"1\" stroke-width=\"3.2\"/>\n",
       "<circle clip-path=\"url(#clip8902)\" cx=\"1112.62\" cy=\"1446.35\" r=\"14\" fill=\"#e26f46\" fill-rule=\"evenodd\" fill-opacity=\"1\" stroke=\"#000000\" stroke-opacity=\"1\" stroke-width=\"3.2\"/>\n",
       "<circle clip-path=\"url(#clip8902)\" cx=\"1139.42\" cy=\"1446.35\" r=\"14\" fill=\"#e26f46\" fill-rule=\"evenodd\" fill-opacity=\"1\" stroke=\"#000000\" stroke-opacity=\"1\" stroke-width=\"3.2\"/>\n",
       "<circle clip-path=\"url(#clip8902)\" cx=\"1166.21\" cy=\"1446.35\" r=\"14\" fill=\"#e26f46\" fill-rule=\"evenodd\" fill-opacity=\"1\" stroke=\"#000000\" stroke-opacity=\"1\" stroke-width=\"3.2\"/>\n",
       "<circle clip-path=\"url(#clip8902)\" cx=\"1193.01\" cy=\"1446.35\" r=\"14\" fill=\"#e26f46\" fill-rule=\"evenodd\" fill-opacity=\"1\" stroke=\"#000000\" stroke-opacity=\"1\" stroke-width=\"3.2\"/>\n",
       "<circle clip-path=\"url(#clip8902)\" cx=\"1219.81\" cy=\"1446.35\" r=\"14\" fill=\"#e26f46\" fill-rule=\"evenodd\" fill-opacity=\"1\" stroke=\"#000000\" stroke-opacity=\"1\" stroke-width=\"3.2\"/>\n",
       "<circle clip-path=\"url(#clip8902)\" cx=\"1246.6\" cy=\"1446.35\" r=\"14\" fill=\"#e26f46\" fill-rule=\"evenodd\" fill-opacity=\"1\" stroke=\"#000000\" stroke-opacity=\"1\" stroke-width=\"3.2\"/>\n",
       "<circle clip-path=\"url(#clip8902)\" cx=\"1273.4\" cy=\"1446.35\" r=\"14\" fill=\"#e26f46\" fill-rule=\"evenodd\" fill-opacity=\"1\" stroke=\"#000000\" stroke-opacity=\"1\" stroke-width=\"3.2\"/>\n",
       "<circle clip-path=\"url(#clip8902)\" cx=\"1300.2\" cy=\"1446.35\" r=\"14\" fill=\"#e26f46\" fill-rule=\"evenodd\" fill-opacity=\"1\" stroke=\"#000000\" stroke-opacity=\"1\" stroke-width=\"3.2\"/>\n",
       "<circle clip-path=\"url(#clip8902)\" cx=\"1326.99\" cy=\"1446.17\" r=\"14\" fill=\"#e26f46\" fill-rule=\"evenodd\" fill-opacity=\"1\" stroke=\"#000000\" stroke-opacity=\"1\" stroke-width=\"3.2\"/>\n",
       "<circle clip-path=\"url(#clip8902)\" cx=\"1353.79\" cy=\"1446.17\" r=\"14\" fill=\"#e26f46\" fill-rule=\"evenodd\" fill-opacity=\"1\" stroke=\"#000000\" stroke-opacity=\"1\" stroke-width=\"3.2\"/>\n",
       "<circle clip-path=\"url(#clip8902)\" cx=\"1380.58\" cy=\"1446.17\" r=\"14\" fill=\"#e26f46\" fill-rule=\"evenodd\" fill-opacity=\"1\" stroke=\"#000000\" stroke-opacity=\"1\" stroke-width=\"3.2\"/>\n",
       "<circle clip-path=\"url(#clip8902)\" cx=\"1407.38\" cy=\"1445.99\" r=\"14\" fill=\"#e26f46\" fill-rule=\"evenodd\" fill-opacity=\"1\" stroke=\"#000000\" stroke-opacity=\"1\" stroke-width=\"3.2\"/>\n",
       "<circle clip-path=\"url(#clip8902)\" cx=\"1434.18\" cy=\"1444.36\" r=\"14\" fill=\"#e26f46\" fill-rule=\"evenodd\" fill-opacity=\"1\" stroke=\"#000000\" stroke-opacity=\"1\" stroke-width=\"3.2\"/>\n",
       "<circle clip-path=\"url(#clip8902)\" cx=\"1460.97\" cy=\"1444.36\" r=\"14\" fill=\"#e26f46\" fill-rule=\"evenodd\" fill-opacity=\"1\" stroke=\"#000000\" stroke-opacity=\"1\" stroke-width=\"3.2\"/>\n",
       "<circle clip-path=\"url(#clip8902)\" cx=\"1487.77\" cy=\"1443.63\" r=\"14\" fill=\"#e26f46\" fill-rule=\"evenodd\" fill-opacity=\"1\" stroke=\"#000000\" stroke-opacity=\"1\" stroke-width=\"3.2\"/>\n",
       "<circle clip-path=\"url(#clip8902)\" cx=\"1514.57\" cy=\"1443.63\" r=\"14\" fill=\"#e26f46\" fill-rule=\"evenodd\" fill-opacity=\"1\" stroke=\"#000000\" stroke-opacity=\"1\" stroke-width=\"3.2\"/>\n",
       "<circle clip-path=\"url(#clip8902)\" cx=\"1541.36\" cy=\"1443.09\" r=\"14\" fill=\"#e26f46\" fill-rule=\"evenodd\" fill-opacity=\"1\" stroke=\"#000000\" stroke-opacity=\"1\" stroke-width=\"3.2\"/>\n",
       "<circle clip-path=\"url(#clip8902)\" cx=\"1568.16\" cy=\"1443.09\" r=\"14\" fill=\"#e26f46\" fill-rule=\"evenodd\" fill-opacity=\"1\" stroke=\"#000000\" stroke-opacity=\"1\" stroke-width=\"3.2\"/>\n",
       "<circle clip-path=\"url(#clip8902)\" cx=\"1594.95\" cy=\"1441.64\" r=\"14\" fill=\"#e26f46\" fill-rule=\"evenodd\" fill-opacity=\"1\" stroke=\"#000000\" stroke-opacity=\"1\" stroke-width=\"3.2\"/>\n",
       "<circle clip-path=\"url(#clip8902)\" cx=\"1621.75\" cy=\"1438.56\" r=\"14\" fill=\"#e26f46\" fill-rule=\"evenodd\" fill-opacity=\"1\" stroke=\"#000000\" stroke-opacity=\"1\" stroke-width=\"3.2\"/>\n",
       "<circle clip-path=\"url(#clip8902)\" cx=\"1648.55\" cy=\"1436.02\" r=\"14\" fill=\"#e26f46\" fill-rule=\"evenodd\" fill-opacity=\"1\" stroke=\"#000000\" stroke-opacity=\"1\" stroke-width=\"3.2\"/>\n",
       "<circle clip-path=\"url(#clip8902)\" cx=\"1675.34\" cy=\"1435.3\" r=\"14\" fill=\"#e26f46\" fill-rule=\"evenodd\" fill-opacity=\"1\" stroke=\"#000000\" stroke-opacity=\"1\" stroke-width=\"3.2\"/>\n",
       "<circle clip-path=\"url(#clip8902)\" cx=\"1702.14\" cy=\"1430.4\" r=\"14\" fill=\"#e26f46\" fill-rule=\"evenodd\" fill-opacity=\"1\" stroke=\"#000000\" stroke-opacity=\"1\" stroke-width=\"3.2\"/>\n",
       "<circle clip-path=\"url(#clip8902)\" cx=\"1728.94\" cy=\"1426.05\" r=\"14\" fill=\"#e26f46\" fill-rule=\"evenodd\" fill-opacity=\"1\" stroke=\"#000000\" stroke-opacity=\"1\" stroke-width=\"3.2\"/>\n",
       "<circle clip-path=\"url(#clip8902)\" cx=\"1755.73\" cy=\"1420.07\" r=\"14\" fill=\"#e26f46\" fill-rule=\"evenodd\" fill-opacity=\"1\" stroke=\"#000000\" stroke-opacity=\"1\" stroke-width=\"3.2\"/>\n",
       "<circle clip-path=\"url(#clip8902)\" cx=\"1782.53\" cy=\"1410.65\" r=\"14\" fill=\"#e26f46\" fill-rule=\"evenodd\" fill-opacity=\"1\" stroke=\"#000000\" stroke-opacity=\"1\" stroke-width=\"3.2\"/>\n",
       "<circle clip-path=\"url(#clip8902)\" cx=\"1809.33\" cy=\"1400.86\" r=\"14\" fill=\"#e26f46\" fill-rule=\"evenodd\" fill-opacity=\"1\" stroke=\"#000000\" stroke-opacity=\"1\" stroke-width=\"3.2\"/>\n",
       "<circle clip-path=\"url(#clip8902)\" cx=\"1836.12\" cy=\"1391.26\" r=\"14\" fill=\"#e26f46\" fill-rule=\"evenodd\" fill-opacity=\"1\" stroke=\"#000000\" stroke-opacity=\"1\" stroke-width=\"3.2\"/>\n",
       "<circle clip-path=\"url(#clip8902)\" cx=\"1862.92\" cy=\"1380.2\" r=\"14\" fill=\"#e26f46\" fill-rule=\"evenodd\" fill-opacity=\"1\" stroke=\"#000000\" stroke-opacity=\"1\" stroke-width=\"3.2\"/>\n",
       "<circle clip-path=\"url(#clip8902)\" cx=\"1889.71\" cy=\"1367.33\" r=\"14\" fill=\"#e26f46\" fill-rule=\"evenodd\" fill-opacity=\"1\" stroke=\"#000000\" stroke-opacity=\"1\" stroke-width=\"3.2\"/>\n",
       "<circle clip-path=\"url(#clip8902)\" cx=\"1916.51\" cy=\"1357\" r=\"14\" fill=\"#e26f46\" fill-rule=\"evenodd\" fill-opacity=\"1\" stroke=\"#000000\" stroke-opacity=\"1\" stroke-width=\"3.2\"/>\n",
       "<circle clip-path=\"url(#clip8902)\" cx=\"1943.31\" cy=\"1327.46\" r=\"14\" fill=\"#e26f46\" fill-rule=\"evenodd\" fill-opacity=\"1\" stroke=\"#000000\" stroke-opacity=\"1\" stroke-width=\"3.2\"/>\n",
       "<circle clip-path=\"url(#clip8902)\" cx=\"1970.1\" cy=\"1294.48\" r=\"14\" fill=\"#e26f46\" fill-rule=\"evenodd\" fill-opacity=\"1\" stroke=\"#000000\" stroke-opacity=\"1\" stroke-width=\"3.2\"/>\n",
       "<circle clip-path=\"url(#clip8902)\" cx=\"1996.9\" cy=\"1258.96\" r=\"14\" fill=\"#e26f46\" fill-rule=\"evenodd\" fill-opacity=\"1\" stroke=\"#000000\" stroke-opacity=\"1\" stroke-width=\"3.2\"/>\n",
       "<circle clip-path=\"url(#clip8902)\" cx=\"2023.7\" cy=\"1217.63\" r=\"14\" fill=\"#e26f46\" fill-rule=\"evenodd\" fill-opacity=\"1\" stroke=\"#000000\" stroke-opacity=\"1\" stroke-width=\"3.2\"/>\n",
       "<circle clip-path=\"url(#clip8902)\" cx=\"2050.49\" cy=\"1168.7\" r=\"14\" fill=\"#e26f46\" fill-rule=\"evenodd\" fill-opacity=\"1\" stroke=\"#000000\" stroke-opacity=\"1\" stroke-width=\"3.2\"/>\n",
       "<circle clip-path=\"url(#clip8902)\" cx=\"2077.29\" cy=\"1113.97\" r=\"14\" fill=\"#e26f46\" fill-rule=\"evenodd\" fill-opacity=\"1\" stroke=\"#000000\" stroke-opacity=\"1\" stroke-width=\"3.2\"/>\n",
       "<circle clip-path=\"url(#clip8902)\" cx=\"2104.09\" cy=\"1023.17\" r=\"14\" fill=\"#e26f46\" fill-rule=\"evenodd\" fill-opacity=\"1\" stroke=\"#000000\" stroke-opacity=\"1\" stroke-width=\"3.2\"/>\n",
       "<circle clip-path=\"url(#clip8902)\" cx=\"2130.88\" cy=\"943.428\" r=\"14\" fill=\"#e26f46\" fill-rule=\"evenodd\" fill-opacity=\"1\" stroke=\"#000000\" stroke-opacity=\"1\" stroke-width=\"3.2\"/>\n",
       "<circle clip-path=\"url(#clip8902)\" cx=\"2157.68\" cy=\"803.697\" r=\"14\" fill=\"#e26f46\" fill-rule=\"evenodd\" fill-opacity=\"1\" stroke=\"#000000\" stroke-opacity=\"1\" stroke-width=\"3.2\"/>\n",
       "<circle clip-path=\"url(#clip8902)\" cx=\"2184.47\" cy=\"694.775\" r=\"14\" fill=\"#e26f46\" fill-rule=\"evenodd\" fill-opacity=\"1\" stroke=\"#000000\" stroke-opacity=\"1\" stroke-width=\"3.2\"/>\n",
       "<circle clip-path=\"url(#clip8902)\" cx=\"2211.27\" cy=\"589.297\" r=\"14\" fill=\"#e26f46\" fill-rule=\"evenodd\" fill-opacity=\"1\" stroke=\"#000000\" stroke-opacity=\"1\" stroke-width=\"3.2\"/>\n",
       "<circle clip-path=\"url(#clip8902)\" cx=\"2238.07\" cy=\"470.046\" r=\"14\" fill=\"#e26f46\" fill-rule=\"evenodd\" fill-opacity=\"1\" stroke=\"#000000\" stroke-opacity=\"1\" stroke-width=\"3.2\"/>\n",
       "<circle clip-path=\"url(#clip8902)\" cx=\"2264.86\" cy=\"297.149\" r=\"14\" fill=\"#e26f46\" fill-rule=\"evenodd\" fill-opacity=\"1\" stroke=\"#000000\" stroke-opacity=\"1\" stroke-width=\"3.2\"/>\n",
       "<circle clip-path=\"url(#clip8902)\" cx=\"2291.66\" cy=\"88.0053\" r=\"14\" fill=\"#e26f46\" fill-rule=\"evenodd\" fill-opacity=\"1\" stroke=\"#000000\" stroke-opacity=\"1\" stroke-width=\"3.2\"/>\n",
       "</svg>\n"
      ]
     },
     "execution_count": 73,
     "metadata": {},
     "output_type": "execute_result"
    }
   ],
   "source": [
    "P = Optim.minimizer(res)\n",
    "Y = [ F(P, x) for x in xdata];\n",
    "\n",
    "plot(ydata, line = 3)\n",
    "scatter!(confd, legend = false)"
   ]
  },
  {
   "cell_type": "code",
   "execution_count": 120,
   "metadata": {},
   "outputs": [
    {
     "name": "stdout",
     "output_type": "stream",
     "text": [
      "........................................................................................................................................................................................"
     ]
    }
   ],
   "source": [
    "# Коэффициенты для каждой страны\n",
    "\n",
    "A = zeros(size(adf, 1))\n",
    "B = copy(A);\n",
    "\n",
    "for i in 1:length(A)\n",
    "    ydata = Vector(df1[i, :])[2:end] # данные по конкретной стране\n",
    "    res = optimize(model, [0.01, 0.2])\n",
    "    P = Optim.minimizer(res)\n",
    "    A[i] = P[1]\n",
    "    B[i] = P[2]\n",
    "    print('.')\n",
    "end"
   ]
  },
  {
   "cell_type": "code",
   "execution_count": 121,
   "metadata": {},
   "outputs": [
    {
     "data": {
      "text/plain": [
       "(184, 150)"
      ]
     },
     "execution_count": 121,
     "metadata": {},
     "output_type": "execute_result"
    }
   ],
   "source": [
    "M = [ F([A[i], B[i]], x) for i = 1:length(A), x = 1:150 ]; # 150 дней от появления нулевого пациента\n",
    "size(M)"
   ]
  },
  {
   "cell_type": "code",
   "execution_count": 138,
   "metadata": {},
   "outputs": [
    {
     "data": {
      "text/plain": [
       "184-element Array{Float64,1}:\n",
       "      7.701479146881545e6 \n",
       " 427901.2017536977        \n",
       "      2.004955740578915e7 \n",
       "      1.0261211952059015e6\n",
       " 429190.0832286866        \n",
       " 206574.6263145402        \n",
       "      8.285995346608256e6 \n",
       "      2.1719312925443584e6\n",
       " 132537.20648561761       \n",
       "      3.575954169641867e6 \n",
       " 106146.48135803909       \n",
       " 770796.4745891588        \n",
       " 417308.2730095735        \n",
       "      ⋮                   \n",
       "      4.819767198103541e10\n",
       "      2.5754296817203714e6\n",
       "      2.6316269523846703e6\n",
       "      1.811329517302328e6 \n",
       " 945608.3186537485        \n",
       "      1.8408302002015248e7\n",
       "      1.8478072313441835e7\n",
       "    737.3542315142364     \n",
       " 299367.8262896169        \n",
       "      1.1327588448049158e8\n",
       "      6.467009233457769e7 \n",
       "      4.875209236116815e7 "
      ]
     },
     "execution_count": 138,
     "metadata": {},
     "output_type": "execute_result"
    }
   ],
   "source": [
    "datez2 = [datez[1] + Dates.Day(i) for i = 0:149 ]\n",
    "\n",
    "dataz = DataFrame( M )\n",
    "\n",
    "rename!(dataz, Symbol.( datez2 ) )\n",
    "\n",
    "dataz = hcat(adf[!,1], dataz)\n",
    "\n",
    "rename!(dataz, :x1 => :Country)\n",
    "\n",
    "dataz[!,end]"
   ]
  },
  {
   "cell_type": "markdown",
   "metadata": {},
   "source": [
    "В некоторых странах количество заразившихся превышает население!\n",
    "Невероятно!"
   ]
  },
  {
   "cell_type": "code",
   "execution_count": 139,
   "metadata": {},
   "outputs": [
    {
     "data": {
      "text/plain": [
       "\"summarized.csv\""
      ]
     },
     "execution_count": 139,
     "metadata": {},
     "output_type": "execute_result"
    }
   ],
   "source": [
    "CSV.write(\"summarized.csv\", dataz)"
   ]
  },
  {
   "cell_type": "code",
   "execution_count": null,
   "metadata": {},
   "outputs": [],
   "source": []
  },
  {
   "cell_type": "code",
   "execution_count": null,
   "metadata": {},
   "outputs": [],
   "source": []
  },
  {
   "cell_type": "code",
   "execution_count": null,
   "metadata": {},
   "outputs": [],
   "source": []
  },
  {
   "cell_type": "code",
   "execution_count": null,
   "metadata": {},
   "outputs": [],
   "source": []
  }
 ],
 "metadata": {
  "kernelspec": {
   "display_name": "Julia 1.3.1",
   "language": "julia",
   "name": "julia-1.3"
  },
  "language_info": {
   "file_extension": ".jl",
   "mimetype": "application/julia",
   "name": "julia",
   "version": "1.3.1"
  }
 },
 "nbformat": 4,
 "nbformat_minor": 2
}
