{
 "cells": [
  {
   "cell_type": "code",
   "execution_count": 1,
   "metadata": {},
   "outputs": [
    {
     "data": {
      "image/png": "[encoded data removed]",
      "text/plain": [
       "11×11 Array{Gray{N0f8},2} with eltype Gray{Normed{UInt8,8}}:\n",
       " Gray{N0f8}(0.0)  Gray{N0f8}(0.0)  …  Gray{N0f8}(0.0)  Gray{N0f8}(0.0)\n",
       " Gray{N0f8}(0.0)  Gray{N0f8}(1.0)     Gray{N0f8}(1.0)  Gray{N0f8}(0.0)\n",
       " Gray{N0f8}(0.0)  Gray{N0f8}(0.0)     Gray{N0f8}(0.0)  Gray{N0f8}(0.0)\n",
       " Gray{N0f8}(0.0)  Gray{N0f8}(1.0)     Gray{N0f8}(1.0)  Gray{N0f8}(0.0)\n",
       " Gray{N0f8}(0.0)  Gray{N0f8}(0.0)     Gray{N0f8}(0.0)  Gray{N0f8}(0.0)\n",
       " Gray{N0f8}(0.0)  Gray{N0f8}(1.0)  …  Gray{N0f8}(1.0)  Gray{N0f8}(0.0)\n",
       " Gray{N0f8}(0.0)  Gray{N0f8}(0.0)     Gray{N0f8}(0.0)  Gray{N0f8}(0.0)\n",
       " Gray{N0f8}(0.0)  Gray{N0f8}(1.0)     Gray{N0f8}(1.0)  Gray{N0f8}(0.0)\n",
       " Gray{N0f8}(0.0)  Gray{N0f8}(0.0)     Gray{N0f8}(0.0)  Gray{N0f8}(0.0)\n",
       " Gray{N0f8}(0.0)  Gray{N0f8}(1.0)     Gray{N0f8}(1.0)  Gray{N0f8}(0.0)\n",
       " Gray{N0f8}(0.0)  Gray{N0f8}(0.0)  …  Gray{N0f8}(0.0)  Gray{N0f8}(0.0)"
      ]
     },
     "execution_count": 1,
     "metadata": {},
     "output_type": "execute_result"
    }
   ],
   "source": [
    "using Images, FFTW, LinearAlgebra: kron\n",
    "M = 10\n",
    "N = 10\n",
    "A = [ i&j&1 for i in 0:N, j in 0:M ] # isodd(i) & isodd(j) & 1\n",
    "Gray.(A)"
   ]
  },
  {
   "cell_type": "code",
   "execution_count": 2,
   "metadata": {},
   "outputs": [],
   "source": [
    "cd(\"C:\\\\Users\\\\User\\\\Desktop\\\\Mycop\")"
   ]
  },
  {
   "cell_type": "code",
   "execution_count": null,
   "metadata": {},
   "outputs": [],
   "source": []
  },
  {
   "cell_type": "markdown",
   "metadata": {},
   "source": [
    "https://github.com/duckythescientist/SmoothLife\n",
    "\n",
    "https://0fps.net/2012/11/19/conways-game-of-life-for-curved-surfaces-part-1/\n",
    "\n",
    "https://www.csun.edu/~kme52026/thesis.html\n",
    "\n",
    "https://www.conwaylife.com/wiki/Caterpillar\n"
   ]
  },
  {
   "cell_type": "code",
   "execution_count": 3,
   "metadata": {},
   "outputs": [
    {
     "data": {
      "text/plain": [
       "initaa (generic function with 1 method)"
      ]
     },
     "execution_count": 3,
     "metadata": {},
     "output_type": "execute_result"
    }
   ],
   "source": [
    "function clamp(x)\n",
    "\ty = copy(x)\n",
    "\ty[x.>1] .= 1\n",
    "\ty[x.<0] .= 0\n",
    "\ty\n",
    "end\n",
    "\n",
    "function func_linear(X, a, b)\n",
    "\tY = [ (x-a + 0.5b)/b for x in X ]\n",
    "\n",
    "\tY[X.<a-0.5b] .= 0\n",
    "\tY[X.>a+0.5b] .= 1\n",
    "\treturn Y\n",
    "end\n",
    "\n",
    "function splat!(aa, ny, nx, ra)\n",
    "\tx = round(Int, rand()*nx ) + 1\n",
    "\ty = round(Int, rand()*ny ) + 1\n",
    "\tc = rand() > 0.5\n",
    "\n",
    "\tfor dx = -ra:ra, dy = -ra:ra\n",
    "\t\tix = x+dx\n",
    "\t\tiy = y+dy\n",
    "\t\tif ix>=1 && ix<=nx && iy>=1 && iy<=ny\n",
    "\t\t\taa[iy,ix] = c\n",
    "\t\tend\n",
    "\tend\n",
    "end\n",
    "\n",
    "function initaa(ny, nx, ra)\n",
    "\taa = zeros(ny, nx)\n",
    "\tfor t in 0:((nx/ra)*(ny/ra))\n",
    "\t\tsplat!(aa, ny, nx, ra);\n",
    "\tend\n",
    "\taa\n",
    "end"
   ]
  },
  {
   "cell_type": "code",
   "execution_count": 30,
   "metadata": {},
   "outputs": [
    {
     "data": {
      "image/png": "[encoded data removed]",
      "text/plain": [
       "128×128 Array{Gray{Float64},2} with eltype Gray{Float64}:\n",
       " Gray{Float64}(0.0)  Gray{Float64}(0.0)  …  Gray{Float64}(0.0)\n",
       " Gray{Float64}(0.0)  Gray{Float64}(0.0)     Gray{Float64}(0.0)\n",
       " Gray{Float64}(0.0)  Gray{Float64}(0.0)     Gray{Float64}(0.0)\n",
       " Gray{Float64}(0.0)  Gray{Float64}(0.0)     Gray{Float64}(0.0)\n",
       " Gray{Float64}(0.0)  Gray{Float64}(0.0)     Gray{Float64}(0.0)\n",
       " Gray{Float64}(0.0)  Gray{Float64}(0.0)  …  Gray{Float64}(0.0)\n",
       " Gray{Float64}(0.0)  Gray{Float64}(0.0)     Gray{Float64}(0.0)\n",
       " Gray{Float64}(0.0)  Gray{Float64}(0.0)     Gray{Float64}(0.0)\n",
       " Gray{Float64}(0.0)  Gray{Float64}(0.0)     Gray{Float64}(0.0)\n",
       " Gray{Float64}(0.0)  Gray{Float64}(0.0)     Gray{Float64}(0.0)\n",
       " Gray{Float64}(0.0)  Gray{Float64}(0.0)  …  Gray{Float64}(1.0)\n",
       " Gray{Float64}(0.0)  Gray{Float64}(0.0)     Gray{Float64}(1.0)\n",
       " Gray{Float64}(0.0)  Gray{Float64}(0.0)     Gray{Float64}(1.0)\n",
       " ⋮                                       ⋱                    \n",
       " Gray{Float64}(0.0)  Gray{Float64}(0.0)     Gray{Float64}(0.0)\n",
       " Gray{Float64}(0.0)  Gray{Float64}(0.0)     Gray{Float64}(0.0)\n",
       " Gray{Float64}(0.0)  Gray{Float64}(0.0)     Gray{Float64}(0.0)\n",
       " Gray{Float64}(0.0)  Gray{Float64}(0.0)     Gray{Float64}(0.0)\n",
       " Gray{Float64}(0.0)  Gray{Float64}(0.0)  …  Gray{Float64}(0.0)\n",
       " Gray{Float64}(0.0)  Gray{Float64}(0.0)     Gray{Float64}(0.0)\n",
       " Gray{Float64}(0.0)  Gray{Float64}(0.0)     Gray{Float64}(0.0)\n",
       " Gray{Float64}(0.0)  Gray{Float64}(0.0)     Gray{Float64}(0.0)\n",
       " Gray{Float64}(0.0)  Gray{Float64}(0.0)     Gray{Float64}(0.0)\n",
       " Gray{Float64}(0.0)  Gray{Float64}(0.0)  …  Gray{Float64}(0.0)\n",
       " Gray{Float64}(0.0)  Gray{Float64}(0.0)     Gray{Float64}(0.0)\n",
       " Gray{Float64}(0.0)  Gray{Float64}(0.0)     Gray{Float64}(0.0)"
      ]
     },
     "execution_count": 30,
     "metadata": {},
     "output_type": "execute_result"
    }
   ],
   "source": [
    "nn = 128\n",
    "aa = zeros(nn,nn)\n",
    "\n",
    "for _ in 1:10\n",
    "    splat!(aa, nn, nn, 10)\n",
    "end\n",
    "Gray.(aa)"
   ]
  },
  {
   "cell_type": "code",
   "execution_count": 31,
   "metadata": {},
   "outputs": [
    {
     "data": {
      "image/png": "[encoded data removed]",
      "text/plain": [
       "128×128 Array{Gray{Float64},2} with eltype Gray{Float64}:\n",
       " Gray{Float64}(0.0)  Gray{Float64}(0.0)  …  Gray{Float64}(0.0)\n",
       " Gray{Float64}(0.0)  Gray{Float64}(0.0)     Gray{Float64}(0.0)\n",
       " Gray{Float64}(0.0)  Gray{Float64}(0.0)     Gray{Float64}(0.0)\n",
       " Gray{Float64}(0.0)  Gray{Float64}(0.0)     Gray{Float64}(0.0)\n",
       " Gray{Float64}(0.0)  Gray{Float64}(0.0)     Gray{Float64}(0.0)\n",
       " Gray{Float64}(0.0)  Gray{Float64}(0.0)  …  Gray{Float64}(0.0)\n",
       " Gray{Float64}(0.0)  Gray{Float64}(0.0)     Gray{Float64}(0.0)\n",
       " Gray{Float64}(0.0)  Gray{Float64}(0.0)     Gray{Float64}(0.0)\n",
       " Gray{Float64}(0.0)  Gray{Float64}(0.0)     Gray{Float64}(0.0)\n",
       " Gray{Float64}(0.0)  Gray{Float64}(0.0)     Gray{Float64}(0.0)\n",
       " Gray{Float64}(0.0)  Gray{Float64}(0.0)  …  Gray{Float64}(1.0)\n",
       " Gray{Float64}(0.0)  Gray{Float64}(0.0)     Gray{Float64}(1.0)\n",
       " Gray{Float64}(0.0)  Gray{Float64}(0.0)     Gray{Float64}(1.0)\n",
       " ⋮                                       ⋱                    \n",
       " Gray{Float64}(0.0)  Gray{Float64}(0.0)     Gray{Float64}(0.0)\n",
       " Gray{Float64}(0.0)  Gray{Float64}(0.0)     Gray{Float64}(0.0)\n",
       " Gray{Float64}(0.0)  Gray{Float64}(0.0)     Gray{Float64}(0.0)\n",
       " Gray{Float64}(0.0)  Gray{Float64}(0.0)     Gray{Float64}(0.0)\n",
       " Gray{Float64}(0.0)  Gray{Float64}(0.0)  …  Gray{Float64}(0.0)\n",
       " Gray{Float64}(0.0)  Gray{Float64}(0.0)     Gray{Float64}(0.0)\n",
       " Gray{Float64}(0.0)  Gray{Float64}(0.0)     Gray{Float64}(0.0)\n",
       " Gray{Float64}(0.0)  Gray{Float64}(0.0)     Gray{Float64}(0.0)\n",
       " Gray{Float64}(0.0)  Gray{Float64}(0.0)     Gray{Float64}(0.0)\n",
       " Gray{Float64}(0.0)  Gray{Float64}(0.0)  …  Gray{Float64}(0.0)\n",
       " Gray{Float64}(0.0)  Gray{Float64}(0.0)     Gray{Float64}(0.0)\n",
       " Gray{Float64}(0.0)  Gray{Float64}(0.0)     Gray{Float64}(0.0)"
      ]
     },
     "execution_count": 31,
     "metadata": {},
     "output_type": "execute_result"
    }
   ],
   "source": [
    "for _ in 1:10\n",
    "    splat!(aa, nn, nn, 10)\n",
    "end\n",
    "Gray.(aa)"
   ]
  },
  {
   "cell_type": "code",
   "execution_count": 33,
   "metadata": {},
   "outputs": [
    {
     "data": {
      "image/png": "[encoded data removed]",
      "text/plain": [
       "128×128 Array{Gray{Float64},2} with eltype Gray{Float64}:\n",
       " Gray{Float64}(0.0)  Gray{Float64}(0.0)  …  Gray{Float64}(0.0)\n",
       " Gray{Float64}(0.0)  Gray{Float64}(0.0)     Gray{Float64}(0.0)\n",
       " Gray{Float64}(0.0)  Gray{Float64}(0.0)     Gray{Float64}(0.0)\n",
       " Gray{Float64}(0.0)  Gray{Float64}(0.0)     Gray{Float64}(0.0)\n",
       " Gray{Float64}(0.0)  Gray{Float64}(0.0)     Gray{Float64}(0.0)\n",
       " Gray{Float64}(0.0)  Gray{Float64}(0.0)  …  Gray{Float64}(0.0)\n",
       " Gray{Float64}(0.0)  Gray{Float64}(0.0)     Gray{Float64}(0.0)\n",
       " Gray{Float64}(0.0)  Gray{Float64}(0.0)     Gray{Float64}(0.0)\n",
       " Gray{Float64}(0.0)  Gray{Float64}(0.0)     Gray{Float64}(0.0)\n",
       " Gray{Float64}(0.0)  Gray{Float64}(0.0)     Gray{Float64}(0.0)\n",
       " Gray{Float64}(0.0)  Gray{Float64}(0.0)  …  Gray{Float64}(0.0)\n",
       " Gray{Float64}(0.0)  Gray{Float64}(0.0)     Gray{Float64}(0.0)\n",
       " Gray{Float64}(0.0)  Gray{Float64}(0.0)     Gray{Float64}(0.0)\n",
       " ⋮                                       ⋱                    \n",
       " Gray{Float64}(0.0)  Gray{Float64}(0.0)     Gray{Float64}(1.0)\n",
       " Gray{Float64}(0.0)  Gray{Float64}(0.0)     Gray{Float64}(1.0)\n",
       " Gray{Float64}(0.0)  Gray{Float64}(0.0)     Gray{Float64}(1.0)\n",
       " Gray{Float64}(0.0)  Gray{Float64}(0.0)     Gray{Float64}(1.0)\n",
       " Gray{Float64}(0.0)  Gray{Float64}(0.0)  …  Gray{Float64}(1.0)\n",
       " Gray{Float64}(0.0)  Gray{Float64}(0.0)     Gray{Float64}(1.0)\n",
       " Gray{Float64}(0.0)  Gray{Float64}(0.0)     Gray{Float64}(1.0)\n",
       " Gray{Float64}(0.0)  Gray{Float64}(0.0)     Gray{Float64}(1.0)\n",
       " Gray{Float64}(0.0)  Gray{Float64}(0.0)     Gray{Float64}(1.0)\n",
       " Gray{Float64}(0.0)  Gray{Float64}(0.0)  …  Gray{Float64}(1.0)\n",
       " Gray{Float64}(0.0)  Gray{Float64}(0.0)     Gray{Float64}(1.0)\n",
       " Gray{Float64}(0.0)  Gray{Float64}(0.0)     Gray{Float64}(1.0)"
      ]
     },
     "execution_count": 33,
     "metadata": {},
     "output_type": "execute_result"
    }
   ],
   "source": [
    "aa = initaa(nn,nn,10)\n",
    "Gray.(aa)"
   ]
  },
  {
   "cell_type": "code",
   "execution_count": 4,
   "metadata": {},
   "outputs": [
    {
     "data": {
      "text/plain": [
       "snm (generic function with 1 method)"
      ]
     },
     "execution_count": 4,
     "metadata": {},
     "output_type": "execute_result"
    }
   ],
   "source": [
    "func_smooth(x::Float64, a, b)  = 1 / ( 1 + exp(-4(x-a)/b) ) \n",
    "\n",
    "sigmoid_a(x, a, ea) = func_smooth(x, a, ea)\n",
    "sigmoid_b(x, b, eb) = 1 - sigmoid_a(x, b, eb)\n",
    "sigmoid_ab(x, a, b, ea, eb) = sigmoid_a(x, a, ea) * sigmoid_b(x, b, eb)\n",
    "sigmoid_mix(x, y, m, em) = x - x * func_smooth(m, 0.5, em) + y * func_smooth(m, 0.5, em)\n",
    "\n",
    "function snm(N, M, en, em, b1, b2, d1, d2)\n",
    "    \n",
    "    [ sigmoid_mix( sigmoid_ab(N[i,j], b1, b2, en, en), \n",
    "                   sigmoid_ab(N[i,j], d1, d2, en, en), M[i,j], em ) \n",
    "                    for i = 1:size(N, 1), j = 1:size(N, 2) ]\n",
    "end"
   ]
  },
  {
   "cell_type": "code",
   "execution_count": 18,
   "metadata": {},
   "outputs": [
    {
     "data": {
      "text/plain": [
       "smoothlife (generic function with 5 methods)"
      ]
     },
     "execution_count": 18,
     "metadata": {},
     "output_type": "execute_result"
    }
   ],
   "source": [
    "function smoothlife(NX = 128, NY = 128, tfin = 10, scheme = 1)\n",
    "    \n",
    "    function derivative(aa)\n",
    "        aaf = fft(aa)\n",
    "        nf = aaf .* krf\n",
    "        mf = aaf .* kdf\n",
    "        n = real.(ifft(nf)) / kflr # irfft\n",
    "        m = real.(ifft(mf)) / kfld\n",
    "        2snm(n, m, alphan, alpham, b1, b2, d1, d2) .- 1\n",
    "    end\n",
    "    \n",
    "    ra = 10\n",
    "    ri = ra/3\n",
    "    b = 1\n",
    "    b1 = 0.257\n",
    "    b2 = 0.336\n",
    "    d1 = 0.365\n",
    "    d2 = 0.551\n",
    "    alphan = 0.028\n",
    "    alpham = 0.147\n",
    "\n",
    "    kd = zeros(NY,NX)\n",
    "    kr = zeros(NY,NX)\n",
    "    aa = zeros(NY,NX)\n",
    "\n",
    "    x = [ j - 1 - NX/2 for i=1:NY, j=1:NX ]\n",
    "    y = [ i - 1 - NY/2 for i=1:NY, j=1:NX ]\n",
    "    \n",
    "    r = sqrt.(x.^2 + y.^2)\n",
    "    kd = 1 .- func_linear(r, ri, b) # ones(NY, NX)\n",
    "    kr = func_linear(r, ri, b) .* ( 1 .- func_linear(r, ra, b) )\n",
    "    #aa = snm (ix/NX, iy/NY, alphan, alpham, b1, b2, d1, d2);\n",
    "    kflr = sum(kr)\n",
    "    kfld = sum(kd)\n",
    "    krf = fft(fftshift(kr))\n",
    "    kdf = fft(fftshift(kd))\n",
    "    \n",
    "    #for td in 2 .^(10:-1:3)\n",
    "\tfor td = 64\n",
    "\t\n",
    "\t\taa = initaa(NY,NX,ra)\n",
    "\t\tdt = 1/td;\n",
    "\t\tl = 0\n",
    "\t\tnx = 0\n",
    "\t\tfor t = 0:dt:tfin\n",
    "\n",
    "            if scheme==1\n",
    "\t\t\t\n",
    "\t\t\t\taa += dt*derivative(aa)\n",
    "\n",
    "\t\t\telseif scheme==2\n",
    "\t\t\t\n",
    "\t\t\t\tda = derivative(aa);\n",
    "\t\t\t\taa1 = clamp(aa + dt*da)\n",
    "\t\t\t\tfor h = 0:20\n",
    "\t\t\t\t\talt = aa1\n",
    "\t\t\t\t\taa1 = clamp(aa + dt*(da + derivative(aa1))/2)\n",
    "\t\t\t\t\tif maximum(abs.(alt-aa1))<1e-8 \n",
    "\t\t\t\t\t\tbreak\n",
    "\t\t\t\t\tend\n",
    "\t\t\t\tend\n",
    "\t\t\t\taa = copy(aa1)\n",
    "\t\t\n",
    "\t\t\telseif scheme==3\n",
    "\n",
    "\t\t\t\tn0 = 1+mod(l,3)\n",
    "\t\t\t\tn1 = 1+mod(l-1,3)\n",
    "\t\t\t\tn2 = 1+mod(l-2,3)\n",
    "\n",
    "\t\t\t\tf = zeros(NY, NX, 3) # ?\n",
    "\t\t\t\tf[:,:,n0] = derivative(aa)\n",
    "\t\t\t\tif l==0\n",
    "\t\t\t\t\taa += dt*f[:,:,n0]\n",
    "\t\t\t\telseif l==1\n",
    "\t\t\t\t\taa += dt*(3*f[:,:,n0] - f[:,:,n1])/2\n",
    "\t\t\t\telseif l>=2\n",
    "\t\t\t\t\taa += dt*(23*f[:,:,n0] - 16*f[:,:,n1] + 5*f[:,:,n2])/12\n",
    "\t\t\t\tend\n",
    "\t\t\t\n",
    "\t\t\telseif scheme==4\n",
    "\n",
    "\t\t\t\tk1 = derivative(aa)\n",
    "\t\t\t\tk2 = derivative(clamp(aa + dt/2*k1))\n",
    "\t\t\t\tk3 = derivative(clamp(aa + dt/2*k2))\n",
    "\t\t\t\tk4 = derivative(clamp(aa + dt*k3))\n",
    "\t\t\t\taa += dt*(k1 + 2*k2 + 2*k3 + k4)/6\n",
    "\t\t\t\n",
    "\t\t\tend\n",
    "\t\t\t\n",
    "\t\t\taa = clamp(aa)\n",
    "\n",
    "\t\t\tif t >= nx\n",
    "                save(\"$(scheme)\\\\$(td)_$t.png\", Gray.(kron(aa, ones(2, 2) ) ) )\n",
    "\t\t\t\tnx += 1;\n",
    "\t\t\tend\n",
    "\t\t\t\n",
    "\t\t\tl += 1;\n",
    "\t\tend\n",
    "\n",
    "\tend\t\t# for td\n",
    "end"
   ]
  },
  {
   "cell_type": "code",
   "execution_count": 6,
   "metadata": {},
   "outputs": [
    {
     "name": "stdout",
     "output_type": "stream",
     "text": [
      " 83.843236 seconds (13.45 M allocations: 14.983 GiB, 2.72% gc time)\n"
     ]
    }
   ],
   "source": [
    "@time smoothlife(256, 256, 20, 1)"
   ]
  },
  {
   "cell_type": "code",
   "execution_count": 10,
   "metadata": {},
   "outputs": [
    {
     "name": "stdout",
     "output_type": "stream",
     "text": [
      "507.527826 seconds (3.59 M allocations: 111.112 GiB, 2.96% gc time)\n"
     ]
    }
   ],
   "source": [
    "@time smoothlife(256, 256, 20, 2)"
   ]
  },
  {
   "cell_type": "code",
   "execution_count": 11,
   "metadata": {},
   "outputs": [
    {
     "name": "stdout",
     "output_type": "stream",
     "text": [
      " 77.171785 seconds (450.69 k allocations: 21.891 GiB, 2.72% gc time)\n"
     ]
    }
   ],
   "source": [
    "@time smoothlife(256, 256, 20, 3)"
   ]
  },
  {
   "cell_type": "code",
   "execution_count": 12,
   "metadata": {},
   "outputs": [
    {
     "name": "stdout",
     "output_type": "stream",
     "text": [
      "313.743244 seconds (1.81 M allocations: 59.805 GiB, 2.09% gc time)\n"
     ]
    }
   ],
   "source": [
    "@time smoothlife(256, 256, 20, 4)"
   ]
  },
  {
   "cell_type": "code",
   "execution_count": 19,
   "metadata": {},
   "outputs": [
    {
     "name": "stdout",
     "output_type": "stream",
     "text": [
      "3147.346100 seconds (15.44 M allocations: 878.890 GiB, 3.20% gc time)\n"
     ]
    }
   ],
   "source": [
    "@time smoothlife(256, 256, 800, 3)"
   ]
  },
  {
   "cell_type": "code",
   "execution_count": 20,
   "metadata": {},
   "outputs": [
    {
     "data": {
      "text/plain": [
       "52.45576833333334"
      ]
     },
     "execution_count": 20,
     "metadata": {},
     "output_type": "execute_result"
    }
   ],
   "source": [
    "3147.346100 / 60 # min"
   ]
  },
  {
   "cell_type": "markdown",
   "metadata": {},
   "source": [
    "## FFT life\n",
    "https://habr.com/ru/post/180135/"
   ]
  },
  {
   "cell_type": "code",
   "execution_count": 11,
   "metadata": {},
   "outputs": [],
   "source": [
    "using Random: bitrand"
   ]
  },
  {
   "cell_type": "code",
   "execution_count": 70,
   "metadata": {},
   "outputs": [
    {
     "data": {
      "text/plain": [
       "drow (generic function with 2 methods)"
      ]
     },
     "execution_count": 70,
     "metadata": {},
     "output_type": "execute_result"
    }
   ],
   "source": [
    "function drow(M)\n",
    "    rM = real.(M)\n",
    "    Gray.( (rM .- minimum(rM))/maximum(rM) )\n",
    "end"
   ]
  },
  {
   "cell_type": "code",
   "execution_count": 359,
   "metadata": {
    "scrolled": true
   },
   "outputs": [
    {
     "data": {
      "image/png": "[encoded data removed]",
      "text/plain": [
       "8×8 Array{Gray{Float64},2} with eltype Gray{Float64}:\n",
       " Gray{Float64}(1.0)  Gray{Float64}(0.0)  …  Gray{Float64}(1.0)\n",
       " Gray{Float64}(0.0)  Gray{Float64}(0.0)     Gray{Float64}(0.0)\n",
       " Gray{Float64}(1.0)  Gray{Float64}(1.0)     Gray{Float64}(1.0)\n",
       " Gray{Float64}(0.0)  Gray{Float64}(1.0)     Gray{Float64}(1.0)\n",
       " Gray{Float64}(1.0)  Gray{Float64}(1.0)     Gray{Float64}(0.0)\n",
       " Gray{Float64}(1.0)  Gray{Float64}(1.0)  …  Gray{Float64}(0.0)\n",
       " Gray{Float64}(1.0)  Gray{Float64}(0.0)     Gray{Float64}(0.0)\n",
       " Gray{Float64}(1.0)  Gray{Float64}(0.0)     Gray{Float64}(0.0)"
      ]
     },
     "execution_count": 359,
     "metadata": {},
     "output_type": "execute_result"
    }
   ],
   "source": [
    "N = 8\n",
    "dx = 2\n",
    "state = bitrand(N, N)\n",
    "filter = zeros(Complex, N, N);\n",
    "drow(state)"
   ]
  },
  {
   "cell_type": "code",
   "execution_count": 360,
   "metadata": {},
   "outputs": [
    {
     "data": {
      "image/png": "[encoded data removed]",
      "text/plain": [
       "8×8 Array{Gray{Float64},2} with eltype Gray{Float64}:\n",
       " Gray{Float64}(0.0)  Gray{Float64}(1.0)  …  Gray{Float64}(1.0)\n",
       " Gray{Float64}(1.0)  Gray{Float64}(1.0)     Gray{Float64}(1.0)\n",
       " Gray{Float64}(0.0)  Gray{Float64}(0.0)     Gray{Float64}(0.0)\n",
       " Gray{Float64}(0.0)  Gray{Float64}(0.0)     Gray{Float64}(0.0)\n",
       " Gray{Float64}(0.0)  Gray{Float64}(0.0)     Gray{Float64}(0.0)\n",
       " Gray{Float64}(0.0)  Gray{Float64}(0.0)  …  Gray{Float64}(0.0)\n",
       " Gray{Float64}(0.0)  Gray{Float64}(0.0)     Gray{Float64}(0.0)\n",
       " Gray{Float64}(1.0)  Gray{Float64}(1.0)     Gray{Float64}(1.0)"
      ]
     },
     "execution_count": 360,
     "metadata": {},
     "output_type": "execute_result"
    }
   ],
   "source": [
    "IDX(x, y) = ( (x + N) % N ) + ( (y+N) % N ) * N + 1\n",
    "    filter[IDX(-1, -1)] = 1. ;\n",
    "    filter[IDX( 0, -1)] = 1. ;\n",
    "    filter[IDX( 1, -1)] = 1. ;\n",
    "    filter[IDX(-1,  0)] = 1. ;\n",
    "    filter[IDX( 1,  0)] = 1. ;\n",
    "    filter[IDX(-1,  1)] = 1. ;\n",
    "    filter[IDX( 0,  1)] = 1. ;\n",
    "    filter[IDX( 1,  1)] = 1. ;\n",
    "drow(filter)"
   ]
  },
  {
   "cell_type": "code",
   "execution_count": 361,
   "metadata": {},
   "outputs": [
    {
     "data": {
      "image/png": "[encoded data removed]",
      "text/plain": [
       "8×8 Array{Gray{Float64},2} with eltype Gray{Float64}:\n",
       " Gray{Float64}(1.5)      …  Gray{Float64}(1.28033)  \n",
       " Gray{Float64}(1.28033)     Gray{Float64}(1.10355)  \n",
       " Gray{Float64}(0.75)        Gray{Float64}(0.676777) \n",
       " Gray{Float64}(0.21967)     Gray{Float64}(0.25)     \n",
       " Gray{Float64}(0.0)         Gray{Float64}(0.0732233)\n",
       " Gray{Float64}(0.21967)  …  Gray{Float64}(0.25)     \n",
       " Gray{Float64}(0.75)        Gray{Float64}(0.676777) \n",
       " Gray{Float64}(1.28033)     Gray{Float64}(1.10355)  "
      ]
     },
     "execution_count": 361,
     "metadata": {},
     "output_type": "execute_result"
    }
   ],
   "source": [
    "filter = fft( real.(filter) )\n",
    "drow(filter)"
   ]
  },
  {
   "cell_type": "code",
   "execution_count": 362,
   "metadata": {},
   "outputs": [
    {
     "data": {
      "image/png": "[encoded data removed]",
      "text/plain": [
       "8×8 Array{Gray{Float64},2} with eltype Gray{Float64}:\n",
       " Gray{Float64}(1.13889)   …  Gray{Float64}(0.138889)  \n",
       " Gray{Float64}(0.230358)     Gray{Float64}(0.00813592)\n",
       " Gray{Float64}(0.166667)     Gray{Float64}(0.0440496) \n",
       " Gray{Float64}(0.269642)     Gray{Float64}(0.186309)  \n",
       " Gray{Float64}(0.194444)     Gray{Float64}(0.233728)  \n",
       " Gray{Float64}(0.269642)  …  Gray{Float64}(0.119247)  \n",
       " Gray{Float64}(0.166667)     Gray{Float64}(0.171433)  \n",
       " Gray{Float64}(0.230358)     Gray{Float64}(0.0521855) "
      ]
     },
     "execution_count": 362,
     "metadata": {},
     "output_type": "execute_result"
    }
   ],
   "source": [
    "tmp = fft( real.(state) ) # fwd\n",
    "drow(tmp)"
   ]
  },
  {
   "cell_type": "code",
   "execution_count": 363,
   "metadata": {},
   "outputs": [
    {
     "data": {
      "image/png": "[encoded data removed]",
      "text/plain": [
       "8×8 Array{Gray{Float64},2} with eltype Gray{Float64}:\n",
       " Gray{Float64}(1.11111)    …  Gray{Float64}(0.111111) \n",
       " Gray{Float64}(0.182487)      Gray{Float64}(0.0321947)\n",
       " Gray{Float64}(0.118056)      Gray{Float64}(0.0943457)\n",
       " Gray{Float64}(0.0744571)     Gray{Float64}(0.0992562)\n",
       " Gray{Float64}(0.0833333)     Gray{Float64}(0.0706359)\n",
       " Gray{Float64}(0.0744571)  …  Gray{Float64}(0.116022) \n",
       " Gray{Float64}(0.118056)      Gray{Float64}(0.116864) \n",
       " Gray{Float64}(0.182487)      Gray{Float64}(0.058781) "
      ]
     },
     "execution_count": 363,
     "metadata": {},
     "output_type": "execute_result"
    }
   ],
   "source": [
    "tmp .*= filter\n",
    "drow(tmp)"
   ]
  },
  {
   "cell_type": "code",
   "execution_count": 364,
   "metadata": {},
   "outputs": [
    {
     "data": {
      "image/png": "[encoded data removed]",
      "text/plain": [
       "8×8 Array{Gray{Float64},2} with eltype Gray{Float64}:\n",
       " Gray{Float64}(2.77556e-17)  Gray{Float64}(0.375)  …  Gray{Float64}(0.25) \n",
       " Gray{Float64}(0.375)        Gray{Float64}(0.375)     Gray{Float64}(0.625)\n",
       " Gray{Float64}(0.25)         Gray{Float64}(0.25)      Gray{Float64}(0.25) \n",
       " Gray{Float64}(0.625)        Gray{Float64}(0.375)     Gray{Float64}(0.25) \n",
       " Gray{Float64}(0.375)        Gray{Float64}(0.375)     Gray{Float64}(0.25) \n",
       " Gray{Float64}(0.25)         Gray{Float64}(0.375)  …  Gray{Float64}(0.375)\n",
       " Gray{Float64}(0.125)        Gray{Float64}(0.5)       Gray{Float64}(0.375)\n",
       " Gray{Float64}(0.125)        Gray{Float64}(0.5)       Gray{Float64}(0.5)  "
      ]
     },
     "execution_count": 364,
     "metadata": {},
     "output_type": "execute_result"
    }
   ],
   "source": [
    "summ = ifft(tmp) # rev\n",
    "drow(summ)"
   ]
  },
  {
   "cell_type": "code",
   "execution_count": 80,
   "metadata": {
    "scrolled": true
   },
   "outputs": [
    {
     "data": {
      "text/plain": [
       "32"
      ]
     },
     "execution_count": 80,
     "metadata": {},
     "output_type": "execute_result"
    }
   ],
   "source": [
    "128>>2"
   ]
  },
  {
   "cell_type": "code",
   "execution_count": 365,
   "metadata": {
    "scrolled": true
   },
   "outputs": [
    {
     "data": {
      "text/plain": [
       "8×8 Array{Int64,2}:\n",
       " 0  1  1  2  1  1  0  1\n",
       " 1  1  1  1  1  1  1  1\n",
       " 1  1  1  1  1  1  1  1\n",
       " 1  1  1  1  0  0  1  1\n",
       " 1  1  1  0  1  1  1  1\n",
       " 1  1  1  0  0  0  0  1\n",
       " 0  1  0  1  0  1  0  1\n",
       " 0  1  1  1  1  1  1  1"
      ]
     },
     "execution_count": 365,
     "metadata": {},
     "output_type": "execute_result"
    }
   ],
   "source": [
    "round.(Int, real.(summ)) .>> 2"
   ]
  },
  {
   "cell_type": "code",
   "execution_count": 366,
   "metadata": {},
   "outputs": [
    {
     "name": "stdout",
     "output_type": "stream",
     "text": [
      "2547543355455566545454348664235765434335576343563544422447444556"
     ]
    },
    {
     "data": {
      "image/png": "[encoded data removed]",
      "text/plain": [
       "8×8 Array{Gray{Float64},2} with eltype Gray{Float64}:\n",
       " Gray{Float64}(1.0)  Gray{Float64}(0.0)  …  Gray{Float64}(0.0)\n",
       " Gray{Float64}(0.0)  Gray{Float64}(0.0)     Gray{Float64}(0.0)\n",
       " Gray{Float64}(0.0)  Gray{Float64}(0.0)     Gray{Float64}(0.0)\n",
       " Gray{Float64}(0.0)  Gray{Float64}(0.0)     Gray{Float64}(0.0)\n",
       " Gray{Float64}(0.0)  Gray{Float64}(0.0)     Gray{Float64}(0.0)\n",
       " Gray{Float64}(0.0)  Gray{Float64}(0.0)  …  Gray{Float64}(0.0)\n",
       " Gray{Float64}(1.0)  Gray{Float64}(0.0)     Gray{Float64}(0.0)\n",
       " Gray{Float64}(1.0)  Gray{Float64}(0.0)     Gray{Float64}(0.0)"
      ]
     },
     "execution_count": 366,
     "metadata": {},
     "output_type": "execute_result"
    }
   ],
   "source": [
    "tmp = fft( real.(state) ) # fwd\n",
    "tmp .*= filter\n",
    "\n",
    "summ = ifft(tmp) # rev\n",
    "\n",
    "for i in eachindex(state)\n",
    "    t = round( Int, real(summ[i]) ) >> 0\n",
    "    print(t)\n",
    "    state[i] = ( state[i] ? t == 2 || t == 3 : t == 3 )\n",
    "end\n",
    "drow(state)"
   ]
  },
  {
   "cell_type": "code",
   "execution_count": 373,
   "metadata": {},
   "outputs": [],
   "source": [
    "cd(\"C:\\\\Users\\\\User\\\\Desktop\\\\Mycop\\\\plots\")"
   ]
  },
  {
   "cell_type": "code",
   "execution_count": 368,
   "metadata": {},
   "outputs": [
    {
     "data": {
      "text/plain": [
       "makefilter (generic function with 1 method)"
      ]
     },
     "execution_count": 368,
     "metadata": {},
     "output_type": "execute_result"
    }
   ],
   "source": [
    "function makefilter(N::Int64)\n",
    "    filter = zeros(Complex, N, N);\n",
    "    IDX(x, y) = ( (x + N) % N ) + ( (y+N) % N ) * N + 1\n",
    "        filter[IDX(-1, -1)] = 1. ;\n",
    "        filter[IDX( 0, -1)] = 1. ;\n",
    "        filter[IDX( 1, -1)] = 1. ;\n",
    "        filter[IDX(-1,  0)] = 1. ;\n",
    "        filter[IDX( 1,  0)] = 1. ;\n",
    "        filter[IDX(-1,  1)] = 1. ;\n",
    "        filter[IDX( 0,  1)] = 1. ;\n",
    "        filter[IDX( 1,  1)] = 1. ;\n",
    "    \n",
    "    return fft( real.(filter) )\n",
    "end"
   ]
  },
  {
   "cell_type": "code",
   "execution_count": 379,
   "metadata": {},
   "outputs": [
    {
     "data": {
      "text/plain": [
       "fftlife (generic function with 5 methods)"
      ]
     },
     "execution_count": 379,
     "metadata": {},
     "output_type": "execute_result"
    }
   ],
   "source": [
    "function fftlife(N = 16, steps = 100, dx = 0, glider = true)\n",
    "\n",
    "    if glider\n",
    "        state = falses(N, N)\n",
    "        state[4,5] = state[5,6] = state[6,6] = true\n",
    "        state[6,5] = state[6,4] = true\n",
    "    else\n",
    "        state = bitrand(N, N)\n",
    "    end\n",
    "    \n",
    "    filter = makefilter(N)\n",
    "    \n",
    "    for i in 1:steps\n",
    "        tmp = fft( real.(state) ) # forward\n",
    "        tmp .*= filter\n",
    "\n",
    "        summ = ifft(tmp) # reverse\n",
    "\n",
    "        for i in eachindex(state)\n",
    "            t = round( Int, real(summ[i]) ) >> dx\n",
    "            state[i] = ( state[i] ? t == 2 || t == 3 : t == 3 )\n",
    "        end\n",
    "        save(\"KonLife_$(N)x$(N)_$i.png\", kron( Gray.(state), ones(8,8) ) )\n",
    "    end\n",
    "    \n",
    "end"
   ]
  },
  {
   "cell_type": "code",
   "execution_count": 380,
   "metadata": {},
   "outputs": [],
   "source": [
    "fftlife(16, 60)"
   ]
  },
  {
   "cell_type": "code",
   "execution_count": null,
   "metadata": {},
   "outputs": [],
   "source": []
  }
 ],
 "metadata": {
  "@webio": {
   "lastCommId": null,
   "lastKernelId": null
  },
  "kernelspec": {
   "display_name": "Julia 1.2.0",
   "language": "julia",
   "name": "julia-1.2"
  },
  "language_info": {
   "file_extension": ".jl",
   "mimetype": "application/julia",
   "name": "julia",
   "version": "1.2.0"
  }
 },
 "nbformat": 4,
 "nbformat_minor": 2
}
