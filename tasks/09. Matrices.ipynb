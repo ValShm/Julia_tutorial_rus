{
 "cells": [
  {
   "cell_type": "code",
   "execution_count": 2,
   "metadata": {},
   "outputs": [
    {
     "data": {
      "text/plain": [
       "subtypetree (generic function with 3 methods)"
      ]
     },
     "execution_count": 2,
     "metadata": {},
     "output_type": "execute_result"
    }
   ],
   "source": [
    "function subtypetree(t, level=1, indent=4)\n",
    "        if level == 1\n",
    "            println(t)\n",
    "        end\n",
    "        for s in subtypes(t)\n",
    "            println(join(fill(\" \", level * indent)) * string(s))  # print type\n",
    "            subtypetree(s, level+1, indent)  # recursively print the next type, indenting\n",
    "        end\n",
    "    end"
   ]
  },
  {
   "cell_type": "code",
   "execution_count": 3,
   "metadata": {},
   "outputs": [
    {
     "name": "stdout",
     "output_type": "stream",
     "text": [
      "Number\n",
      "    Complex\n",
      "    Real\n",
      "        AbstractFloat\n",
      "            BigFloat\n",
      "            Float16\n",
      "            Float32\n",
      "            Float64\n",
      "        AbstractIrrational\n",
      "            Irrational\n",
      "        Integer\n",
      "            Bool\n",
      "            Signed\n",
      "                BigInt\n",
      "                Int128\n",
      "                Int16\n",
      "                Int32\n",
      "                Int64\n",
      "                Int8\n",
      "            Unsigned\n",
      "                UInt128\n",
      "                UInt16\n",
      "                UInt32\n",
      "                UInt64\n",
      "                UInt8\n",
      "        Rational\n"
     ]
    }
   ],
   "source": [
    "subtypetree(Number)"
   ]
  },
  {
   "cell_type": "code",
   "execution_count": 5,
   "metadata": {},
   "outputs": [
    {
     "name": "stdout",
     "output_type": "stream",
     "text": [
      "AbstractArray\n",
      "    AbstractRange\n",
      "        LinRange\n",
      "        OrdinalRange\n",
      "            AbstractUnitRange\n",
      "                Base.IdentityUnitRange\n",
      "                Base.OneTo\n",
      "                Base.Slice\n",
      "                UnitRange\n",
      "            StepRange\n",
      "        StepRangeLen\n",
      "    Base.LogicalIndex\n",
      "    Base.ReinterpretArray\n",
      "    Base.ReshapedArray\n",
      "    BitArray\n",
      "    CartesianIndices\n",
      "    Core.Compiler.AbstractRange\n",
      "        Core.Compiler.LinRange\n",
      "        Core.Compiler.OrdinalRange\n",
      "            Core.Compiler.AbstractUnitRange\n",
      "                Core.Compiler.IdentityUnitRange\n",
      "                Core.Compiler.OneTo\n",
      "                Core.Compiler.Slice\n",
      "                Core.Compiler.StmtRange\n",
      "                Core.Compiler.UnitRange\n",
      "            Core.Compiler.StepRange\n",
      "        Core.Compiler.StepRangeLen\n",
      "    Core.Compiler.BitArray\n",
      "    Core.Compiler.LinearIndices\n",
      "    DenseArray\n",
      "        Array\n",
      "        Base.CodeUnits\n",
      "        Random.UnsafeView\n",
      "        SharedArrays.SharedArray\n",
      "        SuiteSparse.CHOLMOD.Dense\n",
      "    JSON.Parser.PushVector\n",
      "    LinearAlgebra.AbstractQ\n",
      "        LinearAlgebra.HessenbergQ\n",
      "        LinearAlgebra.QRCompactWYQ\n",
      "        LinearAlgebra.QRPackedQ\n",
      "        SuiteSparse.SPQR.QRSparseQ\n",
      "    LinearAlgebra.AbstractTriangular\n",
      "        LinearAlgebra.LowerTriangular\n",
      "        LinearAlgebra.UnitLowerTriangular\n",
      "        LinearAlgebra.UnitUpperTriangular\n",
      "        LinearAlgebra.UpperTriangular\n",
      "    LinearAlgebra.Adjoint\n",
      "    LinearAlgebra.Bidiagonal\n",
      "    LinearAlgebra.Diagonal\n",
      "    LinearAlgebra.Hermitian\n",
      "    LinearAlgebra.LQPackedQ\n",
      "    LinearAlgebra.SymTridiagonal\n",
      "    LinearAlgebra.Symmetric\n",
      "    LinearAlgebra.Transpose\n",
      "    LinearAlgebra.Tridiagonal\n",
      "    LinearIndices\n",
      "    PermutedDimsArray\n",
      "    SparseArrays.AbstractSparseArray\n",
      "        SparseArrays.SparseMatrixCSC\n",
      "        SparseArrays.SparseVector\n",
      "        SuiteSparse.CHOLMOD.Sparse\n",
      "    SubArray\n",
      "    SuiteSparse.CHOLMOD.FactorComponent\n",
      "    Test.GenericArray\n",
      "    ZMQ.Message\n"
     ]
    }
   ],
   "source": [
    "subtypetree(AbstractArray)"
   ]
  },
  {
   "cell_type": "markdown",
   "metadata": {},
   "source": [
    "## 1. Задача «Максимум»\n",
    "\n",
    "Найдите индексы первого вхождения максимального элемента. Выведите два числа: номер строки и номер столбца, в которых стоит наибольший элемент в двумерном массиве. Если таких элементов несколько, то выводится тот, у которого меньше номер строки, а если номера строк равны то тот, у которого меньше номер столбца.\n",
    "\n",
    "Программа получает на вход размеры массива $n$ и $m$, затем $n$ строк по $m$ чисел в каждой. *Либо сконструируйте матрицу*"
   ]
  },
  {
   "cell_type": "code",
   "execution_count": null,
   "metadata": {},
   "outputs": [],
   "source": []
  },
  {
   "cell_type": "markdown",
   "metadata": {},
   "source": [
    "## 2. Задача «Снежинка»\n",
    "\n",
    "Дано нечетное число $n$. Создайте двумерный массив из **n×n** элементов, заполнив его символами \"$.$\" (каждый элемент массива является строкой из одного символа). Затем заполните символами \"$*$\" среднюю строку массива, средний столбец массива, главную диагональ и побочную диагональ. В результате получится изображение звездочки. Выведите полученный массив на экран, разделяя элементы массива пробелами.\n",
    "\n",
    "**Пример**  \n",
    "7  \n",
    "$$* . . * . . * \\\\ \n",
    ". * . * . * . \\\\ \n",
    ". . * * * . . \\\\ \n",
    "* * * * * * * \\\\ \n",
    ". . * * * . . \\\\ \n",
    ". * . * . * . \\\\ \n",
    "* . . * . . * $$"
   ]
  },
  {
   "cell_type": "code",
   "execution_count": null,
   "metadata": {},
   "outputs": [],
   "source": []
  },
  {
   "cell_type": "markdown",
   "metadata": {},
   "source": [
    "## 3. Задача «Шахматная доска»\n",
    "\n",
    "Даны два числа $n$ и $m$. Создайте двумерный массив размером **n×m** и заполните его символами \"**.**\" и \"$*$\" в шахматном порядке. В левом верхнем углу должна стоять точка."
   ]
  },
  {
   "cell_type": "code",
   "execution_count": null,
   "metadata": {},
   "outputs": [],
   "source": []
  },
  {
   "cell_type": "markdown",
   "metadata": {},
   "source": [
    "## 4. Задача «Диагонали, параллельные главной»\n",
    "\n",
    "Дано число $n$. Создайте массив размером **n×n** и заполните его по следующему правилу. На главной диагонали должны быть записаны числа 0. На двух диагоналях, прилегающих к главной, числа 1. На следующих двух диагоналях числа 2, и т.д."
   ]
  },
  {
   "cell_type": "code",
   "execution_count": null,
   "metadata": {},
   "outputs": [],
   "source": []
  },
  {
   "cell_type": "markdown",
   "metadata": {},
   "source": [
    "## 5. Задача «Побочная диагональ»\n",
    "\n",
    "Дано число $n$. Создайте массив размером **n×n** и заполните его по следующему правилу:\n",
    "\n",
    "Числа на диагонали, идущей из правого верхнего в левый нижний угол равны 1.\n",
    "\n",
    "Числа, стоящие выше этой диагонали, равны 0.\n",
    "\n",
    "Числа, стоящие ниже этой диагонали, равны 2.\n",
    "\n",
    "Полученный массив выведите на экран."
   ]
  },
  {
   "cell_type": "code",
   "execution_count": null,
   "metadata": {},
   "outputs": [],
   "source": []
  },
  {
   "cell_type": "markdown",
   "metadata": {},
   "source": [
    "## 6. Задача «Поменять столбцы»\n",
    "\n",
    "Дан двумерный массив и два числа: $i$ и $j$. Поменяйте в массиве столбцы с номерами $i$ и $j$ и выведите результат.\n",
    "\n",
    "Программа получает на вход размеры массива $n$ и $m$, затем элементы массива, затем числа $i$ и $j$.\n",
    "\n",
    "Решение оформите в виде функции `swap_columns(a, i, j)`."
   ]
  },
  {
   "cell_type": "code",
   "execution_count": null,
   "metadata": {},
   "outputs": [],
   "source": []
  },
  {
   "cell_type": "markdown",
   "metadata": {},
   "source": [
    "## 7. "
   ]
  },
  {
   "cell_type": "markdown",
   "metadata": {},
   "source": [
    "## 8. "
   ]
  },
  {
   "cell_type": "markdown",
   "metadata": {},
   "source": [
    "## 9. "
   ]
  },
  {
   "cell_type": "markdown",
   "metadata": {},
   "source": [
    "## 10. "
   ]
  },
  {
   "cell_type": "markdown",
   "metadata": {},
   "source": [
    "## 11. "
   ]
  },
  {
   "cell_type": "markdown",
   "metadata": {},
   "source": [
    "## 12. "
   ]
  },
  {
   "cell_type": "markdown",
   "metadata": {},
   "source": [
    "## 13. "
   ]
  },
  {
   "cell_type": "markdown",
   "metadata": {},
   "source": [
    "## 14. "
   ]
  },
  {
   "cell_type": "markdown",
   "metadata": {},
   "source": [
    "## 15. "
   ]
  },
  {
   "cell_type": "markdown",
   "metadata": {},
   "source": [
    "## 16. "
   ]
  },
  {
   "cell_type": "code",
   "execution_count": null,
   "metadata": {},
   "outputs": [],
   "source": []
  }
 ],
 "metadata": {
  "kernelspec": {
   "display_name": "Julia 1.1.0",
   "language": "julia",
   "name": "julia-1.1"
  },
  "language_info": {
   "file_extension": ".jl",
   "mimetype": "application/julia",
   "name": "julia",
   "version": "1.1.0"
  }
 },
 "nbformat": 4,
 "nbformat_minor": 2
}
