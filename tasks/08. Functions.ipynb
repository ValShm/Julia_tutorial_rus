{
 "cells": [
  {
   "cell_type": "markdown",
   "metadata": {},
   "source": [
    "## 1. Задача «Длина отрезка»\n",
    "\n",
    "Даны четыре действительных числа: $x_1$, $y_1$, $x_2$, $y_2$. Напишите функцию `distance(x1, y1, x2, y2)`, вычисляющая расстояние между точкой ($x_1$,$y_1$) и ($x_2$,$y_2$). Считайте четыре действительных числа и выведите результат работы этой функции.\n",
    "\n",
    "Если вы не знаете, как решить эту задачу, то вы, возможно, не изучали в школе теорему Пифагора. Попробуйте прочитать о ней на [Википедии](https://ru.wikipedia.org/wiki/Теорема_Пифагора#.D0.A4.D0.BE.D1.80.D0.BC.D1.83.D0.BB.D0.B8.D1.80.D0.BE.D0.B2.D0.BA.D0.B8)."
   ]
  },
  {
   "cell_type": "code",
   "execution_count": null,
   "metadata": {},
   "outputs": [],
   "source": []
  },
  {
   "cell_type": "markdown",
   "metadata": {},
   "source": [
    "## 2. Задача «Cтепень»\n",
    "\n",
    "Дано действительное положительное число $a$ и целоe число $n$.\n",
    "\n",
    "Вычислите $a^n$. Решение оформите в виде функции `power(a, n)`.\n",
    "\n",
    "Стандартной функцией возведения в степень пользоваться нельзя."
   ]
  },
  {
   "cell_type": "code",
   "execution_count": null,
   "metadata": {},
   "outputs": [],
   "source": []
  },
  {
   "cell_type": "markdown",
   "metadata": {},
   "source": [
    "## 3. Задача «Большие буквы»\n",
    "\n",
    "Напишите функцию `capitalize()`, которая принимает слово из маленьких латинских букв и возвращает его же, меняя первую букву на большую.  \n",
    "Например, `print(capitalize('word'))` должно печатать слово `\"Word\"`.\n",
    "\n",
    "На вход подаётся строка, состоящая из слов, разделённых одним пробелом. Слова состоят из маленьких латинских букв. Напечатайте исходную строку, сделав так, чтобы каждое слово начиналось с большой буквы. При этом используйте вашу функцию `capitalize()`."
   ]
  },
  {
   "cell_type": "code",
   "execution_count": null,
   "metadata": {},
   "outputs": [],
   "source": [
    "S = \"word\"\n",
    "S[2]"
   ]
  },
  {
   "cell_type": "code",
   "execution_count": null,
   "metadata": {},
   "outputs": [],
   "source": [
    "Int(S[2])"
   ]
  },
  {
   "cell_type": "code",
   "execution_count": null,
   "metadata": {},
   "outputs": [],
   "source": [
    "Char(120)"
   ]
  },
  {
   "cell_type": "code",
   "execution_count": null,
   "metadata": {},
   "outputs": [],
   "source": [
    "digts = [Int(s) for s in S]"
   ]
  },
  {
   "cell_type": "code",
   "execution_count": null,
   "metadata": {},
   "outputs": [],
   "source": [
    "chars = [Char(d) for d in digts]"
   ]
  },
  {
   "cell_type": "code",
   "execution_count": null,
   "metadata": {},
   "outputs": [],
   "source": [
    "prod([2,3,4])"
   ]
  },
  {
   "cell_type": "code",
   "execution_count": null,
   "metadata": {
    "scrolled": true
   },
   "outputs": [],
   "source": [
    "prod(chars)"
   ]
  },
  {
   "cell_type": "code",
   "execution_count": null,
   "metadata": {},
   "outputs": [],
   "source": []
  },
  {
   "cell_type": "markdown",
   "metadata": {},
   "source": [
    "## 4. Задача «Возведение в степень»\n",
    "\n",
    "Дано действительное положительное число $a$ и целое неотрицательное число $n$. Вычислите $a^n$ не используя циклы или возведение в степень через `^`, а используя рекуррентное соотношение $a_n=a⋅a_{n-1}$.\n",
    "\n",
    "Решение оформите в виде функции `power(a, n)`."
   ]
  },
  {
   "cell_type": "code",
   "execution_count": null,
   "metadata": {},
   "outputs": [],
   "source": []
  },
  {
   "cell_type": "markdown",
   "metadata": {},
   "source": [
    "## 5. Задача «Разворот последовательности»\n",
    "\n",
    "Дана последовательность целых чисел, заканчивающаяся числом 0. Выведите эту последовательность в обратном порядке.\n",
    "При решении этой задачи нельзя пользоваться массивами и прочими динамическими структурами данных. Рекурсия вам поможет. *Или срезы*"
   ]
  },
  {
   "cell_type": "code",
   "execution_count": null,
   "metadata": {},
   "outputs": [],
   "source": []
  },
  {
   "cell_type": "markdown",
   "metadata": {},
   "source": [
    "## 6. Задача «Числа Фибоначчи»\n",
    "\n",
    "Напишите функцию `fib(n)`, которая по данному целому неотрицательному $n$ возвращает $n$-e число Фибоначчи. В этой задаче нельзя использовать циклы — используйте рекурсию."
   ]
  },
  {
   "cell_type": "code",
   "execution_count": null,
   "metadata": {},
   "outputs": [],
   "source": []
  },
  {
   "cell_type": "code",
   "execution_count": null,
   "metadata": {},
   "outputs": [],
   "source": []
  }
 ],
 "metadata": {
  "kernelspec": {
   "display_name": "Julia 1.1.0",
   "language": "julia",
   "name": "julia-1.1"
  },
  "language_info": {
   "file_extension": ".jl",
   "mimetype": "application/julia",
   "name": "julia",
   "version": "1.1.0"
  }
 },
 "nbformat": 4,
 "nbformat_minor": 2
}
