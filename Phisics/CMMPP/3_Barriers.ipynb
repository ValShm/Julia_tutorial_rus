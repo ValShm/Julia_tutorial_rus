{
 "cells": [
  {
   "cell_type": "markdown",
   "metadata": {},
   "source": [
    "### Туннелирование электрона через потенциальную стенку\n",
    "\n",
    "http://fn.bmstu.ru/data-physics/library/physbook/tom5/ch4/texthtml/ch4_3.htm"
   ]
  },
  {
   "cell_type": "code",
   "execution_count": null,
   "metadata": {},
   "outputs": [],
   "source": [
    "using Plots"
   ]
  },
  {
   "cell_type": "code",
   "execution_count": null,
   "metadata": {
    "scrolled": false
   },
   "outputs": [],
   "source": [
    "plot([0,0], [0,1.5], line = (:arrow, 1, :black), annotations=(0.05, 1.5, text(\"U(x)\", :left)) )\n",
    "plot!([-1,1], [0,0], line = (:arrow, 1, :black), annotations=(1, 0.08, text(\"x\", :up)))\n",
    "plot!([-0.7,0,0,1], [0,0,1,1], line = ( 3, :black), leg=false, ticks=nothing, border=:none )\n",
    "\n",
    "annotate!([(-0.05, 1, text(\"U0\", :right)), (2.4, 1.92, text(\"a\", :center)), \n",
    "        (0, -0.05, text(\"0\", :center)), (-0.5, 0.5, text(\"I\")), (0.5, 0.5, text(\"II\")) ])"
   ]
  },
  {
   "cell_type": "markdown",
   "metadata": {},
   "source": [
    "Электрон падает слева на потенциальную стенку, имеющую конечную высоту $U_0$. В случае $E<U_0$ решения УШ будут иметь вид:\n",
    "\n",
    "$$\n",
    "\\begin{cases}\n",
    "k_1 = \\sqrt{ \\frac{2mE}{\\hbar^2} }\n",
    "\\\\\n",
    "k_2 = \\sqrt{ \\frac{2m(U_0-E)}{\\hbar^2} }\n",
    "\\end{cases}\n",
    "$$\n",
    "\n",
    "$$\n",
    "\\begin{cases}\n",
    "\\psi_1(x) = A_1e^{ik_1 x} + B_1e^{-ik_1 x}\n",
    "\\\\\n",
    "\\psi_2(x) = B_2e^{-k_2 x}\n",
    "\\end{cases}\n",
    "$$\n",
    "\n",
    "Иначе (частица над барьером):\n",
    "\n",
    "$$\n",
    "\\begin{cases}\n",
    "\\psi_1(x) = A_1e^{ik_1 x} + B_1e^{-ik_1 x}\n",
    "\\\\\n",
    "\\psi_2(x) = A_2e^{ik_2 x}\n",
    "\\end{cases}\n",
    "$$\n",
    "\n",
    "В первом случае $A_2 = 0$ из условия ограничения на бесконечности, во второй системе $B_2 = 0$, так как в области II над барьером нет отраженной волны. Находим константы из условий непрерывности на границе:\n",
    "\n",
    "$$\n",
    "\\begin{cases}\n",
    "A_1 + B_1 = A_2\n",
    "\\\\\n",
    "ik_1A_1 - ik_1B_1 = -k_2 B_2\n",
    "\\end{cases}\n",
    "$$\n",
    "\n",
    "Положим $A_1 = 1$, тогда $B_1 = \\frac{k_1-ik_2}{k_1+ik_2}$, $B_2 = \\frac{2k_1}{k_1+ik_2}$. Из анализа системы уравнений - Е может принимать любое значение (непрерывный спектр). ВФ принимают вид:\n",
    "\n",
    "$$\n",
    "\\begin{cases}\n",
    "\\psi_1(x) = e^{ik_1 x} + \\frac{k_1-ik_2}{k_1+ik_2}e^{-ik_1 x}\n",
    "\\\\\n",
    "\\psi_2(x) = \\frac{2k_1}{k_1+ik_2}e^{-k_2 x}\n",
    "\\end{cases}\n",
    "$$\n",
    "\n",
    "И соответственно для $E>U_0$\n",
    "\n",
    "$$\n",
    "\\begin{cases}\n",
    "A_1 + B_1 = A_2\n",
    "\\\\\n",
    "k_1A_1 - k_1B_1 = k_2 A_2\n",
    "\\end{cases}\n",
    "$$\n",
    "\n",
    "$$\n",
    "\\begin{cases}\n",
    "B_1 = \\frac{k_1-k_2}{k_1+k_2}\n",
    "\\\\\n",
    "A_2 = \\frac{2k_1}{k_1+k_2}\n",
    "\\end{cases}\n",
    "$$\n",
    "\n",
    "$$\n",
    "\\begin{cases}\n",
    "\\psi_1(x) = e^{ik_1 x} + \\frac{k_1-k_2}{k_1+ik_2}e^{-ik_1 x}\n",
    "\\\\\n",
    "\\psi_2(x) = \\frac{2k_1}{k_1+k_2}e^{ik_2 x}\n",
    "\\end{cases}\n",
    "$$"
   ]
  },
  {
   "cell_type": "markdown",
   "metadata": {},
   "source": [
    "Физический интерес представляют коэффициенты отражения и прохождения, определяемые отношением плотностей потоков отраженных и прошедших через интерфейс электронов к плотности потока падающих на интерфейс электронов. Определим вектор плотности потока вероятности **J** следующим образом (в нашем одномерном случае это будет скаляр):\n",
    "\n",
    "$$\n",
    "J = \\frac{i\\hbar}{2m_0}\\left( \\psi\\triangledown \\psi^* - \\psi^* \\triangledown\\psi \\right)\n",
    "$$\n",
    "\n",
    "Тогда коэффициент прохождения D и коэффициент отражения R определяются следующим образом:\n",
    "\n",
    "$$\n",
    "D = \\lim_{|x|\\rightarrow\\infty}\\frac{J_2^+}{J_1^+} \\\\\n",
    "R = \\lim_{|x|\\rightarrow\\infty}\\frac{J_1^-}{J_1^+}\n",
    "$$\n",
    "\n",
    "Вектора плотности вероятности для электронов: $J_1^+$ - падающих из области I, $J_1^-$ - отраженных в область I, $J_2^+$ - прошедших в область II. При $E<U_0$:\n",
    "\n",
    "$$\n",
    "|J_1^+| = |A_1|^2\\frac{\\hbar k_1}{m_0} \\\\\n",
    "|J_1^-| = \\frac{\\hbar k_1}{m_0}\\left| \\frac{k_1-ik_2}{k_1+ik_2} \\right|^2 \\\\\n",
    "|J_2^+| = 0\n",
    "$$\n",
    "\n",
    "$$\n",
    "R = \\left| \\frac{k_1-ik_2}{k_1+ik_2} \\right|^2 = 1 \\\\\n",
    "D = 0\n",
    "$$\n",
    "\n",
    "В случае высокого порога вероятность прохождения нулевая, то есть частица полностью отражается. При $E>U_0$:\n",
    "\n",
    "$$\n",
    "|J_1^+| = |A_1|^2\\frac{\\hbar k_1}{m_0} \\\\\n",
    "|J_1^-| = \\frac{\\hbar k_1}{m_0}\\left| \\frac{k_1-k_2}{k_1+k_2} \\right|^2 \\\\\n",
    "|J_2^+| = \\frac{\\hbar k_2}{m_0}\\left| \\frac{2k_1}{k_1+k_2} \\right|^2\n",
    "$$\n",
    "\n",
    "$$\n",
    "R = \\left| \\frac{k_1-k_2}{k_1+k_2} \\right|^2 = \\left( \\frac{1-\\sqrt{1-U_0/E}}{1+\\sqrt{1-U_0/E}} \\right)^2 \\\\\n",
    "D = \\frac{4k_1k_2}{(k_1+k_2)^2} = 4 \\frac{\\sqrt{1-U_0/E}}{(1+\\sqrt{1-U_0/E})^2} \n",
    "$$"
   ]
  },
  {
   "cell_type": "code",
   "execution_count": null,
   "metadata": {},
   "outputs": [],
   "source": [
    "#const ħ = 6.5821e-16 # eV*s\n",
    "const ħ = 1.0546e-34 # J*s\n",
    "const m = 9.1094e-31 # kg\n",
    "const q = 1.6022e-19 # Kl\n",
    "\n",
    "k(E) = sqrt(2m*E*q)/ħ # 1/m"
   ]
  },
  {
   "cell_type": "code",
   "execution_count": null,
   "metadata": {},
   "outputs": [],
   "source": [
    "function RD(U0 = 1.)\n",
    "    \n",
    "    R(E) = E < U0 ? 1. : ( (1-sqrt(1-U0/E)) / (1+sqrt(1-U0/E)) )^2\n",
    "    D(E) = E < U0 ? 0. : 4sqrt(1-U0/E) / (1+sqrt(1-U0/E))^2\n",
    "    e = [0:0.01U0:2U0;]\n",
    "    \n",
    "    plot(R, e, line = 3, lab = \"R(E)\")\n",
    "    plot!(D, e, line = 3, lab = \"D(E)\")\n",
    "    title!(\"Transmission and Reflection coefficients\")\n",
    "end"
   ]
  },
  {
   "cell_type": "code",
   "execution_count": null,
   "metadata": {},
   "outputs": [],
   "source": [
    "RD(5.)"
   ]
  },
  {
   "cell_type": "markdown",
   "metadata": {},
   "source": [
    "Правда занятно? Над барьером существует ненулевая вероятность отражения!"
   ]
  },
  {
   "cell_type": "code",
   "execution_count": null,
   "metadata": {},
   "outputs": [],
   "source": [
    "function ψ(E::Array{Float64,1}, U0 = 1, a = 10e-10) # номер энерг-го ур-ня, ширина ямы\n",
    "    \n",
    "    x1 = [-a:0.01a:0;]\n",
    "    x2 = [0.01a:0.01a:a;]\n",
    "    X = [x1; x2] # конкатенация массивов\n",
    "    \n",
    "    function ElU(En)\n",
    "        \n",
    "        k1 = k(En) \n",
    "        k2 = k( abs(U0-En) )\n",
    "        A1 = 0.5 # из удобства отображения\n",
    "        A2 = A1*2k1 / (k1+k2)\n",
    "        B2 = A1*2k1 / (k1+im*k2)\n",
    "        \n",
    "        ψ1(x) = ( A1*exp(im*k1*x) + B1*exp(-im*k1*x) ) |> abs2\n",
    "        ψ2(x) = En > U0 ? A2*exp(im*k2*x) |> abs2 : B2*exp(-k2*x) |> abs2\n",
    "        B1 = En > U0 ? A1*(k1-k2) / (k1+k2) : A1*(k1-im*k2) / (k1+im*k2)\n",
    "        \n",
    "        [ψ1.(x1); ψ2.(x2)]\n",
    "        \n",
    "    end\n",
    "    \n",
    "    # plot(x->0.5U0*(sign(x)+1), X, line = ( 3, :black), lab = \"\" )\n",
    "    plot([-a,0,0, a], [0,0,U0,U0], line = ( 3, :black), lab = \"\" )# так проще\n",
    "    hline!(E, lab = \"\") # барьер и уровни энергии\n",
    "    \n",
    "    for En in E\n",
    "        plot!(X, ElU(En).+En, line = 3, lab = \"E = $En eV\" )\n",
    "    end\n",
    "\n",
    "    yaxis!(\"E, eV\", (0, maximum(E)+1) )\n",
    "    xaxis!(\"x, A\")\n",
    "end"
   ]
  },
  {
   "cell_type": "code",
   "execution_count": null,
   "metadata": {
    "scrolled": false
   },
   "outputs": [],
   "source": [
    "ψ([1., 4., 6., 8.], 5.)"
   ]
  },
  {
   "cell_type": "code",
   "execution_count": null,
   "metadata": {},
   "outputs": [],
   "source": []
  },
  {
   "cell_type": "markdown",
   "metadata": {},
   "source": [
    "### Туннелирование электрона через потенциальный барьер"
   ]
  },
  {
   "cell_type": "code",
   "execution_count": null,
   "metadata": {},
   "outputs": [],
   "source": [
    "plot([0,0], [0,1.5], line = (:arrow, 1, :black), annotations=(0.05, 1.5, text(\"U(x)\", :left)) )\n",
    "plot!([-0.5,1], [0,0], line = (:arrow, 1, :black), annotations=(1, 0.08, text(\"x\", :up)))\n",
    "plot!([-0.4,0,0,0.5,0.5,1], [0,0,1,1,0,0], line = ( 3, :black), leg=false, ticks=nothing, border=:none )\n",
    "\n",
    "annotate!([(-0.05, 1, text(\"U0\", :right)), (2.4, 1.92, text(\"a\", :center)), (0.5, -0.05, text(\"a\", :center)),\n",
    "        (0, -0.05, text(\"0\", :center)), (-0.25, 0.5, text(\"I\")), (0.25, 0.5, text(\"II\")), (0.75, 0.5, text(\"III\")) ])"
   ]
  },
  {
   "cell_type": "markdown",
   "metadata": {},
   "source": [
    "По аналогии с предыдущими задачами, находим решение УШ для каждой области.\n",
    "$$\n",
    "\\begin{cases}\n",
    "\\psi_1(x) = A_1e^{ik_1 x} + B_1e^{-ik_1 x}\n",
    "\\\\\n",
    "\\psi_2(x) = A_2e^{k_2 x} + B_2e^{-k_2 x}\n",
    "\\\\\n",
    "\\psi_3(x) = A_3e^{ik_1 x} + B_3e^{-ik_1 x}\n",
    "\\end{cases}\n",
    "$$\n",
    "\n",
    "Для $E>U_0$:\n",
    "\n",
    "$$\n",
    "\\begin{cases}\n",
    "\\psi_1(x) = A_1e^{ik_1 x} + B_1e^{-ik_1 x}\n",
    "\\\\\n",
    "\\psi_2(x) = A_2e^{ik_2 x} + B_2e^{-ik_2 x}\n",
    "\\\\\n",
    "\\psi_3(x) = A_3e^{ik_1 x} + B_3e^{-ik_1 x}\n",
    "\\end{cases}\n",
    "$$\n",
    "\n",
    "Примем $A_1 = 1$, а $B_3 = 0$ так как в области III нет отраженной волны де Бройля. Используем условия сшивки для х = 0 и х = а:\n",
    "\n",
    "$$\n",
    "1 + B_1 = A_2 + B_2 \\\\\n",
    "ik_1 - ik_1B_1 = k_2A_2 - k_2B_2 \\\\\n",
    "A_2 e^{k_2 a} + B_2 e^{-k_2 a} = A_3 e^{i k_1 a} \\\\\n",
    "k_2A_2 e^{k_2 a} -k_2 B_2 e^{-k_2 a} = i k_1A_3 e^{i k_1 a} \n",
    "$$\n",
    "\n",
    "И для $E>U_0$:\n",
    "\n",
    "$$\n",
    "1 + B_1 = A_2 + B_2 \\\\\n",
    "ik_1 - ik_1B_1 = ik_2A_2 - ik_2B_2 \\\\\n",
    "A_2 e^{ik_2 a} + B_2 e^{-ik_2 a} = A_3 e^{i k_1 a} \\\\\n",
    "ik_2A_2 e^{ik_2 a} -ik_2 B_2 e^{-ik_2 a} = i k_1A_3 e^{i k_1 a} \n",
    "$$\n",
    "\n",
    "Эти системы имеют решения при любых значениях E (энергетический спектр частицы является непрерывным). Основное внимание в данной задаче можно сосредоточить на анализе прохождения частицы через барьер (поведение в области III), для этого достаточно выразить $A_3$ через $A_1$. Ай, да и все остальные тоже найдем:"
   ]
  },
  {
   "cell_type": "code",
   "execution_count": null,
   "metadata": {
    "scrolled": true
   },
   "outputs": [],
   "source": [
    "using Reduce, Latexify"
   ]
  },
  {
   "cell_type": "code",
   "execution_count": null,
   "metadata": {
    "scrolled": true
   },
   "outputs": [],
   "source": [
    "exprn = ( :( A_1+B_1-A_2-B_2 ),\n",
    "    :( im*k_1*A_1 - im*k_1*B_1 - k_2*A_2 + k_2*B_2 ),\n",
    "    :( A_2*e^(k_2*a) + B_2*e^(-k_2*a) - A_3*e^(im*k_1*a) ),\n",
    "    :( k_2*A_2*e^(k_2*a) - k_2*B_2*e^(-k_2*a) - im*k_1*A_3*e^(im*k_1*a) ) )\n",
    "\n",
    "exprn2 = ( :( A_1+B_1-A_2-B_2 ),\n",
    "    :( im*k_1*A_1 - im*k_1*B_1 - im*k_2*A_2 + im*k_2*B_2 ),\n",
    "    :( A_2*e^(im*k_2*a) + B_2*e^(-im*k_2*a) - A_3*e^(im*k_1*a) ),\n",
    "    :( im*k_2*A_2*e^(im*k_2*a) - im*k_2*B_2*e^(-im*k_2*a) - im*k_1*A_3*e^(im*k_1*a) ) )\n",
    "\n",
    "vars = (:B_1, :A_2, :B_2, :A_3)\n",
    "latexify([e for e in exprn2], transpose = true)"
   ]
  },
  {
   "cell_type": "code",
   "execution_count": null,
   "metadata": {
    "scrolled": false
   },
   "outputs": [],
   "source": [
    "sol = Algebra.solve( exprn, vars)\n",
    "solarr = [s for s in sol]\n",
    "\n",
    "sol2 = Algebra.solve( exprn2, vars)\n",
    "solarr2 = [s for s in sol2]"
   ]
  },
  {
   "cell_type": "code",
   "execution_count": null,
   "metadata": {
    "scrolled": false
   },
   "outputs": [],
   "source": [
    "latexify(solarr2, transpose = true)"
   ]
  },
  {
   "cell_type": "markdown",
   "metadata": {},
   "source": [
    "[почему е не отображается](https://github.com/korsbo/Latexify.jl/issues/31)"
   ]
  },
  {
   "cell_type": "code",
   "execution_count": null,
   "metadata": {
    "scrolled": true
   },
   "outputs": [],
   "source": [
    "funs = [:B1, :A2, :B2, :A3, :uB1, :uA2, :uB2, :uA3]\n",
    "Sols = [solarr; solarr2]\n",
    "\n",
    "funhead(funame) = :( $funame(k_1, k_2, a, a_1) )\n",
    "for i = 1:8\n",
    "    Expr(:function,funhead(funs[i]), Sols[i] ) |> eval\n",
    "end\n",
    "\n",
    "funevl = [eval(fun) for fun in funs]"
   ]
  },
  {
   "cell_type": "markdown",
   "metadata": {},
   "source": [
    "Теперь у нас есть функции считающие константы для волновых функций под и над барьером. Найдем вектор плотности потока вероятности для падающей на барьер и прошедшей через него волны, а также коэффициент прохождения:\n",
    "\n",
    "$$\n",
    "|J_{in}| = \\frac{\\hbar k_1}{m_0} \\\\\n",
    "|J_{out}| = \\frac{\\hbar k_1}{m_0}|A_3|^2 \\\\\n",
    "D = \\frac{|J_{out}|}{|J_{in}|} = |A_3|^2\n",
    "$$\n",
    "\n",
    "Очевидно, что $R+D=1$, но если есть желание можете и посчитать..."
   ]
  },
  {
   "cell_type": "code",
   "execution_count": null,
   "metadata": {},
   "outputs": [],
   "source": [
    "function RDb(U0 = 1., a = 10e-10)\n",
    "    \n",
    "    a1 = 1.\n",
    "    e = [0:0.01U0:3U0;]\n",
    "    D(E) = E < U0 ? abs2( A3(k(E), k(U0-E), a, a1) ) : abs2( uA3(k(E), k(E-U0), a, a1) )\n",
    "    R(E) = 1.0 - D(E)\n",
    "    \n",
    "    plot(R, e, line = 3, lab = \"R(E)\")\n",
    "    plot!(D, e, line = 3, lab = \"D(E)\")\n",
    "    vline!([U0], lab = \"\")\n",
    "    title!(\"Transmission and Reflection coefficients\")\n",
    "    # дырочки (разрывы) можно залатать при E=U0: D = 2ħ^2 / (2ħ^2 + m*a^2*U0)\n",
    "end"
   ]
  },
  {
   "cell_type": "code",
   "execution_count": null,
   "metadata": {},
   "outputs": [],
   "source": [
    "RDb(2.)"
   ]
  },
  {
   "cell_type": "code",
   "execution_count": null,
   "metadata": {},
   "outputs": [],
   "source": []
  },
  {
   "cell_type": "code",
   "execution_count": null,
   "metadata": {},
   "outputs": [],
   "source": [
    "function Ψ(E::Array{Float64,1}, U0 = 5., a = 10e-10, A1 = 0.5) # номер энерг-го ур-ня, ширина ямы\n",
    "    \n",
    "    x1 = [-a:0.01a:0;]\n",
    "    x2 = [0.01a:0.01a:a;]\n",
    "    x3 = [1.01a:0.01a:2a;]\n",
    "    X = [x1; x2; x3] # конкатенация массивов\n",
    "    \n",
    "    function ElU(En)\n",
    "\n",
    "        k1 = k(En) \n",
    "        k2 = k( abs(U0-En) )\n",
    "        itr = 1:4\n",
    "        j = 1\n",
    "        \n",
    "        if En > U0\n",
    "            itr = 5:8\n",
    "            j = im\n",
    "        end\n",
    "        \n",
    "        C = [ fun(k1, k2, a, A1) for fun in funevl[itr] ]\n",
    "        \n",
    "        ψ1(x) = ( A1*exp(im*k1*x) + C[1]*exp(-im*k1*x) ) |> abs2\n",
    "        ψ2(x) = ( C[2]*exp(j*k2*x) + C[3]*exp(-j*k2*x) ) |> abs2\n",
    "        ψ3(x) = C[4]*exp(im*k1*x) |> abs2\n",
    "        \n",
    "        [ψ1.(x1); ψ2.(x2); ψ3.(x3)]\n",
    "        \n",
    "    end\n",
    "   \n",
    "    plot([-a,0,0,a,a,2a], [0,0,U0,U0,0,0], line = ( 3, :black), lab = \"\" ) # барьер\n",
    "    hline!(E, lab = \"\") # барьер и уровни энергии\n",
    "    \n",
    "    for En in E\n",
    "        plot!(X, ElU(En).+En, line = 3, lab = \"E = $En eV\" )\n",
    "    end\n",
    "\n",
    "    yaxis!(\"E, eV\", (0, maximum(E)+2) )\n",
    "    xaxis!(\"x, A\")\n",
    "end"
   ]
  },
  {
   "cell_type": "code",
   "execution_count": null,
   "metadata": {},
   "outputs": [],
   "source": [
    "Ψ([1.,3.,5.1,7.])"
   ]
  },
  {
   "cell_type": "code",
   "execution_count": null,
   "metadata": {},
   "outputs": [],
   "source": [
    "Ψ([5., 13., 19.8], 20, 1e-10, 1.5)"
   ]
  },
  {
   "cell_type": "code",
   "execution_count": null,
   "metadata": {},
   "outputs": [],
   "source": []
  }
 ],
 "metadata": {
  "@webio": {
   "lastCommId": null,
   "lastKernelId": null
  },
  "kernelspec": {
   "display_name": "Julia 1.1.0",
   "language": "julia",
   "name": "julia-1.1"
  },
  "language_info": {
   "file_extension": ".jl",
   "mimetype": "application/julia",
   "name": "julia",
   "version": "1.1.0"
  }
 },
 "nbformat": 4,
 "nbformat_minor": 2
}
