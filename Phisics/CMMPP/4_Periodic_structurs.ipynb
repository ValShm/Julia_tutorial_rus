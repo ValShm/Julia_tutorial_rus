{
 "cells": [
  {
   "cell_type": "markdown",
   "metadata": {},
   "source": [
    "## Туннелирование электрона через двухбарьерную потенциальную стенку"
   ]
  },
  {
   "cell_type": "markdown",
   "metadata": {},
   "source": [
    "### Метод матриц переноса\n",
    "\n",
    "Как можно заметить из уже рассмотренных примеров, при решении задач о движении электронов в слоисто-неоднородных средах решения\n",
    "уравнения Шредингера записываются отдельно в каждой из областей, где потенциал U(x) постоянен, в виде суперпозиции падающей и отраженной волн де Бройля, а для нахождения амплитуд этих волн используются граничные условия на интерфейсах между слоями. Такой подход позволяет легко формализовать расчет амплитуд волн де Бройля и коэффициентов отражения и прохождения в многослойных средах с использованием метода матриц переноса.\n",
    "\n",
    "Для структуры состоящей из N слоев можно выписать решения СУШ для каждой области:\n",
    "\n",
    "$$\n",
    "\\psi_k(x,E) = A_k e^{i\\gamma_k x} + B_k e^{-i\\gamma_k x} \\\\\n",
    "\\gamma_k(E) = \\sqrt{\\frac{2m_k(E-U_k)}{\\hbar^2}}\n",
    "$$\n",
    "\n",
    "Граничные условия:\n",
    "\n",
    "$$\n",
    "\\begin{cases}\n",
    "\\psi_k(x_k) = \\psi_{k+1}(x_k)\n",
    "\\\\\n",
    "\\frac{\\partial\\psi_k}{\\partial x}(x_k) = \\frac{\\partial\\psi_{k+1}}{\\partial x}(x_k)\n",
    "\\end{cases}\n",
    "$$\n",
    "\n",
    "Подставляя общее решение в условия на границах получаем СЛАУ относительно $A_k$ и $B_k$:\n",
    "\n",
    "$$\n",
    "\\begin{cases}\n",
    "A_k e^{i\\gamma_k x_k} + B_k e^{-i\\gamma_k x_k} = A_k e^{i\\gamma_{k+1} x_k} + B_k e^{-i\\gamma_{k+1} x_k}\n",
    "\\\\\n",
    "A_k i\\gamma_ke^{i\\gamma_k x_k} - B_k i\\gamma_k e^{-i\\gamma_k x_k} = A_{k+1} i\\gamma_{k+1} e^{i\\gamma_{k+1} x_k} - B_{k+1} i\\gamma_{k+1} e^{-i\\gamma_{k+1} x_k}\n",
    "\\end{cases}\n",
    "$$\n",
    "\n",
    "$$\n",
    "\\begin{cases}\n",
    "A_{k+1} = A_k\\cdot \\frac 1 2 (1+\\frac{\\gamma_k}{\\gamma_{k+1}})e^{-i(\\gamma_{k+1}-\\gamma_{k})x_k} + B_k\\cdot \\frac 1 2 (1-\\frac{\\gamma_k}{\\gamma_{k+1}})e^{-i(\\gamma_{k+1}+\\gamma_{k})x_k}\n",
    "\\\\\n",
    "B_{k+1} = A_k\\cdot \\frac 1 2 (1-\\frac{\\gamma_k}{\\gamma_{k+1}})e^{i(\\gamma_{k+1}+\\gamma_{k})x_k} + B_k\\cdot \\frac 1 2 (1+\\frac{\\gamma_k}{\\gamma_{k+1}})e^{i(\\gamma_{k+1}-\\gamma_{k})x_k}\n",
    "\\end{cases}\n",
    "$$\n",
    "\n",
    "или в матричном виде:\n",
    "\n",
    "$$\n",
    "\\begin{pmatrix}\n",
    "A_{k+1}\\\\\n",
    "B_{k+1}\n",
    "\\end{pmatrix} = \\hat T_{k,k+1}\\cdot\n",
    "\\begin{pmatrix}\n",
    "A_k\\\\\n",
    "B_k\n",
    "\\end{pmatrix}\n",
    "$$\n",
    "\n",
    "$$\n",
    "\\hat T_{k,k+1} = \\begin{pmatrix}\n",
    "\\frac 1 2 (1+\\frac{\\gamma_k}{\\gamma_{k+1}})e^{-i(\\gamma_{k+1}-\\gamma_{k})x_k} & \\frac 1 2 (1-\\frac{\\gamma_k}{\\gamma_{k+1}})e^{-i(\\gamma_{k+1}+\\gamma_{k})x_k} \\\\\n",
    "\\frac 1 2 (1-\\frac{\\gamma_k}{\\gamma_{k+1}})e^{i(\\gamma_{k+1}+\\gamma_{k})x_k} & \\frac 1 2 (1+\\frac{\\gamma_k}{\\gamma_{k+1}})e^{i(\\gamma_{k+1}-\\gamma_{k})x_k}\n",
    "\\end{pmatrix}\n",
    "$$\n",
    "\n",
    "Таким образом, получена матрица передачи волны де Бройля из области k в область k+1. "
   ]
  },
  {
   "cell_type": "markdown",
   "metadata": {},
   "source": [
    "С учетом того, что в области N+1 нет отраженной волны де Бройля ($B_{N+1} = 0$) и принимая во внимание рекурентное соотношение, можем найти связь между областями k = 0 и k = N+1 (границами всей структуры):\n",
    "\n",
    "$$\n",
    "\\begin{pmatrix}\n",
    "A_{N+1}\\\\\n",
    "0\n",
    "\\end{pmatrix} = \\hat T\\cdot\n",
    "\\begin{pmatrix}\n",
    "A_0\\\\\n",
    "B_0\n",
    "\\end{pmatrix}\n",
    "$$\n",
    "\n",
    "$$\n",
    "\\hat T = \\prod^0_{k=N}\\hat T_{k,k+1} = \n",
    "\\begin{pmatrix}\n",
    "T_{11} & T_{12}\\\\\n",
    "T_{21} & T_{22}\n",
    "\\end{pmatrix}\n",
    "$$\n",
    "\n",
    "– матрица передачи волны де Бройля через всю слоистую структуру. Коэффициенты отражения и прохождения электронной волны через\n",
    "структуру могут быть выражены через элементы матрицы передачи следующим образом:\n",
    "\n",
    "$$\n",
    "R = \\frac{|B_0|^2}{|A_0|^2} = \\left| \\frac{T_{21}}{T_{22}} \\right|^2 \\\\\n",
    "D = \\frac{|\\gamma_{N+1}|^2}{|\\gamma_0|^2} \\frac{|A_{N+1}|^2}{|A_0|^2} = \n",
    "\\frac{|\\gamma_{N+1}|^2}{|\\gamma_0|^2}\\left| \\frac{T_{22}T_{11}-T_{12}T_{21}}{T_{22}} \\right|^2\n",
    "$$"
   ]
  },
  {
   "cell_type": "code",
   "execution_count": null,
   "metadata": {},
   "outputs": [],
   "source": [
    "using Plots\n",
    "\n",
    "plot([0,0], [0,1.5], line = (:arrow, 1, :black), annotations=(0.05, 1.5, text(\"U(x)\", :left)) )\n",
    "plot!([-0.5,1], [0,0], line = (:arrow, 1, :black), annotations=(1, 0.08, text(\"x\", :up)))\n",
    "plot!([-0.4,0,0,0.2,0.2,0.4,0.4,0.6,0.6,1], [0.2,0.2,1,1,0.2,0.2,1,1,0.2,0.2], line = ( 3, :black), \n",
    "    leg=false, ticks=nothing, border=:none )\n",
    "\n",
    "annotate!([(-0.05, 0.25, text(\"U0\", :right)), (0.1, 0.1, text(\"a1\", :center)), (0.5, 0.1, text(\"a2\", :center)),\n",
    "        (-0.05, 1, text(\"U1\", :right)), (0.3, 0.1, text(\"b\", :center)) ])"
   ]
  },
  {
   "cell_type": "markdown",
   "metadata": {},
   "source": [
    "Рассмотрим прохождение частицы через систему из двух потенциальных барьеров, разделенных квантовой ямой, заключенную между двумя полубесконечными областями. Как и прежде, будем считать, что источник электронов находится в области 0 и бесконечно удален от структуры. Электрон движется от источника в положительном направлении оси *Ox*, обладая энергией *E*. Для расчета коэффициента прохождения электрона и амплитуд волн де Бройля воспользуемся матричным методом:\n",
    "* число слоёв в структуре N = 3;\n",
    "* число границ в рассматриваемой системе N+1 = 4 ;\n",
    "* число областей, в которых потенциал U(x) постоянен N+2 = 5\n",
    "\n",
    "Используем заточенность Julia под функциональное программирование:\n",
    "```julia\n",
    "a+b == +(a,b) # true\n",
    "foo(s) = s(5,8)\n",
    "foo(+)\n",
    "13\n",
    "foo(-)\n",
    "-3\n",
    "foo(^)\n",
    "390625\n",
    "```\n",
    "чтобы упростить запись передаточной матрицы:\n",
    "\n",
    "$$\n",
    "t(s_1,s_2,s_3) = s_1\\left(1,\\frac{\\gamma_k}{\\gamma_{k+1}} \\right)\\cdot\\exp\\{ ix_k\\cdot(s_2(\\gamma_{k+1}) + s_3(\\gamma_k) ) \\}\n",
    "$$\n",
    "\n",
    "$$\n",
    "\\hat T_{k,k+1} = \n",
    "\\begin{pmatrix}\n",
    "\\frac 1 2 (1+\\frac{\\gamma_k}{\\gamma_{k+1}})e^{-i(\\gamma_{k+1}-\\gamma_{k})x_k} & \\frac 1 2 (1-\\frac{\\gamma_k}{\\gamma_{k+1}})e^{-i(\\gamma_{k+1}+\\gamma_{k})x_k} \\\\\n",
    "\\frac 1 2 (1-\\frac{\\gamma_k}{\\gamma_{k+1}})e^{i(\\gamma_{k+1}+\\gamma_{k})x_k} & \\frac 1 2 (1+\\frac{\\gamma_k}{\\gamma_{k+1}})e^{i(\\gamma_{k+1}-\\gamma_{k})x_k}\n",
    "\\end{pmatrix} = \\frac 1 2\n",
    "\\begin{pmatrix}\n",
    "t_{+-+} & t_{---} \\\\\n",
    "t_{-++} & t_{++-}\n",
    "\\end{pmatrix}\n",
    "$$"
   ]
  },
  {
   "cell_type": "code",
   "execution_count": null,
   "metadata": {},
   "outputs": [],
   "source": [
    "#const ħ = 6.5821e-16 # eV*s\n",
    "const ħ = 1.0546e-34 # J*s\n",
    "const m = 9.1094e-31 # kg\n",
    "const q = 1.6022e-19 # Kl\n",
    "\n",
    "k(E) = sqrt(2m*q*Complex(E))/ħ # 1/m\n",
    "\n",
    "function T_k(En, j)\n",
    "    \n",
    "    γ_k   = k(En-U[j])\n",
    "    γ_kp1 = k(En-U[j+1])\n",
    "\n",
    "    t(s1,s2,s3) = s1(1., γ_k/γ_kp1) * exp( im*x[j]*( s2(γ_kp1)+s3(γ_k) ) )\n",
    "\n",
    "    0.5*[t(+,-,+) t(-,-,-)\n",
    "         t(-,+,+) t(+,+,-)]\n",
    "end"
   ]
  },
  {
   "cell_type": "code",
   "execution_count": null,
   "metadata": {
    "scrolled": false
   },
   "outputs": [],
   "source": [
    "a = [0., 10e-10, 10e-10, 10e-10 ] # толщины слоёв\n",
    "U = [0., 2., 0., 2., 0.] # высоты барьеров\n",
    "x = cumsum(a) # координаты границ раздела сред"
   ]
  },
  {
   "cell_type": "code",
   "execution_count": null,
   "metadata": {
    "scrolled": true
   },
   "outputs": [],
   "source": [
    "function DandR(N::Int64, Es = 0., Ef = 6.)\n",
    "    \n",
    "    function coefts(En)\n",
    "        \n",
    "        γ_Np1 = En-U[N+1] |> k |> real\n",
    "        γ_0   = En-U[1]   |> k |> real\n",
    "        \n",
    "        Tm = prod(j-> T_k(En, j), N:-1:1) # mult matrices\n",
    "        \n",
    "        Rn = abs2( Tm[2,1]/Tm[2,2] )\n",
    "        Dn = abs2( Tm[1,1] - Tm[1,2]*Tm[2,1] / Tm[2,2] ) * γ_Np1 / γ_0\n",
    "        \n",
    "        [Rn Dn]\n",
    "    end\n",
    "    \n",
    "    de = 0.005*(Ef-Es)\n",
    "    e = [Es:de:Ef;]\n",
    "    # из массива пар слепит массив с двумя столбцами:\n",
    "    RD = vcat(coefts.(e)...)\n",
    "    \n",
    "    plot(e, RD[:,1], line = 3, lab = \"R(E)\")\n",
    "    plot!(e, RD[:,2], line = 3, lab = \"D(E)\")\n",
    "    #vline!(U, lab = \"\")\n",
    "    title!(\"Transmission and Reflection coefficients\")\n",
    "    xaxis!(\"E, eV\")\n",
    "end"
   ]
  },
  {
   "cell_type": "markdown",
   "metadata": {},
   "source": [
    "Попробуем для разного количества границ раздела:"
   ]
  },
  {
   "cell_type": "code",
   "execution_count": null,
   "metadata": {},
   "outputs": [],
   "source": [
    "DandR(1) # туннелирование через стенку"
   ]
  },
  {
   "cell_type": "code",
   "execution_count": null,
   "metadata": {},
   "outputs": [],
   "source": [
    "DandR(2) # через барьер"
   ]
  },
  {
   "cell_type": "code",
   "execution_count": null,
   "metadata": {
    "scrolled": false
   },
   "outputs": [],
   "source": [
    "DandR(4) # через двухбарьерную структуру"
   ]
  },
  {
   "cell_type": "markdown",
   "metadata": {},
   "source": [
    "Погодите-ка! А что это там возле 2 эВ?"
   ]
  },
  {
   "cell_type": "code",
   "execution_count": null,
   "metadata": {},
   "outputs": [],
   "source": [
    "DandR(4, 1.7, 1.9)"
   ]
  },
  {
   "cell_type": "markdown",
   "metadata": {},
   "source": [
    "При $E\\approx 1.82$ эВ коэффициент прохождения D = 1, это явление называется *резонасным туннелированием* через структуру. (*Точное значение можно найти методами оптимизации или с помощью библиотеки `Roots.jl` минимизируя функцию `e-> coefts(e)[2]-1.`*)\n",
    "\n",
    "А теперь займемся волновыми функциями:"
   ]
  },
  {
   "cell_type": "code",
   "execution_count": null,
   "metadata": {},
   "outputs": [],
   "source": [
    "# значения энергии, кол-во границ, нормировочный коэффициент, левая граница по Х, правая, верхняя по У\n",
    "function Ψ(E::Array{Float64,1}, N::Int64; A1 = 0.5, xl = -4a[2], xr = 2x[end], yup = 4.)\n",
    "    \n",
    "    YU = repeat(U[1:N+1], inner=2) # чтоб рисовать правильно\n",
    "    XU = repeat(x[1:N], inner=2)\n",
    "    pushfirst!(XU, xl)\n",
    "    push!(XU, xr)\n",
    "    # рисуем стенки\n",
    "    plot(XU, YU, lab = \"\", line = 2)\n",
    "    \n",
    "    Xvec = copy(x[1:N])\n",
    "    pushfirst!(Xvec, xl)\n",
    "    push!(Xvec, xr)\n",
    "    Xarr = [ [Xvec[i]:0.005(Xvec[i+1]-Xvec[i]):Xvec[i+1];] for i = 1:N+1 ]\n",
    "    # массив массивов; каждый - это отрезок на ОХ\n",
    "    Xgrid = vcat(Xarr...) # объединить в один массив\n",
    "    \n",
    "    function ψ(En)\n",
    "        \n",
    "        γ = k.(En .- U)\n",
    "        \n",
    "        Tms = [T_k(En, j) for j = 1:N] # Transfer matrices\n",
    "        \n",
    "        TN = prod(Tms[N:-1:1]) # через всю структуру\n",
    "        \n",
    "        ABs = zeros(Complex, N+1, 2)\n",
    "        ABs[1] = 1. # A_1\n",
    "        ABs[1,2] = -TN[2,1]/TN[2,2]*ABs[1] # B_1\n",
    "        ABs[end,1] = ( TN[1,1] - TN[1,2]*TN[2,1] / TN[2,2] ) * ABs[1] # A_last\n",
    "        ABs[end,2] = 0. # B_last\n",
    "        \n",
    "        for i = 1:N-1\n",
    "            ABs[i+1,:] = Tms[i] * ABs[i,:]\n",
    "        end\n",
    "        # ищем ВФ на каждом отрезке\n",
    "        # todo: много промежуточных массивов\n",
    "        ψi(i) = real.( ABs[i,1]*exp.(im*γ[i]*Xarr[i]) + ABs[i,2]*exp.(-im*γ[i]*Xarr[i]) )\n",
    "        \n",
    "        vcat(ψi.( [1:N+1;] )...).^2 # возвращает вер-ть по всей структуре\n",
    "    end\n",
    "    \n",
    "    hline!(E, lab = \"\") # уровни энергии\n",
    "    \n",
    "    for En in E\n",
    "        \n",
    "        Y = ψ(En)\n",
    "        Y /= maximum(Y) # нормируем на единицу\n",
    "        Y .+= En\n",
    "        \n",
    "        plot!(Xgrid, Y,  line = 3, lab = \"E = $En eV\" )\n",
    "    end\n",
    "\n",
    "    yaxis!(\"E, eV\", (0, yup ) )\n",
    "    xaxis!(\"x, A\")\n",
    "    \n",
    "end"
   ]
  },
  {
   "cell_type": "code",
   "execution_count": null,
   "metadata": {},
   "outputs": [],
   "source": [
    "Ψ([0.5, 1.82, 2.5, 4., 6.], 4, yup = 8)"
   ]
  },
  {
   "cell_type": "code",
   "execution_count": null,
   "metadata": {},
   "outputs": [],
   "source": [
    "a = [0., 8e-10, 10e-10, 5e-10 ] # толщины слоёв\n",
    "U = [0.2, 2., 0.1, 2.2, 0.1] # высоты барьеров\n",
    "x = cumsum(a); # координаты границ раздела сред"
   ]
  },
  {
   "cell_type": "code",
   "execution_count": null,
   "metadata": {
    "scrolled": false
   },
   "outputs": [],
   "source": [
    "Ψ([0.5, 1.82, 2.5, 4., 6.], 4, yup = 8)"
   ]
  },
  {
   "cell_type": "code",
   "execution_count": null,
   "metadata": {},
   "outputs": [],
   "source": [
    "Ψ([0.5, 1.82, 2.5, 4., 6.], 2, yup = 8)"
   ]
  },
  {
   "cell_type": "code",
   "execution_count": null,
   "metadata": {},
   "outputs": [],
   "source": [
    "# todo: посмотреть с точным значением резонанса..."
   ]
  },
  {
   "cell_type": "markdown",
   "metadata": {},
   "source": [
    "### Модель Кронига-Пени\n",
    "\n",
    "Рассмотрим движения электрона в обычном кристалле. Потенциальная энергия электронов в кристалле является функцией координат с периодом, равным расстоянию между атомами. Электрон в периодическом поле обладает рядом общих свойств, не зависящих от конкретной формы периодического потенциала. Большинство из них можно выяснить при рассмотрении упрощенной модели\n",
    "кристалла, представляя его в виде цепочки атомов. При этом периодический потенциал становится одномерным. Форма периодического потенциала выбирается такой, чтобы расчет оказался наиболее простым.\n",
    "В этом случае возможно проведение строгого решения уравнения Шредингера. В модели Кронига—Пенни потенциал имеет вид прямоугольных ям, которые чередуются с прямоугольными потенциальными барьерами:"
   ]
  },
  {
   "cell_type": "code",
   "execution_count": null,
   "metadata": {},
   "outputs": [],
   "source": [
    "plot([0,0], [0,2.5], line = (:arrow, 1, :black), annotations=(0.05, 2.5, text(\"U(x)\", :left)) )\n",
    "plot!([-5,6], [0,0], line = (:arrow, 1, :black), annotations=(6, 0.08, text(\"x\", :up)))\n",
    "plot!(x->sign(sin(4x-0.5)+0.5)+1, [-5:0.05:5;], line = ( 3, :black), leg=false, ticks=nothing, border=:none ) # \n",
    "\n",
    "annotate!([(-0.08, 2.1, text(\"U0\", :right)), (0.6, 0.08, text(\"a\", :center)), (1.3, 0.08, text(\"b\", :center)),\n",
    "        (0, -0.08, text(\"0\", :center)) ])"
   ]
  },
  {
   "cell_type": "markdown",
   "metadata": {},
   "source": [
    "Решения УШ при $E<U_0$:\n",
    "\n",
    "$$\n",
    "\\psi_n(x) = \\begin{cases}\n",
    "A_ne^{i\\alpha(x-nc)} + B_n e^{-i\\alpha(x-nc)},\\, nc<x<nc+a\n",
    "\\\\\n",
    "C_ne^{\\beta(x-(nc+a))} + D_n e^{-\\beta(x-(nc+a))},\\, nc+a<x<(n+1)c\n",
    "\\end{cases}\n",
    "$$\n",
    "\n",
    "а - ширина барьера, b - ширина ямы, с = а+b - постоянная кристалической решетки, $\\alpha = \\frac 1 \\hbar \\sqrt{2m_nE}$, $\\beta = \\frac 1 \\hbar \\sqrt{2m_n(U_0-E)}$, $m_n$ - эффективная масса электрона в кристале.\n",
    "Используем условия сшивки:"
   ]
  },
  {
   "cell_type": "code",
   "execution_count": null,
   "metadata": {},
   "outputs": [],
   "source": [
    "using Reduce, Latexify"
   ]
  },
  {
   "cell_type": "code",
   "execution_count": null,
   "metadata": {},
   "outputs": [],
   "source": [
    "exprn = ( :( A_n + B_n - C_n1*exp(β*b) - D_n1*exp(-β*b) ), # n1 = n-1\n",
    "    :( im*α*A_n - im*α*B_n - β*C_n1*exp(β*b) + β*D_n1*exp(-β*b) ),\n",
    "    :( A_n*exp(im*α*a) + B_n*exp(-im*α*a) - C_n - D_n ),\n",
    "    :( im*α*A_n*exp(im*α*a) - im*α*B_n*exp(-im*α*a) - β*C_n + β*D_n ) )\n",
    "\n",
    "vars = (:A_n, :B_n, :C_n, :D_n)\n",
    "latexify([e for e in exprn], transpose = true)"
   ]
  },
  {
   "cell_type": "markdown",
   "metadata": {},
   "source": [
    "Так как $\\psi_n$ и $\\psi_{n-1}$ являются решениями одного и того же УШ, то они отличаются между собой постоянным множителем, квадрат которого равен единице: $\\psi_n = \\psi_{n-1}e^{i\\lambda}$, где $\\lambda$ - некий вещественный параметр. Следовательно:\n",
    "\n",
    "$$\n",
    "C_{n-1} = C_n e^{-i\\lambda} \\\\\n",
    "D_{n-1} = D_n e^{-i\\lambda}\n",
    "$$\n",
    "Подставим полученые выражения в нашу систему и решим её:"
   ]
  },
  {
   "cell_type": "code",
   "execution_count": null,
   "metadata": {},
   "outputs": [],
   "source": [
    "exprns = Algebra.sub( (:(C_n1 = C_n*exp(-im*λ)), :(D_n1 = D_n*exp(-im*λ))), exprn )\n",
    "sol = Algebra.solve( exprns, vars)\n",
    "solarr = [s for s in sol]"
   ]
  },
  {
   "cell_type": "markdown",
   "metadata": {},
   "source": [
    "Чтобы найти не только тривиальные решения, приравняем нулю детерминант матрицы коэффициентов:"
   ]
  },
  {
   "cell_type": "code",
   "execution_count": null,
   "metadata": {
    "scrolled": true
   },
   "outputs": [],
   "source": [
    "mtrx = [1 1 :(-exp(β*b-im*λ)) :(-exp(-β*b-im*λ))\n",
    "    :(im*α) :(im*α) :(-β*exp(β*b-im*λ)) :(β*exp(-β*b-im*λ))\n",
    "    :(exp(im*α*a)) :(exp(-im*α*a)) -1 -1\n",
    "    :(im*α*exp(im*α*a)) :(-im*α*exp(-im*α*a)) :(-β) :(β) ]\n",
    "\n",
    "Δ = Algebra.det(mtrx)\n",
    "latexify(Δ)"
   ]
  },
  {
   "cell_type": "markdown",
   "metadata": {},
   "source": [
    "Или более свёрнуто: \n",
    "$$1)\\, \\cos(a\\alpha)\\cosh(b\\beta)+\\frac{\\beta^2-\\alpha^2}{2\\beta\\alpha}\\sin(a\\alpha)\\sinh(b\\beta)=\\cos(\\lambda)$$\n",
    "\n",
    "Решением будут допустимые значения энергии. Чтоб упростить себе жизнь, рассмотрим случай, когда ширина барьера стремится к нулю, а высота к бесконечности так, что $U_0b=const$. Это произведение определяет степень прозрачности потенциального барьера для электронов. Введем обозначение:\n",
    "$$\n",
    "P = \\lim_{b\\rightarrow 0\\\\ U_0\\rightarrow\\infty\\\\ U_0b=const}\\frac{\\beta^2ab}{2}\n",
    "$$\n",
    "\n",
    "$$2)\\, \\cos(a\\alpha) + P\\frac{\\sin(a\\alpha)}{a\\alpha}=\\cos(\\lambda)$$\n",
    "\n",
    "Это уравнение Кронига-Пенни. Параметр ***Р*** пропорционален площади потенциального барьера; он характеризует степень прозрачности барьера для электронов или степень связанности электрона внутри потенциальной ямы. Действительные\n",
    "корни этого уравнения существуют только при тех значениях $a\\alpha$, при которых левая часть уравнения принимает значения в интервале $[-1,1]$."
   ]
  },
  {
   "cell_type": "code",
   "execution_count": null,
   "metadata": {},
   "outputs": [],
   "source": [
    "function KP(;P = 10, U0 = 10, a = 3e-10, b = 1e-10 )\n",
    "    \n",
    "    ka = [-10:0.03:10;] # ноль перепрыгиваем\n",
    "    kp(ka) = cos(ka) + P*sin(ka)/ka\n",
    "    u(ka) = abs(kp(ka))-1 > 0 ? 0 : 1 # up\n",
    "    d(ka) = abs(kp(ka))-1 > 0 ? 0 : -1 # down\n",
    "    \n",
    "    E = [-U0:0.005U0:U0;]\n",
    "    function kp2(En)\n",
    "        k1 = En |> abs |> k\n",
    "        k2 = k(U0) - k1\n",
    "        cos(k1*a)*cosh(k2*b) + 0.5(k2^2-k1^2)/(k1*k2) * sin(a*k1)*sinh(b*k2)\n",
    "    end\n",
    "    \n",
    "    plot(u, ka, fill=(0, :orange), line = 0, lab = \"\")\n",
    "    plot!(d, ka, fill=(0, :orange), line = 0, lab = \"\")\n",
    "    hline!([-1,1], line = :dash, lab = \"\")\n",
    "    \n",
    "    plot!(kp, ka, line = 2, lab = \"formula 2\")\n",
    "    plot!(kp2, E, line = 2, lab = \"formula 1\")\n",
    "    xaxis!(\"ka\")\n",
    "end"
   ]
  },
  {
   "cell_type": "code",
   "execution_count": null,
   "metadata": {
    "scrolled": false
   },
   "outputs": [],
   "source": [
    "KP(P = 10, U0 = 10, a = 5e-10, b = 1e-10)"
   ]
  },
  {
   "cell_type": "markdown",
   "metadata": {},
   "source": [
    "*Проверьте правильность имплементаций формул и поиграйтесь с параметрами - большая формула без приближений должна давать аналогичные результаты ~~(а может они и не должны совпадать?)~~*"
   ]
  },
  {
   "cell_type": "code",
   "execution_count": null,
   "metadata": {},
   "outputs": [],
   "source": [
    "KP(P = 10, U0 = 10, a = 6e-10, b = 0.8e-10)"
   ]
  },
  {
   "cell_type": "markdown",
   "metadata": {},
   "source": [
    "Таким образом, энергия электрона в периодическом поле не может принимать любое значение, как для свободного электрона. Она ограничена рядом полос (зон) разрешенных значений (области обозначены оранжевым), отделенных друг от друга запрещенными зонами — энергетический спектр электрона в периодическом поле имеет зонную структуру. Ширина разрешенных зон определяется степенью связанности электрона внутри потенциальной ямы."
   ]
  }
 ],
 "metadata": {
  "@webio": {
   "lastCommId": null,
   "lastKernelId": null
  },
  "kernelspec": {
   "display_name": "Julia 1.1.0",
   "language": "julia",
   "name": "julia-1.1"
  },
  "language_info": {
   "file_extension": ".jl",
   "mimetype": "application/julia",
   "name": "julia",
   "version": "1.1.0"
  }
 },
 "nbformat": 4,
 "nbformat_minor": 2
}
