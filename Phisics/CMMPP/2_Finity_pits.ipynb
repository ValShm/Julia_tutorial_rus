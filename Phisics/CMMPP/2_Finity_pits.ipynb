{
 "cells": [
  {
   "cell_type": "markdown",
   "metadata": {},
   "source": [
    "### Электрон в одномерной полубесконечной потенциальной яме"
   ]
  },
  {
   "cell_type": "code",
   "execution_count": null,
   "metadata": {},
   "outputs": [],
   "source": [
    "using Plots, Roots"
   ]
  },
  {
   "cell_type": "code",
   "execution_count": null,
   "metadata": {},
   "outputs": [],
   "source": [
    "plot([2,2], [2,4], line = (:arrow, 3, :black), annotations=(2.02, 4, text(\"U(x)\", :left)) )\n",
    "plot!([1.75,3], [2,2], line = (:arrow, 1, :black), annotations=(3, 1.92, text(\"x\", :down)))\n",
    "plot!([2,2.4,2.4,3], [2,2,3,3], line = ( 3, :black), leg=false, ticks=nothing, border=:none )\n",
    "\n",
    "annotate!([(2.4, 3.05, text(\"U0\", :right)), (2.4, 1.92, text(\"a\", :center)), \n",
    "        (2, 1.92, text(\"0\", :center)), (2.2, 2.5, text(\"I\")), (2.6, 2.5, text(\"II\")) ])"
   ]
  },
  {
   "cell_type": "markdown",
   "metadata": {},
   "source": [
    "Стационарное уравнение Шрёдингера $H\\psi=E\\psi$ для данной системы удобно разбить на выражения для областей I и II (Помним о линейности и суперпозиции):\n",
    "\n",
    "$$\n",
    "H_i\\psi_i=E\\psi_i\n",
    "$$\n",
    "$i=1,2$, $H_1 = T+0$, $H_2 = T + U_0$\n",
    "$$\n",
    "\\begin{cases}\n",
    "\\frac{d^2\\psi_1}{dx^2} + \\frac{2m}{\\hbar^2}E\\psi_1 = 0\n",
    "\\\\\n",
    "\\frac{d^2\\psi_2}{dx^2} - \\frac{2m}{\\hbar^2}(U_0-E)\\psi_2 = 0\n",
    "\\end{cases}\n",
    "$$\n",
    "\n",
    "$$\n",
    "\\begin{cases}\n",
    "k_1 = \\sqrt{ \\frac{2mE}{\\hbar^2} }\n",
    "\\\\\n",
    "k_2 = \\sqrt{ \\frac{2m(U_0-E)}{\\hbar^2} }\n",
    "\\end{cases}\n",
    "$$\n",
    "\n",
    "$$\n",
    "\\begin{cases}\n",
    "\\psi_1(x) = A\\sin(k_1x + \\alpha)\n",
    "\\\\\n",
    "\\psi_2(x) = Be^{k_2x} + Ce^{-k_2x}\n",
    "\\end{cases}\n",
    "$$\n",
    "\n",
    "По условию $\\psi_1(0) = 0\\, \\rightarrow\\, \\alpha=0$, $\\psi_2(\\infty) = 0\\, \\rightarrow\\, B=0$. Далее нужно найти допустимые значения Е, для этого используем условия сшивки (непрерывность ВФ и их производных в точке х=а):\n",
    "\n",
    "$$\n",
    "\\begin{cases}\n",
    "A\\sin(k_1a) = Ce^{-k_2a}\n",
    "\\\\\n",
    "k_1A\\cos(k_1a) = -k_2Ce^{-k_2a}\n",
    "\\end{cases}\n",
    "$$\n",
    "\n",
    "Не вдаваясь в анализ можно сразу кинуться решать эту систему относительно Е\n",
    "\n",
    "$$\n",
    "det\\begin{vmatrix}\n",
    "\\sin(k_1a) & e^{-k_2a}\\\\ \n",
    "k_1\\cos(k_1a) & -k_2e^{-k_2a}\n",
    "\\end{vmatrix} = 0\n",
    "$$\n",
    "\n",
    "Вы ведь хорошо разбираетесь в численых методах решения трансцендентных уравнений? Если нет, то идём дальше. Делим первое уравнение на второе, и стараемся прийти к чему-то проще тангенса, что можно было бы решить графически:\n",
    "\n",
    "$$\n",
    "\\frac 1 {k_1}tg k_1a = -\\frac 1 {k_2}\\, \\rightarrow\\, ctg^2k_1a = \\frac{k_2^2}{k_1^2} = \\frac{U_0-E}E = \\frac{U_0}E-1\\, \\rightarrow\\, \\frac 1{\\sin^2k_1a}-1 = \\frac{U_0}E-1\\, \\rightarrow\n",
    "$$\n",
    "$$\n",
    "\\rightarrow\\, \\sin^2k_1a = \\frac{E}{U_0} = \\frac{2mE}{\\hbar^2}a^2\\frac{\\hbar^2}{2ma^2}\\frac{1}{U_0} = k_1^2a^2\\frac{\\hbar^2}{2ma^2U_0}\n",
    "$$\n",
    "\n",
    "$$\n",
    "\\sin k_1a = \\pm\\sqrt{\\frac{\\hbar^2}{2ma^2U_0}}k_1a\n",
    "$$\n",
    "\n",
    "Это уравнение можно решить графически относительно $k_1a$. Используя условие $\\tan k_1a<0$, получаем ограничение на аргумент $\\frac \\pi 2+\\pi n<k_1a<\\pi+\\pi n,\\, n\\in (0,\\infty)$. Также пригодится условие существования хотябы одного энергетического уровня: $U_0a^2>\\frac{\\pi^2\\hbar^2}{8m}$. Пересечения будут происходить до $k_1a = \\sqrt{\\frac{2mU_0a^2}{\\hbar^2}}=\\gamma$. A находим из условий нормировки, С - из условий на границе."
   ]
  },
  {
   "cell_type": "code",
   "execution_count": null,
   "metadata": {
    "scrolled": true
   },
   "outputs": [],
   "source": [
    "#const ħ = 6.5821e-16 # eV*s\n",
    "const ħ = 1.0546e-34 # J*s\n",
    "const m = 9.1094e-31 # kg\n",
    "const q = 1.6022e-19 # Kl\n",
    "\n",
    "k(E) = sqrt(2m*E*q)/ħ # 1/m"
   ]
  },
  {
   "cell_type": "code",
   "execution_count": null,
   "metadata": {},
   "outputs": [],
   "source": [
    "function nrg(U0, a = 10e-10)\n",
    "    \n",
    "    γ = k(U0)*a # безразмерная\n",
    "    ka = [0:0.005γ:γ;]\n",
    "    # ищем точки пересечения\n",
    "    solup = fzeros(x->sin(x)-x/γ, 0, γ) # up\n",
    "    soldn = fzeros(x->sin(x)+x/γ, 0, γ) # down\n",
    "    solns = sort( [solup; soldn] )\n",
    "    # отсеиваем неудовлетворяющие ограничениям:\n",
    "    function conds(x)\n",
    "        N = γ/π\n",
    "        ret = false\n",
    "        for n = 0:N\n",
    "            ret |= (0.5π+π*n < x < π+π*n) # хитро?\n",
    "        end\n",
    "        return ret\n",
    "    end\n",
    "    En = filter(conds, solns)\n",
    "    \n",
    "    plot(sin, ka, line = (3) )\n",
    "    plot!(x->  x/γ, ka, line = (3) )\n",
    "    plot!(x-> -x/γ, ka, line = (3) )\n",
    "    scatter!( sin, solns, marker=(20, 0.2, :orange) )\n",
    "    scatter!( sin, En, marker=(10, 0.8, :red), legend = false )\n",
    "    title!(\"Allowed energy values\")\n",
    "    \n",
    "    return ħ^2  / (2m*q*a^2) * En.^2\n",
    "end"
   ]
  },
  {
   "cell_type": "code",
   "execution_count": null,
   "metadata": {},
   "outputs": [],
   "source": [
    "E = nrg(5, 20e-10) # 5 эВ, 20 Ангстрем\n",
    "xaxis!(\"ka\")"
   ]
  },
  {
   "cell_type": "code",
   "execution_count": null,
   "metadata": {},
   "outputs": [],
   "source": [
    "# красные - которые подходят по условиям\n",
    "E # разрешенные уровни энергии"
   ]
  },
  {
   "cell_type": "code",
   "execution_count": null,
   "metadata": {},
   "outputs": [],
   "source": [
    "function ψ(n = 1, U0 = 1, a = 10e-10) # номер энерг-го ур-ня, ширина ямы\n",
    "    \n",
    "    x1 = [0:0.01a:a;]\n",
    "    x2 = [a:0.01a:1.5a;]\n",
    "    k1 = k( E[n] ) # 1/m\n",
    "    k2 = k( U0-E[n] )\n",
    "    \n",
    "    A = sqrt( 4k1/(2k1*a - sin(2k1*a)) )\n",
    "    #C = sqrt(2k2) * exp(a*k2) # ??? из нормировки\n",
    "    C = A*sin(k1*a)/exp(-k2*a)\n",
    "    \n",
    "    ψ1(x) = A*sin( k1*x )\n",
    "    ψ2(x) = C*exp(-k2*x )\n",
    "    \n",
    "    plot(ψ1, x1, line = (3), legend = false )\n",
    "    plot!(ψ2, x2, line = (3), xaxis = (\"x, A\") )\n",
    "    vline!([a])\n",
    "    title!(\"E = $(round(E[n], digits = 3)) eV\")\n",
    "end"
   ]
  },
  {
   "cell_type": "code",
   "execution_count": null,
   "metadata": {},
   "outputs": [],
   "source": [
    "ψ(3, 5, 20e-10) # условия ставить те же"
   ]
  },
  {
   "cell_type": "code",
   "execution_count": null,
   "metadata": {},
   "outputs": [],
   "source": []
  },
  {
   "cell_type": "markdown",
   "metadata": {},
   "source": [
    "### Электрон в одномерной потенциальной яме конечной глубины"
   ]
  },
  {
   "cell_type": "code",
   "execution_count": null,
   "metadata": {},
   "outputs": [],
   "source": [
    "plot([0,0], [-1,4], line = (:arrow, 1, :black), annotations=(0.2, 4, text(\"U(x)\", :left)) )\n",
    "plot!([-4,4], [0,0], line = (:arrow, 1, :black), annotations=(4, 0.2, text(\"x\", :up)))\n",
    "plot!([-4,-2,-2,2,2,4 ], [3,3,0,0,3,3 ], line = ( 3, :black), leg=false, ticks=nothing, border=:none )\n",
    "\n",
    "annotate!([(2, 3.2, text(\"U0\", :up)), (2, -0.2, text(\"a/2\", :center)), (-2, -0.2, text(\"-a/2\", :center)) ])"
   ]
  },
  {
   "cell_type": "markdown",
   "metadata": {},
   "source": [
    "Как и раньше, расписываем стационарное уравнение Шрёдингера $H\\psi=E\\psi$ для каждой области:\n",
    "\n",
    "$$\n",
    "H_i\\psi_i=E\\psi_i\n",
    "$$\n",
    "$i=1, 2, 3$, $H_2 = T+0$, $H_{1,3} = T + U_0$\n",
    "$$\n",
    "\\begin{cases}\n",
    "\\frac{d^2\\psi_1}{dx^2} - \\frac{2m}{\\hbar^2}(U_0-E)\\psi_1 = 0\n",
    "\\\\\n",
    "\\frac{d^2\\psi_2}{dx^2} + \\frac{2m}{\\hbar^2}E\\psi_2 = 0\n",
    "\\\\\n",
    "\\frac{d^2\\psi_3}{dx^2} - \\frac{2m}{\\hbar^2}(U_0-E)\\psi_3 = 0\n",
    "\\end{cases}\n",
    "$$\n",
    "\n",
    "$$\n",
    "\\begin{cases}\n",
    "\\gamma = \\sqrt{ \\frac{2mE}{\\hbar^2} }\n",
    "\\\\\n",
    "\\beta = \\sqrt{ \\frac{2m(U_0-E)}{\\hbar^2} }\n",
    "\\end{cases}\n",
    "$$\n",
    "\n",
    "$$\n",
    "\\begin{cases}\n",
    "\\psi_1(x) = A_1e^{\\beta x}\n",
    "\\\\\n",
    "\\psi_2(x) = A_2e^{i\\gamma x} + B_2e^{-i\\gamma x}\n",
    "\\\\\n",
    "\\psi_3(x) = B_3e^{-\\beta x}\n",
    "\\end{cases}\n",
    "$$\n",
    "\n",
    "$B_1 = A_3 = 0$ из условия ограничения на бесконечности."
   ]
  },
  {
   "cell_type": "markdown",
   "metadata": {},
   "source": [
    "Используем условие непрерывности волновой функции и её производной на границах потенциальной ямы:\n",
    "\n",
    "$$\n",
    "\\begin{cases}\n",
    "\\psi_1(-\\frac a 2) = \\psi_2(-\\frac a 2)\n",
    "\\\\\n",
    "\\frac 1 {m_b}\\frac{\\partial\\psi_1}{\\partial x}\\left(-\\frac a 2\\right) = \\frac 1 {m_a}\\frac{\\partial\\psi_2}{\\partial x}\\left(-\\frac a 2\\right)\n",
    "\\\\\n",
    "\\psi_2(\\frac a 2) = \\psi_3(\\frac a 2)\n",
    "\\\\\n",
    "\\frac 1 {m_a}\\frac{\\partial\\psi_2}{\\partial x}\\left(\\frac a 2\\right) = \\frac 1 {m_b}\\frac{\\partial\\psi_3}{\\partial x}\\left(\\frac a 2\\right)\n",
    "\\end{cases}\n",
    "$$\n",
    "\n",
    "$m_a$ и $m_b$ значения [эффективной массы](https://ru.wikipedia.org/wiki/Эффективная_масса) электрона в веществе А и В.\n",
    "\n",
    "$$\n",
    "\\begin{cases}\n",
    "A_1 e^{-\\frac a 2 \\beta} = A_2 e^{-i\\frac a 2 \\gamma} + B_2 e^{i\\frac a 2 \\gamma}\n",
    "\\\\\n",
    "A_1 \\frac \\beta {m_b} e^{-\\frac a 2 \\beta} = A_2 \\frac{i\\gamma}{m_a} e^{-i\\frac a 2 \\gamma} - B_2 \\frac{i\\gamma}{m_a} e^{i\\frac a 2 \\gamma}\n",
    "\\\\\n",
    "A_2 e^{i\\frac a 2 \\gamma} + B_2 e^{-i\\frac a 2 \\gamma} = B_3 e^{-\\frac a 2 \\beta}\n",
    "\\\\\n",
    "A_2 \\frac{i\\gamma}{m_a} e^{i\\frac a 2 \\gamma} - B_2 \\frac{i\\gamma}{m_a} e^{-i\\frac a 2 \\gamma} = -B_3 \\frac \\beta {m_b} e^{-\\frac a 2 \\beta}\n",
    "\\end{cases}\n",
    "$$\n",
    "\n",
    "Система имеет нетривиальные решения при равенстве нулю детерминанта:\n",
    "\n",
    "$$\n",
    "\\begin{vmatrix}\n",
    "e^{-\\frac a 2 \\beta} & -e^{-i\\frac a 2 \\gamma} & -e^{i\\frac a 2 \\gamma} & 0\\\\ \n",
    "\\frac \\beta {m_b} e^{-\\frac a 2 \\beta} & -\\frac{i\\gamma}{m_a} e^{-i\\frac a 2 \\gamma} & \\frac{i\\gamma}{m_a} e^{i\\frac a 2 \\gamma} & 0\\\\ \n",
    "0 & e^{i\\frac a 2 \\gamma} & e^{-i\\frac a 2 \\gamma} & -e^{-\\frac a 2 \\beta}\\\\ \n",
    "0 & \\frac{i\\gamma}{m_a} e^{i\\frac a 2 \\gamma} & -\\frac{i\\gamma}{m_a} e^{-i\\frac a 2 \\gamma} & \\frac \\beta {m_b} e^{-\\frac a 2 \\beta}\n",
    "\\end{vmatrix} = 0\n",
    "$$"
   ]
  },
  {
   "cell_type": "code",
   "execution_count": null,
   "metadata": {
    "scrolled": true
   },
   "outputs": [],
   "source": [
    "using Reduce, Latexify"
   ]
  },
  {
   "cell_type": "code",
   "execution_count": null,
   "metadata": {},
   "outputs": [],
   "source": [
    "using ForceImport\n",
    "@force using Reduce.Algebra"
   ]
  },
  {
   "cell_type": "code",
   "execution_count": null,
   "metadata": {},
   "outputs": [],
   "source": [
    "function ltx(formula)\n",
    "    l = latexify(formula)\n",
    "    res = replace(l, r\"\\\\euler\"=>\"e\")\n",
    "    latexstring(res)\n",
    "end"
   ]
  },
  {
   "cell_type": "code",
   "execution_count": null,
   "metadata": {
    "scrolled": false
   },
   "outputs": [],
   "source": [
    "a1 = :( exp(β*x) )\n",
    "a2 = :( exp(i*γ*x) )\n",
    "b2 = :( exp(-i*γ*x) )\n",
    "b3 = :( exp(-β*x) )\n",
    "\n",
    "da1 = df(a1, :x)/:m_b\n",
    "da2 = df(a2, :x)/:m_a\n",
    "db2 = df(b2, :x)/:m_a\n",
    "db3 = df(b3, :x)/:m_b"
   ]
  },
  {
   "cell_type": "code",
   "execution_count": null,
   "metadata": {
    "scrolled": true
   },
   "outputs": [],
   "source": [
    "M = [\n",
    "    a1 -a2 -b2 0\n",
    "    da1 -da2 -db2 0\n",
    "    0 a2 b2 -b3\n",
    "    0 da2 db2 -db3\n",
    "]\n",
    "ltx(M)"
   ]
  },
  {
   "cell_type": "code",
   "execution_count": null,
   "metadata": {},
   "outputs": [],
   "source": [
    "trnsf(s, m) = Algebra.sub((:(x= $s*a/2),:(y=y)),m)\n",
    "\n",
    "M2 = [ i==1||i==2 ? trnsf(-1, M[i,j]) : trnsf(1, M[i,j]) for i=1:4, j=1:4 ]"
   ]
  },
  {
   "cell_type": "code",
   "execution_count": null,
   "metadata": {
    "scrolled": true
   },
   "outputs": [],
   "source": [
    "ltx(M2)"
   ]
  },
  {
   "cell_type": "code",
   "execution_count": null,
   "metadata": {},
   "outputs": [],
   "source": [
    "M2 |> det |> ltx"
   ]
  },
  {
   "cell_type": "code",
   "execution_count": null,
   "metadata": {
    "scrolled": true
   },
   "outputs": [],
   "source": [
    "dM2 = det(M2)"
   ]
  },
  {
   "cell_type": "code",
   "execution_count": null,
   "metadata": {
    "scrolled": true
   },
   "outputs": [],
   "source": [
    "Expr(:function,:(fun(γ, β, a, m_a, m_b)), dM2 ) |> eval"
   ]
  },
  {
   "cell_type": "code",
   "execution_count": null,
   "metadata": {},
   "outputs": [],
   "source": [
    "# соберется такая функция\n",
    "fun(γ, β, a, m_a, m_b) = (((m_a ^ 2 * β ^ 2 - m_b ^ 2 * γ ^ 2) - 2 * im * m_a * m_b * β * γ) - \n",
    "    ℯ ^ (2 * a * im * γ) * ((m_a ^ 2 * β ^ 2 - m_b ^ 2 * γ ^ 2) + 2 * im * m_a * m_b * β * γ)) / \n",
    "        (ℯ ^ (a * im * γ + a * β) * m_a ^ 2 * m_b ^ 2)"
   ]
  },
  {
   "cell_type": "code",
   "execution_count": null,
   "metadata": {},
   "outputs": [],
   "source": [
    "function detE(E; U0 = 1, a = 10e-10)\n",
    "        k1 = k( E )\n",
    "        k2 = k( U0-E )\n",
    "        fun(k1, k2, a, m, m) |> abs\n",
    "    end"
   ]
  },
  {
   "cell_type": "markdown",
   "metadata": {},
   "source": [
    "Решения находим графически и уточняем с помощью `fzero`"
   ]
  },
  {
   "cell_type": "code",
   "execution_count": null,
   "metadata": {},
   "outputs": [],
   "source": [
    "plot(detE, [0:0.001:0.75], yaxis=(\"Y\", (0, 1e78) ) )"
   ]
  },
  {
   "cell_type": "code",
   "execution_count": null,
   "metadata": {},
   "outputs": [],
   "source": [
    "fzero(detE, 0.2 ) # xn = 0.19076547740519453"
   ]
  },
  {
   "cell_type": "markdown",
   "metadata": {},
   "source": [
    "Рассмотрим иной путь решения. Система ВФ может быть представлена в виде:\n",
    "\n",
    "$$\n",
    "\\begin{cases}\n",
    "\\psi_1(x) = Ce^{\\beta x}\n",
    "\\\\\n",
    "\\psi_2(x) = A_2e^{i\\gamma x} + B_2e^{-i\\gamma x} = A\\cos(i\\gamma x)\n",
    "\\\\\n",
    "\\psi_3(x) = Be^{-\\beta x}\n",
    "\\end{cases}\n",
    "$$\n",
    "\n",
    "Из условий симметрии задачу можно разбить на две части ($\\pm\\frac a 2$). Для четных решений синус, иначе косинус (~~или наоборот?~~)\n",
    "\n",
    "$$\n",
    "\\begin{cases}\n",
    "A \\cos{\\frac a 2 \\gamma} = B e^{-i\\frac a 2 \\beta}\n",
    "\\\\\n",
    "-A\\gamma \\sin{\\frac a 2 \\gamma} = -B\\beta e^{-i\\frac a 2 \\beta}\n",
    "\\end{cases}\n",
    "$$\n",
    "\n",
    "$$\n",
    "\\begin{cases}\n",
    "A \\sin{\\frac a 2 \\gamma} = B e^{-i\\frac a 2 \\beta}\n",
    "\\\\\n",
    "A\\gamma \\cos{\\frac a 2 \\gamma} = -B\\beta e^{-i\\frac a 2 \\beta}\n",
    "\\end{cases}\n",
    "$$\n",
    "\n",
    "$$\n",
    "\\gamma \\tan{\\frac a 2 \\gamma} = \\beta \n",
    "$$\n",
    "$$\n",
    "\\gamma \\cot{\\frac a 2 \\gamma} = -\\beta \n",
    "$$\n",
    "$$\n",
    "\\sqrt E \\tan\\left( \\frac{a\\sqrt{2mE}}{2\\hbar} \\right) = \\sqrt{U_0-E}\\\\\n",
    "\\sqrt E \\cot\\left( \\frac{a\\sqrt{2mE}}{2\\hbar} \\right) = -\\sqrt{U_0-E}\n",
    "$$"
   ]
  },
  {
   "cell_type": "code",
   "execution_count": null,
   "metadata": {},
   "outputs": [],
   "source": [
    "function nrg3b(a = 10e-10, U0 = 1)\n",
    "    \n",
    "    e = [0:0.01:U0;]\n",
    "    E1(E) = tan(0.5a*k(E))\n",
    "    Sq1(E) = sqrt(U0/E - 1.)\n",
    "    \n",
    "    E2(E) = cot(0.5a*k(E))\n",
    "    Sq2(E) = -sqrt(U0/E - 1.)\n",
    "    \n",
    "    plot(E1, e)\n",
    "    p1 = plot!(Sq1, e)\n",
    "    plot(E2, e)\n",
    "    p2 = plot!(Sq2, e)\n",
    "    plot(p1, p2)\n",
    "end"
   ]
  },
  {
   "cell_type": "code",
   "execution_count": null,
   "metadata": {
    "scrolled": false
   },
   "outputs": [],
   "source": [
    "nrg3b()"
   ]
  },
  {
   "cell_type": "code",
   "execution_count": null,
   "metadata": {},
   "outputs": [],
   "source": [
    "fzero(E->tan(5e-10*k(E)) - sqrt(1. /E - 1.), 0.25 ),\n",
    "fzero(E->cot(5e-10*k(E)) + sqrt(1. /E - 1.), 0.75 )"
   ]
  },
  {
   "cell_type": "code",
   "execution_count": null,
   "metadata": {},
   "outputs": [],
   "source": [
    "function Ψ(En, a = 10e-10, U0 = 1)\n",
    "    \n",
    "    k1 = k(En)\n",
    "    k2 = k(U0-En)\n",
    "    A1 = 1. # sqrt(k2)*exp(-0.25a*k2)\n",
    "    A2 = 0.5A1*(1. - im*k2/k1)*exp( 0.5a*(im*k1-k2) )\n",
    "    B2 = 0.5A1*(1. + im*k2/k1)*exp(-0.5a*(im*k1+k2) )\n",
    "    B3 = 0.5A1*( (1. - im*k2/k1)*exp( a*im*k1 ) + (1. + im*k2/k1)*exp( -a*im*k1 ) )\n",
    "    \n",
    "    x1 = [-a:0.01a:-0.5a;]\n",
    "    x2 = [-0.5a:0.01a:0.5a;]\n",
    "    x3 = [0.5a:0.01a:a;]\n",
    "    \n",
    "    ψ1(x) = A1*exp(k2*x) |> abs2\n",
    "    ψ2(x) = A2*exp(im*k1*x) + B2*exp(-im*k1*x) |> abs2\n",
    "    ψ3(x) = B3*exp(-k2*x) |> abs2\n",
    "    \n",
    "    plot(ψ1, x1, line = (3) )\n",
    "    plot!(ψ2, x2, line = (3) )\n",
    "    plot!(ψ3, x3, line = (3), xaxis = (\"x, A\") )\n",
    "    vline!([-0.5a, 0.5a], legend = false)\n",
    "    title!(\"Location probability\")\n",
    "end"
   ]
  },
  {
   "cell_type": "code",
   "execution_count": null,
   "metadata": {},
   "outputs": [],
   "source": [
    "Ψ(0.190765)"
   ]
  },
  {
   "cell_type": "code",
   "execution_count": null,
   "metadata": {},
   "outputs": [],
   "source": [
    "Ψ(0.70278)"
   ]
  },
  {
   "cell_type": "markdown",
   "metadata": {},
   "source": [
    "То есть при определенных значениях энергии частица не будет находится в центре ямы из-за интерференции ВФ самой с собой. Жуть..."
   ]
  }
 ],
 "metadata": {
  "@webio": {
   "lastCommId": null,
   "lastKernelId": null
  },
  "kernelspec": {
   "display_name": "Julia 1.1.0",
   "language": "julia",
   "name": "julia-1.1"
  },
  "language_info": {
   "file_extension": ".jl",
   "mimetype": "application/julia",
   "name": "julia",
   "version": "1.1.0"
  }
 },
 "nbformat": 4,
 "nbformat_minor": 2
}
