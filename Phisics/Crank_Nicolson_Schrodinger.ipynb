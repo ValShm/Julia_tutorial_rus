{
 "cells": [
  {
   "cell_type": "markdown",
   "metadata": {},
   "source": [
    "# Метод Кранка – Николсона для моделирования уравнения Шредингера\n",
    "\n",
    "https://github.com/Aloys0/Schrodinger-equation\n",
    "\n",
    "### Теория\n",
    "\n",
    "Уравнение Шредингера имеет вид:\n",
    "\n",
    "$$ i \\hbar \\frac{d}{dt} \\psi(\\vec{r}, t) = \\hat{H}\\psi(\\vec{r}, t) \\qquad (1)$$\n",
    "\n",
    "Начальный волновой пакет Гаусса описывается как:\n",
    "\n",
    "$$ \\psi(x,0) = \\mathrm{exp} \\left(-\\frac{(\\vec{r}-\\vec{r_0})^2}{2w^2} \\right) \\mathrm{exp} \\left(i\\vec{k} \\cdot \\vec{r} \\right) \\qquad (2)$$\n",
    "\n",
    "Для моделирования мы берем $ \\hbar = 2m = 1 $. Разностная аппроксимация уравнения Шредингера с использованием метода Кранка-Николсона становится:\n",
    "\n",
    "$$ i \\frac{\\psi(\\vec{r},t+\\Delta t) - \\psi(\\vec{r},t)}{\\Delta t} = \\frac{\\hat{H}\\psi(\\vec{r},t) + \\hat{H}\\psi(\\vec{r},t+\\Delta t)} {2} \\qquad (3)$$\n",
    "\n",
    "Которую можно переписать в виде:\n",
    "\n",
    "$$ \\left[1 + \\frac{i\\Delta t}{2}\\hat{H}\\right]\\psi(\\vec{r},t+\\Delta t) = \\left[1 - \\frac{i\\Delta t}{2}\\hat{H}\\right]\\psi(\\vec{r},t) \\qquad (4)$$\n",
    "\n",
    "#### 1D случай\n",
    "\n",
    "В одномерном случае гамильтониан, действующий на волновую функцию, имеет вид:\n",
    "\n",
    "$$ \\hat{H}\\psi(x,t) = - \\frac{\\psi(x+\\Delta x,t) + \\psi(x-\\Delta x,t) - 2\\psi(x,t)} {\\Delta x^2} + V(x)\\psi(x,t) \\qquad (5)$$\n",
    "\n",
    "Это соответствует разреженному гамильтониану. Например, для $ N_x = 5 $ гамильтониан и волновая функция становятся:\n",
    "\n",
    "$$ H^{1D}=\\begin{pmatrix}\n",
    "-2 & 1 & 0 & 0 & 0\\\\\n",
    "1 & -2 & 1 & 0 & 0\\\\\n",
    "0 & 1 & -2 & 1 & 0\\\\\n",
    "0 & 0 & 1 & -2 & 1\\\\\n",
    "0 & 0 & 0 & 1 & -2\n",
    "\\end{pmatrix}, \\qquad\\qquad \\psi^{1D}=\\begin{pmatrix}\n",
    "\\psi_1\\\\\n",
    "\\psi_2\\\\\n",
    "\\psi_3\\\\\n",
    "\\psi_4\\\\\n",
    "\\psi_5\n",
    "\\end{pmatrix} $$\n",
    "\n",
    "\n",
    "#### 2D случай \n",
    "\n",
    "Для двумерного случая гамильтониан, действующий на волновую функцию на равномерной сетке, имеет вид:\n",
    "\n",
    "$$ \\hat{H}\\psi(x,t) = - \\frac{\\psi(x+\\Delta x,y,t) + \\psi(x-\\Delta x,y,t) + \\psi(x,y+\\Delta y,t) + \\psi(x,y+\\Delta y,t) - 4\\psi(x,y,t)} {\\Delta x^2} + V(x,y)\\psi(x,y,t) \\qquad (6)$$\n",
    "\n",
    "Для $ N_x= 3 $ гамильтониан и волновая функция будут выглядеть так:\n",
    "\n",
    "$$ H^{2D}=\\begin{pmatrix}\n",
    "-4 & 1 & 0 & 1 & 0 & 0 & 0 & 0 & 0\\\\\n",
    "1 & -4 & 1 & 0 & 1 & 0 & 0 & 0 & 0\\\\\n",
    "0 & 1 & -4 & 0 & 0 & 1 & 0 & 0 & 0\\\\\n",
    "1 & 0 & 0 & -4 & 1 & 0 & 1 & 0 & 0\\\\\n",
    "0 & 1 & 0 & 1 & -4 & 1 & 0 & 1 & 0\\\\\n",
    "0 & 0 & 1 & 0 & 1 & -4 & 0 & 0 & 1\\\\\n",
    "0 & 0 & 0 & 1 & 0 & 0 & -4 & 1 & 0\\\\\n",
    "0 & 0 & 0 & 0 & 1 & 0 & 1 & -4 & 1\\\\\n",
    "0 & 0 & 0 & 0 & 0 & 1 & 0 & 1 & -4\n",
    "\\end{pmatrix}, \\qquad\\qquad \\psi^{2D}=\\begin{pmatrix}\n",
    "\\psi_{11}\\\\\n",
    "\\psi_{21}\\\\\n",
    "\\psi_{31}\\\\\n",
    "\\psi_{12}\\\\\n",
    "\\psi_{22}\\\\\n",
    "\\psi_{32}\\\\\n",
    "\\psi_{13}\\\\\n",
    "\\psi_{23}\\\\\n",
    "\\psi_{33}\\\\\n",
    "\\end{pmatrix} $$"
   ]
  },
  {
   "cell_type": "markdown",
   "metadata": {},
   "source": [
    "# Sparse\n",
    "\n",
    "Используем операции над разреженными матрицами, хорошо оптимизированные в библиотеке `Sparse.jl`\n",
    "Проиллюстрируем работу функций и сравним их производительность"
   ]
  },
  {
   "cell_type": "code",
   "execution_count": null,
   "metadata": {},
   "outputs": [],
   "source": [
    "]add BenchmarkTools"
   ]
  },
  {
   "cell_type": "code",
   "execution_count": null,
   "metadata": {},
   "outputs": [],
   "source": [
    "]add NumericalIntegration"
   ]
  },
  {
   "cell_type": "code",
   "execution_count": 1,
   "metadata": {},
   "outputs": [],
   "source": [
    "# для нормировки\n",
    "using NumericalIntegration # https://github.com/dextorious/NumericalIntegration.jl "
   ]
  },
  {
   "cell_type": "code",
   "execution_count": 1,
   "metadata": {
    "scrolled": true
   },
   "outputs": [],
   "source": [
    "using LinearAlgebra, SparseArrays#, BenchmarkTools\n",
    "# https://docs.julialang.org/en/v1/stdlib/SparseArrays/#Sparse-matrix-operations-1"
   ]
  },
  {
   "cell_type": "code",
   "execution_count": 3,
   "metadata": {},
   "outputs": [
    {
     "data": {
      "text/plain": [
       "10×10 Array{Int64,2}:\n",
       " -5   0   0   0   0  0  0  0  0  0\n",
       "  0  -4   0   0   0  0  0  0  0  0\n",
       "  0   0  -3   0   0  0  0  0  0  0\n",
       "  0   0   0  -2   0  0  0  0  0  0\n",
       "  0   0   0   0  -1  0  0  0  0  0\n",
       "  0   0   0   0   0  0  0  0  0  0\n",
       "  0   0   0   0   0  0  1  0  0  0\n",
       "  0   0   0   0   0  0  0  2  0  0\n",
       "  0   0   0   0   0  0  0  0  3  0\n",
       "  0   0   0   0   0  0  0  0  0  4"
      ]
     },
     "execution_count": 3,
     "metadata": {},
     "output_type": "execute_result"
    }
   ],
   "source": [
    "V0 = diagm([-5:4;])"
   ]
  },
  {
   "cell_type": "code",
   "execution_count": 4,
   "metadata": {
    "scrolled": true
   },
   "outputs": [
    {
     "data": {
      "text/plain": [
       "10×10 SparseMatrixCSC{Int64,Int64} with 9 stored entries:\n",
       "  [1 ,  1]  =  -5\n",
       "  [2 ,  2]  =  -4\n",
       "  [3 ,  3]  =  -3\n",
       "  [4 ,  4]  =  -2\n",
       "  [5 ,  5]  =  -1\n",
       "  [7 ,  7]  =  1\n",
       "  [8 ,  8]  =  2\n",
       "  [9 ,  9]  =  3\n",
       "  [10, 10]  =  4"
      ]
     },
     "execution_count": 4,
     "metadata": {},
     "output_type": "execute_result"
    }
   ],
   "source": [
    "V1 = sparse(I, 10, 10).*[-5:4;]"
   ]
  },
  {
   "cell_type": "code",
   "execution_count": 5,
   "metadata": {},
   "outputs": [
    {
     "data": {
      "text/plain": [
       "10×10 SymTridiagonal{Float64,Array{Float64,1}}:\n",
       " -2.0   1.0    ⋅     ⋅     ⋅     ⋅     ⋅     ⋅     ⋅     ⋅ \n",
       "  1.0  -2.0   1.0    ⋅     ⋅     ⋅     ⋅     ⋅     ⋅     ⋅ \n",
       "   ⋅    1.0  -2.0   1.0    ⋅     ⋅     ⋅     ⋅     ⋅     ⋅ \n",
       "   ⋅     ⋅    1.0  -2.0   1.0    ⋅     ⋅     ⋅     ⋅     ⋅ \n",
       "   ⋅     ⋅     ⋅    1.0  -2.0   1.0    ⋅     ⋅     ⋅     ⋅ \n",
       "   ⋅     ⋅     ⋅     ⋅    1.0  -2.0   1.0    ⋅     ⋅     ⋅ \n",
       "   ⋅     ⋅     ⋅     ⋅     ⋅    1.0  -2.0   1.0    ⋅     ⋅ \n",
       "   ⋅     ⋅     ⋅     ⋅     ⋅     ⋅    1.0  -2.0   1.0    ⋅ \n",
       "   ⋅     ⋅     ⋅     ⋅     ⋅     ⋅     ⋅    1.0  -2.0   1.0\n",
       "   ⋅     ⋅     ⋅     ⋅     ⋅     ⋅     ⋅     ⋅    1.0  -2.0"
      ]
     },
     "execution_count": 5,
     "metadata": {},
     "output_type": "execute_result"
    }
   ],
   "source": [
    "A0 = SymTridiagonal( fill(-2.0, 10), ones(9) )"
   ]
  },
  {
   "cell_type": "code",
   "execution_count": 6,
   "metadata": {},
   "outputs": [
    {
     "data": {
      "text/plain": [
       "10×10 SparseMatrixCSC{Float64,Int64} with 28 stored entries:\n",
       "  [1 ,  1]  =  -2.0\n",
       "  [2 ,  1]  =  1.0\n",
       "  [1 ,  2]  =  1.0\n",
       "  [2 ,  2]  =  -2.0\n",
       "  [3 ,  2]  =  1.0\n",
       "  [2 ,  3]  =  1.0\n",
       "  [3 ,  3]  =  -2.0\n",
       "  [4 ,  3]  =  1.0\n",
       "  [3 ,  4]  =  1.0\n",
       "  [4 ,  4]  =  -2.0\n",
       "  [5 ,  4]  =  1.0\n",
       "  [4 ,  5]  =  1.0\n",
       "  ⋮\n",
       "  [6 ,  6]  =  -2.0\n",
       "  [7 ,  6]  =  1.0\n",
       "  [6 ,  7]  =  1.0\n",
       "  [7 ,  7]  =  -2.0\n",
       "  [8 ,  7]  =  1.0\n",
       "  [7 ,  8]  =  1.0\n",
       "  [8 ,  8]  =  -2.0\n",
       "  [9 ,  8]  =  1.0\n",
       "  [8 ,  9]  =  1.0\n",
       "  [9 ,  9]  =  -2.0\n",
       "  [10,  9]  =  1.0\n",
       "  [9 , 10]  =  1.0\n",
       "  [10, 10]  =  -2.0"
      ]
     },
     "execution_count": 6,
     "metadata": {},
     "output_type": "execute_result"
    }
   ],
   "source": [
    "A1 = spdiagm(-1 => ones(9), 0 => fill(-2.0, 10), 1 => ones(9) )"
   ]
  },
  {
   "cell_type": "code",
   "execution_count": 7,
   "metadata": {
    "scrolled": false
   },
   "outputs": [
    {
     "data": {
      "text/plain": [
       "10×10 Array{Float64,2}:\n",
       " -4.0   1.0   0.0   0.0   0.0   0.0   0.0   0.0   0.0   0.0\n",
       "  1.0  -4.0   1.0   0.0   0.0   0.0   0.0   0.0   0.0   0.0\n",
       "  0.0   1.0  -4.0   1.0   0.0   0.0   0.0   0.0   0.0   0.0\n",
       "  0.0   0.0   1.0  -4.0   1.0   0.0   0.0   0.0   0.0   0.0\n",
       "  0.0   0.0   0.0   1.0  -4.0   1.0   0.0   0.0   0.0   0.0\n",
       "  0.0   0.0   0.0   0.0   1.0  -4.0   1.0   0.0   0.0   0.0\n",
       "  0.0   0.0   0.0   0.0   0.0   1.0  -4.0   1.0   0.0   0.0\n",
       "  0.0   0.0   0.0   0.0   0.0   0.0   1.0  -4.0   1.0   0.0\n",
       "  0.0   0.0   0.0   0.0   0.0   0.0   0.0   1.0  -4.0   1.0\n",
       "  0.0   0.0   0.0   0.0   0.0   0.0   0.0   0.0   1.0  -4.0"
      ]
     },
     "execution_count": 7,
     "metadata": {},
     "output_type": "execute_result"
    }
   ],
   "source": [
    "A1 + -2I + zeros(10,10)"
   ]
  },
  {
   "cell_type": "markdown",
   "metadata": {},
   "source": [
    "`I` - единичная матрица специального типа. Она не имеет фиксированного размера и оптимизирована под разного рода операции"
   ]
  },
  {
   "cell_type": "code",
   "execution_count": 17,
   "metadata": {
    "scrolled": true
   },
   "outputs": [
    {
     "data": {
      "text/plain": [
       "foo3 (generic function with 1 method)"
      ]
     },
     "execution_count": 17,
     "metadata": {},
     "output_type": "execute_result"
    }
   ],
   "source": [
    "function foo1(N)\n",
    "    C = [-N÷2:N÷2-1;]\n",
    "    V = diagm(C)\n",
    "    A = SymTridiagonal( fill(-2.0, N), ones(N-1) )\n",
    "    2(A+V)\\C\n",
    "end\n",
    "\n",
    "function foo2(N)\n",
    "    C = [-N÷2:N÷2-1;]\n",
    "    V = spdiagm(0 => C )\n",
    "    A = SymTridiagonal( fill(-2.0, N), ones(N-1) )\n",
    "    2(A+V)\\C\n",
    "end\n",
    "\n",
    "function foo3(N)\n",
    "    C = [-N÷2:N÷2-1;]\n",
    "    V =  spdiagm(0 => C )\n",
    "    A = spdiagm(-1 => ones(N-1), 0 => fill(-2.0, N), 1 => ones(N-1) )\n",
    "    2(A+V)\\C\n",
    "end"
   ]
  },
  {
   "cell_type": "code",
   "execution_count": 24,
   "metadata": {},
   "outputs": [
    {
     "data": {
      "text/plain": [
       "([0.4, 0.5, 0.6, 0.8, 1.0, 0.7], [0.4, 0.5, 0.6, 0.8, 1.0, 0.7000000000000001], [0.4, 0.5, 0.6, 0.8, 1.0, 0.7000000000000001])"
      ]
     },
     "execution_count": 24,
     "metadata": {},
     "output_type": "execute_result"
    }
   ],
   "source": [
    "foo1(6), foo2(6), foo3(6)"
   ]
  },
  {
   "cell_type": "code",
   "execution_count": 25,
   "metadata": {},
   "outputs": [
    {
     "data": {
      "text/plain": [
       "BenchmarkTools.Trial: \n",
       "  memory estimate:  30.56 MiB\n",
       "  allocs estimate:  18\n",
       "  --------------\n",
       "  minimum time:     43.742 ms (0.00% GC)\n",
       "  median time:      47.869 ms (6.13% GC)\n",
       "  mean time:        54.714 ms (8.67% GC)\n",
       "  maximum time:     182.546 ms (7.10% GC)\n",
       "  --------------\n",
       "  samples:          92\n",
       "  evals/sample:     1"
      ]
     },
     "execution_count": 25,
     "metadata": {},
     "output_type": "execute_result"
    }
   ],
   "source": [
    "@benchmark foo1(1000)"
   ]
  },
  {
   "cell_type": "code",
   "execution_count": 26,
   "metadata": {
    "scrolled": true
   },
   "outputs": [
    {
     "data": {
      "text/plain": [
       "BenchmarkTools.Trial: \n",
       "  memory estimate:  923.28 KiB\n",
       "  allocs estimate:  121\n",
       "  --------------\n",
       "  minimum time:     4.471 ms (0.00% GC)\n",
       "  median time:      4.576 ms (0.00% GC)\n",
       "  mean time:        4.743 ms (2.06% GC)\n",
       "  maximum time:     65.942 ms (92.53% GC)\n",
       "  --------------\n",
       "  samples:          1053\n",
       "  evals/sample:     1"
      ]
     },
     "execution_count": 26,
     "metadata": {},
     "output_type": "execute_result"
    }
   ],
   "source": [
    "@benchmark foo2(1000)"
   ]
  },
  {
   "cell_type": "code",
   "execution_count": 27,
   "metadata": {},
   "outputs": [
    {
     "data": {
      "text/plain": [
       "BenchmarkTools.Trial: \n",
       "  memory estimate:  983.30 KiB\n",
       "  allocs estimate:  128\n",
       "  --------------\n",
       "  minimum time:     631.967 μs (0.00% GC)\n",
       "  median time:      700.651 μs (0.00% GC)\n",
       "  mean time:        817.506 μs (5.46% GC)\n",
       "  maximum time:     62.658 ms (97.12% GC)\n",
       "  --------------\n",
       "  samples:          6082\n",
       "  evals/sample:     1"
      ]
     },
     "execution_count": 27,
     "metadata": {},
     "output_type": "execute_result"
    }
   ],
   "source": [
    "@benchmark foo3(1000)"
   ]
  },
  {
   "cell_type": "markdown",
   "metadata": {},
   "source": [
    "# Solve\n",
    "\n",
    "Вывод: разреженные матрицы это чертовски удобно. Теперь соберем все вместе"
   ]
  },
  {
   "cell_type": "code",
   "execution_count": 2,
   "metadata": {},
   "outputs": [
    {
     "data": {
      "text/plain": [
       "Potential (generic function with 1 method)"
      ]
     },
     "execution_count": 2,
     "metadata": {},
     "output_type": "execute_result"
    }
   ],
   "source": [
    "function Potential(potential)\n",
    "    # Определите потенциал V(x) в соответствии \n",
    "    # с конкретной конфигурацией, заданной как «potential».\n",
    "    \n",
    "    V = zeros(Nx)\n",
    "    \n",
    "    if potential == \"infinite barrier\"\n",
    "        a = round(Int, 0.7*Nx)\n",
    "        V[a:end] .= 1e10\n",
    "    \n",
    "    elseif potential == \"infinite well\"\n",
    "        a = round(Int, 0.4*Nx)\n",
    "        b = round(Int, 0.6*Nx)\n",
    "        \n",
    "        V[1:a] .= 1e10\n",
    "        V[b:end] .= 1e10\n",
    "        \n",
    "    elseif potential == \"tunneling\"\n",
    "        a = round(Int, 0.7*Nx)\n",
    "        b = round(Int, 0.75*Nx)\n",
    "        V[a:b] .= 1e4\n",
    "    \n",
    "    elseif potential == \"harmonic oscillator\"\n",
    "        V .= 2e5*x.^2\n",
    "    else\n",
    "        println(\"Not a compatible potential, V=0\")\n",
    "    end\n",
    "    \n",
    "    return V\n",
    "end"
   ]
  },
  {
   "cell_type": "code",
   "execution_count": 45,
   "metadata": {},
   "outputs": [
    {
     "data": {
      "text/plain": [
       "simulate (generic function with 1 method)"
      ]
     },
     "execution_count": 45,
     "metadata": {},
     "output_type": "execute_result"
    }
   ],
   "source": [
    "function simulate(V)\n",
    "    # Вычислить волновую функцию psi методом\n",
    "    # Кранка-Николсона с граничными условиями Дирихле.\n",
    "    \n",
    "    psi = zeros(Complex, Nx, Nt)\n",
    "    \n",
    "    # Гамильтониан как разреженная матрица\n",
    "    Vm = spdiagm(0 => V )\n",
    "    H = spdiagm(-1 => ones(Nx-1), 0 => fill(-2.0, Nx), 1 => ones(Nx-1) )\n",
    "    H /= dx^2\n",
    "    H += Vm\n",
    "\n",
    "    A = 0.5im*dt * H + I # Левая матрица в уравнении (4)\n",
    "\n",
    "    gauss_x(x, gaussWidth, x0, waveVector) = exp(-(x-x0)^2/(2*gaussWidth^2)) * exp(im*x*waveVector)\n",
    "    \n",
    "    \n",
    "    psi[:,1] = gauss_x.(x, gaussWidth, x0, waveVector)\n",
    "    #psi /= np.trapz(abs(psi[0])**2, dx=dx) # Normalisation\n",
    "    \n",
    "    Y = abs2.(psi[:,1])\n",
    "    X = range(0, step = 0.1, length = length(Y)) |> collect\n",
    "    #psi[:,1] /= integrate(X, Y ) # Normalisation\n",
    "\n",
    "    for t = 1:Nt-1\n",
    "        \n",
    "        b = ( I - 0.5im*dt * H ) * psi[:,t] #\n",
    "        # правая часть уравнения (4)\n",
    "        \n",
    "        # Использует встроенные солверы для решения СЛАУ A * psi = b\n",
    "        psi[:,t+1] = A \\ b\n",
    "    end\n",
    "    return abs2.( psi )\n",
    "end"
   ]
  },
  {
   "cell_type": "code",
   "execution_count": 46,
   "metadata": {},
   "outputs": [
    {
     "name": "stdout",
     "output_type": "stream",
     "text": [
      "  0.911226 seconds (5.71 M allocations: 638.575 MiB, 11.17% gc time)\n"
     ]
    }
   ],
   "source": [
    "dx = 0.001 # Spacing between x values\n",
    "dt = 0.0005 # Spacing between time steps\n",
    "\n",
    "x = [-2:dx:2;]\n",
    "\n",
    "Nx = length(x) # Number of spatial steps\n",
    "Nt = 80 # Number of time steps\n",
    "\n",
    "# Выберите один из потенциалов: infinite well, infinite barrier, tunneling, harmonic oscillator\n",
    "V = Potential(\"tunneling\")\n",
    "\n",
    "# Parameters for the initial gaussian wave packet at t=0\n",
    "gaussWidth = 0.08\n",
    "waveVector = 0.\n",
    "x0 = 0.0 # Initial position\n",
    "\n",
    "@time psi = simulate(V);"
   ]
  },
  {
   "cell_type": "code",
   "execution_count": 9,
   "metadata": {
    "scrolled": true
   },
   "outputs": [
    {
     "name": "stderr",
     "output_type": "stream",
     "text": [
      "┌ Info:   Gnuplot version: 5.2.0\n",
      "└ @ Gnuplot C:\\Users\\User\\.julia\\packages\\Gnuplot\\GkEY3\\src\\Gnuplot.jl:111\n"
     ]
    }
   ],
   "source": [
    "using Gnuplot"
   ]
  },
  {
   "cell_type": "code",
   "execution_count": 52,
   "metadata": {},
   "outputs": [],
   "source": [
    "@gp x psi[:, 60] \"with lines notit lw 2 lc rgb 'black'\""
   ]
  },
  {
   "cell_type": "code",
   "execution_count": 13,
   "metadata": {},
   "outputs": [],
   "source": [
    "cd(\"C:/Users/User/Desktop/Mycop\")"
   ]
  },
  {
   "cell_type": "code",
   "execution_count": 29,
   "metadata": {},
   "outputs": [
    {
     "name": "stdout",
     "output_type": "stream",
     "text": [
      "\u001b[36mGNUPLOT (default) -> wxt\u001b[39m\n",
      "\u001b[36mGNUPLOT (default) -> 0 title \"Gnuplot.jl: default\" enhanced\u001b[39m\n"
     ]
    },
    {
     "data": {
      "text/plain": [
       "\"aanimation.gif\""
      ]
     },
     "execution_count": 29,
     "metadata": {},
     "output_type": "execute_result"
    },
    {
     "name": "stdout",
     "output_type": "stream",
     "text": [
      "\u001b[36mGNUPLOT (default) -> 80 frames in animation sequence\u001b[39m\n"
     ]
    }
   ],
   "source": [
    "# animation\n",
    "frame = 0\n",
    "for i in 1:80\n",
    "    global frame += 1\n",
    "    @gp :- frame x psi[:, i] \"with lines notit lw 2 lc rgb 'black'\" :-\n",
    "end\n",
    "@gp\n",
    "\n",
    "\n",
    "save(term=\"gif animate size 480,360 delay 15\", output=\"aanimation.gif\")"
   ]
  },
  {
   "cell_type": "markdown",
   "metadata": {},
   "source": [
    "# 2d"
   ]
  },
  {
   "cell_type": "code",
   "execution_count": 14,
   "metadata": {},
   "outputs": [
    {
     "data": {
      "text/plain": [
       "potential2d (generic function with 2 methods)"
      ]
     },
     "execution_count": 14,
     "metadata": {},
     "output_type": "execute_result"
    }
   ],
   "source": [
    "function potential2d(potntl, Nx)\n",
    "    # Определите потенциал V (x) в соответствии \n",
    "    # с конкретной конфигурацией, заданной как «potential».\n",
    "    V2D = zeros(Nx, Nx)\n",
    "    a = round(Int, 0.3*Nx)\n",
    "    b = round(Int, 0.4*Nx)\n",
    "    c = round(Int, 0.6*Nx)\n",
    "    d = round(Int, 0.7*Nx)\n",
    "    e = round(Int, 0.6*Nx)\n",
    "    f = round(Int, 0.65*Nx)\n",
    "    \n",
    "    if potntl == \"infinite barrier\"\n",
    "        V2D[:, d:end] .= 1e10\n",
    "    \n",
    "    elseif potntl == \"double slit\"\n",
    "        \n",
    "        V2D[1:a,   e:f] .= 1e10\n",
    "        V2D[b:c,   e:f] .= 1e10\n",
    "        V2D[d:end, e:f] .= 1e10\n",
    "    \n",
    "    elseif potntl == \"tunneling\"\n",
    "        V2D[:, e:f] .= 1e7\n",
    "    \n",
    "    elseif potntl == \"harmonic oscillator\"\n",
    "        V2D = 2e5*(xx.^2 + yy.^2)\n",
    "    \n",
    "    else\n",
    "        print(\"Not a compatible potential, V=0\")\n",
    "    end\n",
    "    return V2D\n",
    "end"
   ]
  },
  {
   "cell_type": "markdown",
   "metadata": {},
   "source": [
    "Поиграемся с промежуточными результатами, чтоб понять, как они работают"
   ]
  },
  {
   "cell_type": "code",
   "execution_count": 6,
   "metadata": {},
   "outputs": [
    {
     "data": {
      "text/plain": [
       "9-element Array{Float64,1}:\n",
       " 0.0\n",
       " 3.0\n",
       " 0.0\n",
       " 0.0\n",
       " 3.0\n",
       " 0.0\n",
       " 0.0\n",
       " 3.0\n",
       " 0.0"
      ]
     },
     "execution_count": 6,
     "metadata": {},
     "output_type": "execute_result"
    }
   ],
   "source": [
    "V = zeros(3, 3)\n",
    "V[2,:] .= 3\n",
    "reshape(V, 9)"
   ]
  },
  {
   "cell_type": "code",
   "execution_count": null,
   "metadata": {},
   "outputs": [],
   "source": [
    "?kron"
   ]
  },
  {
   "cell_type": "code",
   "execution_count": 7,
   "metadata": {
    "scrolled": true
   },
   "outputs": [
    {
     "data": {
      "text/plain": [
       "9×9 Array{Float64,2}:\n",
       " -4.0   1.0   0.0   1.0   0.0   0.0   0.0   0.0   0.0\n",
       "  1.0  -1.0   1.0   0.0   1.0   0.0   0.0   0.0   0.0\n",
       "  0.0   1.0  -4.0   0.0   0.0   1.0   0.0   0.0   0.0\n",
       "  1.0   0.0   0.0  -4.0   1.0   0.0   1.0   0.0   0.0\n",
       "  0.0   1.0   0.0   1.0  -1.0   1.0   0.0   1.0   0.0\n",
       "  0.0   0.0   1.0   0.0   1.0  -4.0   0.0   0.0   1.0\n",
       "  0.0   0.0   0.0   1.0   0.0   0.0  -4.0   1.0   0.0\n",
       "  0.0   0.0   0.0   0.0   1.0   0.0   1.0  -1.0   1.0\n",
       "  0.0   0.0   0.0   0.0   0.0   1.0   0.0   1.0  -4.0"
      ]
     },
     "execution_count": 7,
     "metadata": {},
     "output_type": "execute_result"
    }
   ],
   "source": [
    "Nx = 3\n",
    "I1 = diagm(ones(Nx))\n",
    "I2 = diagm(ones(Nx^2))\n",
    "H = spdiagm(-1 => ones(Nx-1), 0 => fill(-2.0, Nx), 1 => ones(Nx-1) )\n",
    "kron(H, I1) + kron(I1, H) + diagm(reshape(V, 9))"
   ]
  },
  {
   "cell_type": "markdown",
   "metadata": {},
   "source": [
    "И приступим к моделированию:"
   ]
  },
  {
   "cell_type": "code",
   "execution_count": 3,
   "metadata": {},
   "outputs": [
    {
     "data": {
      "text/plain": [
       "gauss2d (generic function with 1 method)"
      ]
     },
     "execution_count": 3,
     "metadata": {},
     "output_type": "execute_result"
    }
   ],
   "source": [
    "function gauss2d(x, y, wx, wy, x0, y0, kx0, ky0)\n",
    "    exp(-0.5*((x - x0)/wx)^2 -0.5*((y - y0)/wy)^2 + im*x*kx0 + im*y*ky0) * (hypot(wx, wy) * sqrt(pi))^-0.5\n",
    "end"
   ]
  },
  {
   "cell_type": "code",
   "execution_count": 15,
   "metadata": {},
   "outputs": [
    {
     "data": {
      "text/plain": [
       "simulation2D (generic function with 1 method)"
      ]
     },
     "execution_count": 15,
     "metadata": {},
     "output_type": "execute_result"
    }
   ],
   "source": [
    "function simulation2D()\n",
    "    # Calculate the wave function psi according to the Crank-Nicolson method with Dirichlet boundary conditions.\n",
    "    \n",
    "    dx = 0.05 # Spacing between x values\n",
    "    dt = 0.0005 # Spacing between time steps\n",
    "\n",
    "    X = [-1.5:dx:1.5;] # [-1.:dx:1.;]\n",
    "    Y = copy(X)\n",
    "\n",
    "    Nx = length(X) # Number of spatial steps\n",
    "    Nt = 90 # Number of time steps\n",
    "\n",
    "    # Choose one of the potentials: infinite barrier, double slit, tunneling, harmonic oscillator\n",
    "    V2D = potential2d(\"tunneling\", Nx)\n",
    "\n",
    "    # Parameters for the initial gaussian wave packet at t=0\n",
    "    width_x = 0.3 # 0.2\n",
    "    width_y = 0.3 # 0.6\n",
    "    wavect_x = -20\n",
    "    wavect_y = 0\n",
    "    x0 = -0.4 # Initial x-position\n",
    "    y0 = 0 # Initial y-position\n",
    "    \n",
    "    Ψ = zeros( Complex, Nt, Nx, Nx)\n",
    "    # 1D Hamiltonian as a sparse matrix\n",
    "    \n",
    "    I1 = spdiagm( 0 => ones(Nx) )\n",
    "    I2 = spdiagm( 0 => ones(Nx^2) )\n",
    "    H = spdiagm( -1 => ones(Nx-1), 0 => fill(-2.0, Nx), 1 => ones(Nx-1) )\n",
    "    H /= dx^2\n",
    "    H2D = kron(H, I1) + kron(I1, H) + diagm( reshape(V2D, Nx^2) ) # 2D Hamiltonian\n",
    "    \n",
    "    A = I2 + 0.5im*dt * H2D # Left hand side matrix in eq. (4)\n",
    "    B = I2 - 0.5im*dt * H2D\n",
    "    Ψ[1,:,:] .= [ gauss2d(x, y, width_x, width_y, x0, y0, wavect_x, wavect_y) for y in Y, x in X ]\n",
    "    \n",
    "    #Y = abs2.(psi[1,:,:])\n",
    "    #X = range(0, step = 0.1, length = length(Y)) |> collect\n",
    "    #psi[:,1] /= integrate(X, Y ) # Normalisation\n",
    "\n",
    "    #psi[0] /= np.trapz(np.trapz(abs(psi2D[0])**2, dx=dx), dx=dx) # Normalisation\n",
    "    #psi = psi.reshape((Nt, -1), order=\"F\")\n",
    "    \n",
    "    Ψ = reshape(Ψ, Nt, Nx^2)\n",
    "    for t = 1:Nt-1\n",
    "        \n",
    "        b = complex.(B * Ψ[t,:]) # правая часть уравнения (4)\n",
    "        # Использует встроенные солверы для решения СЛАУ A * psi = b\n",
    "        Ψ[t+1,:] .= A \\ b\n",
    "    end\n",
    "    \n",
    "    Ψ = reshape(Ψ, Nt, Nx, Nx)\n",
    "    return abs2.(Ψ)\n",
    "end"
   ]
  },
  {
   "cell_type": "code",
   "execution_count": null,
   "metadata": {
    "scrolled": true
   },
   "outputs": [],
   "source": [
    "@time psi2D = simulation2D();"
   ]
  },
  {
   "cell_type": "code",
   "execution_count": 10,
   "metadata": {},
   "outputs": [
    {
     "name": "stderr",
     "output_type": "stream",
     "text": [
      "┌ Info: Creating session default...\n",
      "└ @ Gnuplot C:\\Users\\User\\.julia\\packages\\Gnuplot\\GkEY3\\src\\Gnuplot.jl:173\n",
      "┌ Info:   Gnuplot version: 5.2.0\n",
      "└ @ Gnuplot C:\\Users\\User\\.julia\\packages\\Gnuplot\\GkEY3\\src\\Gnuplot.jl:111\n"
     ]
    },
    {
     "name": "stdout",
     "output_type": "stream",
     "text": [
      "\u001b[36mGNUPLOT (default) -> wxt\u001b[39m\n",
      "\u001b[36mGNUPLOT (default) -> 0 enhanced\u001b[39m\n"
     ]
    }
   ],
   "source": [
    "@gp psi2D[30,:,:] \"w image notit\" \"set auto fix\""
   ]
  },
  {
   "cell_type": "code",
   "execution_count": 11,
   "metadata": {},
   "outputs": [],
   "source": [
    "cd(\"C:\\\\Users\\\\User\\\\Desktop\\\\Mycop\")"
   ]
  },
  {
   "cell_type": "code",
   "execution_count": 12,
   "metadata": {},
   "outputs": [
    {
     "data": {
      "text/plain": [
       "90"
      ]
     },
     "execution_count": 12,
     "metadata": {},
     "output_type": "execute_result"
    }
   ],
   "source": [
    "size(psi2D, 1)"
   ]
  },
  {
   "cell_type": "code",
   "execution_count": 13,
   "metadata": {},
   "outputs": [
    {
     "name": "stdout",
     "output_type": "stream",
     "text": [
      "\u001b[36mGNUPLOT (default) -> wxt\u001b[39m\n",
      "\u001b[36mGNUPLOT (default) -> 0 title \"Gnuplot.jl: default\" enhanced\u001b[39m\n"
     ]
    },
    {
     "data": {
      "text/plain": [
       "\"aanimation.gif\""
      ]
     },
     "execution_count": 13,
     "metadata": {},
     "output_type": "execute_result"
    },
    {
     "name": "stdout",
     "output_type": "stream",
     "text": [
      "\u001b[36mGNUPLOT (default) -> 90 frames in animation sequence\u001b[39m\n"
     ]
    }
   ],
   "source": [
    "# animation\n",
    "frame = 0\n",
    "for i in 1:size(psi2D, 1)\n",
    "    global frame += 1\n",
    "    @gp :- frame psi2D[i,:,:] \"w image notit\" \"set auto fix\" :-\n",
    "end\n",
    "@gp\n",
    "\n",
    "\n",
    "save(term=\"gif animate size 480,360 delay 15\", output=\"aanimation2.gif\")"
   ]
  },
  {
   "cell_type": "code",
   "execution_count": null,
   "metadata": {},
   "outputs": [],
   "source": []
  }
 ],
 "metadata": {
  "kernelspec": {
   "display_name": "Julia 1.3.1",
   "language": "julia",
   "name": "julia-1.3"
  },
  "language_info": {
   "file_extension": ".jl",
   "mimetype": "application/julia",
   "name": "julia",
   "version": "1.3.1"
  }
 },
 "nbformat": 4,
 "nbformat_minor": 1
}
