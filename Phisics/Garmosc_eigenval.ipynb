{
 "cells": [
  {
   "cell_type": "markdown",
   "metadata": {},
   "source": [
    "http://fn.bmstu.ru/data-physics/library/physbook/tom5/ch4/texthtml/ch4_5.htm"
   ]
  },
  {
   "cell_type": "code",
   "execution_count": null,
   "metadata": {},
   "outputs": [],
   "source": [
    "using LinearAlgebra, SparseArrays, BenchmarkTools#, Plots\n",
    "using Gnuplot"
   ]
  },
  {
   "cell_type": "code",
   "execution_count": null,
   "metadata": {},
   "outputs": [],
   "source": [
    "garmosc(x) = x.^2\n",
    "\n",
    "#const ħ = 6.5821e-16 # eV*s\n",
    "const ħ = 1.0546e-34 # J*s\n",
    "const m = 9.1094e-31 # kg\n",
    "const q = 1.6022e-19 # Kl\n",
    "C = ħ^2/m # m^-2 * J^-2\n",
    "\n",
    "l = 10e-10 # метров - характерный масштаб задачи\n",
    "dx = 0.005l\n",
    "x1 = range(-2l, 2l, step = dx) |> collect\n",
    "N = length(x1)\n",
    "\n",
    "V = garmosc(x1)\n",
    "\n",
    "@gp x1 V/q \"with lines tit 'Parabola'\""
   ]
  },
  {
   "cell_type": "code",
   "execution_count": 3,
   "metadata": {},
   "outputs": [],
   "source": [
    "H = SymTridiagonal( ones(N), fill(-0.5, N-1) ) * C/dx^2;\n",
    "Vm = diagm(V);\n",
    "\n",
    "Ψ = eigvecs(H+Vm)\n",
    "E = eigvals(H+Vm) / q\n",
    "x1 /= l;"
   ]
  },
  {
   "cell_type": "code",
   "execution_count": 4,
   "metadata": {},
   "outputs": [],
   "source": [
    "yup = 8.0\n",
    "n = 6\n",
    "@gp x1 V/q \"with lines tit 'Potential' lw 3\" xlab=\"x, A\" ylab=\"E, eV\"\n",
    "@gp :- \"set title 'Garmonic Oscillator'\" \"set yrange [0:$yup]\" \n",
    "\n",
    "for i = 1:n\n",
    "    Y = abs2.(Ψ[:, i]) # вероятности\n",
    "    Y /= 1.2maximum(Y)\n",
    "    Y .+= E[i]\n",
    "    @gp :- x1 Y \"with lines tit 'E_$i = $(round(E[i], digits = 3)) eV' lw 2\"\n",
    "end"
   ]
  },
  {
   "cell_type": "markdown",
   "metadata": {},
   "source": [
    "![](images/oscev.png)"
   ]
  },
  {
   "cell_type": "markdown",
   "metadata": {},
   "source": [
    "## Аналитическое решение\n",
    "\n",
    "$$\n",
    "    \\psi_n(x) = \\frac{a^{1/4}}{\\pi}\\frac{1}{\\sqrt{2^n n!}}H_n(y)e^{-y^2/2}\n",
    "$$\n",
    "\n",
    "$y = \\sqrt a x$ \n",
    "\n",
    "$a = \\frac{m}{\\omega\\hbar}$\n",
    "\n",
    "$E_n = \\hbar\\omega(n + 1/2)$"
   ]
  },
  {
   "cell_type": "markdown",
   "metadata": {},
   "source": [
    "Полином Эрмита:\n",
    "\n",
    "$$H_n(x) = (-1)^n e^{x^2}\\frac{d^n}{dx^n}e^{-x^2}$$\n",
    "\n",
    "Нули на интервале $[-a,a], \\ a = \\sqrt{(n(n-1)/2)}$\n",
    "\n",
    "$$\n",
    "H_n^{phys}(x) = 2^{n/2}H_n^{math}(\\sqrt 2 x)\n",
    "$$\n",
    "\n",
    "Рекурентная формула:\n",
    "\n",
    "$$H_n(x) = \\sum^{n/2}_{j=0}(-1)^j\\frac{n!}{j!(n-2j)!}(2x)^{n-2j}$$\n",
    "\n",
    "или детерминант:\n",
    "\n",
    "$$\n",
    "H_n(x) = \\begin{vmatrix}\n",
    "x & n-1 & 0 & 0 & \\cdots  & 0\\\\ \n",
    "1 & x & n-2 & 0 & \\cdots  & 0\\\\ \n",
    "0 & 1 & x & n-3 & \\cdots  & 0\\\\ \n",
    "\\cdots  & \\cdots  & \\cdots  & \\cdots  & \\cdots  & \\cdots \\\\ \n",
    " 0& 0 & 0 & 0 & \\cdots  & x\n",
    "\\end{vmatrix}\n",
    "$$"
   ]
  },
  {
   "cell_type": "code",
   "execution_count": 5,
   "metadata": {},
   "outputs": [
    {
     "data": {
      "text/plain": [
       "Htd (generic function with 1 method)"
      ]
     },
     "execution_count": 5,
     "metadata": {},
     "output_type": "execute_result"
    }
   ],
   "source": [
    "Hn(n, x) = sum( j-> (-1)^j*factorial(n)*(2x)^(n-2j)/factorial(j)/factorial(n-2j), 0:n÷2 )\n",
    "\n",
    "# детерминант трехдиагональной матрицы\n",
    "Htd(n::Int, x::Float64) = 2^(0.5n)*det( Tridiagonal(ones(n-1), fill(sqrt(2)*x,n), [1.0n-i for i=1:n-1] ) )"
   ]
  },
  {
   "cell_type": "code",
   "execution_count": 84,
   "metadata": {},
   "outputs": [
    {
     "data": {
      "text/plain": [
       "BenchmarkTools.Trial: \n",
       "  memory estimate:  0 bytes\n",
       "  allocs estimate:  0\n",
       "  --------------\n",
       "  minimum time:     102.411 ns (0.00% GC)\n",
       "  median time:      110.073 ns (0.00% GC)\n",
       "  mean time:        111.830 ns (0.00% GC)\n",
       "  maximum time:     1.002 μs (0.00% GC)\n",
       "  --------------\n",
       "  samples:          10000\n",
       "  evals/sample:     979"
      ]
     },
     "execution_count": 84,
     "metadata": {},
     "output_type": "execute_result"
    }
   ],
   "source": [
    "@benchmark Hn(4, 20.)"
   ]
  },
  {
   "cell_type": "code",
   "execution_count": 85,
   "metadata": {},
   "outputs": [
    {
     "data": {
      "text/plain": [
       "BenchmarkTools.Trial: \n",
       "  memory estimate:  336 bytes\n",
       "  allocs estimate:  3\n",
       "  --------------\n",
       "  minimum time:     138.811 ns (0.00% GC)\n",
       "  median time:      150.113 ns (0.00% GC)\n",
       "  mean time:        169.889 ns (9.29% GC)\n",
       "  maximum time:     3.989 μs (91.96% GC)\n",
       "  --------------\n",
       "  samples:          10000\n",
       "  evals/sample:     873"
      ]
     },
     "execution_count": 85,
     "metadata": {},
     "output_type": "execute_result"
    }
   ],
   "source": [
    "@benchmark Htd(4, 20.)"
   ]
  },
  {
   "cell_type": "code",
   "execution_count": 65,
   "metadata": {},
   "outputs": [
    {
     "data": {
      "text/plain": [
       "BenchmarkTools.Trial: \n",
       "  memory estimate:  2.63 KiB\n",
       "  allocs estimate:  3\n",
       "  --------------\n",
       "  minimum time:     666.870 ns (0.00% GC)\n",
       "  median time:      742.876 ns (0.00% GC)\n",
       "  mean time:        858.541 ns (6.61% GC)\n",
       "  maximum time:     10.922 μs (92.05% GC)\n",
       "  --------------\n",
       "  samples:          10000\n",
       "  evals/sample:     161"
      ]
     },
     "execution_count": 65,
     "metadata": {},
     "output_type": "execute_result"
    }
   ],
   "source": [
    "@benchmark Htd(100,0.1)"
   ]
  },
  {
   "cell_type": "code",
   "execution_count": 66,
   "metadata": {},
   "outputs": [
    {
     "data": {
      "text/plain": [
       "BenchmarkTools.Trial: \n",
       "  memory estimate:  85.42 KiB\n",
       "  allocs estimate:  3441\n",
       "  --------------\n",
       "  minimum time:     213.942 μs (0.00% GC)\n",
       "  median time:      243.942 μs (0.00% GC)\n",
       "  mean time:        362.092 μs (19.32% GC)\n",
       "  maximum time:     80.721 ms (62.07% GC)\n",
       "  --------------\n",
       "  samples:          10000\n",
       "  evals/sample:     1"
      ]
     },
     "execution_count": 66,
     "metadata": {},
     "output_type": "execute_result"
    }
   ],
   "source": [
    "@benchmark Hn(BigInt(100),0.1)"
   ]
  },
  {
   "cell_type": "code",
   "execution_count": 6,
   "metadata": {},
   "outputs": [
    {
     "data": {
      "text/plain": [
       "ψn (generic function with 1 method)"
      ]
     },
     "execution_count": 6,
     "metadata": {},
     "output_type": "execute_result"
    }
   ],
   "source": [
    "ω = 1/ħ\n",
    "\n",
    "x2 = collect( range(-8, 8, step = 0.1) )\n",
    "\n",
    "En(n) = (n + 0.5)*ω*ħ\n",
    "\n",
    "function ψn(n, x)\n",
    "    a = 1#m / (ω*ħ)\n",
    "    y = sqrt(a)*x\n",
    "    Hn(n, y) * exp(-0.5y^2) * a^0.25 / ( π * sqrt(2^n * factorial(n)) )\n",
    "end"
   ]
  },
  {
   "cell_type": "code",
   "execution_count": 7,
   "metadata": {},
   "outputs": [],
   "source": [
    "yup = 10.0\n",
    "n = 6\n",
    "@gp x2 garmosc.(0.7x2) \"with lines tit 'Potential' lw 3\" xlab=\"x, A\" ylab=\"E, eV\"\n",
    "@gp :- \"set title 'Garmonic Oscillator'\" \"set yrange [0:$yup]\" \n",
    "\n",
    "for i = 0:n\n",
    "    Z = ψn.(i, x2)\n",
    "    Z /= 2maximum(Z)\n",
    "    Z .+= En(i)\n",
    "    @gp :- x2 Z \"with lines tit 'n = $i' lw 2\"\n",
    "end"
   ]
  },
  {
   "cell_type": "markdown",
   "metadata": {},
   "source": [
    "![](images/garmoscan.png)"
   ]
  },
  {
   "cell_type": "code",
   "execution_count": null,
   "metadata": {},
   "outputs": [],
   "source": []
  }
 ],
 "metadata": {
  "kernelspec": {
   "display_name": "Julia 1.3.1",
   "language": "julia",
   "name": "julia-1.3"
  },
  "language_info": {
   "file_extension": ".jl",
   "mimetype": "application/julia",
   "name": "julia",
   "version": "1.3.1"
  }
 },
 "nbformat": 4,
 "nbformat_minor": 2
}
