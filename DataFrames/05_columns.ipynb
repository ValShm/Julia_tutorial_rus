{
 "cells": [
  {
   "cell_type": "markdown",
   "metadata": {},
   "source": [
    "# Introduction to DataFrames\n",
    "**[Bogumił Kamiński](http://bogumilkaminski.pl/about/), January 18, 2019**"
   ]
  },
  {
   "cell_type": "code",
   "execution_count": 1,
   "metadata": {},
   "outputs": [],
   "source": [
    "using DataFrames # load package"
   ]
  },
  {
   "cell_type": "markdown",
   "metadata": {},
   "source": [
    "## Манипуляции со столбцами в `DataFrame`"
   ]
  },
  {
   "cell_type": "markdown",
   "metadata": {},
   "source": [
    "### Переименование столбцов\n",
    "\n",
    "Давайте начнем с `DataFrame`` Bool`s, который имеет имена столбцов по умолчанию."
   ]
  },
  {
   "cell_type": "code",
   "execution_count": 2,
   "metadata": {},
   "outputs": [
    {
     "data": {
      "text/html": [
       "<table class=\"data-frame\"><thead><tr><th></th><th>x1</th><th>x2</th><th>x3</th><th>x4</th></tr><tr><th></th><th>Bool</th><th>Bool</th><th>Bool</th><th>Bool</th></tr></thead><tbody><p>3 rows × 4 columns</p><tr><th>1</th><td>false</td><td>false</td><td>false</td><td>false</td></tr><tr><th>2</th><td>false</td><td>false</td><td>false</td><td>true</td></tr><tr><th>3</th><td>false</td><td>true</td><td>true</td><td>true</td></tr></tbody></table>"
      ],
      "text/latex": [
       "\\begin{tabular}{r|cccc}\n",
       "\t& x1 & x2 & x3 & x4\\\\\n",
       "\t\\hline\n",
       "\t& Bool & Bool & Bool & Bool\\\\\n",
       "\t\\hline\n",
       "\t1 & false & false & false & false \\\\\n",
       "\t2 & false & false & false & true \\\\\n",
       "\t3 & false & true & true & true \\\\\n",
       "\\end{tabular}\n"
      ],
      "text/plain": [
       "3×4 DataFrame\n",
       "│ Row │ x1    │ x2    │ x3    │ x4    │\n",
       "│     │ \u001b[90mBool\u001b[39m  │ \u001b[90mBool\u001b[39m  │ \u001b[90mBool\u001b[39m  │ \u001b[90mBool\u001b[39m  │\n",
       "├─────┼───────┼───────┼───────┼───────┤\n",
       "│ 1   │ false │ false │ false │ false │\n",
       "│ 2   │ false │ false │ false │ true  │\n",
       "│ 3   │ false │ true  │ true  │ true  │"
      ]
     },
     "execution_count": 2,
     "metadata": {},
     "output_type": "execute_result"
    }
   ],
   "source": [
    "x = DataFrame(Bool, 3, 4)"
   ]
  },
  {
   "cell_type": "markdown",
   "metadata": {},
   "source": [
    "С помощью `rename` мы создаем новый` DataFrame`; здесь мы переименовываем столбец `: x1` в`: A`. (`rename` также принимает коллекции пар.)"
   ]
  },
  {
   "cell_type": "code",
   "execution_count": 3,
   "metadata": {},
   "outputs": [
    {
     "data": {
      "text/html": [
       "<table class=\"data-frame\"><thead><tr><th></th><th>A</th><th>x2</th><th>x3</th><th>x4</th></tr><tr><th></th><th>Bool</th><th>Bool</th><th>Bool</th><th>Bool</th></tr></thead><tbody><p>3 rows × 4 columns</p><tr><th>1</th><td>false</td><td>false</td><td>false</td><td>false</td></tr><tr><th>2</th><td>false</td><td>false</td><td>false</td><td>true</td></tr><tr><th>3</th><td>false</td><td>true</td><td>true</td><td>true</td></tr></tbody></table>"
      ],
      "text/latex": [
       "\\begin{tabular}{r|cccc}\n",
       "\t& A & x2 & x3 & x4\\\\\n",
       "\t\\hline\n",
       "\t& Bool & Bool & Bool & Bool\\\\\n",
       "\t\\hline\n",
       "\t1 & false & false & false & false \\\\\n",
       "\t2 & false & false & false & true \\\\\n",
       "\t3 & false & true & true & true \\\\\n",
       "\\end{tabular}\n"
      ],
      "text/plain": [
       "3×4 DataFrame\n",
       "│ Row │ A     │ x2    │ x3    │ x4    │\n",
       "│     │ \u001b[90mBool\u001b[39m  │ \u001b[90mBool\u001b[39m  │ \u001b[90mBool\u001b[39m  │ \u001b[90mBool\u001b[39m  │\n",
       "├─────┼───────┼───────┼───────┼───────┤\n",
       "│ 1   │ false │ false │ false │ false │\n",
       "│ 2   │ false │ false │ false │ true  │\n",
       "│ 3   │ false │ true  │ true  │ true  │"
      ]
     },
     "execution_count": 3,
     "metadata": {},
     "output_type": "execute_result"
    }
   ],
   "source": [
    "rename(x, :x1 => :A)"
   ]
  },
  {
   "cell_type": "markdown",
   "metadata": {},
   "source": [
    "С помощью `rename!` Мы выполняем преобразование на месте. \n",
    "\n",
    "На этот раз мы применили функцию к каждому имени столбца."
   ]
  },
  {
   "cell_type": "code",
   "execution_count": 4,
   "metadata": {},
   "outputs": [
    {
     "data": {
      "text/html": [
       "<table class=\"data-frame\"><thead><tr><th></th><th>x1x1</th><th>x2x2</th><th>x3x3</th><th>x4x4</th></tr><tr><th></th><th>Bool</th><th>Bool</th><th>Bool</th><th>Bool</th></tr></thead><tbody><p>3 rows × 4 columns</p><tr><th>1</th><td>false</td><td>false</td><td>false</td><td>false</td></tr><tr><th>2</th><td>false</td><td>false</td><td>false</td><td>true</td></tr><tr><th>3</th><td>false</td><td>true</td><td>true</td><td>true</td></tr></tbody></table>"
      ],
      "text/latex": [
       "\\begin{tabular}{r|cccc}\n",
       "\t& x1x1 & x2x2 & x3x3 & x4x4\\\\\n",
       "\t\\hline\n",
       "\t& Bool & Bool & Bool & Bool\\\\\n",
       "\t\\hline\n",
       "\t1 & false & false & false & false \\\\\n",
       "\t2 & false & false & false & true \\\\\n",
       "\t3 & false & true & true & true \\\\\n",
       "\\end{tabular}\n"
      ],
      "text/plain": [
       "3×4 DataFrame\n",
       "│ Row │ x1x1  │ x2x2  │ x3x3  │ x4x4  │\n",
       "│     │ \u001b[90mBool\u001b[39m  │ \u001b[90mBool\u001b[39m  │ \u001b[90mBool\u001b[39m  │ \u001b[90mBool\u001b[39m  │\n",
       "├─────┼───────┼───────┼───────┼───────┤\n",
       "│ 1   │ false │ false │ false │ false │\n",
       "│ 2   │ false │ false │ false │ true  │\n",
       "│ 3   │ false │ true  │ true  │ true  │"
      ]
     },
     "execution_count": 4,
     "metadata": {},
     "output_type": "execute_result"
    }
   ],
   "source": [
    "rename!(c -> Symbol(string(c)^2), x)"
   ]
  },
  {
   "cell_type": "markdown",
   "metadata": {},
   "source": [
    "Мы также можем изменить имя определенного столбца, не зная оригинала. \n",
    "\n",
    "Здесь мы меняем имя третьего столбца, создавая новый DataFrame."
   ]
  },
  {
   "cell_type": "code",
   "execution_count": 5,
   "metadata": {},
   "outputs": [
    {
     "data": {
      "text/html": [
       "<table class=\"data-frame\"><thead><tr><th></th><th>x1x1</th><th>x2x2</th><th>third</th><th>x4x4</th></tr><tr><th></th><th>Bool</th><th>Bool</th><th>Bool</th><th>Bool</th></tr></thead><tbody><p>3 rows × 4 columns</p><tr><th>1</th><td>false</td><td>false</td><td>false</td><td>false</td></tr><tr><th>2</th><td>false</td><td>false</td><td>false</td><td>true</td></tr><tr><th>3</th><td>false</td><td>true</td><td>true</td><td>true</td></tr></tbody></table>"
      ],
      "text/latex": [
       "\\begin{tabular}{r|cccc}\n",
       "\t& x1x1 & x2x2 & third & x4x4\\\\\n",
       "\t\\hline\n",
       "\t& Bool & Bool & Bool & Bool\\\\\n",
       "\t\\hline\n",
       "\t1 & false & false & false & false \\\\\n",
       "\t2 & false & false & false & true \\\\\n",
       "\t3 & false & true & true & true \\\\\n",
       "\\end{tabular}\n"
      ],
      "text/plain": [
       "3×4 DataFrame\n",
       "│ Row │ x1x1  │ x2x2  │ third │ x4x4  │\n",
       "│     │ \u001b[90mBool\u001b[39m  │ \u001b[90mBool\u001b[39m  │ \u001b[90mBool\u001b[39m  │ \u001b[90mBool\u001b[39m  │\n",
       "├─────┼───────┼───────┼───────┼───────┤\n",
       "│ 1   │ false │ false │ false │ false │\n",
       "│ 2   │ false │ false │ false │ true  │\n",
       "│ 3   │ false │ true  │ true  │ true  │"
      ]
     },
     "execution_count": 5,
     "metadata": {},
     "output_type": "execute_result"
    }
   ],
   "source": [
    "rename(x, names(x)[3] => :third)"
   ]
  },
  {
   "cell_type": "markdown",
   "metadata": {},
   "source": [
    "С помощью `names!` Мы можем изменить имена всех переменных."
   ]
  },
  {
   "cell_type": "code",
   "execution_count": 6,
   "metadata": {},
   "outputs": [
    {
     "data": {
      "text/html": [
       "<table class=\"data-frame\"><thead><tr><th></th><th>a</th><th>b</th><th>c</th><th>d</th></tr><tr><th></th><th>Bool</th><th>Bool</th><th>Bool</th><th>Bool</th></tr></thead><tbody><p>3 rows × 4 columns</p><tr><th>1</th><td>false</td><td>false</td><td>false</td><td>false</td></tr><tr><th>2</th><td>false</td><td>false</td><td>false</td><td>true</td></tr><tr><th>3</th><td>false</td><td>true</td><td>true</td><td>true</td></tr></tbody></table>"
      ],
      "text/latex": [
       "\\begin{tabular}{r|cccc}\n",
       "\t& a & b & c & d\\\\\n",
       "\t\\hline\n",
       "\t& Bool & Bool & Bool & Bool\\\\\n",
       "\t\\hline\n",
       "\t1 & false & false & false & false \\\\\n",
       "\t2 & false & false & false & true \\\\\n",
       "\t3 & false & true & true & true \\\\\n",
       "\\end{tabular}\n"
      ],
      "text/plain": [
       "3×4 DataFrame\n",
       "│ Row │ a     │ b     │ c     │ d     │\n",
       "│     │ \u001b[90mBool\u001b[39m  │ \u001b[90mBool\u001b[39m  │ \u001b[90mBool\u001b[39m  │ \u001b[90mBool\u001b[39m  │\n",
       "├─────┼───────┼───────┼───────┼───────┤\n",
       "│ 1   │ false │ false │ false │ false │\n",
       "│ 2   │ false │ false │ false │ true  │\n",
       "│ 3   │ false │ true  │ true  │ true  │"
      ]
     },
     "execution_count": 6,
     "metadata": {},
     "output_type": "execute_result"
    }
   ],
   "source": [
    "names!(x, [:a, :b, :c, :d])"
   ]
  },
  {
   "cell_type": "markdown",
   "metadata": {},
   "source": [
    "Мы получаем ошибку, когда пытаемся указать повторяющиеся имена."
   ]
  },
  {
   "cell_type": "code",
   "execution_count": 7,
   "metadata": {},
   "outputs": [
    {
     "ename": "ArgumentError",
     "evalue": "ArgumentError: Duplicate variable names: :a. Pass makeunique=true to make them unique using a suffix automatically.",
     "output_type": "error",
     "traceback": [
      "ArgumentError: Duplicate variable names: :a. Pass makeunique=true to make them unique using a suffix automatically.",
      "",
      "Stacktrace:",
      " [1] #names!#4(::Bool, ::Function, ::DataFrames.Index, ::Array{Symbol,1}) at C:\\Users\\bogum\\.julia\\packages\\DataFrames\\lyCjP\\src\\other\\index.jl:35",
      " [2] #names!#22 at .\\none:0 [inlined]",
      " [3] names!(::DataFrame, ::Array{Symbol,1}) at C:\\Users\\bogum\\.julia\\packages\\DataFrames\\lyCjP\\src\\abstractdataframe\\abstractdataframe.jl:122",
      " [4] top-level scope at In[7]:1"
     ]
    }
   ],
   "source": [
    "names!(x, fill(:a, 4))"
   ]
  },
  {
   "cell_type": "markdown",
   "metadata": {},
   "source": [
    "если мы не передадим `makeunique = true`, что позволяет нам обрабатывать дубликаты в переданных именах."
   ]
  },
  {
   "cell_type": "code",
   "execution_count": 8,
   "metadata": {},
   "outputs": [
    {
     "data": {
      "text/html": [
       "<table class=\"data-frame\"><thead><tr><th></th><th>a</th><th>a_1</th><th>a_2</th><th>a_3</th></tr><tr><th></th><th>Bool</th><th>Bool</th><th>Bool</th><th>Bool</th></tr></thead><tbody><p>3 rows × 4 columns</p><tr><th>1</th><td>false</td><td>false</td><td>false</td><td>false</td></tr><tr><th>2</th><td>false</td><td>false</td><td>false</td><td>true</td></tr><tr><th>3</th><td>false</td><td>true</td><td>true</td><td>true</td></tr></tbody></table>"
      ],
      "text/latex": [
       "\\begin{tabular}{r|cccc}\n",
       "\t& a & a\\_1 & a\\_2 & a\\_3\\\\\n",
       "\t\\hline\n",
       "\t& Bool & Bool & Bool & Bool\\\\\n",
       "\t\\hline\n",
       "\t1 & false & false & false & false \\\\\n",
       "\t2 & false & false & false & true \\\\\n",
       "\t3 & false & true & true & true \\\\\n",
       "\\end{tabular}\n"
      ],
      "text/plain": [
       "3×4 DataFrame\n",
       "│ Row │ a     │ a_1   │ a_2   │ a_3   │\n",
       "│     │ \u001b[90mBool\u001b[39m  │ \u001b[90mBool\u001b[39m  │ \u001b[90mBool\u001b[39m  │ \u001b[90mBool\u001b[39m  │\n",
       "├─────┼───────┼───────┼───────┼───────┤\n",
       "│ 1   │ false │ false │ false │ false │\n",
       "│ 2   │ false │ false │ false │ true  │\n",
       "│ 3   │ false │ true  │ true  │ true  │"
      ]
     },
     "execution_count": 8,
     "metadata": {},
     "output_type": "execute_result"
    }
   ],
   "source": [
    "names!(x, fill(:a, 4), makeunique=true)"
   ]
  },
  {
   "cell_type": "markdown",
   "metadata": {
    "collapsed": true
   },
   "source": [
    "### Изменение порядка столбцов"
   ]
  },
  {
   "cell_type": "markdown",
   "metadata": {},
   "source": [
    "Мы можем переупорядочить вектор names (x) по мере необходимости, создав новый DataFrame."
   ]
  },
  {
   "cell_type": "code",
   "execution_count": 9,
   "metadata": {},
   "outputs": [
    {
     "data": {
      "text/html": [
       "<table class=\"data-frame\"><thead><tr><th></th><th>a_1</th><th>a_3</th><th>a_2</th><th>a</th></tr><tr><th></th><th>Bool</th><th>Bool</th><th>Bool</th><th>Bool</th></tr></thead><tbody><p>3 rows × 4 columns</p><tr><th>1</th><td>false</td><td>false</td><td>false</td><td>false</td></tr><tr><th>2</th><td>false</td><td>true</td><td>false</td><td>false</td></tr><tr><th>3</th><td>true</td><td>true</td><td>true</td><td>false</td></tr></tbody></table>"
      ],
      "text/latex": [
       "\\begin{tabular}{r|cccc}\n",
       "\t& a\\_1 & a\\_3 & a\\_2 & a\\\\\n",
       "\t\\hline\n",
       "\t& Bool & Bool & Bool & Bool\\\\\n",
       "\t\\hline\n",
       "\t1 & false & false & false & false \\\\\n",
       "\t2 & false & true & false & false \\\\\n",
       "\t3 & true & true & true & false \\\\\n",
       "\\end{tabular}\n"
      ],
      "text/plain": [
       "3×4 DataFrame\n",
       "│ Row │ a_1   │ a_3   │ a_2   │ a     │\n",
       "│     │ \u001b[90mBool\u001b[39m  │ \u001b[90mBool\u001b[39m  │ \u001b[90mBool\u001b[39m  │ \u001b[90mBool\u001b[39m  │\n",
       "├─────┼───────┼───────┼───────┼───────┤\n",
       "│ 1   │ false │ false │ false │ false │\n",
       "│ 2   │ false │ true  │ false │ false │\n",
       "│ 3   │ true  │ true  │ true  │ false │"
      ]
     },
     "execution_count": 9,
     "metadata": {},
     "output_type": "execute_result"
    }
   ],
   "source": [
    "using Random\n",
    "Random.seed!(1234)\n",
    "x[shuffle(names(x))]"
   ]
  },
  {
   "cell_type": "markdown",
   "metadata": {},
   "source": [
    "Также можно использовать `permutecols!` Для достижения этой цели:"
   ]
  },
  {
   "cell_type": "code",
   "execution_count": 10,
   "metadata": {},
   "outputs": [
    {
     "data": {
      "text/html": [
       "<table class=\"data-frame\"><thead><tr><th></th><th>a_3</th><th>a_2</th><th>a_1</th><th>a</th></tr><tr><th></th><th>Bool</th><th>Bool</th><th>Bool</th><th>Bool</th></tr></thead><tbody><p>3 rows × 4 columns</p><tr><th>1</th><td>false</td><td>false</td><td>false</td><td>false</td></tr><tr><th>2</th><td>true</td><td>false</td><td>false</td><td>false</td></tr><tr><th>3</th><td>true</td><td>true</td><td>true</td><td>false</td></tr></tbody></table>"
      ],
      "text/latex": [
       "\\begin{tabular}{r|cccc}\n",
       "\t& a\\_3 & a\\_2 & a\\_1 & a\\\\\n",
       "\t\\hline\n",
       "\t& Bool & Bool & Bool & Bool\\\\\n",
       "\t\\hline\n",
       "\t1 & false & false & false & false \\\\\n",
       "\t2 & true & false & false & false \\\\\n",
       "\t3 & true & true & true & false \\\\\n",
       "\\end{tabular}\n"
      ],
      "text/plain": [
       "3×4 DataFrame\n",
       "│ Row │ a_3   │ a_2   │ a_1   │ a     │\n",
       "│     │ \u001b[90mBool\u001b[39m  │ \u001b[90mBool\u001b[39m  │ \u001b[90mBool\u001b[39m  │ \u001b[90mBool\u001b[39m  │\n",
       "├─────┼───────┼───────┼───────┼───────┤\n",
       "│ 1   │ false │ false │ false │ false │\n",
       "│ 2   │ true  │ false │ false │ false │\n",
       "│ 3   │ true  │ true  │ true  │ false │"
      ]
     },
     "execution_count": 10,
     "metadata": {},
     "output_type": "execute_result"
    }
   ],
   "source": [
    "permutecols!(x, 4:-1:1); x"
   ]
  },
  {
   "cell_type": "markdown",
   "metadata": {},
   "source": [
    "### Слияние / добавление столбцов"
   ]
  },
  {
   "cell_type": "code",
   "execution_count": 11,
   "metadata": {},
   "outputs": [
    {
     "data": {
      "text/html": [
       "<table class=\"data-frame\"><thead><tr><th></th><th>x1</th><th>x2</th><th>x3</th><th>x4</th></tr><tr><th></th><th>Tuple…</th><th>Tuple…</th><th>Tuple…</th><th>Tuple…</th></tr></thead><tbody><p>3 rows × 4 columns</p><tr><th>1</th><td>(1, 1)</td><td>(1, 2)</td><td>(1, 3)</td><td>(1, 4)</td></tr><tr><th>2</th><td>(2, 1)</td><td>(2, 2)</td><td>(2, 3)</td><td>(2, 4)</td></tr><tr><th>3</th><td>(3, 1)</td><td>(3, 2)</td><td>(3, 3)</td><td>(3, 4)</td></tr></tbody></table>"
      ],
      "text/latex": [
       "\\begin{tabular}{r|cccc}\n",
       "\t& x1 & x2 & x3 & x4\\\\\n",
       "\t\\hline\n",
       "\t& Tuple… & Tuple… & Tuple… & Tuple…\\\\\n",
       "\t\\hline\n",
       "\t1 & (1, 1) & (1, 2) & (1, 3) & (1, 4) \\\\\n",
       "\t2 & (2, 1) & (2, 2) & (2, 3) & (2, 4) \\\\\n",
       "\t3 & (3, 1) & (3, 2) & (3, 3) & (3, 4) \\\\\n",
       "\\end{tabular}\n"
      ],
      "text/plain": [
       "3×4 DataFrame\n",
       "│ Row │ x1     │ x2     │ x3     │ x4     │\n",
       "│     │ \u001b[90mTuple…\u001b[39m │ \u001b[90mTuple…\u001b[39m │ \u001b[90mTuple…\u001b[39m │ \u001b[90mTuple…\u001b[39m │\n",
       "├─────┼────────┼────────┼────────┼────────┤\n",
       "│ 1   │ (1, 1) │ (1, 2) │ (1, 3) │ (1, 4) │\n",
       "│ 2   │ (2, 1) │ (2, 2) │ (2, 3) │ (2, 4) │\n",
       "│ 3   │ (3, 1) │ (3, 2) │ (3, 3) │ (3, 4) │"
      ]
     },
     "execution_count": 11,
     "metadata": {},
     "output_type": "execute_result"
    }
   ],
   "source": [
    "x = DataFrame([(i,j) for i in 1:3, j in 1:4])"
   ]
  },
  {
   "cell_type": "markdown",
   "metadata": {},
   "source": [
    "С помощью `hcat` мы можем объединить два` DataFrame`ы. Также поддерживается синтаксис [x y], но только в том случае, если у DataFrames уникальные имена столбцов."
   ]
  },
  {
   "cell_type": "code",
   "execution_count": 12,
   "metadata": {},
   "outputs": [
    {
     "data": {
      "text/html": [
       "<table class=\"data-frame\"><thead><tr><th></th><th>x1</th><th>x2</th><th>x3</th><th>x4</th><th>x1_1</th><th>x2_1</th><th>x3_1</th><th>x4_1</th></tr><tr><th></th><th>Tuple…</th><th>Tuple…</th><th>Tuple…</th><th>Tuple…</th><th>Tuple…</th><th>Tuple…</th><th>Tuple…</th><th>Tuple…</th></tr></thead><tbody><p>3 rows × 8 columns</p><tr><th>1</th><td>(1, 1)</td><td>(1, 2)</td><td>(1, 3)</td><td>(1, 4)</td><td>(1, 1)</td><td>(1, 2)</td><td>(1, 3)</td><td>(1, 4)</td></tr><tr><th>2</th><td>(2, 1)</td><td>(2, 2)</td><td>(2, 3)</td><td>(2, 4)</td><td>(2, 1)</td><td>(2, 2)</td><td>(2, 3)</td><td>(2, 4)</td></tr><tr><th>3</th><td>(3, 1)</td><td>(3, 2)</td><td>(3, 3)</td><td>(3, 4)</td><td>(3, 1)</td><td>(3, 2)</td><td>(3, 3)</td><td>(3, 4)</td></tr></tbody></table>"
      ],
      "text/latex": [
       "\\begin{tabular}{r|cccccccc}\n",
       "\t& x1 & x2 & x3 & x4 & x1\\_1 & x2\\_1 & x3\\_1 & x4\\_1\\\\\n",
       "\t\\hline\n",
       "\t& Tuple… & Tuple… & Tuple… & Tuple… & Tuple… & Tuple… & Tuple… & Tuple…\\\\\n",
       "\t\\hline\n",
       "\t1 & (1, 1) & (1, 2) & (1, 3) & (1, 4) & (1, 1) & (1, 2) & (1, 3) & (1, 4) \\\\\n",
       "\t2 & (2, 1) & (2, 2) & (2, 3) & (2, 4) & (2, 1) & (2, 2) & (2, 3) & (2, 4) \\\\\n",
       "\t3 & (3, 1) & (3, 2) & (3, 3) & (3, 4) & (3, 1) & (3, 2) & (3, 3) & (3, 4) \\\\\n",
       "\\end{tabular}\n"
      ],
      "text/plain": [
       "3×8 DataFrame\n",
       "│ Row │ x1     │ x2     │ x3     │ x4     │ x1_1   │ x2_1   │ x3_1   │ x4_1   │\n",
       "│     │ \u001b[90mTuple…\u001b[39m │ \u001b[90mTuple…\u001b[39m │ \u001b[90mTuple…\u001b[39m │ \u001b[90mTuple…\u001b[39m │ \u001b[90mTuple…\u001b[39m │ \u001b[90mTuple…\u001b[39m │ \u001b[90mTuple…\u001b[39m │ \u001b[90mTuple…\u001b[39m │\n",
       "├─────┼────────┼────────┼────────┼────────┼────────┼────────┼────────┼────────┤\n",
       "│ 1   │ (1, 1) │ (1, 2) │ (1, 3) │ (1, 4) │ (1, 1) │ (1, 2) │ (1, 3) │ (1, 4) │\n",
       "│ 2   │ (2, 1) │ (2, 2) │ (2, 3) │ (2, 4) │ (2, 1) │ (2, 2) │ (2, 3) │ (2, 4) │\n",
       "│ 3   │ (3, 1) │ (3, 2) │ (3, 3) │ (3, 4) │ (3, 1) │ (3, 2) │ (3, 3) │ (3, 4) │"
      ]
     },
     "execution_count": 12,
     "metadata": {},
     "output_type": "execute_result"
    }
   ],
   "source": [
    "hcat(x, x, makeunique=true)"
   ]
  },
  {
   "cell_type": "markdown",
   "metadata": {},
   "source": [
    "Мы также можем использовать `hcat`, чтобы добавить новый столбец; для этого столбца будет использоваться имя по умолчанию `:x1`, поэтому в нашем случае требуется` makeunique = true`."
   ]
  },
  {
   "cell_type": "code",
   "execution_count": 13,
   "metadata": {},
   "outputs": [
    {
     "data": {
      "text/html": [
       "<table class=\"data-frame\"><thead><tr><th></th><th>x1</th><th>x2</th><th>x3</th><th>x4</th><th>x1_1</th></tr><tr><th></th><th>Tuple…</th><th>Tuple…</th><th>Tuple…</th><th>Tuple…</th><th>Int64</th></tr></thead><tbody><p>3 rows × 5 columns</p><tr><th>1</th><td>(1, 1)</td><td>(1, 2)</td><td>(1, 3)</td><td>(1, 4)</td><td>1</td></tr><tr><th>2</th><td>(2, 1)</td><td>(2, 2)</td><td>(2, 3)</td><td>(2, 4)</td><td>2</td></tr><tr><th>3</th><td>(3, 1)</td><td>(3, 2)</td><td>(3, 3)</td><td>(3, 4)</td><td>3</td></tr></tbody></table>"
      ],
      "text/latex": [
       "\\begin{tabular}{r|ccccc}\n",
       "\t& x1 & x2 & x3 & x4 & x1\\_1\\\\\n",
       "\t\\hline\n",
       "\t& Tuple… & Tuple… & Tuple… & Tuple… & Int64\\\\\n",
       "\t\\hline\n",
       "\t1 & (1, 1) & (1, 2) & (1, 3) & (1, 4) & 1 \\\\\n",
       "\t2 & (2, 1) & (2, 2) & (2, 3) & (2, 4) & 2 \\\\\n",
       "\t3 & (3, 1) & (3, 2) & (3, 3) & (3, 4) & 3 \\\\\n",
       "\\end{tabular}\n"
      ],
      "text/plain": [
       "3×5 DataFrame\n",
       "│ Row │ x1     │ x2     │ x3     │ x4     │ x1_1  │\n",
       "│     │ \u001b[90mTuple…\u001b[39m │ \u001b[90mTuple…\u001b[39m │ \u001b[90mTuple…\u001b[39m │ \u001b[90mTuple…\u001b[39m │ \u001b[90mInt64\u001b[39m │\n",
       "├─────┼────────┼────────┼────────┼────────┼───────┤\n",
       "│ 1   │ (1, 1) │ (1, 2) │ (1, 3) │ (1, 4) │ 1     │\n",
       "│ 2   │ (2, 1) │ (2, 2) │ (2, 3) │ (2, 4) │ 2     │\n",
       "│ 3   │ (3, 1) │ (3, 2) │ (3, 3) │ (3, 4) │ 3     │"
      ]
     },
     "execution_count": 13,
     "metadata": {},
     "output_type": "execute_result"
    }
   ],
   "source": [
    "y = hcat(x, [1,2,3], makeunique=true)"
   ]
  },
  {
   "cell_type": "markdown",
   "metadata": {},
   "source": [
    "Вы также можете добавить вектор с `hcat`."
   ]
  },
  {
   "cell_type": "code",
   "execution_count": 14,
   "metadata": {},
   "outputs": [
    {
     "data": {
      "text/html": [
       "<table class=\"data-frame\"><thead><tr><th></th><th>x1</th><th>x1_1</th><th>x2</th><th>x3</th><th>x4</th></tr><tr><th></th><th>Int64</th><th>Tuple…</th><th>Tuple…</th><th>Tuple…</th><th>Tuple…</th></tr></thead><tbody><p>3 rows × 5 columns</p><tr><th>1</th><td>1</td><td>(1, 1)</td><td>(1, 2)</td><td>(1, 3)</td><td>(1, 4)</td></tr><tr><th>2</th><td>2</td><td>(2, 1)</td><td>(2, 2)</td><td>(2, 3)</td><td>(2, 4)</td></tr><tr><th>3</th><td>3</td><td>(3, 1)</td><td>(3, 2)</td><td>(3, 3)</td><td>(3, 4)</td></tr></tbody></table>"
      ],
      "text/latex": [
       "\\begin{tabular}{r|ccccc}\n",
       "\t& x1 & x1\\_1 & x2 & x3 & x4\\\\\n",
       "\t\\hline\n",
       "\t& Int64 & Tuple… & Tuple… & Tuple… & Tuple…\\\\\n",
       "\t\\hline\n",
       "\t1 & 1 & (1, 1) & (1, 2) & (1, 3) & (1, 4) \\\\\n",
       "\t2 & 2 & (2, 1) & (2, 2) & (2, 3) & (2, 4) \\\\\n",
       "\t3 & 3 & (3, 1) & (3, 2) & (3, 3) & (3, 4) \\\\\n",
       "\\end{tabular}\n"
      ],
      "text/plain": [
       "3×5 DataFrame\n",
       "│ Row │ x1    │ x1_1   │ x2     │ x3     │ x4     │\n",
       "│     │ \u001b[90mInt64\u001b[39m │ \u001b[90mTuple…\u001b[39m │ \u001b[90mTuple…\u001b[39m │ \u001b[90mTuple…\u001b[39m │ \u001b[90mTuple…\u001b[39m │\n",
       "├─────┼───────┼────────┼────────┼────────┼────────┤\n",
       "│ 1   │ 1     │ (1, 1) │ (1, 2) │ (1, 3) │ (1, 4) │\n",
       "│ 2   │ 2     │ (2, 1) │ (2, 2) │ (2, 3) │ (2, 4) │\n",
       "│ 3   │ 3     │ (3, 1) │ (3, 2) │ (3, 3) │ (3, 4) │"
      ]
     },
     "execution_count": 14,
     "metadata": {},
     "output_type": "execute_result"
    }
   ],
   "source": [
    "hcat([1,2,3], x, makeunique=true)"
   ]
  },
  {
   "cell_type": "markdown",
   "metadata": {},
   "source": [
    "В качестве альтернативы вы можете добавить вектор со следующим синтаксисом. Это немного более многословно, но чище."
   ]
  },
  {
   "cell_type": "code",
   "execution_count": 15,
   "metadata": {},
   "outputs": [
    {
     "data": {
      "text/html": [
       "<table class=\"data-frame\"><thead><tr><th></th><th>x1</th><th>x2</th><th>x3</th><th>x4</th><th>A</th></tr><tr><th></th><th>Tuple…</th><th>Tuple…</th><th>Tuple…</th><th>Tuple…</th><th>Int64</th></tr></thead><tbody><p>3 rows × 5 columns</p><tr><th>1</th><td>(1, 1)</td><td>(1, 2)</td><td>(1, 3)</td><td>(1, 4)</td><td>1</td></tr><tr><th>2</th><td>(2, 1)</td><td>(2, 2)</td><td>(2, 3)</td><td>(2, 4)</td><td>2</td></tr><tr><th>3</th><td>(3, 1)</td><td>(3, 2)</td><td>(3, 3)</td><td>(3, 4)</td><td>3</td></tr></tbody></table>"
      ],
      "text/latex": [
       "\\begin{tabular}{r|ccccc}\n",
       "\t& x1 & x2 & x3 & x4 & A\\\\\n",
       "\t\\hline\n",
       "\t& Tuple… & Tuple… & Tuple… & Tuple… & Int64\\\\\n",
       "\t\\hline\n",
       "\t1 & (1, 1) & (1, 2) & (1, 3) & (1, 4) & 1 \\\\\n",
       "\t2 & (2, 1) & (2, 2) & (2, 3) & (2, 4) & 2 \\\\\n",
       "\t3 & (3, 1) & (3, 2) & (3, 3) & (3, 4) & 3 \\\\\n",
       "\\end{tabular}\n"
      ],
      "text/plain": [
       "3×5 DataFrame\n",
       "│ Row │ x1     │ x2     │ x3     │ x4     │ A     │\n",
       "│     │ \u001b[90mTuple…\u001b[39m │ \u001b[90mTuple…\u001b[39m │ \u001b[90mTuple…\u001b[39m │ \u001b[90mTuple…\u001b[39m │ \u001b[90mInt64\u001b[39m │\n",
       "├─────┼────────┼────────┼────────┼────────┼───────┤\n",
       "│ 1   │ (1, 1) │ (1, 2) │ (1, 3) │ (1, 4) │ 1     │\n",
       "│ 2   │ (2, 1) │ (2, 2) │ (2, 3) │ (2, 4) │ 2     │\n",
       "│ 3   │ (3, 1) │ (3, 2) │ (3, 3) │ (3, 4) │ 3     │"
      ]
     },
     "execution_count": 15,
     "metadata": {},
     "output_type": "execute_result"
    }
   ],
   "source": [
    "y = [x DataFrame(A=[1,2,3])]"
   ]
  },
  {
   "cell_type": "markdown",
   "metadata": {},
   "source": [
    "Здесь мы делаем то же самое, но добавляем столбец `:A` впереди."
   ]
  },
  {
   "cell_type": "code",
   "execution_count": 16,
   "metadata": {},
   "outputs": [
    {
     "data": {
      "text/html": [
       "<table class=\"data-frame\"><thead><tr><th></th><th>A</th><th>x1</th><th>x2</th><th>x3</th><th>x4</th></tr><tr><th></th><th>Int64</th><th>Tuple…</th><th>Tuple…</th><th>Tuple…</th><th>Tuple…</th></tr></thead><tbody><p>3 rows × 5 columns</p><tr><th>1</th><td>1</td><td>(1, 1)</td><td>(1, 2)</td><td>(1, 3)</td><td>(1, 4)</td></tr><tr><th>2</th><td>2</td><td>(2, 1)</td><td>(2, 2)</td><td>(2, 3)</td><td>(2, 4)</td></tr><tr><th>3</th><td>3</td><td>(3, 1)</td><td>(3, 2)</td><td>(3, 3)</td><td>(3, 4)</td></tr></tbody></table>"
      ],
      "text/latex": [
       "\\begin{tabular}{r|ccccc}\n",
       "\t& A & x1 & x2 & x3 & x4\\\\\n",
       "\t\\hline\n",
       "\t& Int64 & Tuple… & Tuple… & Tuple… & Tuple…\\\\\n",
       "\t\\hline\n",
       "\t1 & 1 & (1, 1) & (1, 2) & (1, 3) & (1, 4) \\\\\n",
       "\t2 & 2 & (2, 1) & (2, 2) & (2, 3) & (2, 4) \\\\\n",
       "\t3 & 3 & (3, 1) & (3, 2) & (3, 3) & (3, 4) \\\\\n",
       "\\end{tabular}\n"
      ],
      "text/plain": [
       "3×5 DataFrame\n",
       "│ Row │ A     │ x1     │ x2     │ x3     │ x4     │\n",
       "│     │ \u001b[90mInt64\u001b[39m │ \u001b[90mTuple…\u001b[39m │ \u001b[90mTuple…\u001b[39m │ \u001b[90mTuple…\u001b[39m │ \u001b[90mTuple…\u001b[39m │\n",
       "├─────┼───────┼────────┼────────┼────────┼────────┤\n",
       "│ 1   │ 1     │ (1, 1) │ (1, 2) │ (1, 3) │ (1, 4) │\n",
       "│ 2   │ 2     │ (2, 1) │ (2, 2) │ (2, 3) │ (2, 4) │\n",
       "│ 3   │ 3     │ (3, 1) │ (3, 2) │ (3, 3) │ (3, 4) │"
      ]
     },
     "execution_count": 16,
     "metadata": {},
     "output_type": "execute_result"
    }
   ],
   "source": [
    "y = [DataFrame(A=[1,2,3]) x]"
   ]
  },
  {
   "cell_type": "markdown",
   "metadata": {},
   "source": [
    "Столбец также может быть добавлен в середине. Здесь используется метод грубой силы и создается новый объект DataFrame."
   ]
  },
  {
   "cell_type": "code",
   "execution_count": 17,
   "metadata": {},
   "outputs": [
    {
     "name": "stdout",
     "output_type": "stream",
     "text": [
      "  7.325 μs (120 allocations: 9.36 KiB)\n"
     ]
    },
    {
     "data": {
      "text/html": [
       "<table class=\"data-frame\"><thead><tr><th></th><th>x1</th><th>x2</th><th>A</th><th>x3</th><th>x4</th></tr><tr><th></th><th>Tuple…</th><th>Tuple…</th><th>Int64</th><th>Tuple…</th><th>Tuple…</th></tr></thead><tbody><p>3 rows × 5 columns</p><tr><th>1</th><td>(1, 1)</td><td>(1, 2)</td><td>1</td><td>(1, 3)</td><td>(1, 4)</td></tr><tr><th>2</th><td>(2, 1)</td><td>(2, 2)</td><td>2</td><td>(2, 3)</td><td>(2, 4)</td></tr><tr><th>3</th><td>(3, 1)</td><td>(3, 2)</td><td>3</td><td>(3, 3)</td><td>(3, 4)</td></tr></tbody></table>"
      ],
      "text/latex": [
       "\\begin{tabular}{r|ccccc}\n",
       "\t& x1 & x2 & A & x3 & x4\\\\\n",
       "\t\\hline\n",
       "\t& Tuple… & Tuple… & Int64 & Tuple… & Tuple…\\\\\n",
       "\t\\hline\n",
       "\t1 & (1, 1) & (1, 2) & 1 & (1, 3) & (1, 4) \\\\\n",
       "\t2 & (2, 1) & (2, 2) & 2 & (2, 3) & (2, 4) \\\\\n",
       "\t3 & (3, 1) & (3, 2) & 3 & (3, 3) & (3, 4) \\\\\n",
       "\\end{tabular}\n"
      ],
      "text/plain": [
       "3×5 DataFrame\n",
       "│ Row │ x1     │ x2     │ A     │ x3     │ x4     │\n",
       "│     │ \u001b[90mTuple…\u001b[39m │ \u001b[90mTuple…\u001b[39m │ \u001b[90mInt64\u001b[39m │ \u001b[90mTuple…\u001b[39m │ \u001b[90mTuple…\u001b[39m │\n",
       "├─────┼────────┼────────┼───────┼────────┼────────┤\n",
       "│ 1   │ (1, 1) │ (1, 2) │ 1     │ (1, 3) │ (1, 4) │\n",
       "│ 2   │ (2, 1) │ (2, 2) │ 2     │ (2, 3) │ (2, 4) │\n",
       "│ 3   │ (3, 1) │ (3, 2) │ 3     │ (3, 3) │ (3, 4) │"
      ]
     },
     "execution_count": 17,
     "metadata": {},
     "output_type": "execute_result"
    }
   ],
   "source": [
    "using BenchmarkTools\n",
    "@btime [$x[1:2] DataFrame(A=[1,2,3]) $x[3:4]]"
   ]
  },
  {
   "cell_type": "markdown",
   "metadata": {},
   "source": [
    "Мы также можем сделать это с помощью специализированного метода «insertcols!». Давайте добавим `:newcol` к` DataFrame` `y`."
   ]
  },
  {
   "cell_type": "code",
   "execution_count": 18,
   "metadata": {},
   "outputs": [
    {
     "data": {
      "text/html": [
       "<table class=\"data-frame\"><thead><tr><th></th><th>A</th><th>newcol</th><th>x1</th><th>x2</th><th>x3</th><th>x4</th></tr><tr><th></th><th>Int64</th><th>Int64</th><th>Tuple…</th><th>Tuple…</th><th>Tuple…</th><th>Tuple…</th></tr></thead><tbody><p>3 rows × 6 columns</p><tr><th>1</th><td>1</td><td>1</td><td>(1, 1)</td><td>(1, 2)</td><td>(1, 3)</td><td>(1, 4)</td></tr><tr><th>2</th><td>2</td><td>2</td><td>(2, 1)</td><td>(2, 2)</td><td>(2, 3)</td><td>(2, 4)</td></tr><tr><th>3</th><td>3</td><td>3</td><td>(3, 1)</td><td>(3, 2)</td><td>(3, 3)</td><td>(3, 4)</td></tr></tbody></table>"
      ],
      "text/latex": [
       "\\begin{tabular}{r|cccccc}\n",
       "\t& A & newcol & x1 & x2 & x3 & x4\\\\\n",
       "\t\\hline\n",
       "\t& Int64 & Int64 & Tuple… & Tuple… & Tuple… & Tuple…\\\\\n",
       "\t\\hline\n",
       "\t1 & 1 & 1 & (1, 1) & (1, 2) & (1, 3) & (1, 4) \\\\\n",
       "\t2 & 2 & 2 & (2, 1) & (2, 2) & (2, 3) & (2, 4) \\\\\n",
       "\t3 & 3 & 3 & (3, 1) & (3, 2) & (3, 3) & (3, 4) \\\\\n",
       "\\end{tabular}\n"
      ],
      "text/plain": [
       "3×6 DataFrame\n",
       "│ Row │ A     │ newcol │ x1     │ x2     │ x3     │ x4     │\n",
       "│     │ \u001b[90mInt64\u001b[39m │ \u001b[90mInt64\u001b[39m  │ \u001b[90mTuple…\u001b[39m │ \u001b[90mTuple…\u001b[39m │ \u001b[90mTuple…\u001b[39m │ \u001b[90mTuple…\u001b[39m │\n",
       "├─────┼───────┼────────┼────────┼────────┼────────┼────────┤\n",
       "│ 1   │ 1     │ 1      │ (1, 1) │ (1, 2) │ (1, 3) │ (1, 4) │\n",
       "│ 2   │ 2     │ 2      │ (2, 1) │ (2, 2) │ (2, 3) │ (2, 4) │\n",
       "│ 3   │ 3     │ 3      │ (3, 1) │ (3, 2) │ (3, 3) │ (3, 4) │"
      ]
     },
     "execution_count": 18,
     "metadata": {},
     "output_type": "execute_result"
    }
   ],
   "source": [
    "insertcols!(y, 2, newcol=[1,2,3])"
   ]
  },
  {
   "cell_type": "markdown",
   "metadata": {},
   "source": [
    "Если вы хотите вставить одно и то же имя столбца несколько раз, необходимо сделать makeunique = true, как обычно."
   ]
  },
  {
   "cell_type": "code",
   "execution_count": 19,
   "metadata": {},
   "outputs": [
    {
     "data": {
      "text/html": [
       "<table class=\"data-frame\"><thead><tr><th></th><th>A</th><th>newcol_1</th><th>newcol</th><th>x1</th><th>x2</th><th>x3</th><th>x4</th></tr><tr><th></th><th>Int64</th><th>Int64</th><th>Int64</th><th>Tuple…</th><th>Tuple…</th><th>Tuple…</th><th>Tuple…</th></tr></thead><tbody><p>3 rows × 7 columns</p><tr><th>1</th><td>1</td><td>1</td><td>1</td><td>(1, 1)</td><td>(1, 2)</td><td>(1, 3)</td><td>(1, 4)</td></tr><tr><th>2</th><td>2</td><td>2</td><td>2</td><td>(2, 1)</td><td>(2, 2)</td><td>(2, 3)</td><td>(2, 4)</td></tr><tr><th>3</th><td>3</td><td>3</td><td>3</td><td>(3, 1)</td><td>(3, 2)</td><td>(3, 3)</td><td>(3, 4)</td></tr></tbody></table>"
      ],
      "text/latex": [
       "\\begin{tabular}{r|ccccccc}\n",
       "\t& A & newcol\\_1 & newcol & x1 & x2 & x3 & x4\\\\\n",
       "\t\\hline\n",
       "\t& Int64 & Int64 & Int64 & Tuple… & Tuple… & Tuple… & Tuple…\\\\\n",
       "\t\\hline\n",
       "\t1 & 1 & 1 & 1 & (1, 1) & (1, 2) & (1, 3) & (1, 4) \\\\\n",
       "\t2 & 2 & 2 & 2 & (2, 1) & (2, 2) & (2, 3) & (2, 4) \\\\\n",
       "\t3 & 3 & 3 & 3 & (3, 1) & (3, 2) & (3, 3) & (3, 4) \\\\\n",
       "\\end{tabular}\n"
      ],
      "text/plain": [
       "3×7 DataFrame\n",
       "│ Row │ A     │ newcol_1 │ newcol │ x1     │ x2     │ x3     │ x4     │\n",
       "│     │ \u001b[90mInt64\u001b[39m │ \u001b[90mInt64\u001b[39m    │ \u001b[90mInt64\u001b[39m  │ \u001b[90mTuple…\u001b[39m │ \u001b[90mTuple…\u001b[39m │ \u001b[90mTuple…\u001b[39m │ \u001b[90mTuple…\u001b[39m │\n",
       "├─────┼───────┼──────────┼────────┼────────┼────────┼────────┼────────┤\n",
       "│ 1   │ 1     │ 1        │ 1      │ (1, 1) │ (1, 2) │ (1, 3) │ (1, 4) │\n",
       "│ 2   │ 2     │ 2        │ 2      │ (2, 1) │ (2, 2) │ (2, 3) │ (2, 4) │\n",
       "│ 3   │ 3     │ 3        │ 3      │ (3, 1) │ (3, 2) │ (3, 3) │ (3, 4) │"
      ]
     },
     "execution_count": 19,
     "metadata": {},
     "output_type": "execute_result"
    }
   ],
   "source": [
    "insertcols!(y, 2, newcol=[1,2,3], makeunique=true)"
   ]
  },
  {
   "cell_type": "markdown",
   "metadata": {},
   "source": [
    "Мы можем видеть, насколько быстрее вставить столбец с помощью `insertcols!`, Чем с помощью `hcat`, используя` btime` (обратите внимание, что здесь мы используем обозначение `Pair` в качестве примера)."
   ]
  },
  {
   "cell_type": "code",
   "execution_count": 20,
   "metadata": {},
   "outputs": [
    {
     "name": "stdout",
     "output_type": "stream",
     "text": [
      "  893.476 ns (18 allocations: 1.41 KiB)\n"
     ]
    },
    {
     "data": {
      "text/html": [
       "<table class=\"data-frame\"><thead><tr><th></th><th>x1</th><th>x2</th><th>A</th><th>x3</th><th>x4</th></tr><tr><th></th><th>Tuple…</th><th>Tuple…</th><th>Int64</th><th>Tuple…</th><th>Tuple…</th></tr></thead><tbody><p>3 rows × 5 columns</p><tr><th>1</th><td>(1, 1)</td><td>(1, 2)</td><td>1</td><td>(1, 3)</td><td>(1, 4)</td></tr><tr><th>2</th><td>(2, 1)</td><td>(2, 2)</td><td>2</td><td>(2, 3)</td><td>(2, 4)</td></tr><tr><th>3</th><td>(3, 1)</td><td>(3, 2)</td><td>3</td><td>(3, 3)</td><td>(3, 4)</td></tr></tbody></table>"
      ],
      "text/latex": [
       "\\begin{tabular}{r|ccccc}\n",
       "\t& x1 & x2 & A & x3 & x4\\\\\n",
       "\t\\hline\n",
       "\t& Tuple… & Tuple… & Int64 & Tuple… & Tuple…\\\\\n",
       "\t\\hline\n",
       "\t1 & (1, 1) & (1, 2) & 1 & (1, 3) & (1, 4) \\\\\n",
       "\t2 & (2, 1) & (2, 2) & 2 & (2, 3) & (2, 4) \\\\\n",
       "\t3 & (3, 1) & (3, 2) & 3 & (3, 3) & (3, 4) \\\\\n",
       "\\end{tabular}\n"
      ],
      "text/plain": [
       "3×5 DataFrame\n",
       "│ Row │ x1     │ x2     │ A     │ x3     │ x4     │\n",
       "│     │ \u001b[90mTuple…\u001b[39m │ \u001b[90mTuple…\u001b[39m │ \u001b[90mInt64\u001b[39m │ \u001b[90mTuple…\u001b[39m │ \u001b[90mTuple…\u001b[39m │\n",
       "├─────┼────────┼────────┼───────┼────────┼────────┤\n",
       "│ 1   │ (1, 1) │ (1, 2) │ 1     │ (1, 3) │ (1, 4) │\n",
       "│ 2   │ (2, 1) │ (2, 2) │ 2     │ (2, 3) │ (2, 4) │\n",
       "│ 3   │ (3, 1) │ (3, 2) │ 3     │ (3, 3) │ (3, 4) │"
      ]
     },
     "execution_count": 20,
     "metadata": {},
     "output_type": "execute_result"
    }
   ],
   "source": [
    "@btime insertcols!(copy($x), 3, :A => [1,2,3])"
   ]
  },
  {
   "cell_type": "markdown",
   "metadata": {},
   "source": [
    "Давайте использовать `insertcols!`, Чтобы добавить столбец на место,"
   ]
  },
  {
   "cell_type": "code",
   "execution_count": 21,
   "metadata": {},
   "outputs": [
    {
     "data": {
      "text/html": [
       "<table class=\"data-frame\"><thead><tr><th></th><th>x1</th><th>x2</th><th>x3</th><th>x4</th><th>A</th></tr><tr><th></th><th>Tuple…</th><th>Tuple…</th><th>Tuple…</th><th>Tuple…</th><th>Int64</th></tr></thead><tbody><p>3 rows × 5 columns</p><tr><th>1</th><td>(1, 1)</td><td>(1, 2)</td><td>(1, 3)</td><td>(1, 4)</td><td>1</td></tr><tr><th>2</th><td>(2, 1)</td><td>(2, 2)</td><td>(2, 3)</td><td>(2, 4)</td><td>2</td></tr><tr><th>3</th><td>(3, 1)</td><td>(3, 2)</td><td>(3, 3)</td><td>(3, 4)</td><td>3</td></tr></tbody></table>"
      ],
      "text/latex": [
       "\\begin{tabular}{r|ccccc}\n",
       "\t& x1 & x2 & x3 & x4 & A\\\\\n",
       "\t\\hline\n",
       "\t& Tuple… & Tuple… & Tuple… & Tuple… & Int64\\\\\n",
       "\t\\hline\n",
       "\t1 & (1, 1) & (1, 2) & (1, 3) & (1, 4) & 1 \\\\\n",
       "\t2 & (2, 1) & (2, 2) & (2, 3) & (2, 4) & 2 \\\\\n",
       "\t3 & (3, 1) & (3, 2) & (3, 3) & (3, 4) & 3 \\\\\n",
       "\\end{tabular}\n"
      ],
      "text/plain": [
       "3×5 DataFrame\n",
       "│ Row │ x1     │ x2     │ x3     │ x4     │ A     │\n",
       "│     │ \u001b[90mTuple…\u001b[39m │ \u001b[90mTuple…\u001b[39m │ \u001b[90mTuple…\u001b[39m │ \u001b[90mTuple…\u001b[39m │ \u001b[90mInt64\u001b[39m │\n",
       "├─────┼────────┼────────┼────────┼────────┼───────┤\n",
       "│ 1   │ (1, 1) │ (1, 2) │ (1, 3) │ (1, 4) │ 1     │\n",
       "│ 2   │ (2, 1) │ (2, 2) │ (2, 3) │ (2, 4) │ 2     │\n",
       "│ 3   │ (3, 1) │ (3, 2) │ (3, 3) │ (3, 4) │ 3     │"
      ]
     },
     "execution_count": 21,
     "metadata": {},
     "output_type": "execute_result"
    }
   ],
   "source": [
    "insertcols!(x, ncol(x)+1, A=[1,2,3])"
   ]
  },
  {
   "cell_type": "markdown",
   "metadata": {},
   "source": [
    "и поставить на место перед колонкой."
   ]
  },
  {
   "cell_type": "code",
   "execution_count": 22,
   "metadata": {},
   "outputs": [
    {
     "data": {
      "text/html": [
       "<table class=\"data-frame\"><thead><tr><th></th><th>B</th><th>x1</th><th>x2</th><th>x3</th><th>x4</th><th>A</th></tr><tr><th></th><th>Int64</th><th>Tuple…</th><th>Tuple…</th><th>Tuple…</th><th>Tuple…</th><th>Int64</th></tr></thead><tbody><p>3 rows × 6 columns</p><tr><th>1</th><td>1</td><td>(1, 1)</td><td>(1, 2)</td><td>(1, 3)</td><td>(1, 4)</td><td>1</td></tr><tr><th>2</th><td>2</td><td>(2, 1)</td><td>(2, 2)</td><td>(2, 3)</td><td>(2, 4)</td><td>2</td></tr><tr><th>3</th><td>3</td><td>(3, 1)</td><td>(3, 2)</td><td>(3, 3)</td><td>(3, 4)</td><td>3</td></tr></tbody></table>"
      ],
      "text/latex": [
       "\\begin{tabular}{r|cccccc}\n",
       "\t& B & x1 & x2 & x3 & x4 & A\\\\\n",
       "\t\\hline\n",
       "\t& Int64 & Tuple… & Tuple… & Tuple… & Tuple… & Int64\\\\\n",
       "\t\\hline\n",
       "\t1 & 1 & (1, 1) & (1, 2) & (1, 3) & (1, 4) & 1 \\\\\n",
       "\t2 & 2 & (2, 1) & (2, 2) & (2, 3) & (2, 4) & 2 \\\\\n",
       "\t3 & 3 & (3, 1) & (3, 2) & (3, 3) & (3, 4) & 3 \\\\\n",
       "\\end{tabular}\n"
      ],
      "text/plain": [
       "3×6 DataFrame\n",
       "│ Row │ B     │ x1     │ x2     │ x3     │ x4     │ A     │\n",
       "│     │ \u001b[90mInt64\u001b[39m │ \u001b[90mTuple…\u001b[39m │ \u001b[90mTuple…\u001b[39m │ \u001b[90mTuple…\u001b[39m │ \u001b[90mTuple…\u001b[39m │ \u001b[90mInt64\u001b[39m │\n",
       "├─────┼───────┼────────┼────────┼────────┼────────┼───────┤\n",
       "│ 1   │ 1     │ (1, 1) │ (1, 2) │ (1, 3) │ (1, 4) │ 1     │\n",
       "│ 2   │ 2     │ (2, 1) │ (2, 2) │ (2, 3) │ (2, 4) │ 2     │\n",
       "│ 3   │ 3     │ (3, 1) │ (3, 2) │ (3, 3) │ (3, 4) │ 3     │"
      ]
     },
     "execution_count": 22,
     "metadata": {},
     "output_type": "execute_result"
    }
   ],
   "source": [
    "insertcols!(x, 1, B=[1,2,3])"
   ]
  },
  {
   "cell_type": "markdown",
   "metadata": {},
   "source": [
    "### Расщипление / удаление столбцов\n",
    "\n",
    "Давайте создадим новый DataFrame `x` и покажем несколько способов создания DataFrames с подмножеством столбцов` x`."
   ]
  },
  {
   "cell_type": "code",
   "execution_count": 23,
   "metadata": {},
   "outputs": [
    {
     "data": {
      "text/html": [
       "<table class=\"data-frame\"><thead><tr><th></th><th>x1</th><th>x2</th><th>x3</th><th>x4</th><th>x5</th></tr><tr><th></th><th>Tuple…</th><th>Tuple…</th><th>Tuple…</th><th>Tuple…</th><th>Tuple…</th></tr></thead><tbody><p>3 rows × 5 columns</p><tr><th>1</th><td>(1, 1)</td><td>(1, 2)</td><td>(1, 3)</td><td>(1, 4)</td><td>(1, 5)</td></tr><tr><th>2</th><td>(2, 1)</td><td>(2, 2)</td><td>(2, 3)</td><td>(2, 4)</td><td>(2, 5)</td></tr><tr><th>3</th><td>(3, 1)</td><td>(3, 2)</td><td>(3, 3)</td><td>(3, 4)</td><td>(3, 5)</td></tr></tbody></table>"
      ],
      "text/latex": [
       "\\begin{tabular}{r|ccccc}\n",
       "\t& x1 & x2 & x3 & x4 & x5\\\\\n",
       "\t\\hline\n",
       "\t& Tuple… & Tuple… & Tuple… & Tuple… & Tuple…\\\\\n",
       "\t\\hline\n",
       "\t1 & (1, 1) & (1, 2) & (1, 3) & (1, 4) & (1, 5) \\\\\n",
       "\t2 & (2, 1) & (2, 2) & (2, 3) & (2, 4) & (2, 5) \\\\\n",
       "\t3 & (3, 1) & (3, 2) & (3, 3) & (3, 4) & (3, 5) \\\\\n",
       "\\end{tabular}\n"
      ],
      "text/plain": [
       "3×5 DataFrame\n",
       "│ Row │ x1     │ x2     │ x3     │ x4     │ x5     │\n",
       "│     │ \u001b[90mTuple…\u001b[39m │ \u001b[90mTuple…\u001b[39m │ \u001b[90mTuple…\u001b[39m │ \u001b[90mTuple…\u001b[39m │ \u001b[90mTuple…\u001b[39m │\n",
       "├─────┼────────┼────────┼────────┼────────┼────────┤\n",
       "│ 1   │ (1, 1) │ (1, 2) │ (1, 3) │ (1, 4) │ (1, 5) │\n",
       "│ 2   │ (2, 1) │ (2, 2) │ (2, 3) │ (2, 4) │ (2, 5) │\n",
       "│ 3   │ (3, 1) │ (3, 2) │ (3, 3) │ (3, 4) │ (3, 5) │"
      ]
     },
     "execution_count": 23,
     "metadata": {},
     "output_type": "execute_result"
    }
   ],
   "source": [
    "x = DataFrame([(i,j) for i in 1:3, j in 1:5])"
   ]
  },
  {
   "cell_type": "markdown",
   "metadata": {},
   "source": [
    "Сначала мы можем сделать это по индексу:"
   ]
  },
  {
   "cell_type": "code",
   "execution_count": 24,
   "metadata": {},
   "outputs": [
    {
     "data": {
      "text/html": [
       "<table class=\"data-frame\"><thead><tr><th></th><th>x1</th><th>x2</th><th>x4</th><th>x5</th></tr><tr><th></th><th>Tuple…</th><th>Tuple…</th><th>Tuple…</th><th>Tuple…</th></tr></thead><tbody><p>3 rows × 4 columns</p><tr><th>1</th><td>(1, 1)</td><td>(1, 2)</td><td>(1, 4)</td><td>(1, 5)</td></tr><tr><th>2</th><td>(2, 1)</td><td>(2, 2)</td><td>(2, 4)</td><td>(2, 5)</td></tr><tr><th>3</th><td>(3, 1)</td><td>(3, 2)</td><td>(3, 4)</td><td>(3, 5)</td></tr></tbody></table>"
      ],
      "text/latex": [
       "\\begin{tabular}{r|cccc}\n",
       "\t& x1 & x2 & x4 & x5\\\\\n",
       "\t\\hline\n",
       "\t& Tuple… & Tuple… & Tuple… & Tuple…\\\\\n",
       "\t\\hline\n",
       "\t1 & (1, 1) & (1, 2) & (1, 4) & (1, 5) \\\\\n",
       "\t2 & (2, 1) & (2, 2) & (2, 4) & (2, 5) \\\\\n",
       "\t3 & (3, 1) & (3, 2) & (3, 4) & (3, 5) \\\\\n",
       "\\end{tabular}\n"
      ],
      "text/plain": [
       "3×4 DataFrame\n",
       "│ Row │ x1     │ x2     │ x4     │ x5     │\n",
       "│     │ \u001b[90mTuple…\u001b[39m │ \u001b[90mTuple…\u001b[39m │ \u001b[90mTuple…\u001b[39m │ \u001b[90mTuple…\u001b[39m │\n",
       "├─────┼────────┼────────┼────────┼────────┤\n",
       "│ 1   │ (1, 1) │ (1, 2) │ (1, 4) │ (1, 5) │\n",
       "│ 2   │ (2, 1) │ (2, 2) │ (2, 4) │ (2, 5) │\n",
       "│ 3   │ (3, 1) │ (3, 2) │ (3, 4) │ (3, 5) │"
      ]
     },
     "execution_count": 24,
     "metadata": {},
     "output_type": "execute_result"
    }
   ],
   "source": [
    "x[[1,2,4,5]]"
   ]
  },
  {
   "cell_type": "markdown",
   "metadata": {},
   "source": [
    "или по имени столбца:"
   ]
  },
  {
   "cell_type": "code",
   "execution_count": 25,
   "metadata": {},
   "outputs": [
    {
     "data": {
      "text/html": [
       "<table class=\"data-frame\"><thead><tr><th></th><th>x1</th><th>x4</th></tr><tr><th></th><th>Tuple…</th><th>Tuple…</th></tr></thead><tbody><p>3 rows × 2 columns</p><tr><th>1</th><td>(1, 1)</td><td>(1, 4)</td></tr><tr><th>2</th><td>(2, 1)</td><td>(2, 4)</td></tr><tr><th>3</th><td>(3, 1)</td><td>(3, 4)</td></tr></tbody></table>"
      ],
      "text/latex": [
       "\\begin{tabular}{r|cc}\n",
       "\t& x1 & x4\\\\\n",
       "\t\\hline\n",
       "\t& Tuple… & Tuple…\\\\\n",
       "\t\\hline\n",
       "\t1 & (1, 1) & (1, 4) \\\\\n",
       "\t2 & (2, 1) & (2, 4) \\\\\n",
       "\t3 & (3, 1) & (3, 4) \\\\\n",
       "\\end{tabular}\n"
      ],
      "text/plain": [
       "3×2 DataFrame\n",
       "│ Row │ x1     │ x4     │\n",
       "│     │ \u001b[90mTuple…\u001b[39m │ \u001b[90mTuple…\u001b[39m │\n",
       "├─────┼────────┼────────┤\n",
       "│ 1   │ (1, 1) │ (1, 4) │\n",
       "│ 2   │ (2, 1) │ (2, 4) │\n",
       "│ 3   │ (3, 1) │ (3, 4) │"
      ]
     },
     "execution_count": 25,
     "metadata": {},
     "output_type": "execute_result"
    }
   ],
   "source": [
    "x[[:x1, :x4]]"
   ]
  },
  {
   "cell_type": "markdown",
   "metadata": {},
   "source": [
    "Мы также можем выбрать сохранение или исключение столбцов с помощью `Bool` (нам нужен вектор, длина которого равна числу столбцов в исходном объекте DataFrame)."
   ]
  },
  {
   "cell_type": "code",
   "execution_count": 26,
   "metadata": {},
   "outputs": [
    {
     "data": {
      "text/html": [
       "<table class=\"data-frame\"><thead><tr><th></th><th>x1</th><th>x3</th><th>x5</th></tr><tr><th></th><th>Tuple…</th><th>Tuple…</th><th>Tuple…</th></tr></thead><tbody><p>3 rows × 3 columns</p><tr><th>1</th><td>(1, 1)</td><td>(1, 3)</td><td>(1, 5)</td></tr><tr><th>2</th><td>(2, 1)</td><td>(2, 3)</td><td>(2, 5)</td></tr><tr><th>3</th><td>(3, 1)</td><td>(3, 3)</td><td>(3, 5)</td></tr></tbody></table>"
      ],
      "text/latex": [
       "\\begin{tabular}{r|ccc}\n",
       "\t& x1 & x3 & x5\\\\\n",
       "\t\\hline\n",
       "\t& Tuple… & Tuple… & Tuple…\\\\\n",
       "\t\\hline\n",
       "\t1 & (1, 1) & (1, 3) & (1, 5) \\\\\n",
       "\t2 & (2, 1) & (2, 3) & (2, 5) \\\\\n",
       "\t3 & (3, 1) & (3, 3) & (3, 5) \\\\\n",
       "\\end{tabular}\n"
      ],
      "text/plain": [
       "3×3 DataFrame\n",
       "│ Row │ x1     │ x3     │ x5     │\n",
       "│     │ \u001b[90mTuple…\u001b[39m │ \u001b[90mTuple…\u001b[39m │ \u001b[90mTuple…\u001b[39m │\n",
       "├─────┼────────┼────────┼────────┤\n",
       "│ 1   │ (1, 1) │ (1, 3) │ (1, 5) │\n",
       "│ 2   │ (2, 1) │ (2, 3) │ (2, 5) │\n",
       "│ 3   │ (3, 1) │ (3, 3) │ (3, 5) │"
      ]
     },
     "execution_count": 26,
     "metadata": {},
     "output_type": "execute_result"
    }
   ],
   "source": [
    "x[[true, false, true, false, true]]"
   ]
  },
  {
   "cell_type": "markdown",
   "metadata": {},
   "source": [
    "Здесь мы создаем один столбец `DataFrame`,"
   ]
  },
  {
   "cell_type": "code",
   "execution_count": 27,
   "metadata": {},
   "outputs": [
    {
     "data": {
      "text/html": [
       "<table class=\"data-frame\"><thead><tr><th></th><th>x1</th></tr><tr><th></th><th>Tuple…</th></tr></thead><tbody><p>3 rows × 1 columns</p><tr><th>1</th><td>(1, 1)</td></tr><tr><th>2</th><td>(2, 1)</td></tr><tr><th>3</th><td>(3, 1)</td></tr></tbody></table>"
      ],
      "text/latex": [
       "\\begin{tabular}{r|c}\n",
       "\t& x1\\\\\n",
       "\t\\hline\n",
       "\t& Tuple…\\\\\n",
       "\t\\hline\n",
       "\t1 & (1, 1) \\\\\n",
       "\t2 & (2, 1) \\\\\n",
       "\t3 & (3, 1) \\\\\n",
       "\\end{tabular}\n"
      ],
      "text/plain": [
       "3×1 DataFrame\n",
       "│ Row │ x1     │\n",
       "│     │ \u001b[90mTuple…\u001b[39m │\n",
       "├─────┼────────┤\n",
       "│ 1   │ (1, 1) │\n",
       "│ 2   │ (2, 1) │\n",
       "│ 3   │ (3, 1) │"
      ]
     },
     "execution_count": 27,
     "metadata": {},
     "output_type": "execute_result"
    }
   ],
   "source": [
    "x[[:x1]]"
   ]
  },
  {
   "cell_type": "markdown",
   "metadata": {},
   "source": [
    "и здесь мы получаем доступ к вектору в столбце `:x1`."
   ]
  },
  {
   "cell_type": "code",
   "execution_count": 28,
   "metadata": {},
   "outputs": [
    {
     "data": {
      "text/plain": [
       "3-element Array{Tuple{Int64,Int64},1}:\n",
       " (1, 1)\n",
       " (2, 1)\n",
       " (3, 1)"
      ]
     },
     "execution_count": 28,
     "metadata": {},
     "output_type": "execute_result"
    }
   ],
   "source": [
    "x[:x1]"
   ]
  },
  {
   "cell_type": "code",
   "execution_count": 29,
   "metadata": {},
   "outputs": [
    {
     "data": {
      "text/plain": [
       "3-element Array{Tuple{Int64,Int64},1}:\n",
       " (1, 1)\n",
       " (2, 1)\n",
       " (3, 1)"
      ]
     },
     "execution_count": 29,
     "metadata": {},
     "output_type": "execute_result"
    }
   ],
   "source": [
    "x.x1 # the same"
   ]
  },
  {
   "cell_type": "markdown",
   "metadata": {},
   "source": [
    "Мы могли бы получить тот же вектор по номеру столбца"
   ]
  },
  {
   "cell_type": "code",
   "execution_count": 30,
   "metadata": {},
   "outputs": [
    {
     "data": {
      "text/plain": [
       "3-element Array{Tuple{Int64,Int64},1}:\n",
       " (1, 1)\n",
       " (2, 1)\n",
       " (3, 1)"
      ]
     },
     "execution_count": 30,
     "metadata": {},
     "output_type": "execute_result"
    }
   ],
   "source": [
    "x[1]"
   ]
  },
  {
   "cell_type": "markdown",
   "metadata": {},
   "source": [
    "и удалить все из `DataFrame` с помощью` empty! `."
   ]
  },
  {
   "cell_type": "code",
   "execution_count": 31,
   "metadata": {},
   "outputs": [
    {
     "data": {
      "text/html": [
       "<table class=\"data-frame\"><thead><tr><th></th></tr><tr><th></th></tr></thead><tbody><p>0 rows × 0 columns</p></tbody></table>"
      ],
      "text/latex": [
       "\\begin{tabular}{r|}\n",
       "\t& \\\\\n",
       "\t\\hline\n",
       "\t& \\\\\n",
       "\t\\hline\n",
       "\\end{tabular}\n"
      ],
      "text/plain": [
       "0×0 DataFrame\n"
      ]
     },
     "execution_count": 31,
     "metadata": {},
     "output_type": "execute_result"
    }
   ],
   "source": [
    "empty!(y)"
   ]
  },
  {
   "cell_type": "markdown",
   "metadata": {},
   "source": [
    "Здесь мы создаем копию `x` и удаляем 3-й столбец из копии с помощью` deletecols! `."
   ]
  },
  {
   "cell_type": "code",
   "execution_count": 32,
   "metadata": {},
   "outputs": [
    {
     "data": {
      "text/html": [
       "<table class=\"data-frame\"><thead><tr><th></th><th>x1</th><th>x2</th><th>x4</th><th>x5</th></tr><tr><th></th><th>Tuple…</th><th>Tuple…</th><th>Tuple…</th><th>Tuple…</th></tr></thead><tbody><p>3 rows × 4 columns</p><tr><th>1</th><td>(1, 1)</td><td>(1, 2)</td><td>(1, 4)</td><td>(1, 5)</td></tr><tr><th>2</th><td>(2, 1)</td><td>(2, 2)</td><td>(2, 4)</td><td>(2, 5)</td></tr><tr><th>3</th><td>(3, 1)</td><td>(3, 2)</td><td>(3, 4)</td><td>(3, 5)</td></tr></tbody></table>"
      ],
      "text/latex": [
       "\\begin{tabular}{r|cccc}\n",
       "\t& x1 & x2 & x4 & x5\\\\\n",
       "\t\\hline\n",
       "\t& Tuple… & Tuple… & Tuple… & Tuple…\\\\\n",
       "\t\\hline\n",
       "\t1 & (1, 1) & (1, 2) & (1, 4) & (1, 5) \\\\\n",
       "\t2 & (2, 1) & (2, 2) & (2, 4) & (2, 5) \\\\\n",
       "\t3 & (3, 1) & (3, 2) & (3, 4) & (3, 5) \\\\\n",
       "\\end{tabular}\n"
      ],
      "text/plain": [
       "3×4 DataFrame\n",
       "│ Row │ x1     │ x2     │ x4     │ x5     │\n",
       "│     │ \u001b[90mTuple…\u001b[39m │ \u001b[90mTuple…\u001b[39m │ \u001b[90mTuple…\u001b[39m │ \u001b[90mTuple…\u001b[39m │\n",
       "├─────┼────────┼────────┼────────┼────────┤\n",
       "│ 1   │ (1, 1) │ (1, 2) │ (1, 4) │ (1, 5) │\n",
       "│ 2   │ (2, 1) │ (2, 2) │ (2, 4) │ (2, 5) │\n",
       "│ 3   │ (3, 1) │ (3, 2) │ (3, 4) │ (3, 5) │"
      ]
     },
     "execution_count": 32,
     "metadata": {},
     "output_type": "execute_result"
    }
   ],
   "source": [
    "z = copy(x)\n",
    "deletecols!(z, 3)"
   ]
  },
  {
   "cell_type": "code",
   "execution_count": 33,
   "metadata": {},
   "outputs": [
    {
     "data": {
      "text/html": [
       "<table class=\"data-frame\"><thead><tr><th></th><th>x1</th><th>x2</th><th>x3</th><th>x4</th><th>x5</th></tr><tr><th></th><th>Tuple…</th><th>Tuple…</th><th>Tuple…</th><th>Tuple…</th><th>Tuple…</th></tr></thead><tbody><p>3 rows × 5 columns</p><tr><th>1</th><td>(1, 1)</td><td>(1, 2)</td><td>(1, 3)</td><td>(1, 4)</td><td>(1, 5)</td></tr><tr><th>2</th><td>(2, 1)</td><td>(2, 2)</td><td>(2, 3)</td><td>(2, 4)</td><td>(2, 5)</td></tr><tr><th>3</th><td>(3, 1)</td><td>(3, 2)</td><td>(3, 3)</td><td>(3, 4)</td><td>(3, 5)</td></tr></tbody></table>"
      ],
      "text/latex": [
       "\\begin{tabular}{r|ccccc}\n",
       "\t& x1 & x2 & x3 & x4 & x5\\\\\n",
       "\t\\hline\n",
       "\t& Tuple… & Tuple… & Tuple… & Tuple… & Tuple…\\\\\n",
       "\t\\hline\n",
       "\t1 & (1, 1) & (1, 2) & (1, 3) & (1, 4) & (1, 5) \\\\\n",
       "\t2 & (2, 1) & (2, 2) & (2, 3) & (2, 4) & (2, 5) \\\\\n",
       "\t3 & (3, 1) & (3, 2) & (3, 3) & (3, 4) & (3, 5) \\\\\n",
       "\\end{tabular}\n"
      ],
      "text/plain": [
       "3×5 DataFrame\n",
       "│ Row │ x1     │ x2     │ x3     │ x4     │ x5     │\n",
       "│     │ \u001b[90mTuple…\u001b[39m │ \u001b[90mTuple…\u001b[39m │ \u001b[90mTuple…\u001b[39m │ \u001b[90mTuple…\u001b[39m │ \u001b[90mTuple…\u001b[39m │\n",
       "├─────┼────────┼────────┼────────┼────────┼────────┤\n",
       "│ 1   │ (1, 1) │ (1, 2) │ (1, 3) │ (1, 4) │ (1, 5) │\n",
       "│ 2   │ (2, 1) │ (2, 2) │ (2, 3) │ (2, 4) │ (2, 5) │\n",
       "│ 3   │ (3, 1) │ (3, 2) │ (3, 3) │ (3, 4) │ (3, 5) │"
      ]
     },
     "execution_count": 33,
     "metadata": {},
     "output_type": "execute_result"
    }
   ],
   "source": [
    "x"
   ]
  },
  {
   "cell_type": "markdown",
   "metadata": {},
   "source": [
    "Обратите внимание, что вы также можете создать представление DataFrame, когда нам нужно подмножество его столбцов:"
   ]
  },
  {
   "cell_type": "code",
   "execution_count": 34,
   "metadata": {},
   "outputs": [
    {
     "name": "stdout",
     "output_type": "stream",
     "text": [
      "  932.889 ns (24 allocations: 1.94 KiB)\n"
     ]
    },
    {
     "data": {
      "text/html": [
       "<table class=\"data-frame\"><thead><tr><th></th><th>x1</th><th>x3</th><th>x5</th></tr><tr><th></th><th>Tuple…</th><th>Tuple…</th><th>Tuple…</th></tr></thead><tbody><p>3 rows × 3 columns</p><tr><th>1</th><td>(1, 1)</td><td>(1, 3)</td><td>(1, 5)</td></tr><tr><th>2</th><td>(2, 1)</td><td>(2, 3)</td><td>(2, 5)</td></tr><tr><th>3</th><td>(3, 1)</td><td>(3, 3)</td><td>(3, 5)</td></tr></tbody></table>"
      ],
      "text/latex": [
       "\\begin{tabular}{r|ccc}\n",
       "\t& x1 & x3 & x5\\\\\n",
       "\t\\hline\n",
       "\t& Tuple… & Tuple… & Tuple…\\\\\n",
       "\t\\hline\n",
       "\t1 & (1, 1) & (1, 3) & (1, 5) \\\\\n",
       "\t2 & (2, 1) & (2, 3) & (2, 5) \\\\\n",
       "\t3 & (3, 1) & (3, 3) & (3, 5) \\\\\n",
       "\\end{tabular}\n"
      ],
      "text/plain": [
       "3×3 DataFrame\n",
       "│ Row │ x1     │ x3     │ x5     │\n",
       "│     │ \u001b[90mTuple…\u001b[39m │ \u001b[90mTuple…\u001b[39m │ \u001b[90mTuple…\u001b[39m │\n",
       "├─────┼────────┼────────┼────────┤\n",
       "│ 1   │ (1, 1) │ (1, 3) │ (1, 5) │\n",
       "│ 2   │ (2, 1) │ (2, 3) │ (2, 5) │\n",
       "│ 3   │ (3, 1) │ (3, 3) │ (3, 5) │"
      ]
     },
     "execution_count": 34,
     "metadata": {},
     "output_type": "execute_result"
    }
   ],
   "source": [
    "@btime x[[1,3,5]]"
   ]
  },
  {
   "cell_type": "code",
   "execution_count": 35,
   "metadata": {},
   "outputs": [
    {
     "name": "stdout",
     "output_type": "stream",
     "text": [
      "  99.925 ns (4 allocations: 256 bytes)\n"
     ]
    },
    {
     "data": {
      "text/html": [
       "<table class=\"data-frame\"><thead><tr><th></th><th>x1</th><th>x3</th><th>x5</th></tr><tr><th></th><th>Tuple…</th><th>Tuple…</th><th>Tuple…</th></tr></thead><tbody><p>3 rows × 3 columns</p><tr><th>1</th><td>(1, 1)</td><td>(1, 3)</td><td>(1, 5)</td></tr><tr><th>2</th><td>(2, 1)</td><td>(2, 3)</td><td>(2, 5)</td></tr><tr><th>3</th><td>(3, 1)</td><td>(3, 3)</td><td>(3, 5)</td></tr></tbody></table>"
      ],
      "text/latex": [
       "\\begin{tabular}{r|ccc}\n",
       "\t& x1 & x3 & x5\\\\\n",
       "\t\\hline\n",
       "\t& Tuple… & Tuple… & Tuple…\\\\\n",
       "\t\\hline\n",
       "\t1 & (1, 1) & (1, 3) & (1, 5) \\\\\n",
       "\t2 & (2, 1) & (2, 3) & (2, 5) \\\\\n",
       "\t3 & (3, 1) & (3, 3) & (3, 5) \\\\\n",
       "\\end{tabular}\n"
      ],
      "text/plain": [
       "3×3 SubDataFrame\n",
       "│ Row │ x1     │ x3     │ x5     │\n",
       "│     │ \u001b[90mTuple…\u001b[39m │ \u001b[90mTuple…\u001b[39m │ \u001b[90mTuple…\u001b[39m │\n",
       "├─────┼────────┼────────┼────────┤\n",
       "│ 1   │ (1, 1) │ (1, 3) │ (1, 5) │\n",
       "│ 2   │ (2, 1) │ (2, 3) │ (2, 5) │\n",
       "│ 3   │ (3, 1) │ (3, 3) │ (3, 5) │"
      ]
     },
     "execution_count": 35,
     "metadata": {},
     "output_type": "execute_result"
    }
   ],
   "source": [
    "@btime @view x[[1,3,5]]"
   ]
  },
  {
   "cell_type": "markdown",
   "metadata": {},
   "source": [
    "(сейчас создание `view` идет медленно, но в следующих выпусках пакета DataFrames.jl оно станет значительно быстрее)"
   ]
  },
  {
   "cell_type": "markdown",
   "metadata": {},
   "source": [
    "### Изменить столбец по имени"
   ]
  },
  {
   "cell_type": "code",
   "execution_count": 36,
   "metadata": {},
   "outputs": [
    {
     "data": {
      "text/html": [
       "<table class=\"data-frame\"><thead><tr><th></th><th>x1</th><th>x2</th><th>x3</th><th>x4</th><th>x5</th></tr><tr><th></th><th>Tuple…</th><th>Tuple…</th><th>Tuple…</th><th>Tuple…</th><th>Tuple…</th></tr></thead><tbody><p>3 rows × 5 columns</p><tr><th>1</th><td>(1, 1)</td><td>(1, 2)</td><td>(1, 3)</td><td>(1, 4)</td><td>(1, 5)</td></tr><tr><th>2</th><td>(2, 1)</td><td>(2, 2)</td><td>(2, 3)</td><td>(2, 4)</td><td>(2, 5)</td></tr><tr><th>3</th><td>(3, 1)</td><td>(3, 2)</td><td>(3, 3)</td><td>(3, 4)</td><td>(3, 5)</td></tr></tbody></table>"
      ],
      "text/latex": [
       "\\begin{tabular}{r|ccccc}\n",
       "\t& x1 & x2 & x3 & x4 & x5\\\\\n",
       "\t\\hline\n",
       "\t& Tuple… & Tuple… & Tuple… & Tuple… & Tuple…\\\\\n",
       "\t\\hline\n",
       "\t1 & (1, 1) & (1, 2) & (1, 3) & (1, 4) & (1, 5) \\\\\n",
       "\t2 & (2, 1) & (2, 2) & (2, 3) & (2, 4) & (2, 5) \\\\\n",
       "\t3 & (3, 1) & (3, 2) & (3, 3) & (3, 4) & (3, 5) \\\\\n",
       "\\end{tabular}\n"
      ],
      "text/plain": [
       "3×5 DataFrame\n",
       "│ Row │ x1     │ x2     │ x3     │ x4     │ x5     │\n",
       "│     │ \u001b[90mTuple…\u001b[39m │ \u001b[90mTuple…\u001b[39m │ \u001b[90mTuple…\u001b[39m │ \u001b[90mTuple…\u001b[39m │ \u001b[90mTuple…\u001b[39m │\n",
       "├─────┼────────┼────────┼────────┼────────┼────────┤\n",
       "│ 1   │ (1, 1) │ (1, 2) │ (1, 3) │ (1, 4) │ (1, 5) │\n",
       "│ 2   │ (2, 1) │ (2, 2) │ (2, 3) │ (2, 4) │ (2, 5) │\n",
       "│ 3   │ (3, 1) │ (3, 2) │ (3, 3) │ (3, 4) │ (3, 5) │"
      ]
     },
     "execution_count": 36,
     "metadata": {},
     "output_type": "execute_result"
    }
   ],
   "source": [
    "x = DataFrame([(i,j) for i in 1:3, j in 1:5])"
   ]
  },
  {
   "cell_type": "markdown",
   "metadata": {},
   "source": [
    "При использовании следующего синтаксиса существующий столбец изменяется без выполнения какого-либо копирования."
   ]
  },
  {
   "cell_type": "code",
   "execution_count": 37,
   "metadata": {},
   "outputs": [
    {
     "data": {
      "text/html": [
       "<table class=\"data-frame\"><thead><tr><th></th><th>x1</th><th>x2</th><th>x3</th><th>x4</th><th>x5</th></tr><tr><th></th><th>Tuple…</th><th>Tuple…</th><th>Tuple…</th><th>Tuple…</th><th>Tuple…</th></tr></thead><tbody><p>3 rows × 5 columns</p><tr><th>1</th><td>(1, 2)</td><td>(1, 2)</td><td>(1, 3)</td><td>(1, 4)</td><td>(1, 5)</td></tr><tr><th>2</th><td>(2, 2)</td><td>(2, 2)</td><td>(2, 3)</td><td>(2, 4)</td><td>(2, 5)</td></tr><tr><th>3</th><td>(3, 2)</td><td>(3, 2)</td><td>(3, 3)</td><td>(3, 4)</td><td>(3, 5)</td></tr></tbody></table>"
      ],
      "text/latex": [
       "\\begin{tabular}{r|ccccc}\n",
       "\t& x1 & x2 & x3 & x4 & x5\\\\\n",
       "\t\\hline\n",
       "\t& Tuple… & Tuple… & Tuple… & Tuple… & Tuple…\\\\\n",
       "\t\\hline\n",
       "\t1 & (1, 2) & (1, 2) & (1, 3) & (1, 4) & (1, 5) \\\\\n",
       "\t2 & (2, 2) & (2, 2) & (2, 3) & (2, 4) & (2, 5) \\\\\n",
       "\t3 & (3, 2) & (3, 2) & (3, 3) & (3, 4) & (3, 5) \\\\\n",
       "\\end{tabular}\n"
      ],
      "text/plain": [
       "3×5 DataFrame\n",
       "│ Row │ x1     │ x2     │ x3     │ x4     │ x5     │\n",
       "│     │ \u001b[90mTuple…\u001b[39m │ \u001b[90mTuple…\u001b[39m │ \u001b[90mTuple…\u001b[39m │ \u001b[90mTuple…\u001b[39m │ \u001b[90mTuple…\u001b[39m │\n",
       "├─────┼────────┼────────┼────────┼────────┼────────┤\n",
       "│ 1   │ (1, 2) │ (1, 2) │ (1, 3) │ (1, 4) │ (1, 5) │\n",
       "│ 2   │ (2, 2) │ (2, 2) │ (2, 3) │ (2, 4) │ (2, 5) │\n",
       "│ 3   │ (3, 2) │ (3, 2) │ (3, 3) │ (3, 4) │ (3, 5) │"
      ]
     },
     "execution_count": 37,
     "metadata": {},
     "output_type": "execute_result"
    }
   ],
   "source": [
    "x[:x1] = x[:x2]\n",
    "x"
   ]
  },
  {
   "cell_type": "markdown",
   "metadata": {},
   "source": [
    "Мы также можем использовать следующий синтаксис для добавления нового столбца в конце DataFrame."
   ]
  },
  {
   "cell_type": "code",
   "execution_count": 38,
   "metadata": {},
   "outputs": [
    {
     "data": {
      "text/html": [
       "<table class=\"data-frame\"><thead><tr><th></th><th>x1</th><th>x2</th><th>x3</th><th>x4</th><th>x5</th><th>A</th></tr><tr><th></th><th>Tuple…</th><th>Tuple…</th><th>Tuple…</th><th>Tuple…</th><th>Tuple…</th><th>Int64</th></tr></thead><tbody><p>3 rows × 6 columns</p><tr><th>1</th><td>(1, 2)</td><td>(1, 2)</td><td>(1, 3)</td><td>(1, 4)</td><td>(1, 5)</td><td>1</td></tr><tr><th>2</th><td>(2, 2)</td><td>(2, 2)</td><td>(2, 3)</td><td>(2, 4)</td><td>(2, 5)</td><td>2</td></tr><tr><th>3</th><td>(3, 2)</td><td>(3, 2)</td><td>(3, 3)</td><td>(3, 4)</td><td>(3, 5)</td><td>3</td></tr></tbody></table>"
      ],
      "text/latex": [
       "\\begin{tabular}{r|cccccc}\n",
       "\t& x1 & x2 & x3 & x4 & x5 & A\\\\\n",
       "\t\\hline\n",
       "\t& Tuple… & Tuple… & Tuple… & Tuple… & Tuple… & Int64\\\\\n",
       "\t\\hline\n",
       "\t1 & (1, 2) & (1, 2) & (1, 3) & (1, 4) & (1, 5) & 1 \\\\\n",
       "\t2 & (2, 2) & (2, 2) & (2, 3) & (2, 4) & (2, 5) & 2 \\\\\n",
       "\t3 & (3, 2) & (3, 2) & (3, 3) & (3, 4) & (3, 5) & 3 \\\\\n",
       "\\end{tabular}\n"
      ],
      "text/plain": [
       "3×6 DataFrame\n",
       "│ Row │ x1     │ x2     │ x3     │ x4     │ x5     │ A     │\n",
       "│     │ \u001b[90mTuple…\u001b[39m │ \u001b[90mTuple…\u001b[39m │ \u001b[90mTuple…\u001b[39m │ \u001b[90mTuple…\u001b[39m │ \u001b[90mTuple…\u001b[39m │ \u001b[90mInt64\u001b[39m │\n",
       "├─────┼────────┼────────┼────────┼────────┼────────┼───────┤\n",
       "│ 1   │ (1, 2) │ (1, 2) │ (1, 3) │ (1, 4) │ (1, 5) │ 1     │\n",
       "│ 2   │ (2, 2) │ (2, 2) │ (2, 3) │ (2, 4) │ (2, 5) │ 2     │\n",
       "│ 3   │ (3, 2) │ (3, 2) │ (3, 3) │ (3, 4) │ (3, 5) │ 3     │"
      ]
     },
     "execution_count": 38,
     "metadata": {},
     "output_type": "execute_result"
    }
   ],
   "source": [
    "x[:A] = [1,2,3]\n",
    "x"
   ]
  },
  {
   "cell_type": "markdown",
   "metadata": {},
   "source": [
    "Новое имя столбца будет добавлено в наш DataFrame со следующим синтаксисом (7 равно `ncol (x) + 1`)."
   ]
  },
  {
   "cell_type": "code",
   "execution_count": 39,
   "metadata": {},
   "outputs": [
    {
     "data": {
      "text/html": [
       "<table class=\"data-frame\"><thead><tr><th></th><th>x1</th><th>x2</th><th>x3</th><th>x4</th><th>x5</th><th>A</th><th>x7</th></tr><tr><th></th><th>Tuple…</th><th>Tuple…</th><th>Tuple…</th><th>Tuple…</th><th>Tuple…</th><th>Int64</th><th>Int64</th></tr></thead><tbody><p>3 rows × 7 columns</p><tr><th>1</th><td>(1, 2)</td><td>(1, 2)</td><td>(1, 3)</td><td>(1, 4)</td><td>(1, 5)</td><td>1</td><td>11</td></tr><tr><th>2</th><td>(2, 2)</td><td>(2, 2)</td><td>(2, 3)</td><td>(2, 4)</td><td>(2, 5)</td><td>2</td><td>12</td></tr><tr><th>3</th><td>(3, 2)</td><td>(3, 2)</td><td>(3, 3)</td><td>(3, 4)</td><td>(3, 5)</td><td>3</td><td>13</td></tr></tbody></table>"
      ],
      "text/latex": [
       "\\begin{tabular}{r|ccccccc}\n",
       "\t& x1 & x2 & x3 & x4 & x5 & A & x7\\\\\n",
       "\t\\hline\n",
       "\t& Tuple… & Tuple… & Tuple… & Tuple… & Tuple… & Int64 & Int64\\\\\n",
       "\t\\hline\n",
       "\t1 & (1, 2) & (1, 2) & (1, 3) & (1, 4) & (1, 5) & 1 & 11 \\\\\n",
       "\t2 & (2, 2) & (2, 2) & (2, 3) & (2, 4) & (2, 5) & 2 & 12 \\\\\n",
       "\t3 & (3, 2) & (3, 2) & (3, 3) & (3, 4) & (3, 5) & 3 & 13 \\\\\n",
       "\\end{tabular}\n"
      ],
      "text/plain": [
       "3×7 DataFrame\n",
       "│ Row │ x1     │ x2     │ x3     │ x4     │ x5     │ A     │ x7    │\n",
       "│     │ \u001b[90mTuple…\u001b[39m │ \u001b[90mTuple…\u001b[39m │ \u001b[90mTuple…\u001b[39m │ \u001b[90mTuple…\u001b[39m │ \u001b[90mTuple…\u001b[39m │ \u001b[90mInt64\u001b[39m │ \u001b[90mInt64\u001b[39m │\n",
       "├─────┼────────┼────────┼────────┼────────┼────────┼───────┼───────┤\n",
       "│ 1   │ (1, 2) │ (1, 2) │ (1, 3) │ (1, 4) │ (1, 5) │ 1     │ 11    │\n",
       "│ 2   │ (2, 2) │ (2, 2) │ (2, 3) │ (2, 4) │ (2, 5) │ 2     │ 12    │\n",
       "│ 3   │ (3, 2) │ (3, 2) │ (3, 3) │ (3, 4) │ (3, 5) │ 3     │ 13    │"
      ]
     },
     "execution_count": 39,
     "metadata": {},
     "output_type": "execute_result"
    }
   ],
   "source": [
    "x[7] = 11:13\n",
    "x"
   ]
  },
  {
   "cell_type": "markdown",
   "metadata": {},
   "source": [
    "### Найти название столбца"
   ]
  },
  {
   "cell_type": "code",
   "execution_count": 40,
   "metadata": {},
   "outputs": [
    {
     "data": {
      "text/html": [
       "<table class=\"data-frame\"><thead><tr><th></th><th>x1</th><th>x2</th><th>x3</th><th>x4</th><th>x5</th></tr><tr><th></th><th>Tuple…</th><th>Tuple…</th><th>Tuple…</th><th>Tuple…</th><th>Tuple…</th></tr></thead><tbody><p>3 rows × 5 columns</p><tr><th>1</th><td>(1, 1)</td><td>(1, 2)</td><td>(1, 3)</td><td>(1, 4)</td><td>(1, 5)</td></tr><tr><th>2</th><td>(2, 1)</td><td>(2, 2)</td><td>(2, 3)</td><td>(2, 4)</td><td>(2, 5)</td></tr><tr><th>3</th><td>(3, 1)</td><td>(3, 2)</td><td>(3, 3)</td><td>(3, 4)</td><td>(3, 5)</td></tr></tbody></table>"
      ],
      "text/latex": [
       "\\begin{tabular}{r|ccccc}\n",
       "\t& x1 & x2 & x3 & x4 & x5\\\\\n",
       "\t\\hline\n",
       "\t& Tuple… & Tuple… & Tuple… & Tuple… & Tuple…\\\\\n",
       "\t\\hline\n",
       "\t1 & (1, 1) & (1, 2) & (1, 3) & (1, 4) & (1, 5) \\\\\n",
       "\t2 & (2, 1) & (2, 2) & (2, 3) & (2, 4) & (2, 5) \\\\\n",
       "\t3 & (3, 1) & (3, 2) & (3, 3) & (3, 4) & (3, 5) \\\\\n",
       "\\end{tabular}\n"
      ],
      "text/plain": [
       "3×5 DataFrame\n",
       "│ Row │ x1     │ x2     │ x3     │ x4     │ x5     │\n",
       "│     │ \u001b[90mTuple…\u001b[39m │ \u001b[90mTuple…\u001b[39m │ \u001b[90mTuple…\u001b[39m │ \u001b[90mTuple…\u001b[39m │ \u001b[90mTuple…\u001b[39m │\n",
       "├─────┼────────┼────────┼────────┼────────┼────────┤\n",
       "│ 1   │ (1, 1) │ (1, 2) │ (1, 3) │ (1, 4) │ (1, 5) │\n",
       "│ 2   │ (2, 1) │ (2, 2) │ (2, 3) │ (2, 4) │ (2, 5) │\n",
       "│ 3   │ (3, 1) │ (3, 2) │ (3, 3) │ (3, 4) │ (3, 5) │"
      ]
     },
     "execution_count": 40,
     "metadata": {},
     "output_type": "execute_result"
    }
   ],
   "source": [
    "x = DataFrame([(i,j) for i in 1:3, j in 1:5])"
   ]
  },
  {
   "cell_type": "markdown",
   "metadata": {},
   "source": [
    "Мы можем проверить, существует ли столбец с данным именем через"
   ]
  },
  {
   "cell_type": "code",
   "execution_count": 41,
   "metadata": {},
   "outputs": [
    {
     "data": {
      "text/plain": [
       "true"
      ]
     },
     "execution_count": 41,
     "metadata": {},
     "output_type": "execute_result"
    }
   ],
   "source": [
    "haskey(x, :x1)"
   ]
  },
  {
   "cell_type": "markdown",
   "metadata": {},
   "source": [
    "и определить его индекс с помощью"
   ]
  },
  {
   "cell_type": "code",
   "execution_count": 42,
   "metadata": {},
   "outputs": [
    {
     "data": {
      "text/plain": [
       "2"
      ]
     },
     "execution_count": 42,
     "metadata": {},
     "output_type": "execute_result"
    }
   ],
   "source": [
    "findfirst(isequal(:x2), names(x))"
   ]
  }
 ],
 "metadata": {
  "kernelspec": {
   "display_name": "Julia 1.1.0",
   "language": "julia",
   "name": "julia-1.1"
  },
  "language_info": {
   "file_extension": ".jl",
   "mimetype": "application/julia",
   "name": "julia",
   "version": "1.1.0"
  }
 },
 "nbformat": 4,
 "nbformat_minor": 1
}
