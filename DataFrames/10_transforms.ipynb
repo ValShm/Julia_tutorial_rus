{
 "cells": [
  {
   "cell_type": "markdown",
   "metadata": {},
   "source": [
    "# Introduction to DataFrames\n",
    "**[Bogumił Kamiński](http://bogumilkaminski.pl/about/), February 8, 2019**"
   ]
  },
  {
   "cell_type": "code",
   "execution_count": 1,
   "metadata": {},
   "outputs": [],
   "source": [
    "using DataFrames # load package"
   ]
  },
  {
   "cell_type": "markdown",
   "metadata": {},
   "source": [
    "## Split-apply-combine"
   ]
  },
  {
   "cell_type": "code",
   "execution_count": 2,
   "metadata": {},
   "outputs": [
    {
     "data": {
      "text/html": [
       "<table class=\"data-frame\"><thead><tr><th></th><th>id</th><th>id2</th><th>v</th></tr><tr><th></th><th>Int64</th><th>Int64</th><th>Float64</th></tr></thead><tbody><p>8 rows × 3 columns</p><tr><th>1</th><td>1</td><td>1</td><td>0.518197</td></tr><tr><th>2</th><td>2</td><td>2</td><td>0.0999881</td></tr><tr><th>3</th><td>3</td><td>1</td><td>0.215874</td></tr><tr><th>4</th><td>4</td><td>2</td><td>0.0269969</td></tr><tr><th>5</th><td>1</td><td>1</td><td>0.709069</td></tr><tr><th>6</th><td>2</td><td>2</td><td>0.64879</td></tr><tr><th>7</th><td>3</td><td>1</td><td>0.855573</td></tr><tr><th>8</th><td>4</td><td>2</td><td>0.702534</td></tr></tbody></table>"
      ],
      "text/latex": [
       "\\begin{tabular}{r|ccc}\n",
       "\t& id & id2 & v\\\\\n",
       "\t\\hline\n",
       "\t& Int64 & Int64 & Float64\\\\\n",
       "\t\\hline\n",
       "\t1 & 1 & 1 & 0.518197 \\\\\n",
       "\t2 & 2 & 2 & 0.0999881 \\\\\n",
       "\t3 & 3 & 1 & 0.215874 \\\\\n",
       "\t4 & 4 & 2 & 0.0269969 \\\\\n",
       "\t5 & 1 & 1 & 0.709069 \\\\\n",
       "\t6 & 2 & 2 & 0.64879 \\\\\n",
       "\t7 & 3 & 1 & 0.855573 \\\\\n",
       "\t8 & 4 & 2 & 0.702534 \\\\\n",
       "\\end{tabular}\n"
      ],
      "text/plain": [
       "8×3 DataFrame\n",
       "│ Row │ id    │ id2   │ v         │\n",
       "│     │ \u001b[90mInt64\u001b[39m │ \u001b[90mInt64\u001b[39m │ \u001b[90mFloat64\u001b[39m   │\n",
       "├─────┼───────┼───────┼───────────┤\n",
       "│ 1   │ 1     │ 1     │ 0.518197  │\n",
       "│ 2   │ 2     │ 2     │ 0.0999881 │\n",
       "│ 3   │ 3     │ 1     │ 0.215874  │\n",
       "│ 4   │ 4     │ 2     │ 0.0269969 │\n",
       "│ 5   │ 1     │ 1     │ 0.709069  │\n",
       "│ 6   │ 2     │ 2     │ 0.64879   │\n",
       "│ 7   │ 3     │ 1     │ 0.855573  │\n",
       "│ 8   │ 4     │ 2     │ 0.702534  │"
      ]
     },
     "execution_count": 2,
     "metadata": {},
     "output_type": "execute_result"
    }
   ],
   "source": [
    "x = DataFrame(id=[1,2,3,4,1,2,3,4], id2=[1,2,1,2,1,2,1,2], v=rand(8))"
   ]
  },
  {
   "cell_type": "code",
   "execution_count": 3,
   "metadata": {
    "scrolled": true
   },
   "outputs": [
    {
     "data": {
      "text/html": [
       "<p><b>GroupedDataFrame with 4 groups based on key: id</b></p><p><i>First Group (2 rows): id = 1</i></p><table class=\"data-frame\"><thead><tr><th></th><th>id</th><th>id2</th><th>v</th></tr><tr><th></th><th>Int64</th><th>Int64</th><th>Float64</th></tr></thead><tbody><tr><th>1</th><td>1</td><td>1</td><td>0.518197</td></tr><tr><th>2</th><td>1</td><td>1</td><td>0.709069</td></tr></tbody></table><p>&vellip;</p><p><i>Last Group (2 rows): id = 4</i></p><table class=\"data-frame\"><thead><tr><th></th><th>id</th><th>id2</th><th>v</th></tr><tr><th></th><th>Int64</th><th>Int64</th><th>Float64</th></tr></thead><tbody><tr><th>1</th><td>4</td><td>2</td><td>0.0269969</td></tr><tr><th>2</th><td>4</td><td>2</td><td>0.702534</td></tr></tbody></table>"
      ],
      "text/latex": [
       "GroupedDataFrame with 4 groups based on key: id\n",
       "\n",
       "First Group (2 rows): id = 1\n",
       "\n",
       "\\begin{tabular}{r|ccc}\n",
       "\t& id & id2 & v\\\\\n",
       "\t\\hline\n",
       "\t& Int64 & Int64 & Float64\\\\\n",
       "\t\\hline\n",
       "\t1 & 1 & 1 & 0.518197 \\\\\n",
       "\t2 & 1 & 1 & 0.709069 \\\\\n",
       "\\end{tabular}\n",
       "\n",
       "$\\dots$\n",
       "\n",
       "Last Group (2 rows): id = 4\n",
       "\n",
       "\\begin{tabular}{r|ccc}\n",
       "\t& id & id2 & v\\\\\n",
       "\t\\hline\n",
       "\t& Int64 & Int64 & Float64\\\\\n",
       "\t\\hline\n",
       "\t1 & 4 & 2 & 0.0269969 \\\\\n",
       "\t2 & 4 & 2 & 0.702534 \\\\\n",
       "\\end{tabular}\n"
      ],
      "text/plain": [
       "GroupedDataFrame with 4 groups based on key: id\n",
       "First Group (2 rows): id = 1\n",
       "│ Row │ id    │ id2   │ v        │\n",
       "│     │ \u001b[90mInt64\u001b[39m │ \u001b[90mInt64\u001b[39m │ \u001b[90mFloat64\u001b[39m  │\n",
       "├─────┼───────┼───────┼──────────┤\n",
       "│ 1   │ 1     │ 1     │ 0.518197 │\n",
       "│ 2   │ 1     │ 1     │ 0.709069 │\n",
       "⋮\n",
       "Last Group (2 rows): id = 4\n",
       "│ Row │ id    │ id2   │ v         │\n",
       "│     │ \u001b[90mInt64\u001b[39m │ \u001b[90mInt64\u001b[39m │ \u001b[90mFloat64\u001b[39m   │\n",
       "├─────┼───────┼───────┼───────────┤\n",
       "│ 1   │ 4     │ 2     │ 0.0269969 │\n",
       "│ 2   │ 4     │ 2     │ 0.702534  │"
      ]
     },
     "execution_count": 3,
     "metadata": {},
     "output_type": "execute_result"
    }
   ],
   "source": [
    "gx1 = groupby(x, :id)"
   ]
  },
  {
   "cell_type": "code",
   "execution_count": 4,
   "metadata": {},
   "outputs": [
    {
     "data": {
      "text/html": [
       "<p><b>GroupedDataFrame with 4 groups based on keys: id, id2</b></p><p><i>First Group (2 rows): id = 1, id2 = 1</i></p><table class=\"data-frame\"><thead><tr><th></th><th>id</th><th>id2</th><th>v</th></tr><tr><th></th><th>Int64</th><th>Int64</th><th>Float64</th></tr></thead><tbody><tr><th>1</th><td>1</td><td>1</td><td>0.518197</td></tr><tr><th>2</th><td>1</td><td>1</td><td>0.709069</td></tr></tbody></table><p>&vellip;</p><p><i>Last Group (2 rows): id = 4, id2 = 2</i></p><table class=\"data-frame\"><thead><tr><th></th><th>id</th><th>id2</th><th>v</th></tr><tr><th></th><th>Int64</th><th>Int64</th><th>Float64</th></tr></thead><tbody><tr><th>1</th><td>4</td><td>2</td><td>0.0269969</td></tr><tr><th>2</th><td>4</td><td>2</td><td>0.702534</td></tr></tbody></table>"
      ],
      "text/latex": [
       "GroupedDataFrame with 4 groups based on keys: id, id2\n",
       "\n",
       "First Group (2 rows): id = 1, id2 = 1\n",
       "\n",
       "\\begin{tabular}{r|ccc}\n",
       "\t& id & id2 & v\\\\\n",
       "\t\\hline\n",
       "\t& Int64 & Int64 & Float64\\\\\n",
       "\t\\hline\n",
       "\t1 & 1 & 1 & 0.518197 \\\\\n",
       "\t2 & 1 & 1 & 0.709069 \\\\\n",
       "\\end{tabular}\n",
       "\n",
       "$\\dots$\n",
       "\n",
       "Last Group (2 rows): id = 4, id2 = 2\n",
       "\n",
       "\\begin{tabular}{r|ccc}\n",
       "\t& id & id2 & v\\\\\n",
       "\t\\hline\n",
       "\t& Int64 & Int64 & Float64\\\\\n",
       "\t\\hline\n",
       "\t1 & 4 & 2 & 0.0269969 \\\\\n",
       "\t2 & 4 & 2 & 0.702534 \\\\\n",
       "\\end{tabular}\n"
      ],
      "text/plain": [
       "GroupedDataFrame with 4 groups based on keys: id, id2\n",
       "First Group (2 rows): id = 1, id2 = 1\n",
       "│ Row │ id    │ id2   │ v        │\n",
       "│     │ \u001b[90mInt64\u001b[39m │ \u001b[90mInt64\u001b[39m │ \u001b[90mFloat64\u001b[39m  │\n",
       "├─────┼───────┼───────┼──────────┤\n",
       "│ 1   │ 1     │ 1     │ 0.518197 │\n",
       "│ 2   │ 1     │ 1     │ 0.709069 │\n",
       "⋮\n",
       "Last Group (2 rows): id = 4, id2 = 2\n",
       "│ Row │ id    │ id2   │ v         │\n",
       "│     │ \u001b[90mInt64\u001b[39m │ \u001b[90mInt64\u001b[39m │ \u001b[90mFloat64\u001b[39m   │\n",
       "├─────┼───────┼───────┼───────────┤\n",
       "│ 1   │ 4     │ 2     │ 0.0269969 │\n",
       "│ 2   │ 4     │ 2     │ 0.702534  │"
      ]
     },
     "execution_count": 4,
     "metadata": {},
     "output_type": "execute_result"
    }
   ],
   "source": [
    "gx2 = groupby(x, [:id, :id2])"
   ]
  },
  {
   "cell_type": "code",
   "execution_count": 5,
   "metadata": {},
   "outputs": [
    {
     "data": {
      "text/html": [
       "<table class=\"data-frame\"><thead><tr><th></th><th>id</th><th>id2</th><th>v</th></tr><tr><th></th><th>Int64</th><th>Int64</th><th>Float64</th></tr></thead><tbody><p>8 rows × 3 columns</p><tr><th>1</th><td>1</td><td>1</td><td>0.518197</td></tr><tr><th>2</th><td>2</td><td>2</td><td>0.0999881</td></tr><tr><th>3</th><td>3</td><td>1</td><td>0.215874</td></tr><tr><th>4</th><td>4</td><td>2</td><td>0.0269969</td></tr><tr><th>5</th><td>1</td><td>1</td><td>0.709069</td></tr><tr><th>6</th><td>2</td><td>2</td><td>0.64879</td></tr><tr><th>7</th><td>3</td><td>1</td><td>0.855573</td></tr><tr><th>8</th><td>4</td><td>2</td><td>0.702534</td></tr></tbody></table>"
      ],
      "text/latex": [
       "\\begin{tabular}{r|ccc}\n",
       "\t& id & id2 & v\\\\\n",
       "\t\\hline\n",
       "\t& Int64 & Int64 & Float64\\\\\n",
       "\t\\hline\n",
       "\t1 & 1 & 1 & 0.518197 \\\\\n",
       "\t2 & 2 & 2 & 0.0999881 \\\\\n",
       "\t3 & 3 & 1 & 0.215874 \\\\\n",
       "\t4 & 4 & 2 & 0.0269969 \\\\\n",
       "\t5 & 1 & 1 & 0.709069 \\\\\n",
       "\t6 & 2 & 2 & 0.64879 \\\\\n",
       "\t7 & 3 & 1 & 0.855573 \\\\\n",
       "\t8 & 4 & 2 & 0.702534 \\\\\n",
       "\\end{tabular}\n"
      ],
      "text/plain": [
       "8×3 DataFrame\n",
       "│ Row │ id    │ id2   │ v         │\n",
       "│     │ \u001b[90mInt64\u001b[39m │ \u001b[90mInt64\u001b[39m │ \u001b[90mFloat64\u001b[39m   │\n",
       "├─────┼───────┼───────┼───────────┤\n",
       "│ 1   │ 1     │ 1     │ 0.518197  │\n",
       "│ 2   │ 2     │ 2     │ 0.0999881 │\n",
       "│ 3   │ 3     │ 1     │ 0.215874  │\n",
       "│ 4   │ 4     │ 2     │ 0.0269969 │\n",
       "│ 5   │ 1     │ 1     │ 0.709069  │\n",
       "│ 6   │ 2     │ 2     │ 0.64879   │\n",
       "│ 7   │ 3     │ 1     │ 0.855573  │\n",
       "│ 8   │ 4     │ 2     │ 0.702534  │"
      ]
     },
     "execution_count": 5,
     "metadata": {},
     "output_type": "execute_result"
    }
   ],
   "source": [
    "parent(gx2) # получить родителя DataFrame "
   ]
  },
  {
   "cell_type": "code",
   "execution_count": 6,
   "metadata": {},
   "outputs": [
    {
     "data": {
      "text/html": [
       "<table class=\"data-frame\"><thead><tr><th></th><th>id</th><th>id2</th><th>v</th></tr><tr><th></th><th>Int64</th><th>Int64</th><th>Float64</th></tr></thead><tbody><p>8 rows × 3 columns</p><tr><th>1</th><td>1</td><td>1</td><td>0.518197</td></tr><tr><th>2</th><td>1</td><td>1</td><td>0.709069</td></tr><tr><th>3</th><td>2</td><td>2</td><td>0.0999881</td></tr><tr><th>4</th><td>2</td><td>2</td><td>0.64879</td></tr><tr><th>5</th><td>3</td><td>1</td><td>0.215874</td></tr><tr><th>6</th><td>3</td><td>1</td><td>0.855573</td></tr><tr><th>7</th><td>4</td><td>2</td><td>0.0269969</td></tr><tr><th>8</th><td>4</td><td>2</td><td>0.702534</td></tr></tbody></table>"
      ],
      "text/latex": [
       "\\begin{tabular}{r|ccc}\n",
       "\t& id & id2 & v\\\\\n",
       "\t\\hline\n",
       "\t& Int64 & Int64 & Float64\\\\\n",
       "\t\\hline\n",
       "\t1 & 1 & 1 & 0.518197 \\\\\n",
       "\t2 & 1 & 1 & 0.709069 \\\\\n",
       "\t3 & 2 & 2 & 0.0999881 \\\\\n",
       "\t4 & 2 & 2 & 0.64879 \\\\\n",
       "\t5 & 3 & 1 & 0.215874 \\\\\n",
       "\t6 & 3 & 1 & 0.855573 \\\\\n",
       "\t7 & 4 & 2 & 0.0269969 \\\\\n",
       "\t8 & 4 & 2 & 0.702534 \\\\\n",
       "\\end{tabular}\n"
      ],
      "text/plain": [
       "8×3 DataFrame\n",
       "│ Row │ id    │ id2   │ v         │\n",
       "│     │ \u001b[90mInt64\u001b[39m │ \u001b[90mInt64\u001b[39m │ \u001b[90mFloat64\u001b[39m   │\n",
       "├─────┼───────┼───────┼───────────┤\n",
       "│ 1   │ 1     │ 1     │ 0.518197  │\n",
       "│ 2   │ 1     │ 1     │ 0.709069  │\n",
       "│ 3   │ 2     │ 2     │ 0.0999881 │\n",
       "│ 4   │ 2     │ 2     │ 0.64879   │\n",
       "│ 5   │ 3     │ 1     │ 0.215874  │\n",
       "│ 6   │ 3     │ 1     │ 0.855573  │\n",
       "│ 7   │ 4     │ 2     │ 0.0269969 │\n",
       "│ 8   │ 4     │ 2     │ 0.702534  │"
      ]
     },
     "execution_count": 6,
     "metadata": {},
     "output_type": "execute_result"
    }
   ],
   "source": [
    "vcat(gx2...) # вернуться к DataFrame, но в другом порядке строк, чем оригинал"
   ]
  },
  {
   "cell_type": "code",
   "execution_count": 7,
   "metadata": {},
   "outputs": [
    {
     "data": {
      "text/html": [
       "<table class=\"data-frame\"><thead><tr><th></th><th>id</th><th>id2</th><th>v</th></tr><tr><th></th><th>Int64</th><th>Int64</th><th>Float64</th></tr></thead><tbody><p>8 rows × 3 columns</p><tr><th>1</th><td>1</td><td>1</td><td>0.518197</td></tr><tr><th>2</th><td>1</td><td>1</td><td>0.709069</td></tr><tr><th>3</th><td>2</td><td>2</td><td>0.0999881</td></tr><tr><th>4</th><td>2</td><td>2</td><td>0.64879</td></tr><tr><th>5</th><td>3</td><td>1</td><td>0.215874</td></tr><tr><th>6</th><td>3</td><td>1</td><td>0.855573</td></tr><tr><th>7</th><td>4</td><td>2</td><td>0.0269969</td></tr><tr><th>8</th><td>4</td><td>2</td><td>0.702534</td></tr></tbody></table>"
      ],
      "text/latex": [
       "\\begin{tabular}{r|ccc}\n",
       "\t& id & id2 & v\\\\\n",
       "\t\\hline\n",
       "\t& Int64 & Int64 & Float64\\\\\n",
       "\t\\hline\n",
       "\t1 & 1 & 1 & 0.518197 \\\\\n",
       "\t2 & 1 & 1 & 0.709069 \\\\\n",
       "\t3 & 2 & 2 & 0.0999881 \\\\\n",
       "\t4 & 2 & 2 & 0.64879 \\\\\n",
       "\t5 & 3 & 1 & 0.215874 \\\\\n",
       "\t6 & 3 & 1 & 0.855573 \\\\\n",
       "\t7 & 4 & 2 & 0.0269969 \\\\\n",
       "\t8 & 4 & 2 & 0.702534 \\\\\n",
       "\\end{tabular}\n"
      ],
      "text/plain": [
       "8×3 DataFrame\n",
       "│ Row │ id    │ id2   │ v         │\n",
       "│     │ \u001b[90mInt64\u001b[39m │ \u001b[90mInt64\u001b[39m │ \u001b[90mFloat64\u001b[39m   │\n",
       "├─────┼───────┼───────┼───────────┤\n",
       "│ 1   │ 1     │ 1     │ 0.518197  │\n",
       "│ 2   │ 1     │ 1     │ 0.709069  │\n",
       "│ 3   │ 2     │ 2     │ 0.0999881 │\n",
       "│ 4   │ 2     │ 2     │ 0.64879   │\n",
       "│ 5   │ 3     │ 1     │ 0.215874  │\n",
       "│ 6   │ 3     │ 1     │ 0.855573  │\n",
       "│ 7   │ 4     │ 2     │ 0.0269969 │\n",
       "│ 8   │ 4     │ 2     │ 0.702534  │"
      ]
     },
     "execution_count": 7,
     "metadata": {},
     "output_type": "execute_result"
    }
   ],
   "source": [
    "DataFrame(gx2) # то же"
   ]
  },
  {
   "cell_type": "code",
   "execution_count": 8,
   "metadata": {},
   "outputs": [
    {
     "data": {
      "text/plain": [
       "2-element Array{Symbol,1}:\n",
       " :id \n",
       " :id2"
      ]
     },
     "execution_count": 8,
     "metadata": {},
     "output_type": "execute_result"
    }
   ],
   "source": [
    "groupvars(gx2) # вектор имен группирующих переменных"
   ]
  },
  {
   "cell_type": "code",
   "execution_count": 9,
   "metadata": {},
   "outputs": [
    {
     "data": {
      "text/plain": [
       "8-element Array{Union{Missing, Int64},1}:\n",
       " 1\n",
       " 2\n",
       " 3\n",
       " 4\n",
       " 1\n",
       " 2\n",
       " 3\n",
       " 4"
      ]
     },
     "execution_count": 9,
     "metadata": {},
     "output_type": "execute_result"
    }
   ],
   "source": [
    "groupindices(gx2) # групповые индексы в родительском(gx2)"
   ]
  },
  {
   "cell_type": "code",
   "execution_count": 10,
   "metadata": {},
   "outputs": [
    {
     "data": {
      "text/html": [
       "<table class=\"data-frame\"><thead><tr><th></th><th>id</th><th>x</th></tr><tr><th></th><th>Int64⍰</th><th>Int64</th></tr></thead><tbody><p>5 rows × 2 columns</p><tr><th>1</th><td>missing</td><td>1</td></tr><tr><th>2</th><td>5</td><td>2</td></tr><tr><th>3</th><td>1</td><td>3</td></tr><tr><th>4</th><td>3</td><td>4</td></tr><tr><th>5</th><td>missing</td><td>5</td></tr></tbody></table>"
      ],
      "text/latex": [
       "\\begin{tabular}{r|cc}\n",
       "\t& id & x\\\\\n",
       "\t\\hline\n",
       "\t& Int64⍰ & Int64\\\\\n",
       "\t\\hline\n",
       "\t1 &  & 1 \\\\\n",
       "\t2 & 5 & 2 \\\\\n",
       "\t3 & 1 & 3 \\\\\n",
       "\t4 & 3 & 4 \\\\\n",
       "\t5 &  & 5 \\\\\n",
       "\\end{tabular}\n"
      ],
      "text/plain": [
       "5×2 DataFrame\n",
       "│ Row │ id      │ x     │\n",
       "│     │ \u001b[90mInt64⍰\u001b[39m  │ \u001b[90mInt64\u001b[39m │\n",
       "├─────┼─────────┼───────┤\n",
       "│ 1   │ \u001b[90mmissing\u001b[39m │ 1     │\n",
       "│ 2   │ 5       │ 2     │\n",
       "│ 3   │ 1       │ 3     │\n",
       "│ 4   │ 3       │ 4     │\n",
       "│ 5   │ \u001b[90mmissing\u001b[39m │ 5     │"
      ]
     },
     "execution_count": 10,
     "metadata": {},
     "output_type": "execute_result"
    }
   ],
   "source": [
    "x = DataFrame(id = [missing, 5, 1, 3, missing], x = 1:5)"
   ]
  },
  {
   "cell_type": "code",
   "execution_count": 11,
   "metadata": {},
   "outputs": [
    {
     "data": {
      "text/html": [
       "<p><b>GroupedDataFrame with 4 groups based on key: id</b></p><p><i>First Group (2 rows): id = missing</i></p><table class=\"data-frame\"><thead><tr><th></th><th>id</th><th>x</th></tr><tr><th></th><th>Int64⍰</th><th>Int64</th></tr></thead><tbody><tr><th>1</th><td>missing</td><td>1</td></tr><tr><th>2</th><td>missing</td><td>5</td></tr></tbody></table><p>&vellip;</p><p><i>Last Group (1 row): id = 3</i></p><table class=\"data-frame\"><thead><tr><th></th><th>id</th><th>x</th></tr><tr><th></th><th>Int64⍰</th><th>Int64</th></tr></thead><tbody><tr><th>1</th><td>3</td><td>4</td></tr></tbody></table>"
      ],
      "text/latex": [
       "GroupedDataFrame with 4 groups based on key: id\n",
       "\n",
       "First Group (2 rows): id = missing\n",
       "\n",
       "\\begin{tabular}{r|cc}\n",
       "\t& id & x\\\\\n",
       "\t\\hline\n",
       "\t& Int64⍰ & Int64\\\\\n",
       "\t\\hline\n",
       "\t1 &  & 1 \\\\\n",
       "\t2 &  & 5 \\\\\n",
       "\\end{tabular}\n",
       "\n",
       "$\\dots$\n",
       "\n",
       "Last Group (1 row): id = 3\n",
       "\n",
       "\\begin{tabular}{r|cc}\n",
       "\t& id & x\\\\\n",
       "\t\\hline\n",
       "\t& Int64⍰ & Int64\\\\\n",
       "\t\\hline\n",
       "\t1 & 3 & 4 \\\\\n",
       "\\end{tabular}\n"
      ],
      "text/plain": [
       "GroupedDataFrame with 4 groups based on key: id\n",
       "First Group (2 rows): id = missing\n",
       "│ Row │ id      │ x     │\n",
       "│     │ \u001b[90mInt64⍰\u001b[39m  │ \u001b[90mInt64\u001b[39m │\n",
       "├─────┼─────────┼───────┤\n",
       "│ 1   │ \u001b[90mmissing\u001b[39m │ 1     │\n",
       "│ 2   │ \u001b[90mmissing\u001b[39m │ 5     │\n",
       "⋮\n",
       "Last Group (1 row): id = 3\n",
       "│ Row │ id     │ x     │\n",
       "│     │ \u001b[90mInt64⍰\u001b[39m │ \u001b[90mInt64\u001b[39m │\n",
       "├─────┼────────┼───────┤\n",
       "│ 1   │ 3      │ 4     │"
      ]
     },
     "execution_count": 11,
     "metadata": {},
     "output_type": "execute_result"
    }
   ],
   "source": [
    "groupby(x, :id) # по умолчанию группы включают missing и не сортируются"
   ]
  },
  {
   "cell_type": "code",
   "execution_count": 12,
   "metadata": {},
   "outputs": [
    {
     "data": {
      "text/html": [
       "<p><b>GroupedDataFrame with 3 groups based on key: id</b></p><p><i>First Group (1 row): id = 1</i></p><table class=\"data-frame\"><thead><tr><th></th><th>id</th><th>x</th></tr><tr><th></th><th>Int64⍰</th><th>Int64</th></tr></thead><tbody><tr><th>1</th><td>1</td><td>3</td></tr></tbody></table><p>&vellip;</p><p><i>Last Group (1 row): id = 5</i></p><table class=\"data-frame\"><thead><tr><th></th><th>id</th><th>x</th></tr><tr><th></th><th>Int64⍰</th><th>Int64</th></tr></thead><tbody><tr><th>1</th><td>5</td><td>2</td></tr></tbody></table>"
      ],
      "text/latex": [
       "GroupedDataFrame with 3 groups based on key: id\n",
       "\n",
       "First Group (1 row): id = 1\n",
       "\n",
       "\\begin{tabular}{r|cc}\n",
       "\t& id & x\\\\\n",
       "\t\\hline\n",
       "\t& Int64⍰ & Int64\\\\\n",
       "\t\\hline\n",
       "\t1 & 1 & 3 \\\\\n",
       "\\end{tabular}\n",
       "\n",
       "$\\dots$\n",
       "\n",
       "Last Group (1 row): id = 5\n",
       "\n",
       "\\begin{tabular}{r|cc}\n",
       "\t& id & x\\\\\n",
       "\t\\hline\n",
       "\t& Int64⍰ & Int64\\\\\n",
       "\t\\hline\n",
       "\t1 & 5 & 2 \\\\\n",
       "\\end{tabular}\n"
      ],
      "text/plain": [
       "GroupedDataFrame with 3 groups based on key: id\n",
       "First Group (1 row): id = 1\n",
       "│ Row │ id     │ x     │\n",
       "│     │ \u001b[90mInt64⍰\u001b[39m │ \u001b[90mInt64\u001b[39m │\n",
       "├─────┼────────┼───────┤\n",
       "│ 1   │ 1      │ 3     │\n",
       "⋮\n",
       "Last Group (1 row): id = 5\n",
       "│ Row │ id     │ x     │\n",
       "│     │ \u001b[90mInt64⍰\u001b[39m │ \u001b[90mInt64\u001b[39m │\n",
       "├─────┼────────┼───────┤\n",
       "│ 1   │ 5      │ 2     │"
      ]
     },
     "execution_count": 12,
     "metadata": {},
     "output_type": "execute_result"
    }
   ],
   "source": [
    "groupby(x, :id, sort=true, skipmissing=true) # но мы можем изменить это"
   ]
  },
  {
   "cell_type": "code",
   "execution_count": 13,
   "metadata": {},
   "outputs": [
    {
     "data": {
      "text/html": [
       "<table class=\"data-frame\"><thead><tr><th></th><th>id</th><th>v_Statistics.mean</th></tr><tr><th></th><th>Char</th><th>Float64</th></tr></thead><tbody><p>4 rows × 2 columns</p><tr><th>1</th><td>'c'</td><td>0.404394</td></tr><tr><th>2</th><td>'b'</td><td>0.505675</td></tr><tr><th>3</th><td>'a'</td><td>0.545504</td></tr><tr><th>4</th><td>'d'</td><td>0.436952</td></tr></tbody></table>"
      ],
      "text/latex": [
       "\\begin{tabular}{r|cc}\n",
       "\t& id & v\\_Statistics.mean\\\\\n",
       "\t\\hline\n",
       "\t& Char & Float64\\\\\n",
       "\t\\hline\n",
       "\t1 & 'c' & 0.404394 \\\\\n",
       "\t2 & 'b' & 0.505675 \\\\\n",
       "\t3 & 'a' & 0.545504 \\\\\n",
       "\t4 & 'd' & 0.436952 \\\\\n",
       "\\end{tabular}\n"
      ],
      "text/plain": [
       "4×2 DataFrame\n",
       "│ Row │ id   │ v_Statistics.mean │\n",
       "│     │ \u001b[90mChar\u001b[39m │ \u001b[90mFloat64\u001b[39m           │\n",
       "├─────┼──────┼───────────────────┤\n",
       "│ 1   │ 'c'  │ 0.404394          │\n",
       "│ 2   │ 'b'  │ 0.505675          │\n",
       "│ 3   │ 'a'  │ 0.545504          │\n",
       "│ 4   │ 'd'  │ 0.436952          │"
      ]
     },
     "execution_count": 13,
     "metadata": {},
     "output_type": "execute_result"
    }
   ],
   "source": [
    "using Statistics\n",
    "x = DataFrame(id=rand('a':'d', 100), v=rand(100));\n",
    "by(x, :id, :v=>mean) # применить функцию к каждой группе фрейма данных"
   ]
  },
  {
   "cell_type": "code",
   "execution_count": 14,
   "metadata": {},
   "outputs": [
    {
     "data": {
      "text/html": [
       "<table class=\"data-frame\"><thead><tr><th></th><th>id</th><th>v_Statistics.mean</th></tr><tr><th></th><th>Char</th><th>Float64</th></tr></thead><tbody><p>4 rows × 2 columns</p><tr><th>1</th><td>'a'</td><td>0.545504</td></tr><tr><th>2</th><td>'b'</td><td>0.505675</td></tr><tr><th>3</th><td>'c'</td><td>0.404394</td></tr><tr><th>4</th><td>'d'</td><td>0.436952</td></tr></tbody></table>"
      ],
      "text/latex": [
       "\\begin{tabular}{r|cc}\n",
       "\t& id & v\\_Statistics.mean\\\\\n",
       "\t\\hline\n",
       "\t& Char & Float64\\\\\n",
       "\t\\hline\n",
       "\t1 & 'a' & 0.545504 \\\\\n",
       "\t2 & 'b' & 0.505675 \\\\\n",
       "\t3 & 'c' & 0.404394 \\\\\n",
       "\t4 & 'd' & 0.436952 \\\\\n",
       "\\end{tabular}\n"
      ],
      "text/plain": [
       "4×2 DataFrame\n",
       "│ Row │ id   │ v_Statistics.mean │\n",
       "│     │ \u001b[90mChar\u001b[39m │ \u001b[90mFloat64\u001b[39m           │\n",
       "├─────┼──────┼───────────────────┤\n",
       "│ 1   │ 'a'  │ 0.545504          │\n",
       "│ 2   │ 'b'  │ 0.505675          │\n",
       "│ 3   │ 'c'  │ 0.404394          │\n",
       "│ 4   │ 'd'  │ 0.436952          │"
      ]
     },
     "execution_count": 14,
     "metadata": {},
     "output_type": "execute_result"
    }
   ],
   "source": [
    "by(x, :id, :v=>mean, sort=true) # мы можем отсортировать вывод"
   ]
  },
  {
   "cell_type": "code",
   "execution_count": 15,
   "metadata": {},
   "outputs": [
    {
     "data": {
      "text/html": [
       "<table class=\"data-frame\"><thead><tr><th></th><th>id</th><th>res</th></tr><tr><th></th><th>Char</th><th>Float64</th></tr></thead><tbody><p>4 rows × 2 columns</p><tr><th>1</th><td>'c'</td><td>0.404394</td></tr><tr><th>2</th><td>'b'</td><td>0.505675</td></tr><tr><th>3</th><td>'a'</td><td>0.545504</td></tr><tr><th>4</th><td>'d'</td><td>0.436952</td></tr></tbody></table>"
      ],
      "text/latex": [
       "\\begin{tabular}{r|cc}\n",
       "\t& id & res\\\\\n",
       "\t\\hline\n",
       "\t& Char & Float64\\\\\n",
       "\t\\hline\n",
       "\t1 & 'c' & 0.404394 \\\\\n",
       "\t2 & 'b' & 0.505675 \\\\\n",
       "\t3 & 'a' & 0.545504 \\\\\n",
       "\t4 & 'd' & 0.436952 \\\\\n",
       "\\end{tabular}\n"
      ],
      "text/plain": [
       "4×2 DataFrame\n",
       "│ Row │ id   │ res      │\n",
       "│     │ \u001b[90mChar\u001b[39m │ \u001b[90mFloat64\u001b[39m  │\n",
       "├─────┼──────┼──────────┤\n",
       "│ 1   │ 'c'  │ 0.404394 │\n",
       "│ 2   │ 'b'  │ 0.505675 │\n",
       "│ 3   │ 'a'  │ 0.545504 │\n",
       "│ 4   │ 'd'  │ 0.436952 │"
      ]
     },
     "execution_count": 15,
     "metadata": {},
     "output_type": "execute_result"
    }
   ],
   "source": [
    "by(x, :id, res=:v=>mean) # таким образом, мы можем установить имя для столбца"
   ]
  },
  {
   "cell_type": "code",
   "execution_count": 16,
   "metadata": {},
   "outputs": [
    {
     "data": {
      "text/html": [
       "<table class=\"data-frame\"><thead><tr><th></th><th>id</th><th>res1</th><th>res2</th></tr><tr><th></th><th>Char</th><th>Float64</th><th>Float64</th></tr></thead><tbody><p>4 rows × 3 columns</p><tr><th>1</th><td>'c'</td><td>0.404394</td><td>10.5142</td></tr><tr><th>2</th><td>'b'</td><td>0.505675</td><td>16.1816</td></tr><tr><th>3</th><td>'a'</td><td>0.545504</td><td>13.0921</td></tr><tr><th>4</th><td>'d'</td><td>0.436952</td><td>7.86513</td></tr></tbody></table>"
      ],
      "text/latex": [
       "\\begin{tabular}{r|ccc}\n",
       "\t& id & res1 & res2\\\\\n",
       "\t\\hline\n",
       "\t& Char & Float64 & Float64\\\\\n",
       "\t\\hline\n",
       "\t1 & 'c' & 0.404394 & 10.5142 \\\\\n",
       "\t2 & 'b' & 0.505675 & 16.1816 \\\\\n",
       "\t3 & 'a' & 0.545504 & 13.0921 \\\\\n",
       "\t4 & 'd' & 0.436952 & 7.86513 \\\\\n",
       "\\end{tabular}\n"
      ],
      "text/plain": [
       "4×3 DataFrame\n",
       "│ Row │ id   │ res1     │ res2    │\n",
       "│     │ \u001b[90mChar\u001b[39m │ \u001b[90mFloat64\u001b[39m  │ \u001b[90mFloat64\u001b[39m │\n",
       "├─────┼──────┼──────────┼─────────┤\n",
       "│ 1   │ 'c'  │ 0.404394 │ 10.5142 │\n",
       "│ 2   │ 'b'  │ 0.505675 │ 16.1816 │\n",
       "│ 3   │ 'a'  │ 0.545504 │ 13.0921 │\n",
       "│ 4   │ 'd'  │ 0.436952 │ 7.86513 │"
      ]
     },
     "execution_count": 16,
     "metadata": {},
     "output_type": "execute_result"
    }
   ],
   "source": [
    "by(x, :id, res1=:v=>mean, res2=:v=>sum) # Вы можете выполнять несколько операций"
   ]
  },
  {
   "cell_type": "code",
   "execution_count": 17,
   "metadata": {},
   "outputs": [
    {
     "data": {
      "text/html": [
       "<table class=\"data-frame\"><thead><tr><th></th><th>id</th><th>x1_sum</th><th>x2_sum</th></tr><tr><th></th><th>Char</th><th>Float64</th><th>Float64</th></tr></thead><tbody><p>4 rows × 3 columns</p><tr><th>1</th><td>'a'</td><td>11.2726</td><td>11.9281</td></tr><tr><th>2</th><td>'d'</td><td>15.2965</td><td>11.2197</td></tr><tr><th>3</th><td>'b'</td><td>13.4985</td><td>13.6769</td></tr><tr><th>4</th><td>'c'</td><td>13.7427</td><td>11.6944</td></tr></tbody></table>"
      ],
      "text/latex": [
       "\\begin{tabular}{r|ccc}\n",
       "\t& id & x1\\_sum & x2\\_sum\\\\\n",
       "\t\\hline\n",
       "\t& Char & Float64 & Float64\\\\\n",
       "\t\\hline\n",
       "\t1 & 'a' & 11.2726 & 11.9281 \\\\\n",
       "\t2 & 'd' & 15.2965 & 11.2197 \\\\\n",
       "\t3 & 'b' & 13.4985 & 13.6769 \\\\\n",
       "\t4 & 'c' & 13.7427 & 11.6944 \\\\\n",
       "\\end{tabular}\n"
      ],
      "text/plain": [
       "4×3 DataFrame\n",
       "│ Row │ id   │ x1_sum  │ x2_sum  │\n",
       "│     │ \u001b[90mChar\u001b[39m │ \u001b[90mFloat64\u001b[39m │ \u001b[90mFloat64\u001b[39m │\n",
       "├─────┼──────┼─────────┼─────────┤\n",
       "│ 1   │ 'a'  │ 11.2726 │ 11.9281 │\n",
       "│ 2   │ 'd'  │ 15.2965 │ 11.2197 │\n",
       "│ 3   │ 'b'  │ 13.4985 │ 13.6769 │\n",
       "│ 4   │ 'c'  │ 13.7427 │ 11.6944 │"
      ]
     },
     "execution_count": 17,
     "metadata": {},
     "output_type": "execute_result"
    }
   ],
   "source": [
    "x = DataFrame(id=rand('a':'d', 100), x1=rand(100), x2=rand(100))\n",
    "aggregate(x, :id, sum) # применить функцию ко всем столбцам фрейма данных в группах, заданных id"
   ]
  },
  {
   "cell_type": "code",
   "execution_count": 18,
   "metadata": {},
   "outputs": [
    {
     "data": {
      "text/html": [
       "<table class=\"data-frame\"><thead><tr><th></th><th>id</th><th>x1_sum</th><th>x2_sum</th></tr><tr><th></th><th>Char</th><th>Float64</th><th>Float64</th></tr></thead><tbody><p>4 rows × 3 columns</p><tr><th>1</th><td>'a'</td><td>11.2726</td><td>11.9281</td></tr><tr><th>2</th><td>'b'</td><td>13.4985</td><td>13.6769</td></tr><tr><th>3</th><td>'c'</td><td>13.7427</td><td>11.6944</td></tr><tr><th>4</th><td>'d'</td><td>15.2965</td><td>11.2197</td></tr></tbody></table>"
      ],
      "text/latex": [
       "\\begin{tabular}{r|ccc}\n",
       "\t& id & x1\\_sum & x2\\_sum\\\\\n",
       "\t\\hline\n",
       "\t& Char & Float64 & Float64\\\\\n",
       "\t\\hline\n",
       "\t1 & 'a' & 11.2726 & 11.9281 \\\\\n",
       "\t2 & 'b' & 13.4985 & 13.6769 \\\\\n",
       "\t3 & 'c' & 13.7427 & 11.6944 \\\\\n",
       "\t4 & 'd' & 15.2965 & 11.2197 \\\\\n",
       "\\end{tabular}\n"
      ],
      "text/plain": [
       "4×3 DataFrame\n",
       "│ Row │ id   │ x1_sum  │ x2_sum  │\n",
       "│     │ \u001b[90mChar\u001b[39m │ \u001b[90mFloat64\u001b[39m │ \u001b[90mFloat64\u001b[39m │\n",
       "├─────┼──────┼─────────┼─────────┤\n",
       "│ 1   │ 'a'  │ 11.2726 │ 11.9281 │\n",
       "│ 2   │ 'b'  │ 13.4985 │ 13.6769 │\n",
       "│ 3   │ 'c'  │ 13.7427 │ 11.6944 │\n",
       "│ 4   │ 'd'  │ 15.2965 │ 11.2197 │"
      ]
     },
     "execution_count": 18,
     "metadata": {},
     "output_type": "execute_result"
    }
   ],
   "source": [
    "aggregate(x, :id, sum, sort=true) # также можно отсортировать"
   ]
  },
  {
   "cell_type": "markdown",
   "metadata": {},
   "source": [
    "Новая фича `mapcols`"
   ]
  },
  {
   "cell_type": "code",
   "execution_count": 19,
   "metadata": {},
   "outputs": [
    {
     "data": {
      "text/html": [
       "<table class=\"data-frame\"><thead><tr><th></th><th>x1</th><th>x2</th><th>x3</th><th>x4</th><th>x5</th></tr><tr><th></th><th>Float64</th><th>Float64</th><th>Float64</th><th>Float64</th><th>Float64</th></tr></thead><tbody><p>3 rows × 5 columns</p><tr><th>1</th><td>0.391043</td><td>0.827254</td><td>0.962721</td><td>0.427237</td><td>0.949182</td></tr><tr><th>2</th><td>0.425643</td><td>0.300228</td><td>0.435158</td><td>0.314345</td><td>0.520474</td></tr><tr><th>3</th><td>0.059566</td><td>0.128958</td><td>0.300679</td><td>0.636596</td><td>0.229729</td></tr></tbody></table>"
      ],
      "text/latex": [
       "\\begin{tabular}{r|ccccc}\n",
       "\t& x1 & x2 & x3 & x4 & x5\\\\\n",
       "\t\\hline\n",
       "\t& Float64 & Float64 & Float64 & Float64 & Float64\\\\\n",
       "\t\\hline\n",
       "\t1 & 0.391043 & 0.827254 & 0.962721 & 0.427237 & 0.949182 \\\\\n",
       "\t2 & 0.425643 & 0.300228 & 0.435158 & 0.314345 & 0.520474 \\\\\n",
       "\t3 & 0.059566 & 0.128958 & 0.300679 & 0.636596 & 0.229729 \\\\\n",
       "\\end{tabular}\n"
      ],
      "text/plain": [
       "3×5 DataFrame\n",
       "│ Row │ x1       │ x2       │ x3       │ x4       │ x5       │\n",
       "│     │ \u001b[90mFloat64\u001b[39m  │ \u001b[90mFloat64\u001b[39m  │ \u001b[90mFloat64\u001b[39m  │ \u001b[90mFloat64\u001b[39m  │ \u001b[90mFloat64\u001b[39m  │\n",
       "├─────┼──────────┼──────────┼──────────┼──────────┼──────────┤\n",
       "│ 1   │ 0.391043 │ 0.827254 │ 0.962721 │ 0.427237 │ 0.949182 │\n",
       "│ 2   │ 0.425643 │ 0.300228 │ 0.435158 │ 0.314345 │ 0.520474 │\n",
       "│ 3   │ 0.059566 │ 0.128958 │ 0.300679 │ 0.636596 │ 0.229729 │"
      ]
     },
     "execution_count": 19,
     "metadata": {},
     "output_type": "execute_result"
    }
   ],
   "source": [
    "x = DataFrame(rand(3, 5))"
   ]
  },
  {
   "cell_type": "code",
   "execution_count": 20,
   "metadata": {},
   "outputs": [
    {
     "data": {
      "text/html": [
       "<table class=\"data-frame\"><thead><tr><th></th><th>x1</th><th>x2</th><th>x3</th><th>x4</th><th>x5</th></tr><tr><th></th><th>Float64</th><th>Float64</th><th>Float64</th><th>Float64</th><th>Float64</th></tr></thead><tbody><p>1 rows × 5 columns</p><tr><th>1</th><td>0.292084</td><td>0.418813</td><td>0.566186</td><td>0.459393</td><td>0.566461</td></tr></tbody></table>"
      ],
      "text/latex": [
       "\\begin{tabular}{r|ccccc}\n",
       "\t& x1 & x2 & x3 & x4 & x5\\\\\n",
       "\t\\hline\n",
       "\t& Float64 & Float64 & Float64 & Float64 & Float64\\\\\n",
       "\t\\hline\n",
       "\t1 & 0.292084 & 0.418813 & 0.566186 & 0.459393 & 0.566461 \\\\\n",
       "\\end{tabular}\n"
      ],
      "text/plain": [
       "1×5 DataFrame\n",
       "│ Row │ x1       │ x2       │ x3       │ x4       │ x5       │\n",
       "│     │ \u001b[90mFloat64\u001b[39m  │ \u001b[90mFloat64\u001b[39m  │ \u001b[90mFloat64\u001b[39m  │ \u001b[90mFloat64\u001b[39m  │ \u001b[90mFloat64\u001b[39m  │\n",
       "├─────┼──────────┼──────────┼──────────┼──────────┼──────────┤\n",
       "│ 1   │ 0.292084 │ 0.418813 │ 0.566186 │ 0.459393 │ 0.566461 │"
      ]
     },
     "execution_count": 20,
     "metadata": {},
     "output_type": "execute_result"
    }
   ],
   "source": [
    "mapcols(mean, x)"
   ]
  },
  {
   "cell_type": "code",
   "execution_count": 21,
   "metadata": {},
   "outputs": [
    {
     "data": {
      "text/plain": [
       "5-element Array{Float64,1}:\n",
       " 0.2920839761044651 \n",
       " 0.41881320493626495\n",
       " 0.566186290850884  \n",
       " 0.4593927686588217 \n",
       " 0.5664613507696966 "
      ]
     },
     "execution_count": 21,
     "metadata": {},
     "output_type": "execute_result"
    }
   ],
   "source": [
    "map(mean, eachcol(x, false)) # отобразить функцию на каждый столбец и вернуть вектор"
   ]
  },
  {
   "cell_type": "code",
   "execution_count": 22,
   "metadata": {},
   "outputs": [
    {
     "name": "stdout",
     "output_type": "stream",
     "text": [
      "x1: 0.2920839761044651\n",
      "x2: 0.41881320493626495\n",
      "x3: 0.566186290850884\n",
      "x4: 0.4593927686588217\n",
      "x5: 0.5664613507696966\n"
     ]
    }
   ],
   "source": [
    "foreach(c -> println(c[1], \": \", mean(c[2])), eachcol(x, true)) # итерация возвращает пару с именем и значениями столбца"
   ]
  },
  {
   "cell_type": "code",
   "execution_count": 23,
   "metadata": {},
   "outputs": [
    {
     "data": {
      "text/plain": [
       "3×5 Array{Float64,2}:\n",
       " 0.292084  0.418813  0.566186  0.459393  0.566461\n",
       " 0.059566  0.128958  0.300679  0.314345  0.229729\n",
       " 0.425643  0.827254  0.962721  0.636596  0.949182"
      ]
     },
     "execution_count": 23,
     "metadata": {},
     "output_type": "execute_result"
    }
   ],
   "source": [
    "colwise([mean,minimum,maximum], x) # colwise похож, но принимает вектор функций"
   ]
  },
  {
   "cell_type": "code",
   "execution_count": 24,
   "metadata": {},
   "outputs": [
    {
     "data": {
      "text/plain": [
       "2-element Array{Array{Float64,1},1}:\n",
       " [0.408343, 0.563741, 0.69894, 0.370791, 0.734828, 1.0] \n",
       " [0.059566, 0.128958, 0.300679, 0.636596, 0.229729, 2.0]"
      ]
     },
     "execution_count": 24,
     "metadata": {},
     "output_type": "execute_result"
    }
   ],
   "source": [
    "x[:id] = [1,1,2]\n",
    "colwise(mean,groupby(x, :id)) # и это также работает на GroupedDataFrame"
   ]
  },
  {
   "cell_type": "code",
   "execution_count": 25,
   "metadata": {},
   "outputs": [
    {
     "data": {
      "text/plain": [
       "3-element Array{Float64,1}:\n",
       " 0.4726995678774371\n",
       " 1.4177341956077698\n",
       " 0.461903748266367 "
      ]
     },
     "execution_count": 25,
     "metadata": {},
     "output_type": "execute_result"
    }
   ],
   "source": [
    "map(r -> r.x1/r.x2, eachrow(x))\n",
    "# теперь возвращаемое значение - DataFrameRow, которое работает аналогично однострочному DataFrame."
   ]
  }
 ],
 "metadata": {
  "kernelspec": {
   "display_name": "Julia 1.1.0",
   "language": "julia",
   "name": "julia-1.1"
  },
  "language_info": {
   "file_extension": ".jl",
   "mimetype": "application/julia",
   "name": "julia",
   "version": "1.1.0"
  }
 },
 "nbformat": 4,
 "nbformat_minor": 1
}
