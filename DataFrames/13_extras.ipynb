{
 "cells": [
  {
   "cell_type": "markdown",
   "metadata": {},
   "source": [
    "# Introduction to DataFrames\n",
    "**[Bogumił Kamiński](http://bogumilkaminski.pl/about/), February 8, 2019**"
   ]
  },
  {
   "cell_type": "code",
   "execution_count": 1,
   "metadata": {},
   "outputs": [],
   "source": [
    "using DataFrames"
   ]
  },
  {
   "cell_type": "markdown",
   "metadata": {},
   "source": [
    "## Дополнительно - функции из сторонних пакетов"
   ]
  },
  {
   "cell_type": "code",
   "execution_count": 2,
   "metadata": {},
   "outputs": [
    {
     "data": {
      "text/plain": [
       "4×3 Named Array{Int64,2}\n",
       "a ╲ b │  x   y   z\n",
       "──────┼───────────\n",
       "'a'   │ 77  75  82\n",
       "'b'   │ 84  80  92\n",
       "'c'   │ 80  86  90\n",
       "'d'   │ 79  91  84"
      ]
     },
     "execution_count": 2,
     "metadata": {},
     "output_type": "execute_result"
    }
   ],
   "source": [
    "using FreqTables\n",
    "df = DataFrame(a=rand('a':'d', 1000), b=rand([\"x\", \"y\", \"z\"], 1000))\n",
    "ft = freqtable(df, :a, :b) # обратите внимание, что размеры сортируются, если это возможно"
   ]
  },
  {
   "cell_type": "code",
   "execution_count": 3,
   "metadata": {},
   "outputs": [
    {
     "data": {
      "text/plain": [
       "(77, 92)"
      ]
     },
     "execution_count": 3,
     "metadata": {},
     "output_type": "execute_result"
    }
   ],
   "source": [
    "ft[1,1], ft['b', \"z\"] # Вы можете индексировать результат, используя цифры или имена"
   ]
  },
  {
   "cell_type": "code",
   "execution_count": 4,
   "metadata": {},
   "outputs": [
    {
     "data": {
      "text/plain": [
       "4×3 Named Array{Float64,2}\n",
       "a ╲ b │        x         y         z\n",
       "──────┼─────────────────────────────\n",
       "'a'   │  0.32906  0.320513  0.350427\n",
       "'b'   │ 0.328125    0.3125  0.359375\n",
       "'c'   │   0.3125  0.335938  0.351563\n",
       "'d'   │ 0.311024  0.358268  0.330709"
      ]
     },
     "execution_count": 4,
     "metadata": {},
     "output_type": "execute_result"
    }
   ],
   "source": [
    "prop(ft, 1) # получение пропорций - 1 означает, что мы хотим вычислить их в строках (первое измерение)"
   ]
  },
  {
   "cell_type": "code",
   "execution_count": 5,
   "metadata": {},
   "outputs": [
    {
     "data": {
      "text/plain": [
       "4×3 Named Array{Float64,2}\n",
       "a ╲ b │        x         y         z\n",
       "──────┼─────────────────────────────\n",
       "'a'   │ 0.240625  0.225904  0.235632\n",
       "'b'   │   0.2625  0.240964  0.264368\n",
       "'c'   │     0.25  0.259036  0.258621\n",
       "'d'   │ 0.246875  0.274096  0.241379"
      ]
     },
     "execution_count": 5,
     "metadata": {},
     "output_type": "execute_result"
    }
   ],
   "source": [
    "prop(ft, 2) # а теперь столбцы нормализованы до 1,0 "
   ]
  },
  {
   "cell_type": "code",
   "execution_count": 6,
   "metadata": {},
   "outputs": [
    {
     "data": {
      "text/plain": [
       "4-element Named Array{Int64,1}\n",
       "Dim1  │ \n",
       "──────┼──\n",
       "3     │ 3\n",
       "1     │ 3\n",
       "2     │ 4\n",
       "4     │ 0"
      ]
     },
     "execution_count": 6,
     "metadata": {},
     "output_type": "execute_result"
    }
   ],
   "source": [
    "x = categorical(rand(1:3, 10))\n",
    "levels!(x, [3, 1, 2, 4]) # изменение порядка уровней и добавление дополнительного уровня\n",
    "freqtable(x) # порядок сохраняется и отображается неиспользуемый уровень"
   ]
  },
  {
   "cell_type": "code",
   "execution_count": 7,
   "metadata": {},
   "outputs": [
    {
     "data": {
      "text/plain": [
       "4-element Named Array{Int64,1}\n",
       "Dim1    │ \n",
       "────────┼──\n",
       "1       │ 2\n",
       "2       │ 1\n",
       "3       │ 1\n",
       "missing │ 1"
      ]
     },
     "execution_count": 7,
     "metadata": {},
     "output_type": "execute_result"
    }
   ],
   "source": [
    "freqtable([1,1,2,3,missing]) # по умолчанию перечислены пропуски"
   ]
  },
  {
   "cell_type": "code",
   "execution_count": 8,
   "metadata": {},
   "outputs": [
    {
     "data": {
      "text/plain": [
       "3-element Named Array{Int64,1}\n",
       "Dim1  │ \n",
       "──────┼──\n",
       "1     │ 2\n",
       "2     │ 1\n",
       "3     │ 1"
      ]
     },
     "execution_count": 8,
     "metadata": {},
     "output_type": "execute_result"
    }
   ],
   "source": [
    "freqtable([1,1,2,3,missing], skipmissing=true) # но мы можем пропустить их"
   ]
  },
  {
   "cell_type": "code",
   "execution_count": 9,
   "metadata": {},
   "outputs": [
    {
     "data": {
      "text/plain": [
       "2×2 Named Array{Int64,2}\n",
       "a ╲ b │   5    6\n",
       "──────┼─────────\n",
       "3     │ 240  260\n",
       "4     │ 270  230"
      ]
     },
     "execution_count": 9,
     "metadata": {},
     "output_type": "execute_result"
    }
   ],
   "source": [
    "df = DataFrame(a=rand(3:4, 1000), b=rand(5:6, 1000))\n",
    "ft = freqtable(df, :a, :b) # теперь в шапке числа"
   ]
  },
  {
   "cell_type": "code",
   "execution_count": 10,
   "metadata": {},
   "outputs": [
    {
     "ename": "BoundsError",
     "evalue": "BoundsError: attempt to access 2×2 Array{Int64,2} at index [3, 5]",
     "output_type": "error",
     "traceback": [
      "BoundsError: attempt to access 2×2 Array{Int64,2} at index [3, 5]",
      "",
      "Stacktrace:",
      " [1] getindex at .\\array.jl:730 [inlined]",
      " [2] getindex(::NamedArrays.NamedArray{Int64,2,Array{Int64,2},Tuple{OrderedCollections.OrderedDict{Int64,Int64},OrderedCollections.OrderedDict{Int64,Int64}}}, ::Int64, ::Int64) at C:\\Users\\bogum\\.julia\\packages\\NamedArrays\\uMdmN\\src\\index.jl:17",
      " [3] top-level scope at In[10]:1"
     ]
    }
   ],
   "source": [
    "ft[3,5] # это ошибка - стандартное индексирование массива имеет приоритет"
   ]
  },
  {
   "cell_type": "code",
   "execution_count": 11,
   "metadata": {},
   "outputs": [
    {
     "ename": "ArgumentError",
     "evalue": "ArgumentError: Package NamedArrays not found in current path:\n- Run `import Pkg; Pkg.add(\"NamedArrays\")` to install the NamedArrays package.\n",
     "output_type": "error",
     "traceback": [
      "ArgumentError: Package NamedArrays not found in current path:\n- Run `import Pkg; Pkg.add(\"NamedArrays\")` to install the NamedArrays package.\n",
      "",
      "Stacktrace:",
      " [1] require(::Module, ::Symbol) at .\\loading.jl:823",
      " [2] top-level scope at In[11]:1"
     ]
    }
   ],
   "source": [
    "using NamedArrays\n",
    "ft[Name(3), Name(5)] # Вы должны использовать Name () из NamedArrays"
   ]
  },
  {
   "cell_type": "markdown",
   "metadata": {},
   "source": [
    "### DataFramesMeta - работает с `DataFrame`"
   ]
  },
  {
   "cell_type": "code",
   "execution_count": 12,
   "metadata": {},
   "outputs": [
    {
     "data": {
      "text/html": [
       "<table class=\"data-frame\"><thead><tr><th></th><th>x</th><th>y</th><th>z</th></tr><tr><th></th><th>Int64</th><th>Char</th><th>Bool</th></tr></thead><tbody><p>8 rows × 3 columns</p><tr><th>1</th><td>1</td><td>'a'</td><td>true</td></tr><tr><th>2</th><td>2</td><td>'b'</td><td>false</td></tr><tr><th>3</th><td>3</td><td>'c'</td><td>true</td></tr><tr><th>4</th><td>4</td><td>'d'</td><td>false</td></tr><tr><th>5</th><td>5</td><td>'e'</td><td>true</td></tr><tr><th>6</th><td>6</td><td>'f'</td><td>false</td></tr><tr><th>7</th><td>7</td><td>'g'</td><td>true</td></tr><tr><th>8</th><td>8</td><td>'h'</td><td>false</td></tr></tbody></table>"
      ],
      "text/latex": [
       "\\begin{tabular}{r|ccc}\n",
       "\t& x & y & z\\\\\n",
       "\t\\hline\n",
       "\t& Int64 & Char & Bool\\\\\n",
       "\t\\hline\n",
       "\t1 & 1 & 'a' & true \\\\\n",
       "\t2 & 2 & 'b' & false \\\\\n",
       "\t3 & 3 & 'c' & true \\\\\n",
       "\t4 & 4 & 'd' & false \\\\\n",
       "\t5 & 5 & 'e' & true \\\\\n",
       "\t6 & 6 & 'f' & false \\\\\n",
       "\t7 & 7 & 'g' & true \\\\\n",
       "\t8 & 8 & 'h' & false \\\\\n",
       "\\end{tabular}\n"
      ],
      "text/plain": [
       "8×3 DataFrame\n",
       "│ Row │ x     │ y    │ z     │\n",
       "│     │ \u001b[90mInt64\u001b[39m │ \u001b[90mChar\u001b[39m │ \u001b[90mBool\u001b[39m  │\n",
       "├─────┼───────┼──────┼───────┤\n",
       "│ 1   │ 1     │ 'a'  │ true  │\n",
       "│ 2   │ 2     │ 'b'  │ false │\n",
       "│ 3   │ 3     │ 'c'  │ true  │\n",
       "│ 4   │ 4     │ 'd'  │ false │\n",
       "│ 5   │ 5     │ 'e'  │ true  │\n",
       "│ 6   │ 6     │ 'f'  │ false │\n",
       "│ 7   │ 7     │ 'g'  │ true  │\n",
       "│ 8   │ 8     │ 'h'  │ false │"
      ]
     },
     "execution_count": 12,
     "metadata": {},
     "output_type": "execute_result"
    }
   ],
   "source": [
    "using DataFramesMeta\n",
    "df = DataFrame(x=1:8, y='a':'h', z=repeat([true,false], outer=4))"
   ]
  },
  {
   "cell_type": "code",
   "execution_count": 13,
   "metadata": {},
   "outputs": [
    {
     "data": {
      "text/plain": [
       "8-element Array{Int64,1}:\n",
       " 2\n",
       " 2\n",
       " 4\n",
       " 4\n",
       " 6\n",
       " 6\n",
       " 8\n",
       " 8"
      ]
     },
     "execution_count": 13,
     "metadata": {},
     "output_type": "execute_result"
    }
   ],
   "source": [
    "@with(df, :x+:z) # выражения со столбцами DataFrame"
   ]
  },
  {
   "cell_type": "code",
   "execution_count": 14,
   "metadata": {},
   "outputs": [
    {
     "data": {
      "text/plain": [
       "8-element Array{Char,1}:\n",
       " 'b'\n",
       " 'e'\n",
       " 'h'\n",
       " 'k'\n",
       " 'g'\n",
       " 'j'\n",
       " 'm'\n",
       " 'p'"
      ]
     },
     "execution_count": 14,
     "metadata": {},
     "output_type": "execute_result"
    }
   ],
   "source": [
    "@with df begin # Вы можете определить блоки кода\n",
    "    a = :x[:z]\n",
    "    b = :x[.!:z]\n",
    "    :y + [a; b]\n",
    "end"
   ]
  },
  {
   "cell_type": "code",
   "execution_count": 15,
   "metadata": {},
   "outputs": [
    {
     "ename": "UndefVarError",
     "evalue": "UndefVarError: a not defined",
     "output_type": "error",
     "traceback": [
      "UndefVarError: a not defined",
      "",
      "Stacktrace:",
      " [1] top-level scope at In[15]:1"
     ]
    }
   ],
   "source": [
    "a # @with создает жесткую область видимости, чтобы переменные не утекли"
   ]
  },
  {
   "cell_type": "code",
   "execution_count": 16,
   "metadata": {},
   "outputs": [
    {
     "data": {
      "text/plain": [
       "3-element BitArray{1}:\n",
       "  true\n",
       " false\n",
       " false"
      ]
     },
     "execution_count": 16,
     "metadata": {},
     "output_type": "execute_result"
    }
   ],
   "source": [
    "df2 = DataFrame(a = [:a, :b, :c])\n",
    "@with(df2, :a .== ^(:a)) # иногда хочется работать с сырыми символами, ^() избегает это"
   ]
  },
  {
   "cell_type": "code",
   "execution_count": 17,
   "metadata": {},
   "outputs": [
    {
     "data": {
      "text/html": [
       "<table class=\"data-frame\"><thead><tr><th></th><th>y</th><th>z</th></tr><tr><th></th><th>Int64</th><th>Int64</th></tr></thead><tbody><p>3 rows × 2 columns</p><tr><th>1</th><td>4</td><td>7</td></tr><tr><th>2</th><td>5</td><td>8</td></tr><tr><th>3</th><td>6</td><td>9</td></tr></tbody></table>"
      ],
      "text/latex": [
       "\\begin{tabular}{r|cc}\n",
       "\t& y & z\\\\\n",
       "\t\\hline\n",
       "\t& Int64 & Int64\\\\\n",
       "\t\\hline\n",
       "\t1 & 4 & 7 \\\\\n",
       "\t2 & 5 & 8 \\\\\n",
       "\t3 & 6 & 9 \\\\\n",
       "\\end{tabular}\n"
      ],
      "text/plain": [
       "3×2 DataFrame\n",
       "│ Row │ y     │ z     │\n",
       "│     │ \u001b[90mInt64\u001b[39m │ \u001b[90mInt64\u001b[39m │\n",
       "├─────┼───────┼───────┤\n",
       "│ 1   │ 4     │ 7     │\n",
       "│ 2   │ 5     │ 8     │\n",
       "│ 3   │ 6     │ 9     │"
      ]
     },
     "execution_count": 17,
     "metadata": {},
     "output_type": "execute_result"
    }
   ],
   "source": [
    "df2 = DataFrame(x=1:3, y=4:6, z=7:9)\n",
    "@with(df2, cols(2:3)) # cols (выражение) переводится в df2 [выражение]"
   ]
  },
  {
   "cell_type": "code",
   "execution_count": 18,
   "metadata": {},
   "outputs": [
    {
     "data": {
      "text/html": [
       "<table class=\"data-frame\"><thead><tr><th></th><th>x</th><th>y</th><th>z</th></tr><tr><th></th><th>Int64</th><th>Char</th><th>Bool</th></tr></thead><tbody><p>2 rows × 3 columns</p><tr><th>1</th><td>1</td><td>'a'</td><td>true</td></tr><tr><th>2</th><td>3</td><td>'c'</td><td>true</td></tr></tbody></table>"
      ],
      "text/latex": [
       "\\begin{tabular}{r|ccc}\n",
       "\t& x & y & z\\\\\n",
       "\t\\hline\n",
       "\t& Int64 & Char & Bool\\\\\n",
       "\t\\hline\n",
       "\t1 & 1 & 'a' & true \\\\\n",
       "\t2 & 3 & 'c' & true \\\\\n",
       "\\end{tabular}\n"
      ],
      "text/plain": [
       "2×3 DataFrame\n",
       "│ Row │ x     │ y    │ z    │\n",
       "│     │ \u001b[90mInt64\u001b[39m │ \u001b[90mChar\u001b[39m │ \u001b[90mBool\u001b[39m │\n",
       "├─────┼───────┼──────┼──────┤\n",
       "│ 1   │ 1     │ 'a'  │ true │\n",
       "│ 2   │ 3     │ 'c'  │ true │"
      ]
     },
     "execution_count": 18,
     "metadata": {},
     "output_type": "execute_result"
    }
   ],
   "source": [
    "@where(df, :x .< 4, :z .== true) # очень полезный макрос для фильтрации"
   ]
  },
  {
   "cell_type": "code",
   "execution_count": 19,
   "metadata": {},
   "outputs": [
    {
     "data": {
      "text/html": [
       "<table class=\"data-frame\"><thead><tr><th></th><th>x</th><th>y</th><th>z</th></tr><tr><th></th><th>Int64</th><th>Int64</th><th>Char</th></tr></thead><tbody><p>8 rows × 3 columns</p><tr><th>1</th><td>1</td><td>2</td><td>'a'</td></tr><tr><th>2</th><td>2</td><td>4</td><td>'b'</td></tr><tr><th>3</th><td>3</td><td>6</td><td>'c'</td></tr><tr><th>4</th><td>4</td><td>8</td><td>'d'</td></tr><tr><th>5</th><td>5</td><td>10</td><td>'e'</td></tr><tr><th>6</th><td>6</td><td>12</td><td>'f'</td></tr><tr><th>7</th><td>7</td><td>14</td><td>'g'</td></tr><tr><th>8</th><td>8</td><td>16</td><td>'h'</td></tr></tbody></table>"
      ],
      "text/latex": [
       "\\begin{tabular}{r|ccc}\n",
       "\t& x & y & z\\\\\n",
       "\t\\hline\n",
       "\t& Int64 & Int64 & Char\\\\\n",
       "\t\\hline\n",
       "\t1 & 1 & 2 & 'a' \\\\\n",
       "\t2 & 2 & 4 & 'b' \\\\\n",
       "\t3 & 3 & 6 & 'c' \\\\\n",
       "\t4 & 4 & 8 & 'd' \\\\\n",
       "\t5 & 5 & 10 & 'e' \\\\\n",
       "\t6 & 6 & 12 & 'f' \\\\\n",
       "\t7 & 7 & 14 & 'g' \\\\\n",
       "\t8 & 8 & 16 & 'h' \\\\\n",
       "\\end{tabular}\n"
      ],
      "text/plain": [
       "8×3 DataFrame\n",
       "│ Row │ x     │ y     │ z    │\n",
       "│     │ \u001b[90mInt64\u001b[39m │ \u001b[90mInt64\u001b[39m │ \u001b[90mChar\u001b[39m │\n",
       "├─────┼───────┼───────┼──────┤\n",
       "│ 1   │ 1     │ 2     │ 'a'  │\n",
       "│ 2   │ 2     │ 4     │ 'b'  │\n",
       "│ 3   │ 3     │ 6     │ 'c'  │\n",
       "│ 4   │ 4     │ 8     │ 'd'  │\n",
       "│ 5   │ 5     │ 10    │ 'e'  │\n",
       "│ 6   │ 6     │ 12    │ 'f'  │\n",
       "│ 7   │ 7     │ 14    │ 'g'  │\n",
       "│ 8   │ 8     │ 16    │ 'h'  │"
      ]
     },
     "execution_count": 19,
     "metadata": {},
     "output_type": "execute_result"
    }
   ],
   "source": [
    "@select(df, :x, y = 2*:x, z=:y) # создать новый DataFrame на основе старого"
   ]
  },
  {
   "cell_type": "code",
   "execution_count": 20,
   "metadata": {},
   "outputs": [
    {
     "data": {
      "text/html": [
       "<table class=\"data-frame\"><thead><tr><th></th><th>x</th><th>y</th><th>z</th><th>a</th></tr><tr><th></th><th>Int64</th><th>Int64</th><th>Bool</th><th>Int64</th></tr></thead><tbody><p>8 rows × 4 columns</p><tr><th>1</th><td>2</td><td>1</td><td>true</td><td>1</td></tr><tr><th>2</th><td>4</td><td>2</td><td>false</td><td>1</td></tr><tr><th>3</th><td>6</td><td>3</td><td>true</td><td>1</td></tr><tr><th>4</th><td>8</td><td>4</td><td>false</td><td>1</td></tr><tr><th>5</th><td>10</td><td>5</td><td>true</td><td>1</td></tr><tr><th>6</th><td>12</td><td>6</td><td>false</td><td>1</td></tr><tr><th>7</th><td>14</td><td>7</td><td>true</td><td>1</td></tr><tr><th>8</th><td>16</td><td>8</td><td>false</td><td>1</td></tr></tbody></table>"
      ],
      "text/latex": [
       "\\begin{tabular}{r|cccc}\n",
       "\t& x & y & z & a\\\\\n",
       "\t\\hline\n",
       "\t& Int64 & Int64 & Bool & Int64\\\\\n",
       "\t\\hline\n",
       "\t1 & 2 & 1 & true & 1 \\\\\n",
       "\t2 & 4 & 2 & false & 1 \\\\\n",
       "\t3 & 6 & 3 & true & 1 \\\\\n",
       "\t4 & 8 & 4 & false & 1 \\\\\n",
       "\t5 & 10 & 5 & true & 1 \\\\\n",
       "\t6 & 12 & 6 & false & 1 \\\\\n",
       "\t7 & 14 & 7 & true & 1 \\\\\n",
       "\t8 & 16 & 8 & false & 1 \\\\\n",
       "\\end{tabular}\n"
      ],
      "text/plain": [
       "8×4 DataFrame\n",
       "│ Row │ x     │ y     │ z     │ a     │\n",
       "│     │ \u001b[90mInt64\u001b[39m │ \u001b[90mInt64\u001b[39m │ \u001b[90mBool\u001b[39m  │ \u001b[90mInt64\u001b[39m │\n",
       "├─────┼───────┼───────┼───────┼───────┤\n",
       "│ 1   │ 2     │ 1     │ true  │ 1     │\n",
       "│ 2   │ 4     │ 2     │ false │ 1     │\n",
       "│ 3   │ 6     │ 3     │ true  │ 1     │\n",
       "│ 4   │ 8     │ 4     │ false │ 1     │\n",
       "│ 5   │ 10    │ 5     │ true  │ 1     │\n",
       "│ 6   │ 12    │ 6     │ false │ 1     │\n",
       "│ 7   │ 14    │ 7     │ true  │ 1     │\n",
       "│ 8   │ 16    │ 8     │ false │ 1     │"
      ]
     },
     "execution_count": 20,
     "metadata": {},
     "output_type": "execute_result"
    }
   ],
   "source": [
    "@transform(df, a=1, x = 2*:x, y=:x) # создать новый DataFrame, добавив столбцы на основе старого"
   ]
  },
  {
   "cell_type": "code",
   "execution_count": 21,
   "metadata": {},
   "outputs": [
    {
     "ename": "ArgumentError",
     "evalue": "ArgumentError: column name :a not found in the data frame; existing most similar names are: :x, :y and :z",
     "output_type": "error",
     "traceback": [
      "ArgumentError: column name :a not found in the data frame; existing most similar names are: :x, :y and :z",
      "",
      "Stacktrace:",
      " [1] lookupname at C:\\Users\\bogum\\.julia\\packages\\DataFrames\\IKMvt\\src\\other\\index.jl:167 [inlined]",
      " [2] getindex at C:\\Users\\bogum\\.julia\\packages\\DataFrames\\IKMvt\\src\\other\\index.jl:173 [inlined]",
      " [3] getindex(::DataFrame, ::Symbol) at C:\\Users\\bogum\\.julia\\packages\\DataFrames\\IKMvt\\src\\dataframe\\dataframe.jl:252",
      " [4] (::getfield(Main, Symbol(\"##16#18\")))(::DataFrame) at C:\\Users\\bogum\\.julia\\packages\\DataFramesMeta\\Ykidf\\src\\DataFramesMeta.jl:73",
      " [5] #transform#9(::Base.Iterators.Pairs{Symbol,Function,Tuple{Symbol,Symbol},NamedTuple{(:a, :b),Tuple{getfield(Main, Symbol(\"##15#17\")),getfield(Main, Symbol(\"##16#18\"))}}}, ::Function, ::DataFrame) at C:\\Users\\bogum\\.julia\\packages\\DataFramesMeta\\Ykidf\\src\\DataFramesMeta.jl:384",
      " [6] (::getfield(DataFramesMeta, Symbol(\"#kw##transform\")))(::NamedTuple{(:a, :b),Tuple{getfield(Main, Symbol(\"##15#17\")),getfield(Main, Symbol(\"##16#18\"))}}, ::typeof(DataFramesMeta.transform), ::DataFrame) at .\\none:0",
      " [7] top-level scope at C:\\Users\\bogum\\.julia\\packages\\DataFramesMeta\\Ykidf\\src\\DataFramesMeta.jl:478",
      " [8] top-level scope at In[21]:1"
     ]
    }
   ],
   "source": [
    "@transform(df, a=1, b=:a) # используется старый DataFrame и :a там нет"
   ]
  },
  {
   "cell_type": "code",
   "execution_count": 22,
   "metadata": {},
   "outputs": [
    {
     "data": {
      "text/html": [
       "<table class=\"data-frame\"><thead><tr><th></th><th>x</th><th>y</th><th>z</th></tr><tr><th></th><th>Int64</th><th>Char</th><th>Bool</th></tr></thead><tbody><p>8 rows × 3 columns</p><tr><th>1</th><td>8</td><td>'h'</td><td>false</td></tr><tr><th>2</th><td>6</td><td>'f'</td><td>false</td></tr><tr><th>3</th><td>4</td><td>'d'</td><td>false</td></tr><tr><th>4</th><td>2</td><td>'b'</td><td>false</td></tr><tr><th>5</th><td>7</td><td>'g'</td><td>true</td></tr><tr><th>6</th><td>5</td><td>'e'</td><td>true</td></tr><tr><th>7</th><td>3</td><td>'c'</td><td>true</td></tr><tr><th>8</th><td>1</td><td>'a'</td><td>true</td></tr></tbody></table>"
      ],
      "text/latex": [
       "\\begin{tabular}{r|ccc}\n",
       "\t& x & y & z\\\\\n",
       "\t\\hline\n",
       "\t& Int64 & Char & Bool\\\\\n",
       "\t\\hline\n",
       "\t1 & 8 & 'h' & false \\\\\n",
       "\t2 & 6 & 'f' & false \\\\\n",
       "\t3 & 4 & 'd' & false \\\\\n",
       "\t4 & 2 & 'b' & false \\\\\n",
       "\t5 & 7 & 'g' & true \\\\\n",
       "\t6 & 5 & 'e' & true \\\\\n",
       "\t7 & 3 & 'c' & true \\\\\n",
       "\t8 & 1 & 'a' & true \\\\\n",
       "\\end{tabular}\n"
      ],
      "text/plain": [
       "8×3 DataFrame\n",
       "│ Row │ x     │ y    │ z     │\n",
       "│     │ \u001b[90mInt64\u001b[39m │ \u001b[90mChar\u001b[39m │ \u001b[90mBool\u001b[39m  │\n",
       "├─────┼───────┼──────┼───────┤\n",
       "│ 1   │ 8     │ 'h'  │ false │\n",
       "│ 2   │ 6     │ 'f'  │ false │\n",
       "│ 3   │ 4     │ 'd'  │ false │\n",
       "│ 4   │ 2     │ 'b'  │ false │\n",
       "│ 5   │ 7     │ 'g'  │ true  │\n",
       "│ 6   │ 5     │ 'e'  │ true  │\n",
       "│ 7   │ 3     │ 'c'  │ true  │\n",
       "│ 8   │ 1     │ 'a'  │ true  │"
      ]
     },
     "execution_count": 22,
     "metadata": {},
     "output_type": "execute_result"
    }
   ],
   "source": [
    "@orderby(df, :z, -:x) # сортировка в новый фрейм данных, менее мощный, чем sort, но легкий"
   ]
  },
  {
   "cell_type": "code",
   "execution_count": 23,
   "metadata": {},
   "outputs": [
    {
     "data": {
      "text/html": [
       "<table class=\"data-frame\"><thead><tr><th></th><th>z</th><th>x</th><th>x²</th></tr><tr><th></th><th>Bool</th><th>Int64</th><th>Int64</th></tr></thead><tbody><p>4 rows × 3 columns</p><tr><th>1</th><td>false</td><td>2</td><td>4</td></tr><tr><th>2</th><td>false</td><td>4</td><td>16</td></tr><tr><th>3</th><td>true</td><td>1</td><td>1</td></tr><tr><th>4</th><td>true</td><td>3</td><td>9</td></tr></tbody></table>"
      ],
      "text/latex": [
       "\\begin{tabular}{r|ccc}\n",
       "\t& z & x & x²\\\\\n",
       "\t\\hline\n",
       "\t& Bool & Int64 & Int64\\\\\n",
       "\t\\hline\n",
       "\t1 & false & 2 & 4 \\\\\n",
       "\t2 & false & 4 & 16 \\\\\n",
       "\t3 & true & 1 & 1 \\\\\n",
       "\t4 & true & 3 & 9 \\\\\n",
       "\\end{tabular}\n"
      ],
      "text/plain": [
       "4×3 DataFrame\n",
       "│ Row │ z     │ x     │ x²    │\n",
       "│     │ \u001b[90mBool\u001b[39m  │ \u001b[90mInt64\u001b[39m │ \u001b[90mInt64\u001b[39m │\n",
       "├─────┼───────┼───────┼───────┤\n",
       "│ 1   │ false │ 2     │ 4     │\n",
       "│ 2   │ false │ 4     │ 16    │\n",
       "│ 3   │ true  │ 1     │ 1     │\n",
       "│ 4   │ true  │ 3     │ 9     │"
      ]
     },
     "execution_count": 23,
     "metadata": {},
     "output_type": "execute_result"
    }
   ],
   "source": [
    "@linq df |> # цепочка операций в DataFrame\n",
    "    where(:x .< 5) |>\n",
    "    orderby(:z) |>\n",
    "    transform(x²=:x.^2) |>\n",
    "    select(:z, :x, :x²)"
   ]
  },
  {
   "cell_type": "code",
   "execution_count": 24,
   "metadata": {},
   "outputs": [
    {
     "data": {
      "text/plain": [
       "4-element Array{Int64,1}:\n",
       " 1\n",
       " 2\n",
       " 3\n",
       " 4"
      ]
     },
     "execution_count": 24,
     "metadata": {},
     "output_type": "execute_result"
    }
   ],
   "source": [
    "f(df, col) = df[col] # Вы можете определить свои собственные функции и поместить их в цепочку\n",
    "@linq df |> where(:x .<= 4) |> f(:x)"
   ]
  },
  {
   "cell_type": "markdown",
   "metadata": {},
   "source": [
    "### DataFramesMeta - работает на сгруппированных `DataFrame`"
   ]
  },
  {
   "cell_type": "code",
   "execution_count": 25,
   "metadata": {},
   "outputs": [
    {
     "data": {
      "text/html": [
       "<p><b>GroupedDataFrame with 4 groups based on key: b</b></p><p><i>First Group (3 rows): b = 'a'</i></p><table class=\"data-frame\"><thead><tr><th></th><th>a</th><th>b</th></tr><tr><th></th><th>Int64</th><th>Char</th></tr></thead><tbody><tr><th>1</th><td>1</td><td>'a'</td></tr><tr><th>2</th><td>5</td><td>'a'</td></tr><tr><th>3</th><td>9</td><td>'a'</td></tr></tbody></table><p>&vellip;</p><p><i>Last Group (3 rows): b = 'd'</i></p><table class=\"data-frame\"><thead><tr><th></th><th>a</th><th>b</th></tr><tr><th></th><th>Int64</th><th>Char</th></tr></thead><tbody><tr><th>1</th><td>4</td><td>'d'</td></tr><tr><th>2</th><td>8</td><td>'d'</td></tr><tr><th>3</th><td>12</td><td>'d'</td></tr></tbody></table>"
      ],
      "text/latex": [
       "GroupedDataFrame with 4 groups based on key: b\n",
       "\n",
       "First Group (3 rows): b = 'a'\n",
       "\n",
       "\\begin{tabular}{r|cc}\n",
       "\t& a & b\\\\\n",
       "\t\\hline\n",
       "\t& Int64 & Char\\\\\n",
       "\t\\hline\n",
       "\t1 & 1 & 'a' \\\\\n",
       "\t2 & 5 & 'a' \\\\\n",
       "\t3 & 9 & 'a' \\\\\n",
       "\\end{tabular}\n",
       "\n",
       "$\\dots$\n",
       "\n",
       "Last Group (3 rows): b = 'd'\n",
       "\n",
       "\\begin{tabular}{r|cc}\n",
       "\t& a & b\\\\\n",
       "\t\\hline\n",
       "\t& Int64 & Char\\\\\n",
       "\t\\hline\n",
       "\t1 & 4 & 'd' \\\\\n",
       "\t2 & 8 & 'd' \\\\\n",
       "\t3 & 12 & 'd' \\\\\n",
       "\\end{tabular}\n"
      ],
      "text/plain": [
       "GroupedDataFrame with 4 groups based on key: b\n",
       "First Group (3 rows): b = 'a'\n",
       "│ Row │ a     │ b    │\n",
       "│     │ \u001b[90mInt64\u001b[39m │ \u001b[90mChar\u001b[39m │\n",
       "├─────┼───────┼──────┤\n",
       "│ 1   │ 1     │ 'a'  │\n",
       "│ 2   │ 5     │ 'a'  │\n",
       "│ 3   │ 9     │ 'a'  │\n",
       "⋮\n",
       "Last Group (3 rows): b = 'd'\n",
       "│ Row │ a     │ b    │\n",
       "│     │ \u001b[90mInt64\u001b[39m │ \u001b[90mChar\u001b[39m │\n",
       "├─────┼───────┼──────┤\n",
       "│ 1   │ 4     │ 'd'  │\n",
       "│ 2   │ 8     │ 'd'  │\n",
       "│ 3   │ 12    │ 'd'  │"
      ]
     },
     "execution_count": 25,
     "metadata": {},
     "output_type": "execute_result"
    }
   ],
   "source": [
    "df = DataFrame(a = 1:12, b = repeat('a':'d', outer=3))\n",
    "g = groupby(df, :b)"
   ]
  },
  {
   "cell_type": "code",
   "execution_count": 26,
   "metadata": {},
   "outputs": [
    {
     "data": {
      "text/html": [
       "<table class=\"data-frame\"><thead><tr><th></th><th>b</th><th>first</th><th>last</th><th>mean</th></tr><tr><th></th><th>Char</th><th>Int64</th><th>Int64</th><th>Float64</th></tr></thead><tbody><p>4 rows × 4 columns</p><tr><th>1</th><td>'a'</td><td>1</td><td>9</td><td>5.0</td></tr><tr><th>2</th><td>'b'</td><td>2</td><td>10</td><td>6.0</td></tr><tr><th>3</th><td>'c'</td><td>3</td><td>11</td><td>7.0</td></tr><tr><th>4</th><td>'d'</td><td>4</td><td>12</td><td>8.0</td></tr></tbody></table>"
      ],
      "text/latex": [
       "\\begin{tabular}{r|cccc}\n",
       "\t& b & first & last & mean\\\\\n",
       "\t\\hline\n",
       "\t& Char & Int64 & Int64 & Float64\\\\\n",
       "\t\\hline\n",
       "\t1 & 'a' & 1 & 9 & 5.0 \\\\\n",
       "\t2 & 'b' & 2 & 10 & 6.0 \\\\\n",
       "\t3 & 'c' & 3 & 11 & 7.0 \\\\\n",
       "\t4 & 'd' & 4 & 12 & 8.0 \\\\\n",
       "\\end{tabular}\n"
      ],
      "text/plain": [
       "4×4 DataFrame\n",
       "│ Row │ b    │ first │ last  │ mean    │\n",
       "│     │ \u001b[90mChar\u001b[39m │ \u001b[90mInt64\u001b[39m │ \u001b[90mInt64\u001b[39m │ \u001b[90mFloat64\u001b[39m │\n",
       "├─────┼──────┼───────┼───────┼─────────┤\n",
       "│ 1   │ 'a'  │ 1     │ 9     │ 5.0     │\n",
       "│ 2   │ 'b'  │ 2     │ 10    │ 6.0     │\n",
       "│ 3   │ 'c'  │ 3     │ 11    │ 7.0     │\n",
       "│ 4   │ 'd'  │ 4     │ 12    │ 8.0     │"
      ]
     },
     "execution_count": 26,
     "metadata": {},
     "output_type": "execute_result"
    }
   ],
   "source": [
    "using Statistics\n",
    "@by(df, :b, first=first(:a), last=last(:a), mean=mean(:a)) # похож на DataFrames"
   ]
  },
  {
   "cell_type": "code",
   "execution_count": 27,
   "metadata": {},
   "outputs": [
    {
     "data": {
      "text/html": [
       "<table class=\"data-frame\"><thead><tr><th></th><th>b</th><th>first</th><th>last</th><th>mean</th></tr><tr><th></th><th>Char</th><th>Int64</th><th>Int64</th><th>Float64</th></tr></thead><tbody><p>4 rows × 4 columns</p><tr><th>1</th><td>'a'</td><td>1</td><td>9</td><td>5.0</td></tr><tr><th>2</th><td>'b'</td><td>2</td><td>10</td><td>6.0</td></tr><tr><th>3</th><td>'c'</td><td>3</td><td>11</td><td>7.0</td></tr><tr><th>4</th><td>'d'</td><td>4</td><td>12</td><td>8.0</td></tr></tbody></table>"
      ],
      "text/latex": [
       "\\begin{tabular}{r|cccc}\n",
       "\t& b & first & last & mean\\\\\n",
       "\t\\hline\n",
       "\t& Char & Int64 & Int64 & Float64\\\\\n",
       "\t\\hline\n",
       "\t1 & 'a' & 1 & 9 & 5.0 \\\\\n",
       "\t2 & 'b' & 2 & 10 & 6.0 \\\\\n",
       "\t3 & 'c' & 3 & 11 & 7.0 \\\\\n",
       "\t4 & 'd' & 4 & 12 & 8.0 \\\\\n",
       "\\end{tabular}\n"
      ],
      "text/plain": [
       "4×4 DataFrame\n",
       "│ Row │ b    │ first │ last  │ mean    │\n",
       "│     │ \u001b[90mChar\u001b[39m │ \u001b[90mInt64\u001b[39m │ \u001b[90mInt64\u001b[39m │ \u001b[90mFloat64\u001b[39m │\n",
       "├─────┼──────┼───────┼───────┼─────────┤\n",
       "│ 1   │ 'a'  │ 1     │ 9     │ 5.0     │\n",
       "│ 2   │ 'b'  │ 2     │ 10    │ 6.0     │\n",
       "│ 3   │ 'c'  │ 3     │ 11    │ 7.0     │\n",
       "│ 4   │ 'd'  │ 4     │ 12    │ 8.0     │"
      ]
     },
     "execution_count": 27,
     "metadata": {},
     "output_type": "execute_result"
    }
   ],
   "source": [
    "@based_on(g, first=first(:a), last=last(:a), mean=mean(:a)) # также но на сгруппированных DataFrame"
   ]
  },
  {
   "cell_type": "code",
   "execution_count": 28,
   "metadata": {},
   "outputs": [
    {
     "data": {
      "text/html": [
       "<p><b>GroupedDataFrame with 2 groups based on key: b</b></p><p><i>First Group (3 rows): b = 'c'</i></p><table class=\"data-frame\"><thead><tr><th></th><th>a</th><th>b</th></tr><tr><th></th><th>Int64</th><th>Char</th></tr></thead><tbody><tr><th>1</th><td>3</td><td>'c'</td></tr><tr><th>2</th><td>7</td><td>'c'</td></tr><tr><th>3</th><td>11</td><td>'c'</td></tr></tbody></table><p>&vellip;</p><p><i>Last Group (3 rows): b = 'd'</i></p><table class=\"data-frame\"><thead><tr><th></th><th>a</th><th>b</th></tr><tr><th></th><th>Int64</th><th>Char</th></tr></thead><tbody><tr><th>1</th><td>4</td><td>'d'</td></tr><tr><th>2</th><td>8</td><td>'d'</td></tr><tr><th>3</th><td>12</td><td>'d'</td></tr></tbody></table>"
      ],
      "text/latex": [
       "GroupedDataFrame with 2 groups based on key: b\n",
       "\n",
       "First Group (3 rows): b = 'c'\n",
       "\n",
       "\\begin{tabular}{r|cc}\n",
       "\t& a & b\\\\\n",
       "\t\\hline\n",
       "\t& Int64 & Char\\\\\n",
       "\t\\hline\n",
       "\t1 & 3 & 'c' \\\\\n",
       "\t2 & 7 & 'c' \\\\\n",
       "\t3 & 11 & 'c' \\\\\n",
       "\\end{tabular}\n",
       "\n",
       "$\\dots$\n",
       "\n",
       "Last Group (3 rows): b = 'd'\n",
       "\n",
       "\\begin{tabular}{r|cc}\n",
       "\t& a & b\\\\\n",
       "\t\\hline\n",
       "\t& Int64 & Char\\\\\n",
       "\t\\hline\n",
       "\t1 & 4 & 'd' \\\\\n",
       "\t2 & 8 & 'd' \\\\\n",
       "\t3 & 12 & 'd' \\\\\n",
       "\\end{tabular}\n"
      ],
      "text/plain": [
       "GroupedDataFrame with 2 groups based on key: b\n",
       "First Group (3 rows): b = 'c'\n",
       "│ Row │ a     │ b    │\n",
       "│     │ \u001b[90mInt64\u001b[39m │ \u001b[90mChar\u001b[39m │\n",
       "├─────┼───────┼──────┤\n",
       "│ 1   │ 3     │ 'c'  │\n",
       "│ 2   │ 7     │ 'c'  │\n",
       "│ 3   │ 11    │ 'c'  │\n",
       "⋮\n",
       "Last Group (3 rows): b = 'd'\n",
       "│ Row │ a     │ b    │\n",
       "│     │ \u001b[90mInt64\u001b[39m │ \u001b[90mChar\u001b[39m │\n",
       "├─────┼───────┼──────┤\n",
       "│ 1   │ 4     │ 'd'  │\n",
       "│ 2   │ 8     │ 'd'  │\n",
       "│ 3   │ 12    │ 'd'  │"
      ]
     },
     "execution_count": 28,
     "metadata": {},
     "output_type": "execute_result"
    }
   ],
   "source": [
    "@where(g, mean(:a) > 6.5) # Фильтр групп на агрегатных условиях"
   ]
  },
  {
   "cell_type": "code",
   "execution_count": 29,
   "metadata": {},
   "outputs": [
    {
     "data": {
      "text/html": [
       "<p><b>GroupedDataFrame with 4 groups based on key: b</b></p><p><i>First Group (3 rows): b = 'd'</i></p><table class=\"data-frame\"><thead><tr><th></th><th>a</th><th>b</th></tr><tr><th></th><th>Int64</th><th>Char</th></tr></thead><tbody><tr><th>1</th><td>4</td><td>'d'</td></tr><tr><th>2</th><td>8</td><td>'d'</td></tr><tr><th>3</th><td>12</td><td>'d'</td></tr></tbody></table><p>&vellip;</p><p><i>Last Group (3 rows): b = 'a'</i></p><table class=\"data-frame\"><thead><tr><th></th><th>a</th><th>b</th></tr><tr><th></th><th>Int64</th><th>Char</th></tr></thead><tbody><tr><th>1</th><td>1</td><td>'a'</td></tr><tr><th>2</th><td>5</td><td>'a'</td></tr><tr><th>3</th><td>9</td><td>'a'</td></tr></tbody></table>"
      ],
      "text/latex": [
       "GroupedDataFrame with 4 groups based on key: b\n",
       "\n",
       "First Group (3 rows): b = 'd'\n",
       "\n",
       "\\begin{tabular}{r|cc}\n",
       "\t& a & b\\\\\n",
       "\t\\hline\n",
       "\t& Int64 & Char\\\\\n",
       "\t\\hline\n",
       "\t1 & 4 & 'd' \\\\\n",
       "\t2 & 8 & 'd' \\\\\n",
       "\t3 & 12 & 'd' \\\\\n",
       "\\end{tabular}\n",
       "\n",
       "$\\dots$\n",
       "\n",
       "Last Group (3 rows): b = 'a'\n",
       "\n",
       "\\begin{tabular}{r|cc}\n",
       "\t& a & b\\\\\n",
       "\t\\hline\n",
       "\t& Int64 & Char\\\\\n",
       "\t\\hline\n",
       "\t1 & 1 & 'a' \\\\\n",
       "\t2 & 5 & 'a' \\\\\n",
       "\t3 & 9 & 'a' \\\\\n",
       "\\end{tabular}\n"
      ],
      "text/plain": [
       "GroupedDataFrame with 4 groups based on key: b\n",
       "First Group (3 rows): b = 'd'\n",
       "│ Row │ a     │ b    │\n",
       "│     │ \u001b[90mInt64\u001b[39m │ \u001b[90mChar\u001b[39m │\n",
       "├─────┼───────┼──────┤\n",
       "│ 1   │ 4     │ 'd'  │\n",
       "│ 2   │ 8     │ 'd'  │\n",
       "│ 3   │ 12    │ 'd'  │\n",
       "⋮\n",
       "Last Group (3 rows): b = 'a'\n",
       "│ Row │ a     │ b    │\n",
       "│     │ \u001b[90mInt64\u001b[39m │ \u001b[90mChar\u001b[39m │\n",
       "├─────┼───────┼──────┤\n",
       "│ 1   │ 1     │ 'a'  │\n",
       "│ 2   │ 5     │ 'a'  │\n",
       "│ 3   │ 9     │ 'a'  │"
      ]
     },
     "execution_count": 29,
     "metadata": {},
     "output_type": "execute_result"
    }
   ],
   "source": [
    "@orderby(g, -sum(:a)) \n",
    "# порядок групп на совокупных условиях крашится, но должно быть исправлено в будущем"
   ]
  },
  {
   "cell_type": "code",
   "execution_count": 30,
   "metadata": {},
   "outputs": [
    {
     "data": {
      "text/html": [
       "<table class=\"data-frame\"><thead><tr><th></th><th>a</th><th>b</th><th>center</th><th>centered</th></tr><tr><th></th><th>Int64</th><th>Char</th><th>Float64</th><th>Float64</th></tr></thead><tbody><p>12 rows × 4 columns</p><tr><th>1</th><td>1</td><td>'a'</td><td>5.0</td><td>-4.0</td></tr><tr><th>2</th><td>5</td><td>'a'</td><td>5.0</td><td>0.0</td></tr><tr><th>3</th><td>9</td><td>'a'</td><td>5.0</td><td>4.0</td></tr><tr><th>4</th><td>2</td><td>'b'</td><td>6.0</td><td>-4.0</td></tr><tr><th>5</th><td>6</td><td>'b'</td><td>6.0</td><td>0.0</td></tr><tr><th>6</th><td>10</td><td>'b'</td><td>6.0</td><td>4.0</td></tr><tr><th>7</th><td>3</td><td>'c'</td><td>7.0</td><td>-4.0</td></tr><tr><th>8</th><td>7</td><td>'c'</td><td>7.0</td><td>0.0</td></tr><tr><th>9</th><td>11</td><td>'c'</td><td>7.0</td><td>4.0</td></tr><tr><th>10</th><td>4</td><td>'d'</td><td>8.0</td><td>-4.0</td></tr><tr><th>11</th><td>8</td><td>'d'</td><td>8.0</td><td>0.0</td></tr><tr><th>12</th><td>12</td><td>'d'</td><td>8.0</td><td>4.0</td></tr></tbody></table>"
      ],
      "text/latex": [
       "\\begin{tabular}{r|cccc}\n",
       "\t& a & b & center & centered\\\\\n",
       "\t\\hline\n",
       "\t& Int64 & Char & Float64 & Float64\\\\\n",
       "\t\\hline\n",
       "\t1 & 1 & 'a' & 5.0 & -4.0 \\\\\n",
       "\t2 & 5 & 'a' & 5.0 & 0.0 \\\\\n",
       "\t3 & 9 & 'a' & 5.0 & 4.0 \\\\\n",
       "\t4 & 2 & 'b' & 6.0 & -4.0 \\\\\n",
       "\t5 & 6 & 'b' & 6.0 & 0.0 \\\\\n",
       "\t6 & 10 & 'b' & 6.0 & 4.0 \\\\\n",
       "\t7 & 3 & 'c' & 7.0 & -4.0 \\\\\n",
       "\t8 & 7 & 'c' & 7.0 & 0.0 \\\\\n",
       "\t9 & 11 & 'c' & 7.0 & 4.0 \\\\\n",
       "\t10 & 4 & 'd' & 8.0 & -4.0 \\\\\n",
       "\t11 & 8 & 'd' & 8.0 & 0.0 \\\\\n",
       "\t12 & 12 & 'd' & 8.0 & 4.0 \\\\\n",
       "\\end{tabular}\n"
      ],
      "text/plain": [
       "12×4 DataFrame\n",
       "│ Row │ a     │ b    │ center  │ centered │\n",
       "│     │ \u001b[90mInt64\u001b[39m │ \u001b[90mChar\u001b[39m │ \u001b[90mFloat64\u001b[39m │ \u001b[90mFloat64\u001b[39m  │\n",
       "├─────┼───────┼──────┼─────────┼──────────┤\n",
       "│ 1   │ 1     │ 'a'  │ 5.0     │ -4.0     │\n",
       "│ 2   │ 5     │ 'a'  │ 5.0     │ 0.0      │\n",
       "│ 3   │ 9     │ 'a'  │ 5.0     │ 4.0      │\n",
       "│ 4   │ 2     │ 'b'  │ 6.0     │ -4.0     │\n",
       "│ 5   │ 6     │ 'b'  │ 6.0     │ 0.0      │\n",
       "│ 6   │ 10    │ 'b'  │ 6.0     │ 4.0      │\n",
       "│ 7   │ 3     │ 'c'  │ 7.0     │ -4.0     │\n",
       "│ 8   │ 7     │ 'c'  │ 7.0     │ 0.0      │\n",
       "│ 9   │ 11    │ 'c'  │ 7.0     │ 4.0      │\n",
       "│ 10  │ 4     │ 'd'  │ 8.0     │ -4.0     │\n",
       "│ 11  │ 8     │ 'd'  │ 8.0     │ 0.0      │\n",
       "│ 12  │ 12    │ 'd'  │ 8.0     │ 4.0      │"
      ]
     },
     "execution_count": 30,
     "metadata": {},
     "output_type": "execute_result"
    }
   ],
   "source": [
    "@transform(g, center = mean(:a), centered = :a .- mean(:a)) \n",
    "# выполнять операции внутри группы и возвращать неопрятный DataFrame"
   ]
  },
  {
   "cell_type": "code",
   "execution_count": 31,
   "metadata": {},
   "outputs": [
    {
     "data": {
      "text/html": [
       "<table class=\"data-frame\"><thead><tr><th></th><th>a</th><th>b</th></tr><tr><th></th><th>Int64</th><th>Char</th></tr></thead><tbody><p>12 rows × 2 columns</p><tr><th>1</th><td>1</td><td>'a'</td></tr><tr><th>2</th><td>5</td><td>'a'</td></tr><tr><th>3</th><td>9</td><td>'a'</td></tr><tr><th>4</th><td>2</td><td>'b'</td></tr><tr><th>5</th><td>6</td><td>'b'</td></tr><tr><th>6</th><td>10</td><td>'b'</td></tr><tr><th>7</th><td>3</td><td>'c'</td></tr><tr><th>8</th><td>7</td><td>'c'</td></tr><tr><th>9</th><td>11</td><td>'c'</td></tr><tr><th>10</th><td>4</td><td>'d'</td></tr><tr><th>11</th><td>8</td><td>'d'</td></tr><tr><th>12</th><td>12</td><td>'d'</td></tr></tbody></table>"
      ],
      "text/latex": [
       "\\begin{tabular}{r|cc}\n",
       "\t& a & b\\\\\n",
       "\t\\hline\n",
       "\t& Int64 & Char\\\\\n",
       "\t\\hline\n",
       "\t1 & 1 & 'a' \\\\\n",
       "\t2 & 5 & 'a' \\\\\n",
       "\t3 & 9 & 'a' \\\\\n",
       "\t4 & 2 & 'b' \\\\\n",
       "\t5 & 6 & 'b' \\\\\n",
       "\t6 & 10 & 'b' \\\\\n",
       "\t7 & 3 & 'c' \\\\\n",
       "\t8 & 7 & 'c' \\\\\n",
       "\t9 & 11 & 'c' \\\\\n",
       "\t10 & 4 & 'd' \\\\\n",
       "\t11 & 8 & 'd' \\\\\n",
       "\t12 & 12 & 'd' \\\\\n",
       "\\end{tabular}\n"
      ],
      "text/plain": [
       "12×2 DataFrame\n",
       "│ Row │ a     │ b    │\n",
       "│     │ \u001b[90mInt64\u001b[39m │ \u001b[90mChar\u001b[39m │\n",
       "├─────┼───────┼──────┤\n",
       "│ 1   │ 1     │ 'a'  │\n",
       "│ 2   │ 5     │ 'a'  │\n",
       "│ 3   │ 9     │ 'a'  │\n",
       "│ 4   │ 2     │ 'b'  │\n",
       "│ 5   │ 6     │ 'b'  │\n",
       "│ 6   │ 10    │ 'b'  │\n",
       "│ 7   │ 3     │ 'c'  │\n",
       "│ 8   │ 7     │ 'c'  │\n",
       "│ 9   │ 11    │ 'c'  │\n",
       "│ 10  │ 4     │ 'd'  │\n",
       "│ 11  │ 8     │ 'd'  │\n",
       "│ 12  │ 12    │ 'd'  │"
      ]
     },
     "execution_count": 31,
     "metadata": {},
     "output_type": "execute_result"
    }
   ],
   "source": [
    "DataFrame(g) # эквивалентно collect(g)"
   ]
  },
  {
   "cell_type": "code",
   "execution_count": 32,
   "metadata": {},
   "outputs": [
    {
     "data": {
      "text/html": [
       "<table class=\"data-frame\"><thead><tr><th></th><th>a</th><th>b</th></tr><tr><th></th><th>Int64</th><th>Char</th></tr></thead><tbody><p>12 rows × 2 columns</p><tr><th>1</th><td>1</td><td>'a'</td></tr><tr><th>2</th><td>5</td><td>'a'</td></tr><tr><th>3</th><td>9</td><td>'a'</td></tr><tr><th>4</th><td>2</td><td>'b'</td></tr><tr><th>5</th><td>6</td><td>'b'</td></tr><tr><th>6</th><td>10</td><td>'b'</td></tr><tr><th>7</th><td>3</td><td>'c'</td></tr><tr><th>8</th><td>7</td><td>'c'</td></tr><tr><th>9</th><td>11</td><td>'c'</td></tr><tr><th>10</th><td>4</td><td>'d'</td></tr><tr><th>11</th><td>8</td><td>'d'</td></tr><tr><th>12</th><td>12</td><td>'d'</td></tr></tbody></table>"
      ],
      "text/latex": [
       "\\begin{tabular}{r|cc}\n",
       "\t& a & b\\\\\n",
       "\t\\hline\n",
       "\t& Int64 & Char\\\\\n",
       "\t\\hline\n",
       "\t1 & 1 & 'a' \\\\\n",
       "\t2 & 5 & 'a' \\\\\n",
       "\t3 & 9 & 'a' \\\\\n",
       "\t4 & 2 & 'b' \\\\\n",
       "\t5 & 6 & 'b' \\\\\n",
       "\t6 & 10 & 'b' \\\\\n",
       "\t7 & 3 & 'c' \\\\\n",
       "\t8 & 7 & 'c' \\\\\n",
       "\t9 & 11 & 'c' \\\\\n",
       "\t10 & 4 & 'd' \\\\\n",
       "\t11 & 8 & 'd' \\\\\n",
       "\t12 & 12 & 'd' \\\\\n",
       "\\end{tabular}\n"
      ],
      "text/plain": [
       "12×2 DataFrame\n",
       "│ Row │ a     │ b    │\n",
       "│     │ \u001b[90mInt64\u001b[39m │ \u001b[90mChar\u001b[39m │\n",
       "├─────┼───────┼──────┤\n",
       "│ 1   │ 1     │ 'a'  │\n",
       "│ 2   │ 5     │ 'a'  │\n",
       "│ 3   │ 9     │ 'a'  │\n",
       "│ 4   │ 2     │ 'b'  │\n",
       "│ 5   │ 6     │ 'b'  │\n",
       "│ 6   │ 10    │ 'b'  │\n",
       "│ 7   │ 3     │ 'c'  │\n",
       "│ 8   │ 7     │ 'c'  │\n",
       "│ 9   │ 11    │ 'c'  │\n",
       "│ 10  │ 4     │ 'd'  │\n",
       "│ 11  │ 8     │ 'd'  │\n",
       "│ 12  │ 12    │ 'd'  │"
      ]
     },
     "execution_count": 32,
     "metadata": {},
     "output_type": "execute_result"
    }
   ],
   "source": [
    "@transform(g) # на самом деле это то же самое, что DataFrame ()"
   ]
  },
  {
   "cell_type": "code",
   "execution_count": 33,
   "metadata": {},
   "outputs": [
    {
     "data": {
      "text/html": [
       "<table class=\"data-frame\"><thead><tr><th></th><th>a</th><th>b</th></tr><tr><th></th><th>Int64</th><th>Char</th></tr></thead><tbody><p>6 rows × 2 columns</p><tr><th>1</th><td>3</td><td>'c'</td></tr><tr><th>2</th><td>7</td><td>'c'</td></tr><tr><th>3</th><td>11</td><td>'c'</td></tr><tr><th>4</th><td>4</td><td>'d'</td></tr><tr><th>5</th><td>8</td><td>'d'</td></tr><tr><th>6</th><td>12</td><td>'d'</td></tr></tbody></table>"
      ],
      "text/latex": [
       "\\begin{tabular}{r|cc}\n",
       "\t& a & b\\\\\n",
       "\t\\hline\n",
       "\t& Int64 & Char\\\\\n",
       "\t\\hline\n",
       "\t1 & 3 & 'c' \\\\\n",
       "\t2 & 7 & 'c' \\\\\n",
       "\t3 & 11 & 'c' \\\\\n",
       "\t4 & 4 & 'd' \\\\\n",
       "\t5 & 8 & 'd' \\\\\n",
       "\t6 & 12 & 'd' \\\\\n",
       "\\end{tabular}\n"
      ],
      "text/plain": [
       "6×2 DataFrame\n",
       "│ Row │ a     │ b    │\n",
       "│     │ \u001b[90mInt64\u001b[39m │ \u001b[90mChar\u001b[39m │\n",
       "├─────┼───────┼──────┤\n",
       "│ 1   │ 3     │ 'c'  │\n",
       "│ 2   │ 7     │ 'c'  │\n",
       "│ 3   │ 11    │ 'c'  │\n",
       "│ 4   │ 4     │ 'd'  │\n",
       "│ 5   │ 8     │ 'd'  │\n",
       "│ 6   │ 12    │ 'd'  │"
      ]
     },
     "execution_count": 33,
     "metadata": {},
     "output_type": "execute_result"
    }
   ],
   "source": [
    "@linq df |> groupby(:b) |> where(mean(:a) > 6.5) |> DataFrame \n",
    "# Вы также можете создавать цепочки на сгруппированных фреймах данных"
   ]
  },
  {
   "cell_type": "markdown",
   "metadata": {},
   "source": [
    "### DataFramesMeta - операции по строкам в `DataFrame`"
   ]
  },
  {
   "cell_type": "code",
   "execution_count": 34,
   "metadata": {},
   "outputs": [
    {
     "data": {
      "text/html": [
       "<table class=\"data-frame\"><thead><tr><th></th><th>a</th><th>b</th></tr><tr><th></th><th>Int64</th><th>Int64</th></tr></thead><tbody><p>12 rows × 2 columns</p><tr><th>1</th><td>1</td><td>1</td></tr><tr><th>2</th><td>2</td><td>2</td></tr><tr><th>3</th><td>3</td><td>3</td></tr><tr><th>4</th><td>4</td><td>4</td></tr><tr><th>5</th><td>5</td><td>1</td></tr><tr><th>6</th><td>6</td><td>2</td></tr><tr><th>7</th><td>7</td><td>3</td></tr><tr><th>8</th><td>8</td><td>4</td></tr><tr><th>9</th><td>9</td><td>1</td></tr><tr><th>10</th><td>10</td><td>2</td></tr><tr><th>11</th><td>11</td><td>3</td></tr><tr><th>12</th><td>12</td><td>4</td></tr></tbody></table>"
      ],
      "text/latex": [
       "\\begin{tabular}{r|cc}\n",
       "\t& a & b\\\\\n",
       "\t\\hline\n",
       "\t& Int64 & Int64\\\\\n",
       "\t\\hline\n",
       "\t1 & 1 & 1 \\\\\n",
       "\t2 & 2 & 2 \\\\\n",
       "\t3 & 3 & 3 \\\\\n",
       "\t4 & 4 & 4 \\\\\n",
       "\t5 & 5 & 1 \\\\\n",
       "\t6 & 6 & 2 \\\\\n",
       "\t7 & 7 & 3 \\\\\n",
       "\t8 & 8 & 4 \\\\\n",
       "\t9 & 9 & 1 \\\\\n",
       "\t10 & 10 & 2 \\\\\n",
       "\t11 & 11 & 3 \\\\\n",
       "\t12 & 12 & 4 \\\\\n",
       "\\end{tabular}\n"
      ],
      "text/plain": [
       "12×2 DataFrame\n",
       "│ Row │ a     │ b     │\n",
       "│     │ \u001b[90mInt64\u001b[39m │ \u001b[90mInt64\u001b[39m │\n",
       "├─────┼───────┼───────┤\n",
       "│ 1   │ 1     │ 1     │\n",
       "│ 2   │ 2     │ 2     │\n",
       "│ 3   │ 3     │ 3     │\n",
       "│ 4   │ 4     │ 4     │\n",
       "│ 5   │ 5     │ 1     │\n",
       "│ 6   │ 6     │ 2     │\n",
       "│ 7   │ 7     │ 3     │\n",
       "│ 8   │ 8     │ 4     │\n",
       "│ 9   │ 9     │ 1     │\n",
       "│ 10  │ 10    │ 2     │\n",
       "│ 11  │ 11    │ 3     │\n",
       "│ 12  │ 12    │ 4     │"
      ]
     },
     "execution_count": 34,
     "metadata": {},
     "output_type": "execute_result"
    }
   ],
   "source": [
    "df = DataFrame(a = 1:12, b = repeat(1:4, outer=3))"
   ]
  },
  {
   "cell_type": "code",
   "execution_count": 35,
   "metadata": {},
   "outputs": [
    {
     "data": {
      "text/html": [
       "<table class=\"data-frame\"><thead><tr><th></th><th>a</th><th>b</th><th>x</th></tr><tr><th></th><th>Int64</th><th>Int64</th><th>String</th></tr></thead><tbody><p>12 rows × 3 columns</p><tr><th>1</th><td>1</td><td>1</td><td>no</td></tr><tr><th>2</th><td>2</td><td>2</td><td>no</td></tr><tr><th>3</th><td>3</td><td>3</td><td>no</td></tr><tr><th>4</th><td>4</td><td>4</td><td>no</td></tr><tr><th>5</th><td>5</td><td>1</td><td>no</td></tr><tr><th>6</th><td>6</td><td>2</td><td>no</td></tr><tr><th>7</th><td>7</td><td>3</td><td>no</td></tr><tr><th>8</th><td>8</td><td>4</td><td>yes</td></tr><tr><th>9</th><td>9</td><td>1</td><td>no</td></tr><tr><th>10</th><td>10</td><td>2</td><td>no</td></tr><tr><th>11</th><td>11</td><td>3</td><td>no</td></tr><tr><th>12</th><td>12</td><td>4</td><td>yes</td></tr></tbody></table>"
      ],
      "text/latex": [
       "\\begin{tabular}{r|ccc}\n",
       "\t& a & b & x\\\\\n",
       "\t\\hline\n",
       "\t& Int64 & Int64 & String\\\\\n",
       "\t\\hline\n",
       "\t1 & 1 & 1 & no \\\\\n",
       "\t2 & 2 & 2 & no \\\\\n",
       "\t3 & 3 & 3 & no \\\\\n",
       "\t4 & 4 & 4 & no \\\\\n",
       "\t5 & 5 & 1 & no \\\\\n",
       "\t6 & 6 & 2 & no \\\\\n",
       "\t7 & 7 & 3 & no \\\\\n",
       "\t8 & 8 & 4 & yes \\\\\n",
       "\t9 & 9 & 1 & no \\\\\n",
       "\t10 & 10 & 2 & no \\\\\n",
       "\t11 & 11 & 3 & no \\\\\n",
       "\t12 & 12 & 4 & yes \\\\\n",
       "\\end{tabular}\n"
      ],
      "text/plain": [
       "12×3 DataFrame\n",
       "│ Row │ a     │ b     │ x      │\n",
       "│     │ \u001b[90mInt64\u001b[39m │ \u001b[90mInt64\u001b[39m │ \u001b[90mString\u001b[39m │\n",
       "├─────┼───────┼───────┼────────┤\n",
       "│ 1   │ 1     │ 1     │ no     │\n",
       "│ 2   │ 2     │ 2     │ no     │\n",
       "│ 3   │ 3     │ 3     │ no     │\n",
       "│ 4   │ 4     │ 4     │ no     │\n",
       "│ 5   │ 5     │ 1     │ no     │\n",
       "│ 6   │ 6     │ 2     │ no     │\n",
       "│ 7   │ 7     │ 3     │ no     │\n",
       "│ 8   │ 8     │ 4     │ yes    │\n",
       "│ 9   │ 9     │ 1     │ no     │\n",
       "│ 10  │ 10    │ 2     │ no     │\n",
       "│ 11  │ 11    │ 3     │ no     │\n",
       "│ 12  │ 12    │ 4     │ yes    │"
      ]
     },
     "execution_count": 35,
     "metadata": {},
     "output_type": "execute_result"
    }
   ],
   "source": [
    "# такие условия часто необходимы, но их сложно написать\n",
    "@transform(df, x = ifelse.((:a .> 6) .& (:b .== 4), \"yes\", \"no\"))"
   ]
  },
  {
   "cell_type": "code",
   "execution_count": 36,
   "metadata": {},
   "outputs": [
    {
     "data": {
      "text/html": [
       "<table class=\"data-frame\"><thead><tr><th></th><th>a</th><th>b</th><th>x</th></tr><tr><th></th><th>Int64</th><th>Int64</th><th>String</th></tr></thead><tbody><p>12 rows × 3 columns</p><tr><th>1</th><td>1</td><td>1</td><td>no</td></tr><tr><th>2</th><td>2</td><td>2</td><td>no</td></tr><tr><th>3</th><td>3</td><td>3</td><td>no</td></tr><tr><th>4</th><td>4</td><td>4</td><td>no</td></tr><tr><th>5</th><td>5</td><td>1</td><td>no</td></tr><tr><th>6</th><td>6</td><td>2</td><td>no</td></tr><tr><th>7</th><td>7</td><td>3</td><td>no</td></tr><tr><th>8</th><td>8</td><td>4</td><td>yes</td></tr><tr><th>9</th><td>9</td><td>1</td><td>no</td></tr><tr><th>10</th><td>10</td><td>2</td><td>no</td></tr><tr><th>11</th><td>11</td><td>3</td><td>no</td></tr><tr><th>12</th><td>12</td><td>4</td><td>yes</td></tr></tbody></table>"
      ],
      "text/latex": [
       "\\begin{tabular}{r|ccc}\n",
       "\t& a & b & x\\\\\n",
       "\t\\hline\n",
       "\t& Int64 & Int64 & String\\\\\n",
       "\t\\hline\n",
       "\t1 & 1 & 1 & no \\\\\n",
       "\t2 & 2 & 2 & no \\\\\n",
       "\t3 & 3 & 3 & no \\\\\n",
       "\t4 & 4 & 4 & no \\\\\n",
       "\t5 & 5 & 1 & no \\\\\n",
       "\t6 & 6 & 2 & no \\\\\n",
       "\t7 & 7 & 3 & no \\\\\n",
       "\t8 & 8 & 4 & yes \\\\\n",
       "\t9 & 9 & 1 & no \\\\\n",
       "\t10 & 10 & 2 & no \\\\\n",
       "\t11 & 11 & 3 & no \\\\\n",
       "\t12 & 12 & 4 & yes \\\\\n",
       "\\end{tabular}\n"
      ],
      "text/plain": [
       "12×3 DataFrame\n",
       "│ Row │ a     │ b     │ x      │\n",
       "│     │ \u001b[90mInt64\u001b[39m │ \u001b[90mInt64\u001b[39m │ \u001b[90mString\u001b[39m │\n",
       "├─────┼───────┼───────┼────────┤\n",
       "│ 1   │ 1     │ 1     │ no     │\n",
       "│ 2   │ 2     │ 2     │ no     │\n",
       "│ 3   │ 3     │ 3     │ no     │\n",
       "│ 4   │ 4     │ 4     │ no     │\n",
       "│ 5   │ 5     │ 1     │ no     │\n",
       "│ 6   │ 6     │ 2     │ no     │\n",
       "│ 7   │ 7     │ 3     │ no     │\n",
       "│ 8   │ 8     │ 4     │ yes    │\n",
       "│ 9   │ 9     │ 1     │ no     │\n",
       "│ 10  │ 10    │ 2     │ no     │\n",
       "│ 11  │ 11    │ 3     │ no     │\n",
       "│ 12  │ 12    │ 4     │ yes    │"
      ]
     },
     "execution_count": 36,
     "metadata": {},
     "output_type": "execute_result"
    }
   ],
   "source": [
    "# Одним из вариантов является использование функции, которая работает на одном view и транслирует его\n",
    "myfun(a, b) = a > 6 && b == 4 ? \"yes\" : \"no\"\n",
    "@transform(df, x = myfun.(:a, :b))"
   ]
  },
  {
   "cell_type": "code",
   "execution_count": 37,
   "metadata": {},
   "outputs": [
    {
     "data": {
      "text/html": [
       "<table class=\"data-frame\"><thead><tr><th></th><th>a</th><th>b</th><th>x</th></tr><tr><th></th><th>Int64</th><th>Int64</th><th>String</th></tr></thead><tbody><p>12 rows × 3 columns</p><tr><th>1</th><td>1</td><td>1</td><td>no</td></tr><tr><th>2</th><td>2</td><td>2</td><td>no</td></tr><tr><th>3</th><td>3</td><td>3</td><td>no</td></tr><tr><th>4</th><td>4</td><td>4</td><td>no</td></tr><tr><th>5</th><td>5</td><td>1</td><td>no</td></tr><tr><th>6</th><td>6</td><td>2</td><td>no</td></tr><tr><th>7</th><td>7</td><td>3</td><td>no</td></tr><tr><th>8</th><td>8</td><td>4</td><td>yes</td></tr><tr><th>9</th><td>9</td><td>1</td><td>no</td></tr><tr><th>10</th><td>10</td><td>2</td><td>no</td></tr><tr><th>11</th><td>11</td><td>3</td><td>no</td></tr><tr><th>12</th><td>12</td><td>4</td><td>yes</td></tr></tbody></table>"
      ],
      "text/latex": [
       "\\begin{tabular}{r|ccc}\n",
       "\t& a & b & x\\\\\n",
       "\t\\hline\n",
       "\t& Int64 & Int64 & String\\\\\n",
       "\t\\hline\n",
       "\t1 & 1 & 1 & no \\\\\n",
       "\t2 & 2 & 2 & no \\\\\n",
       "\t3 & 3 & 3 & no \\\\\n",
       "\t4 & 4 & 4 & no \\\\\n",
       "\t5 & 5 & 1 & no \\\\\n",
       "\t6 & 6 & 2 & no \\\\\n",
       "\t7 & 7 & 3 & no \\\\\n",
       "\t8 & 8 & 4 & yes \\\\\n",
       "\t9 & 9 & 1 & no \\\\\n",
       "\t10 & 10 & 2 & no \\\\\n",
       "\t11 & 11 & 3 & no \\\\\n",
       "\t12 & 12 & 4 & yes \\\\\n",
       "\\end{tabular}\n"
      ],
      "text/plain": [
       "12×3 DataFrame\n",
       "│ Row │ a     │ b     │ x      │\n",
       "│     │ \u001b[90mInt64\u001b[39m │ \u001b[90mInt64\u001b[39m │ \u001b[90mString\u001b[39m │\n",
       "├─────┼───────┼───────┼────────┤\n",
       "│ 1   │ 1     │ 1     │ no     │\n",
       "│ 2   │ 2     │ 2     │ no     │\n",
       "│ 3   │ 3     │ 3     │ no     │\n",
       "│ 4   │ 4     │ 4     │ no     │\n",
       "│ 5   │ 5     │ 1     │ no     │\n",
       "│ 6   │ 6     │ 2     │ no     │\n",
       "│ 7   │ 7     │ 3     │ no     │\n",
       "│ 8   │ 8     │ 4     │ yes    │\n",
       "│ 9   │ 9     │ 1     │ no     │\n",
       "│ 10  │ 10    │ 2     │ no     │\n",
       "│ 11  │ 11    │ 3     │ no     │\n",
       "│ 12  │ 12    │ 4     │ yes    │"
      ]
     },
     "execution_count": 37,
     "metadata": {},
     "output_type": "execute_result"
    }
   ],
   "source": [
    "# или вы можете использовать @byrow! макрос, который позволяет обрабатывать DataFrame по очереди\n",
    "@byrow! df begin\n",
    "    @newcol x::Vector{String}\n",
    "    :x = :a > 6 && :b == 4 ? \"yes\" : \"no\"\n",
    "end"
   ]
  },
  {
   "cell_type": "markdown",
   "metadata": {},
   "source": [
    "### Визуализация данных с StatsPlots"
   ]
  },
  {
   "cell_type": "code",
   "execution_count": 38,
   "metadata": {},
   "outputs": [],
   "source": [
    "using StatsPlots \n",
    "# вам может понадобиться сначала установить пакет Plots и какой-нибудь бэкэнд для печати\n",
    "default(fmt=:png)"
   ]
  },
  {
   "cell_type": "code",
   "execution_count": 39,
   "metadata": {},
   "outputs": [],
   "source": [
    "# мы представляем только минимальную функциональность пакета"
   ]
  },
  {
   "cell_type": "code",
   "execution_count": 40,
   "metadata": {},
   "outputs": [],
   "source": [
    "using Random\n",
    "Random.seed!(1)\n",
    "df = DataFrame(x = sort(randn(1000)), y=randn(1000), z = [fill(\"b\", 500); fill(\"a\", 500)]);"
   ]
  },
  {
   "cell_type": "code",
   "execution_count": 41,
   "metadata": {},
   "outputs": [
    {
     "data": {
      "image/png": "[encoded data removed]"
     },
     "execution_count": 41,
     "metadata": {},
     "output_type": "execute_result"
    }
   ],
   "source": [
    "@df df plot(:x, :y, legend=:topleft, label=\"y(x)\") # a most basic plot"
   ]
  },
  {
   "cell_type": "code",
   "execution_count": 42,
   "metadata": {},
   "outputs": [
    {
     "data": {
      "image/png": "[encoded data removed]"
     },
     "execution_count": 42,
     "metadata": {},
     "output_type": "execute_result"
    }
   ],
   "source": [
    "@df df density(:x, label=\"\") # density plot"
   ]
  },
  {
   "cell_type": "code",
   "execution_count": 43,
   "metadata": {},
   "outputs": [
    {
     "data": {
      "image/png": "[encoded data removed]"
     },
     "execution_count": 43,
     "metadata": {},
     "output_type": "execute_result"
    }
   ],
   "source": [
    "@df df histogram(:y, label=\"y\") # and a histogram"
   ]
  },
  {
   "cell_type": "code",
   "execution_count": 44,
   "metadata": {},
   "outputs": [
    {
     "data": {
      "image/png": "[encoded data removed]"
     },
     "execution_count": 44,
     "metadata": {},
     "output_type": "execute_result"
    }
   ],
   "source": [
    "@df df boxplot(:z, :x, label=\"x\")"
   ]
  },
  {
   "cell_type": "code",
   "execution_count": 45,
   "metadata": {},
   "outputs": [
    {
     "data": {
      "image/png": "[encoded data removed]"
     },
     "execution_count": 45,
     "metadata": {},
     "output_type": "execute_result"
    }
   ],
   "source": [
    "@df df violin(:z, :y, label=\"y\") "
   ]
  }
 ],
 "metadata": {
  "kernelspec": {
   "display_name": "Julia 1.1.0",
   "language": "julia",
   "name": "julia-1.1"
  },
  "language_info": {
   "file_extension": ".jl",
   "mimetype": "application/julia",
   "name": "julia",
   "version": "1.1.0"
  }
 },
 "nbformat": 4,
 "nbformat_minor": 1
}
