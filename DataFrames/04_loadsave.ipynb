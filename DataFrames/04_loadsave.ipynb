{
 "cells": [
  {
   "cell_type": "markdown",
   "metadata": {},
   "source": [
    "# Introduction to DataFrames\n",
    "**[Bogumił Kamiński](http://bogumilkaminski.pl/about/), January 27, 2019**"
   ]
  },
  {
   "cell_type": "code",
   "execution_count": 1,
   "metadata": {},
   "outputs": [],
   "source": [
    "using DataFrames # load package"
   ]
  },
  {
   "cell_type": "markdown",
   "metadata": {},
   "source": [
    "## Загрузка и сохранение DataFrames\n",
    "\n",
    "[CSV](https://github.com/JuliaData/CSV.jl)\n",
    "\n",
    "[Whats the difference between csv and csvfiles](https://discourse.julialang.org/t/whats-the-difference-between-csv-jl-and-csvfiles-jl/17950/2)\n",
    "\n",
    "[JLD2](https://github.com/JuliaIO/JLD2.jl)\n",
    "\n",
    "[Feather](https://github.com/JuliaData/Feather.jl)\n",
    "\n",
    "[Serialization](https://github.com/JuliaStdlibs/Serialization.jl)\n",
    "\n",
    "Здесь мы загрузим `CSV` и` CSVFiles` для чтения и записи файлов CSV, а также `JLD2`,` Feather` и `Serialization`, которые позволяют нам работать с двоичным форматом."
   ]
  },
  {
   "cell_type": "code",
   "execution_count": null,
   "metadata": {},
   "outputs": [],
   "source": [
    "using Pkg\n",
    "Pkg.add(\"CSV\")\n",
    "Pkg.add(\"CSVFiles\")\n",
    "Pkg.add(\"JLD2\")\n",
    "Pkg.add(\"Serialization\")\n",
    "Pkg.add(\"Feather\")"
   ]
  },
  {
   "cell_type": "code",
   "execution_count": 2,
   "metadata": {},
   "outputs": [],
   "source": [
    "using CSV\n",
    "using CSVFiles\n",
    "using JLD2\n",
    "using Serialization\n",
    "using Feather"
   ]
  },
  {
   "cell_type": "markdown",
   "metadata": {},
   "source": [
    "Давайте создадим простой DataFrame для тестирования,"
   ]
  },
  {
   "cell_type": "code",
   "execution_count": 3,
   "metadata": {},
   "outputs": [
    {
     "data": {
      "text/html": [
       "<table class=\"data-frame\"><thead><tr><th></th><th>A</th><th>B</th><th>C</th><th>D</th></tr><tr><th></th><th>Bool</th><th>Int64⍰</th><th>String⍰</th><th>Char⍰</th></tr></thead><tbody><p>3 rows × 4 columns</p><tr><th>1</th><td>true</td><td>1</td><td>missing</td><td>'a'</td></tr><tr><th>2</th><td>false</td><td>2</td><td>b</td><td>missing</td></tr><tr><th>3</th><td>true</td><td>missing</td><td>c</td><td>'c'</td></tr></tbody></table>"
      ],
      "text/latex": [
       "\\begin{tabular}{r|cccc}\n",
       "\t& A & B & C & D\\\\\n",
       "\t\\hline\n",
       "\t& Bool & Int64⍰ & String⍰ & Char⍰\\\\\n",
       "\t\\hline\n",
       "\t1 & true & 1 &  & 'a' \\\\\n",
       "\t2 & false & 2 & b &  \\\\\n",
       "\t3 & true &  & c & 'c' \\\\\n",
       "\\end{tabular}\n"
      ],
      "text/plain": [
       "3×4 DataFrame\n",
       "│ Row │ A     │ B       │ C       │ D       │\n",
       "│     │ \u001b[90mBool\u001b[39m  │ \u001b[90mInt64⍰\u001b[39m  │ \u001b[90mString⍰\u001b[39m │ \u001b[90mChar⍰\u001b[39m   │\n",
       "├─────┼───────┼─────────┼─────────┼─────────┤\n",
       "│ 1   │ true  │ 1       │ \u001b[90mmissing\u001b[39m │ 'a'     │\n",
       "│ 2   │ false │ 2       │ b       │ \u001b[90mmissing\u001b[39m │\n",
       "│ 3   │ true  │ \u001b[90mmissing\u001b[39m │ c       │ 'c'     │"
      ]
     },
     "execution_count": 3,
     "metadata": {},
     "output_type": "execute_result"
    }
   ],
   "source": [
    "x = DataFrame(A=[true, false, true], B=[1, 2, missing],\n",
    "              C=[missing, \"b\", \"c\"], D=['a', missing, 'c'])\n"
   ]
  },
  {
   "cell_type": "markdown",
   "metadata": {},
   "source": [
    "и используйте `eltypes`, чтобы посмотреть на типы столбцов."
   ]
  },
  {
   "cell_type": "code",
   "execution_count": 4,
   "metadata": {},
   "outputs": [
    {
     "data": {
      "text/plain": [
       "4-element Array{Type,1}:\n",
       " Bool                  \n",
       " Union{Missing, Int64} \n",
       " Union{Missing, String}\n",
       " Union{Missing, Char}  "
      ]
     },
     "execution_count": 4,
     "metadata": {},
     "output_type": "execute_result"
    }
   ],
   "source": [
    "eltypes(x)"
   ]
  },
  {
   "cell_type": "markdown",
   "metadata": {},
   "source": [
    "### CSV.jl"
   ]
  },
  {
   "cell_type": "markdown",
   "metadata": {},
   "source": [
    "Давайте использовать `CSV` для сохранения` x` на диск; убедитесь, что `x1.csv` не конфликтует с каким-либо файлом в вашем рабочем каталоге."
   ]
  },
  {
   "cell_type": "code",
   "execution_count": 5,
   "metadata": {},
   "outputs": [
    {
     "data": {
      "text/plain": [
       "\"x1.csv\""
      ]
     },
     "execution_count": 5,
     "metadata": {},
     "output_type": "execute_result"
    }
   ],
   "source": [
    "CSV.write(\"x1.csv\", x)"
   ]
  },
  {
   "cell_type": "markdown",
   "metadata": {},
   "source": [
    "Теперь мы можем увидеть, как это было сохранено, прочитав `x.csv`."
   ]
  },
  {
   "cell_type": "code",
   "execution_count": 6,
   "metadata": {},
   "outputs": [
    {
     "name": "stdout",
     "output_type": "stream",
     "text": [
      "A,B,C,D\n",
      "true,1,,a\n",
      "false,2,b,\n",
      "true,,c,c\n"
     ]
    }
   ],
   "source": [
    "print(read(\"x1.csv\", String))"
   ]
  },
  {
   "cell_type": "markdown",
   "metadata": {},
   "source": [
    "Мы также можем загрузить его обратно (`use_mmap = false` отключает отображение памяти, так что в Windows файл может быть удален в том же сеансе, в других ОС он не нужен)."
   ]
  },
  {
   "cell_type": "code",
   "execution_count": 7,
   "metadata": {},
   "outputs": [
    {
     "data": {
      "text/html": [
       "<table class=\"data-frame\"><thead><tr><th></th><th>A</th><th>B</th><th>C</th><th>D</th></tr><tr><th></th><th>Bool⍰</th><th>Int64⍰</th><th>String⍰</th><th>String⍰</th></tr></thead><tbody><p>3 rows × 4 columns</p><tr><th>1</th><td>true</td><td>1</td><td>missing</td><td>a</td></tr><tr><th>2</th><td>false</td><td>2</td><td>b</td><td>missing</td></tr><tr><th>3</th><td>true</td><td>missing</td><td>c</td><td>c</td></tr></tbody></table>"
      ],
      "text/latex": [
       "\\begin{tabular}{r|cccc}\n",
       "\t& A & B & C & D\\\\\n",
       "\t\\hline\n",
       "\t& Bool⍰ & Int64⍰ & String⍰ & String⍰\\\\\n",
       "\t\\hline\n",
       "\t1 & true & 1 &  & a \\\\\n",
       "\t2 & false & 2 & b &  \\\\\n",
       "\t3 & true &  & c & c \\\\\n",
       "\\end{tabular}\n"
      ],
      "text/plain": [
       "3×4 DataFrame\n",
       "│ Row │ A     │ B       │ C       │ D       │\n",
       "│     │ \u001b[90mBool⍰\u001b[39m │ \u001b[90mInt64⍰\u001b[39m  │ \u001b[90mString⍰\u001b[39m │ \u001b[90mString⍰\u001b[39m │\n",
       "├─────┼───────┼─────────┼─────────┼─────────┤\n",
       "│ 1   │ true  │ 1       │ \u001b[90mmissing\u001b[39m │ a       │\n",
       "│ 2   │ false │ 2       │ b       │ \u001b[90mmissing\u001b[39m │\n",
       "│ 3   │ true  │ \u001b[90mmissing\u001b[39m │ c       │ c       │"
      ]
     },
     "execution_count": 7,
     "metadata": {},
     "output_type": "execute_result"
    }
   ],
   "source": [
    "y = CSV.read(\"x1.csv\", use_mmap=false)"
   ]
  },
  {
   "cell_type": "markdown",
   "metadata": {},
   "source": [
    "При загрузке в `DataFrame` из` CSV`, все столбцы разрешают `Missing` по умолчанию. Обратите внимание, что типы столбцов изменились!"
   ]
  },
  {
   "cell_type": "code",
   "execution_count": 8,
   "metadata": {},
   "outputs": [
    {
     "data": {
      "text/plain": [
       "4-element Array{Union,1}:\n",
       " Union{Missing, Bool}  \n",
       " Union{Missing, Int64} \n",
       " Union{Missing, String}\n",
       " Union{Missing, String}"
      ]
     },
     "execution_count": 8,
     "metadata": {},
     "output_type": "execute_result"
    }
   ],
   "source": [
    "eltypes(y)"
   ]
  },
  {
   "cell_type": "markdown",
   "metadata": {},
   "source": [
    "### CSVFiles.jl"
   ]
  },
  {
   "cell_type": "markdown",
   "metadata": {},
   "source": [
    "Теперь мы будем использовать `CSVFiles` для достижения того же. Сначала мы сохраняем файл. Обратите внимание, что мы переопределяем по умолчанию `nastring`, то есть` 'NA' `, потому что у нас есть пропуски в нечисловых столбцах."
   ]
  },
  {
   "cell_type": "code",
   "execution_count": 9,
   "metadata": {},
   "outputs": [],
   "source": [
    "x |> save(\"x2.csv\", nastring=\"\")"
   ]
  },
  {
   "cell_type": "markdown",
   "metadata": {},
   "source": [
    "и посмотреть сохраненный файл:"
   ]
  },
  {
   "cell_type": "code",
   "execution_count": 10,
   "metadata": {},
   "outputs": [
    {
     "name": "stdout",
     "output_type": "stream",
     "text": [
      "\"A\",\"B\",\"C\",\"D\"\n",
      "true,1,,a\n",
      "false,2,\"b\",\n",
      "true,,\"c\",c\n"
     ]
    }
   ],
   "source": [
    "print(read(\"x2.csv\", String))"
   ]
  },
  {
   "cell_type": "markdown",
   "metadata": {},
   "source": [
    "Мы можем загрузить его обратно, используя `load`:"
   ]
  },
  {
   "cell_type": "code",
   "execution_count": 11,
   "metadata": {},
   "outputs": [
    {
     "data": {
      "text/html": [
       "<table class=\"data-frame\"><thead><tr><th></th><th>A</th><th>B</th><th>C</th><th>D</th></tr><tr><th></th><th>String</th><th>Int64⍰</th><th>String</th><th>String</th></tr></thead><tbody><p>3 rows × 4 columns</p><tr><th>1</th><td>true</td><td>1</td><td></td><td>a</td></tr><tr><th>2</th><td>false</td><td>2</td><td>b</td><td></td></tr><tr><th>3</th><td>true</td><td>missing</td><td>c</td><td>c</td></tr></tbody></table>"
      ],
      "text/latex": [
       "\\begin{tabular}{r|cccc}\n",
       "\t& A & B & C & D\\\\\n",
       "\t\\hline\n",
       "\t& String & Int64⍰ & String & String\\\\\n",
       "\t\\hline\n",
       "\t1 & true & 1 &  & a \\\\\n",
       "\t2 & false & 2 & b &  \\\\\n",
       "\t3 & true &  & c & c \\\\\n",
       "\\end{tabular}\n"
      ],
      "text/plain": [
       "3×4 DataFrame\n",
       "│ Row │ A      │ B       │ C      │ D      │\n",
       "│     │ \u001b[90mString\u001b[39m │ \u001b[90mInt64⍰\u001b[39m  │ \u001b[90mString\u001b[39m │ \u001b[90mString\u001b[39m │\n",
       "├─────┼────────┼─────────┼────────┼────────┤\n",
       "│ 1   │ true   │ 1       │        │ a      │\n",
       "│ 2   │ false  │ 2       │ b      │        │\n",
       "│ 3   │ true   │ \u001b[90mmissing\u001b[39m │ c      │ c      │"
      ]
     },
     "execution_count": 11,
     "metadata": {},
     "output_type": "execute_result"
    }
   ],
   "source": [
    "y = load(\"x2.csv\") |> DataFrame"
   ]
  },
  {
   "cell_type": "markdown",
   "metadata": {},
   "source": [
    "Давайте еще раз проверим типы элементов:"
   ]
  },
  {
   "cell_type": "code",
   "execution_count": 12,
   "metadata": {},
   "outputs": [
    {
     "data": {
      "text/plain": [
       "4-element Array{Type,1}:\n",
       " String               \n",
       " Union{Missing, Int64}\n",
       " String               \n",
       " String               "
      ]
     },
     "execution_count": 12,
     "metadata": {},
     "output_type": "execute_result"
    }
   ],
   "source": [
    "eltypes(y)"
   ]
  },
  {
   "cell_type": "markdown",
   "metadata": {},
   "source": [
    "Обратите внимание, что в столбцах `:C` и `:D` пропуски считывались как пустые строки"
   ]
  },
  {
   "cell_type": "markdown",
   "metadata": {},
   "source": [
    "### JLD2.jl"
   ]
  },
  {
   "cell_type": "markdown",
   "metadata": {},
   "source": [
    "Теперь давайте сохраним `x` в файл в двоичном формате; убедитесь, что `x.jld` не существует в вашем рабочем каталоге."
   ]
  },
  {
   "cell_type": "code",
   "execution_count": 13,
   "metadata": {},
   "outputs": [],
   "source": [
    "@save \"x.jld2\" x"
   ]
  },
  {
   "cell_type": "markdown",
   "metadata": {},
   "source": [
    "После загрузки в `x.jld2` как` y`, `y` идентично` x`."
   ]
  },
  {
   "cell_type": "code",
   "execution_count": 14,
   "metadata": {},
   "outputs": [
    {
     "data": {
      "text/html": [
       "<table class=\"data-frame\"><thead><tr><th></th><th>A</th><th>B</th><th>C</th><th>D</th></tr><tr><th></th><th>Bool</th><th>Int64⍰</th><th>String⍰</th><th>Char⍰</th></tr></thead><tbody><p>3 rows × 4 columns</p><tr><th>1</th><td>true</td><td>1</td><td>missing</td><td>'a'</td></tr><tr><th>2</th><td>false</td><td>2</td><td>b</td><td>missing</td></tr><tr><th>3</th><td>true</td><td>missing</td><td>c</td><td>missing</td></tr></tbody></table>"
      ],
      "text/latex": [
       "\\begin{tabular}{r|cccc}\n",
       "\t& A & B & C & D\\\\\n",
       "\t\\hline\n",
       "\t& Bool & Int64⍰ & String⍰ & Char⍰\\\\\n",
       "\t\\hline\n",
       "\t1 & true & 1 &  & 'a' \\\\\n",
       "\t2 & false & 2 & b &  \\\\\n",
       "\t3 & true &  & c &  \\\\\n",
       "\\end{tabular}\n"
      ],
      "text/plain": [
       "3×4 DataFrame\n",
       "│ Row │ A     │ B       │ C       │ D       │\n",
       "│     │ \u001b[90mBool\u001b[39m  │ \u001b[90mInt64⍰\u001b[39m  │ \u001b[90mString⍰\u001b[39m │ \u001b[90mChar⍰\u001b[39m   │\n",
       "├─────┼───────┼─────────┼─────────┼─────────┤\n",
       "│ 1   │ true  │ 1       │ \u001b[90mmissing\u001b[39m │ 'a'     │\n",
       "│ 2   │ false │ 2       │ b       │ \u001b[90mmissing\u001b[39m │\n",
       "│ 3   │ true  │ \u001b[90mmissing\u001b[39m │ c       │ \u001b[90mmissing\u001b[39m │"
      ]
     },
     "execution_count": 14,
     "metadata": {},
     "output_type": "execute_result"
    }
   ],
   "source": [
    "using FileIO # необходимо для функционального интерфейса с JLD2, расширение 'jld2' обязательно для определения типа файла\n",
    "y = load(\"x.jld2\", \"x\")"
   ]
  },
  {
   "cell_type": "markdown",
   "metadata": {},
   "source": [
    "Обратите внимание, что типы столбцов `y` совпадают с типами столбцов` x`!"
   ]
  },
  {
   "cell_type": "code",
   "execution_count": 15,
   "metadata": {},
   "outputs": [
    {
     "data": {
      "text/plain": [
       "4-element Array{Type,1}:\n",
       " Bool                  \n",
       " Union{Missing, Int64} \n",
       " Union{Missing, String}\n",
       " Union{Missing, Char}  "
      ]
     },
     "execution_count": 15,
     "metadata": {},
     "output_type": "execute_result"
    }
   ],
   "source": [
    "eltypes(y)"
   ]
  },
  {
   "cell_type": "markdown",
   "metadata": {},
   "source": [
    "### Serialization"
   ]
  },
  {
   "cell_type": "markdown",
   "metadata": {},
   "source": [
    "Теперь мы используем сериализацию для сохранения `x`. Обратите внимание, что в общем случае этот процесс не будет работать, если чтение и запись выполняются разными версиями Julia или экземпляром Julia с другим системным образом."
   ]
  },
  {
   "cell_type": "code",
   "execution_count": 16,
   "metadata": {},
   "outputs": [],
   "source": [
    "open(\"x.bin\", \"w\") do io\n",
    "    serialize(io, x)\n",
    "end"
   ]
  },
  {
   "cell_type": "markdown",
   "metadata": {},
   "source": [
    "Теперь мы загружаем обратно сохраненный файл в переменную `y`. Снова `y` идентично` x`."
   ]
  },
  {
   "cell_type": "code",
   "execution_count": 17,
   "metadata": {},
   "outputs": [
    {
     "data": {
      "text/html": [
       "<table class=\"data-frame\"><thead><tr><th></th><th>A</th><th>B</th><th>C</th><th>D</th></tr><tr><th></th><th>Bool</th><th>Int64⍰</th><th>String⍰</th><th>Char⍰</th></tr></thead><tbody><p>3 rows × 4 columns</p><tr><th>1</th><td>true</td><td>1</td><td>missing</td><td>'a'</td></tr><tr><th>2</th><td>false</td><td>2</td><td>b</td><td>missing</td></tr><tr><th>3</th><td>true</td><td>missing</td><td>c</td><td>'c'</td></tr></tbody></table>"
      ],
      "text/latex": [
       "\\begin{tabular}{r|cccc}\n",
       "\t& A & B & C & D\\\\\n",
       "\t\\hline\n",
       "\t& Bool & Int64⍰ & String⍰ & Char⍰\\\\\n",
       "\t\\hline\n",
       "\t1 & true & 1 &  & 'a' \\\\\n",
       "\t2 & false & 2 & b &  \\\\\n",
       "\t3 & true &  & c & 'c' \\\\\n",
       "\\end{tabular}\n"
      ],
      "text/plain": [
       "3×4 DataFrame\n",
       "│ Row │ A     │ B       │ C       │ D       │\n",
       "│     │ \u001b[90mBool\u001b[39m  │ \u001b[90mInt64⍰\u001b[39m  │ \u001b[90mString⍰\u001b[39m │ \u001b[90mChar⍰\u001b[39m   │\n",
       "├─────┼───────┼─────────┼─────────┼─────────┤\n",
       "│ 1   │ true  │ 1       │ \u001b[90mmissing\u001b[39m │ 'a'     │\n",
       "│ 2   │ false │ 2       │ b       │ \u001b[90mmissing\u001b[39m │\n",
       "│ 3   │ true  │ \u001b[90mmissing\u001b[39m │ c       │ 'c'     │"
      ]
     },
     "execution_count": 17,
     "metadata": {},
     "output_type": "execute_result"
    }
   ],
   "source": [
    "y = open(deserialize, \"x.bin\")"
   ]
  },
  {
   "cell_type": "code",
   "execution_count": 18,
   "metadata": {},
   "outputs": [
    {
     "data": {
      "text/plain": [
       "4-element Array{Type,1}:\n",
       " Bool                  \n",
       " Union{Missing, Int64} \n",
       " Union{Missing, String}\n",
       " Union{Missing, Char}  "
      ]
     },
     "execution_count": 18,
     "metadata": {},
     "output_type": "execute_result"
    }
   ],
   "source": [
    "eltypes(y)"
   ]
  },
  {
   "cell_type": "markdown",
   "metadata": {},
   "source": [
    "### Feather.jl"
   ]
  },
  {
   "cell_type": "markdown",
   "metadata": {},
   "source": [
    "Наконец, мы используем формат Feather, который позволяет, в частности, обмениваться данными с R или Python."
   ]
  },
  {
   "cell_type": "code",
   "execution_count": 19,
   "metadata": {},
   "outputs": [
    {
     "data": {
      "text/plain": [
       "3-element Array{Union{Missing, String},1}:\n",
       " \"a\"    \n",
       " missing\n",
       " \"c\"    "
      ]
     },
     "execution_count": 19,
     "metadata": {},
     "output_type": "execute_result"
    }
   ],
   "source": [
    "x.D = passmissing(string).(x.D) # Feather format does not support Char type"
   ]
  },
  {
   "cell_type": "code",
   "execution_count": 20,
   "metadata": {},
   "outputs": [
    {
     "data": {
      "text/plain": [
       "\"x.feather\""
      ]
     },
     "execution_count": 20,
     "metadata": {},
     "output_type": "execute_result"
    }
   ],
   "source": [
    "Feather.write(\"x.feather\", x)"
   ]
  },
  {
   "cell_type": "code",
   "execution_count": 21,
   "metadata": {},
   "outputs": [
    {
     "data": {
      "text/html": [
       "<table class=\"data-frame\"><thead><tr><th></th><th>A</th><th>B</th><th>C</th><th>D</th></tr><tr><th></th><th>Bool</th><th>Int64⍰</th><th>String⍰</th><th>String⍰</th></tr></thead><tbody><p>3 rows × 4 columns</p><tr><th>1</th><td>true</td><td>1</td><td>missing</td><td>a</td></tr><tr><th>2</th><td>false</td><td>2</td><td>b</td><td>missing</td></tr><tr><th>3</th><td>true</td><td>missing</td><td>c</td><td>c</td></tr></tbody></table>"
      ],
      "text/latex": [
       "\\begin{tabular}{r|cccc}\n",
       "\t& A & B & C & D\\\\\n",
       "\t\\hline\n",
       "\t& Bool & Int64⍰ & String⍰ & String⍰\\\\\n",
       "\t\\hline\n",
       "\t1 & true & 1 &  & a \\\\\n",
       "\t2 & false & 2 & b &  \\\\\n",
       "\t3 & true &  & c & c \\\\\n",
       "\\end{tabular}\n"
      ],
      "text/plain": [
       "3×4 DataFrame\n",
       "│ Row │ A     │ B       │ C       │ D       │\n",
       "│     │ \u001b[90mBool\u001b[39m  │ \u001b[90mInt64⍰\u001b[39m  │ \u001b[90mString⍰\u001b[39m │ \u001b[90mString⍰\u001b[39m │\n",
       "├─────┼───────┼─────────┼─────────┼─────────┤\n",
       "│ 1   │ true  │ 1       │ \u001b[90mmissing\u001b[39m │ a       │\n",
       "│ 2   │ false │ 2       │ b       │ \u001b[90mmissing\u001b[39m │\n",
       "│ 3   │ true  │ \u001b[90mmissing\u001b[39m │ c       │ c       │"
      ]
     },
     "execution_count": 21,
     "metadata": {},
     "output_type": "execute_result"
    }
   ],
   "source": [
    "y = Feather.materialize(\"x.feather\") # Feather.read is a lazy alternative"
   ]
  },
  {
   "cell_type": "code",
   "execution_count": 22,
   "metadata": {},
   "outputs": [
    {
     "data": {
      "text/plain": [
       "4-element Array{Type,1}:\n",
       " Bool                  \n",
       " Union{Missing, Int64} \n",
       " Union{Missing, String}\n",
       " Union{Missing, String}"
      ]
     },
     "execution_count": 22,
     "metadata": {},
     "output_type": "execute_result"
    }
   ],
   "source": [
    "eltypes(y)"
   ]
  },
  {
   "cell_type": "markdown",
   "metadata": {},
   "source": [
    "### Basic bechmarking"
   ]
  },
  {
   "cell_type": "markdown",
   "metadata": {},
   "source": [
    "Далее мы создадим файлы `bigdf1.csv`,` bigdf2.csv` и `bigdf.jld2`, поэтому будьте осторожны, так как у вас еще нет этих файлов на диске! \n",
    "\n",
    "В частности, мы определим, сколько времени нам понадобится для записи `DataFrame` с 10 ^ 3 строками и 10 ^ 5 столбцами в файлы` .csv` и `.jld2`."
   ]
  },
  {
   "cell_type": "code",
   "execution_count": 23,
   "metadata": {},
   "outputs": [
    {
     "name": "stdout",
     "output_type": "stream",
     "text": [
      "First run\n",
      "  0.671150 seconds (1.84 M allocations: 87.415 MiB, 6.30% gc time)\n",
      "  0.474216 seconds (900.05 k allocations: 46.476 MiB, 4.19% gc time)\n",
      "  0.253247 seconds (701.92 k allocations: 34.415 MiB, 7.84% gc time)\n",
      "  0.109791 seconds (441.00 k allocations: 21.973 MiB, 8.78% gc time)\n",
      "  0.149717 seconds (374.04 k allocations: 26.126 MiB, 7.00% gc time)\n",
      "Second run\n",
      "  0.017808 seconds (54.97 k allocations: 1.059 MiB)\n",
      "  0.010548 seconds (5.53 k allocations: 340.094 KiB)\n",
      "  0.017534 seconds (18.87 k allocations: 633.605 KiB)\n",
      "  0.008291 seconds (4.81 k allocations: 243.089 KiB)\n",
      "  0.024257 seconds (34.02 k allocations: 9.234 MiB, 40.43% gc time)\n"
     ]
    },
    {
     "data": {
      "text/plain": [
       "5-element Array{Int64,1}:\n",
       " 599312\n",
       " 599512\n",
       " 189346\n",
       "  69149\n",
       "  54528"
      ]
     },
     "execution_count": 23,
     "metadata": {},
     "output_type": "execute_result"
    }
   ],
   "source": [
    "bigdf = DataFrame(Bool, 10^3, 10^2)\n",
    "bigdf[1] = Int.(bigdf[1])\n",
    "bigdf[2] = bigdf[2] .+ 0.5\n",
    "bigdf[3] = string.(bigdf[3], \", as string\")\n",
    "println(\"First run\")\n",
    "@time CSV.write(\"bigdf1.csv\", bigdf)\n",
    "@time bigdf |> save(\"bigdf2.csv\")\n",
    "@time @save \"bigdf.jld2\" bigdf\n",
    "@time open(io -> serialize(io, bigdf), \"bigdf.bin\", \"w\")\n",
    "@time Feather.write(\"bigdf.feather\", bigdf)\n",
    "println(\"Second run\")\n",
    "@time CSV.write(\"bigdf1.csv\", bigdf)\n",
    "@time bigdf |> save(\"bigdf2.csv\")\n",
    "@time @save \"bigdf.jld2\" bigdf\n",
    "@time open(io -> serialize(io, bigdf), \"bigdf.bin\", \"w\")\n",
    "@time Feather.write(\"bigdf.feather\", bigdf)\n",
    "getfield.(stat.([\"bigdf1.csv\", \"bigdf2.csv\", \"bigdf.jld2\", \"bigdf.bin\", \"bigdf.feather\"]), :size)"
   ]
  },
  {
   "cell_type": "code",
   "execution_count": 24,
   "metadata": {},
   "outputs": [
    {
     "name": "stdout",
     "output_type": "stream",
     "text": [
      "First run\n",
      "  0.306265 seconds (845.83 k allocations: 29.777 MiB, 3.71% gc time)\n",
      "  0.863360 seconds (2.42 M allocations: 212.475 MiB, 18.73% gc time)\n",
      "  0.139398 seconds (390.40 k allocations: 20.071 MiB, 4.83% gc time)\n",
      "  0.023486 seconds (62.53 k allocations: 1.551 MiB)\n",
      "  0.312782 seconds (639.75 k allocations: 32.185 MiB, 2.00% gc time)\n",
      "Second run\n",
      "  0.024117 seconds (52.45 k allocations: 1.117 MiB)\n",
      "  0.049935 seconds (313.05 k allocations: 102.351 MiB, 49.80% gc time)\n",
      "  0.003044 seconds (4.18 k allocations: 428.297 KiB)\n",
      "  0.003231 seconds (49.60 k allocations: 958.953 KiB)\n",
      "  0.002990 seconds (26.29 k allocations: 1.084 MiB)\n"
     ]
    }
   ],
   "source": [
    "println(\"First run\")\n",
    "@time CSV.read(\"bigdf1.csv\")\n",
    "@time load(\"bigdf2.csv\") |> DataFrame\n",
    "@time load(\"bigdf.jld2\", \"bigdf\")\n",
    "@time open(deserialize, \"bigdf.bin\")\n",
    "@time Feather.materialize(\"bigdf.feather\")\n",
    "println(\"Second run\")\n",
    "@time CSV.read(\"bigdf1.csv\")\n",
    "@time load(\"bigdf2.csv\") |> DataFrame\n",
    "@time load(\"bigdf.jld2\", \"bigdf\")\n",
    "@time open(deserialize, \"bigdf.bin\")\n",
    "@time Feather.materialize(\"bigdf.feather\");"
   ]
  },
  {
   "cell_type": "markdown",
   "metadata": {},
   "source": [
    "Наконец, давайте почистимся. Не запускайте следующую ячейку, если вы не уверены, что она не сотрет ваши важные файлы."
   ]
  },
  {
   "cell_type": "code",
   "execution_count": 25,
   "metadata": {},
   "outputs": [],
   "source": [
    "foreach(rm, [\"x1.csv\", \"x2.csv\", \"x.jld2\", \"x.bin\", \"x.feather\",\n",
    "             \"bigdf1.csv\", \"bigdf2.csv\", \"bigdf.jld2\", \"bigdf.bin\", \"bigdf.feather\"])"
   ]
  }
 ],
 "metadata": {
  "kernelspec": {
   "display_name": "Julia 1.1.0",
   "language": "julia",
   "name": "julia-1.1"
  },
  "language_info": {
   "file_extension": ".jl",
   "mimetype": "application/julia",
   "name": "julia",
   "version": "1.1.0"
  }
 },
 "nbformat": 4,
 "nbformat_minor": 1
}
